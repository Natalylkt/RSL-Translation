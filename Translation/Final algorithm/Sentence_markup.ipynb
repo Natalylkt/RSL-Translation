{
  "nbformat": 4,
  "nbformat_minor": 0,
  "metadata": {
    "colab": {
      "name": "Sentence markup",
      "provenance": [],
      "collapsed_sections": [],
      "toc_visible": true
    },
    "kernelspec": {
      "name": "python3",
      "display_name": "Python 3"
    },
    "language_info": {
      "name": "python"
    }
  },
  "cells": [
    {
      "cell_type": "markdown",
      "metadata": {
        "id": "JQbB1b27AJg6"
      },
      "source": [
        "#Import libraries"
      ]
    },
    {
      "cell_type": "markdown",
      "metadata": {
        "id": "DHj9UTCICS_7"
      },
      "source": [
        "### download packages"
      ]
    },
    {
      "cell_type": "code",
      "metadata": {
        "colab": {
          "base_uri": "https://localhost:8080/",
          "height": 1000
        },
        "id": "7xlDwNJjrKPA",
        "outputId": "ba07a4cf-9776-4218-d1cb-c1daf32cf7a5"
      },
      "source": [
        "!pip install razdel\n",
        "\n",
        "!pip install pymorphy2\n",
        "!pip install pymorphy2-dicts\n",
        "!pip install 'DAWG-Python >= 0.7'\n",
        "\n",
        "!pip install slovnet\n",
        "\n",
        "!wget https://storage.yandexcloud.net/natasha-navec/packs/navec_news_v1_1B_250K_300d_100q.tar\n",
        "!wget https://storage.yandexcloud.net/natasha-slovnet/packs/slovnet_morph_news_v1.tar\n",
        "!wget https://storage.yandexcloud.net/natasha-slovnet/packs/slovnet_ner_news_v1.tar\n",
        "\n",
        "!pip3 install deeppavlov\n",
        "!pip install transformers\n",
        "!python -m deeppavlov install bert_sentence_embedder\n",
        "\n",
        "#download pre-trained BERT model and unzip it\n",
        "!wget http://files.deeppavlov.ai/deeppavlov_data/bert/rubert_cased_L-12_H-768_A-12_pt.tar.gz\n",
        "!tar xvzf rubert_cased_L-12_H-768_A-12_pt.tar.gz\n",
        "\n",
        "! wget https://dl.fbaipublicfiles.com/fasttext/vectors-wiki/wiki.ru.vec"
      ],
      "execution_count": null,
      "outputs": [
        {
          "output_type": "stream",
          "text": [
            "Collecting razdel\n",
            "  Downloading https://files.pythonhosted.org/packages/15/2c/664223a3924aa6e70479f7d37220b3a658765b9cfe760b4af7ffdc50d38f/razdel-0.5.0-py3-none-any.whl\n",
            "Installing collected packages: razdel\n",
            "Successfully installed razdel-0.5.0\n",
            "Collecting pymorphy2\n",
            "\u001b[?25l  Downloading https://files.pythonhosted.org/packages/07/57/b2ff2fae3376d4f3c697b9886b64a54b476e1a332c67eee9f88e7f1ae8c9/pymorphy2-0.9.1-py3-none-any.whl (55kB)\n",
            "\u001b[K     |████████████████████████████████| 61kB 5.5MB/s \n",
            "\u001b[?25hCollecting dawg-python>=0.7.1\n",
            "  Downloading https://files.pythonhosted.org/packages/6a/84/ff1ce2071d4c650ec85745766c0047ccc3b5036f1d03559fd46bb38b5eeb/DAWG_Python-0.7.2-py2.py3-none-any.whl\n",
            "Requirement already satisfied: docopt>=0.6 in /usr/local/lib/python3.7/dist-packages (from pymorphy2) (0.6.2)\n",
            "Collecting pymorphy2-dicts-ru<3.0,>=2.4\n",
            "\u001b[?25l  Downloading https://files.pythonhosted.org/packages/3a/79/bea0021eeb7eeefde22ef9e96badf174068a2dd20264b9a378f2be1cdd9e/pymorphy2_dicts_ru-2.4.417127.4579844-py2.py3-none-any.whl (8.2MB)\n",
            "\u001b[K     |████████████████████████████████| 8.2MB 12.2MB/s \n",
            "\u001b[?25hInstalling collected packages: dawg-python, pymorphy2-dicts-ru, pymorphy2\n",
            "Successfully installed dawg-python-0.7.2 pymorphy2-0.9.1 pymorphy2-dicts-ru-2.4.417127.4579844\n",
            "Collecting pymorphy2-dicts\n",
            "\u001b[?25l  Downloading https://files.pythonhosted.org/packages/02/51/2465fd4f72328ab50877b54777764d928da8cb15b74e2680fc1bd8cb3173/pymorphy2_dicts-2.4.393442.3710985-py2.py3-none-any.whl (7.1MB)\n",
            "\u001b[K     |████████████████████████████████| 7.1MB 3.8MB/s \n",
            "\u001b[?25hInstalling collected packages: pymorphy2-dicts\n",
            "Successfully installed pymorphy2-dicts-2.4.393442.3710985\n",
            "Requirement already satisfied: DAWG-Python>=0.7 in /usr/local/lib/python3.7/dist-packages (0.7.2)\n",
            "Collecting slovnet\n",
            "\u001b[?25l  Downloading https://files.pythonhosted.org/packages/a9/3b/f1ef495be8990004959dd0510c95f688d1b07529f6a862bc56a405770b26/slovnet-0.5.0-py3-none-any.whl (49kB)\n",
            "\u001b[K     |████████████████████████████████| 51kB 4.0MB/s \n",
            "\u001b[?25hRequirement already satisfied: razdel in /usr/local/lib/python3.7/dist-packages (from slovnet) (0.5.0)\n",
            "Collecting navec\n",
            "  Downloading https://files.pythonhosted.org/packages/bc/c1/771ec5565f0ce24874d7fd325b429f9caa80517a40d2e4ce5705120591f3/navec-0.10.0-py3-none-any.whl\n",
            "Requirement already satisfied: numpy in /usr/local/lib/python3.7/dist-packages (from slovnet) (1.19.5)\n",
            "Installing collected packages: navec, slovnet\n",
            "Successfully installed navec-0.10.0 slovnet-0.5.0\n",
            "--2021-05-24 15:18:09--  https://storage.yandexcloud.net/natasha-navec/packs/navec_news_v1_1B_250K_300d_100q.tar\n",
            "Resolving storage.yandexcloud.net (storage.yandexcloud.net)... 213.180.193.243, 2a02:6b8::1d9\n",
            "Connecting to storage.yandexcloud.net (storage.yandexcloud.net)|213.180.193.243|:443... connected.\n",
            "HTTP request sent, awaiting response... 200 OK\n",
            "Length: 26634240 (25M) [application/x-tar]\n",
            "Saving to: ‘navec_news_v1_1B_250K_300d_100q.tar’\n",
            "\n",
            "navec_news_v1_1B_25 100%[===================>]  25.40M  36.5MB/s    in 0.7s    \n",
            "\n",
            "2021-05-24 15:18:10 (36.5 MB/s) - ‘navec_news_v1_1B_250K_300d_100q.tar’ saved [26634240/26634240]\n",
            "\n",
            "--2021-05-24 15:18:11--  https://storage.yandexcloud.net/natasha-slovnet/packs/slovnet_morph_news_v1.tar\n",
            "Resolving storage.yandexcloud.net (storage.yandexcloud.net)... 213.180.193.243, 2a02:6b8::1d9\n",
            "Connecting to storage.yandexcloud.net (storage.yandexcloud.net)|213.180.193.243|:443... connected.\n",
            "HTTP request sent, awaiting response... 200 OK\n",
            "Length: 2580480 (2.5M) [application/octet-stream]\n",
            "Saving to: ‘slovnet_morph_news_v1.tar’\n",
            "\n",
            "slovnet_morph_news_ 100%[===================>]   2.46M  8.07MB/s    in 0.3s    \n",
            "\n",
            "2021-05-24 15:18:11 (8.07 MB/s) - ‘slovnet_morph_news_v1.tar’ saved [2580480/2580480]\n",
            "\n",
            "--2021-05-24 15:18:11--  https://storage.yandexcloud.net/natasha-slovnet/packs/slovnet_ner_news_v1.tar\n",
            "Resolving storage.yandexcloud.net (storage.yandexcloud.net)... 213.180.193.243, 2a02:6b8::1d9\n",
            "Connecting to storage.yandexcloud.net (storage.yandexcloud.net)|213.180.193.243|:443... connected.\n",
            "HTTP request sent, awaiting response... 200 OK\n",
            "Length: 2385920 (2.3M) [application/octet-stream]\n",
            "Saving to: ‘slovnet_ner_news_v1.tar’\n",
            "\n",
            "slovnet_ner_news_v1 100%[===================>]   2.28M  7.62MB/s    in 0.3s    \n",
            "\n",
            "2021-05-24 15:18:12 (7.62 MB/s) - ‘slovnet_ner_news_v1.tar’ saved [2385920/2385920]\n",
            "\n",
            "Collecting deeppavlov\n",
            "\u001b[?25l  Downloading https://files.pythonhosted.org/packages/22/87/e77ccc7de09f8c5c4a3d981ff6b1d3811d9978976a30bec9bdf50d667ebb/deeppavlov-0.15.0-py3-none-any.whl (907kB)\n",
            "\u001b[K     |████████████████████████████████| 911kB 14.0MB/s \n",
            "\u001b[?25hCollecting uvicorn==0.11.7\n",
            "\u001b[?25l  Downloading https://files.pythonhosted.org/packages/a9/5f/2bc87272f189662e129ddcd4807ad3ef83128b4df3a3482335f5f9790f24/uvicorn-0.11.7-py3-none-any.whl (43kB)\n",
            "\u001b[K     |████████████████████████████████| 51kB 6.2MB/s \n",
            "\u001b[?25hCollecting nltk==3.4.5\n",
            "\u001b[?25l  Downloading https://files.pythonhosted.org/packages/f6/1d/d925cfb4f324ede997f6d47bea4d9babba51b49e87a767c170b77005889d/nltk-3.4.5.zip (1.5MB)\n",
            "\u001b[K     |████████████████████████████████| 1.5MB 57.7MB/s \n",
            "\u001b[?25hRequirement already satisfied: tqdm==4.41.1 in /usr/local/lib/python3.7/dist-packages (from deeppavlov) (4.41.1)\n",
            "Collecting scikit-learn==0.21.2\n",
            "\u001b[?25l  Downloading https://files.pythonhosted.org/packages/21/a4/a48bd4b0d15395362b561df7e7247de87291105eb736a3b2aaffebf437b9/scikit_learn-0.21.2-cp37-cp37m-manylinux1_x86_64.whl (6.7MB)\n",
            "\u001b[K     |████████████████████████████████| 6.7MB 38.4MB/s \n",
            "\u001b[?25hCollecting click==7.1.2\n",
            "\u001b[?25l  Downloading https://files.pythonhosted.org/packages/d2/3d/fa76db83bf75c4f8d338c2fd15c8d33fdd7ad23a9b5e57eb6c5de26b430e/click-7.1.2-py2.py3-none-any.whl (82kB)\n",
            "\u001b[K     |████████████████████████████████| 92kB 9.9MB/s \n",
            "\u001b[?25hCollecting pandas==0.25.3\n",
            "\u001b[?25l  Downloading https://files.pythonhosted.org/packages/63/e0/a1b39cdcb2c391f087a1538bc8a6d62a82d0439693192aef541d7b123769/pandas-0.25.3-cp37-cp37m-manylinux1_x86_64.whl (10.4MB)\n",
            "\u001b[K     |████████████████████████████████| 10.4MB 40.8MB/s \n",
            "\u001b[?25hRequirement already satisfied: scipy==1.4.1 in /usr/local/lib/python3.7/dist-packages (from deeppavlov) (1.4.1)\n",
            "Collecting pydantic==1.3\n",
            "\u001b[?25l  Downloading https://files.pythonhosted.org/packages/4b/56/1f652c3f658d2a9fd495d2e988a2da57eabdb6c4b8f4563c2ccbe6a2a8c5/pydantic-1.3-cp37-cp37m-manylinux2010_x86_64.whl (7.3MB)\n",
            "\u001b[K     |████████████████████████████████| 7.3MB 18.3MB/s \n",
            "\u001b[?25hCollecting fastapi==0.47.1\n",
            "\u001b[?25l  Downloading https://files.pythonhosted.org/packages/a3/a7/4804d7abf8a1544d079d50650af872387154ebdac5bd07d54b2e60e2b334/fastapi-0.47.1-py3-none-any.whl (43kB)\n",
            "\u001b[K     |████████████████████████████████| 51kB 6.7MB/s \n",
            "\u001b[?25hCollecting Cython==0.29.14\n",
            "\u001b[?25l  Downloading https://files.pythonhosted.org/packages/d8/58/2deb24de3c10cc4c0f09639b46f4f4b50059f0fdc785128a57dd9fdce026/Cython-0.29.14-cp37-cp37m-manylinux1_x86_64.whl (2.1MB)\n",
            "\u001b[K     |████████████████████████████████| 2.1MB 42.0MB/s \n",
            "\u001b[?25hCollecting requests==2.22.0\n",
            "\u001b[?25l  Downloading https://files.pythonhosted.org/packages/51/bd/23c926cd341ea6b7dd0b2a00aba99ae0f828be89d72b2190f27c11d4b7fb/requests-2.22.0-py2.py3-none-any.whl (57kB)\n",
            "\u001b[K     |████████████████████████████████| 61kB 7.4MB/s \n",
            "\u001b[?25hRequirement already satisfied: pymorphy2-dicts-ru in /usr/local/lib/python3.7/dist-packages (from deeppavlov) (2.4.417127.4579844)\n",
            "Collecting pytz==2019.1\n",
            "\u001b[?25l  Downloading https://files.pythonhosted.org/packages/3d/73/fe30c2daaaa0713420d0382b16fbb761409f532c56bdcc514bf7b6262bb6/pytz-2019.1-py2.py3-none-any.whl (510kB)\n",
            "\u001b[K     |████████████████████████████████| 512kB 72.7MB/s \n",
            "\u001b[?25hCollecting uvloop==0.14.0\n",
            "\u001b[?25l  Downloading https://files.pythonhosted.org/packages/9b/7a/54a80c03b555af21680a2f3692947b43a0d576d90c4c18cace0fee1ccc0e/uvloop-0.14.0-cp37-cp37m-manylinux2010_x86_64.whl (3.8MB)\n",
            "\u001b[K     |████████████████████████████████| 3.8MB 42.7MB/s \n",
            "\u001b[?25hCollecting pymorphy2==0.8\n",
            "\u001b[?25l  Downloading https://files.pythonhosted.org/packages/a3/33/fff9675c68b5f6c63ec8c6e6ff57827dda28a1fa5b2c2d727dffff92dd47/pymorphy2-0.8-py2.py3-none-any.whl (46kB)\n",
            "\u001b[K     |████████████████████████████████| 51kB 6.1MB/s \n",
            "\u001b[?25hCollecting prometheus-client==0.7.1\n",
            "  Downloading https://files.pythonhosted.org/packages/b3/23/41a5a24b502d35a4ad50a5bb7202a5e1d9a0364d0c12f56db3dbf7aca76d/prometheus_client-0.7.1.tar.gz\n",
            "Collecting pytelegrambotapi==3.6.7\n",
            "\u001b[?25l  Downloading https://files.pythonhosted.org/packages/62/ab/99c606f69fcda57e35788b913dd34c9d9acb48dd26349141b3855dcf6351/pyTelegramBotAPI-3.6.7.tar.gz (65kB)\n",
            "\u001b[K     |████████████████████████████████| 71kB 8.0MB/s \n",
            "\u001b[?25hRequirement already satisfied: filelock==3.0.12 in /usr/local/lib/python3.7/dist-packages (from deeppavlov) (3.0.12)\n",
            "Collecting aio-pika==6.4.1\n",
            "\u001b[?25l  Downloading https://files.pythonhosted.org/packages/c8/07/196a4115cbef31fa0c3dabdea146f02dffe5e49998341d20dbe2278953bc/aio_pika-6.4.1-py3-none-any.whl (40kB)\n",
            "\u001b[K     |████████████████████████████████| 51kB 4.9MB/s \n",
            "\u001b[?25hCollecting numpy==1.18.0\n",
            "\u001b[?25l  Downloading https://files.pythonhosted.org/packages/20/53/127cb49435bcf5d841baf8eafa030931c62a9eac577a641f8c2293d23371/numpy-1.18.0-cp37-cp37m-manylinux1_x86_64.whl (20.1MB)\n",
            "\u001b[K     |████████████████████████████████| 20.1MB 256kB/s \n",
            "\u001b[?25hRequirement already satisfied: h5py==2.10.0 in /usr/local/lib/python3.7/dist-packages (from deeppavlov) (2.10.0)\n",
            "Collecting sacremoses==0.0.35\n",
            "\u001b[?25l  Downloading https://files.pythonhosted.org/packages/1f/8e/ed5364a06a9ba720fddd9820155cc57300d28f5f43a6fd7b7e817177e642/sacremoses-0.0.35.tar.gz (859kB)\n",
            "\u001b[K     |████████████████████████████████| 860kB 75.0MB/s \n",
            "\u001b[?25hCollecting overrides==2.7.0\n",
            "  Downloading https://files.pythonhosted.org/packages/ac/98/2430afd204c48ac0a529d439d7e22df8fa603c668d03456b5947cb59ec36/overrides-2.7.0.tar.gz\n",
            "Collecting ruamel.yaml==0.15.100\n",
            "\u001b[?25l  Downloading https://files.pythonhosted.org/packages/71/fc/12de89822adaa3a60b8cb0139bae75918278999d08e6dff158623abd7cba/ruamel.yaml-0.15.100-cp37-cp37m-manylinux1_x86_64.whl (654kB)\n",
            "\u001b[K     |████████████████████████████████| 655kB 61.8MB/s \n",
            "\u001b[?25hCollecting rusenttokenize==0.0.5\n",
            "  Downloading https://files.pythonhosted.org/packages/25/4c/a2f00be5def774a3df2e5387145f1cb54e324607ec4a7e23f573645946e7/rusenttokenize-0.0.5-py3-none-any.whl\n",
            "Collecting pyopenssl==19.1.0\n",
            "\u001b[?25l  Downloading https://files.pythonhosted.org/packages/9e/de/f8342b68fa9e981d348039954657bdf681b2ab93de27443be51865ffa310/pyOpenSSL-19.1.0-py2.py3-none-any.whl (53kB)\n",
            "\u001b[K     |████████████████████████████████| 61kB 7.4MB/s \n",
            "\u001b[?25hCollecting websockets==8.*\n",
            "\u001b[?25l  Downloading https://files.pythonhosted.org/packages/5a/0b/3ebc752392a368af14dd24ee041683416ac6d2463eead94b311b11e41c82/websockets-8.1-cp37-cp37m-manylinux2010_x86_64.whl (79kB)\n",
            "\u001b[K     |████████████████████████████████| 81kB 8.9MB/s \n",
            "\u001b[?25hCollecting h11<0.10,>=0.8\n",
            "\u001b[?25l  Downloading https://files.pythonhosted.org/packages/5a/fd/3dad730b0f95e78aeeb742f96fa7bbecbdd56a58e405d3da440d5bfb90c6/h11-0.9.0-py2.py3-none-any.whl (53kB)\n",
            "\u001b[K     |████████████████████████████████| 61kB 7.9MB/s \n",
            "\u001b[?25hCollecting httptools==0.1.*; sys_platform != \"win32\" and sys_platform != \"cygwin\" and platform_python_implementation != \"PyPy\"\n",
            "\u001b[?25l  Downloading https://files.pythonhosted.org/packages/25/2e/485131e3aa113929b425f83854fafc190aa7df716cbeb258c875752f0c6e/httptools-0.1.2-cp37-cp37m-manylinux1_x86_64.whl (219kB)\n",
            "\u001b[K     |████████████████████████████████| 225kB 60.5MB/s \n",
            "\u001b[?25hRequirement already satisfied: six in /usr/local/lib/python3.7/dist-packages (from nltk==3.4.5->deeppavlov) (1.15.0)\n",
            "Requirement already satisfied: joblib>=0.11 in /usr/local/lib/python3.7/dist-packages (from scikit-learn==0.21.2->deeppavlov) (1.0.1)\n",
            "Requirement already satisfied: python-dateutil>=2.6.1 in /usr/local/lib/python3.7/dist-packages (from pandas==0.25.3->deeppavlov) (2.8.1)\n",
            "Collecting starlette<=0.12.9,>=0.12.9\n",
            "\u001b[?25l  Downloading https://files.pythonhosted.org/packages/67/95/2220fe5bf287e693a6430d8ee36c681b0157035b7249ec08f8fb36319d16/starlette-0.12.9.tar.gz (46kB)\n",
            "\u001b[K     |████████████████████████████████| 51kB 5.8MB/s \n",
            "\u001b[?25hRequirement already satisfied: chardet<3.1.0,>=3.0.2 in /usr/local/lib/python3.7/dist-packages (from requests==2.22.0->deeppavlov) (3.0.4)\n",
            "Collecting idna<2.9,>=2.5\n",
            "\u001b[?25l  Downloading https://files.pythonhosted.org/packages/14/2c/cd551d81dbe15200be1cf41cd03869a46fe7226e7450af7a6545bfc474c9/idna-2.8-py2.py3-none-any.whl (58kB)\n",
            "\u001b[K     |████████████████████████████████| 61kB 7.8MB/s \n",
            "\u001b[?25hRequirement already satisfied: urllib3!=1.25.0,!=1.25.1,<1.26,>=1.21.1 in /usr/local/lib/python3.7/dist-packages (from requests==2.22.0->deeppavlov) (1.24.3)\n",
            "Requirement already satisfied: certifi>=2017.4.17 in /usr/local/lib/python3.7/dist-packages (from requests==2.22.0->deeppavlov) (2020.12.5)\n",
            "Requirement already satisfied: dawg-python>=0.7 in /usr/local/lib/python3.7/dist-packages (from pymorphy2==0.8->deeppavlov) (0.7.2)\n",
            "Requirement already satisfied: docopt>=0.6 in /usr/local/lib/python3.7/dist-packages (from pymorphy2==0.8->deeppavlov) (0.6.2)\n",
            "Requirement already satisfied: pymorphy2-dicts<3.0,>=2.4 in /usr/local/lib/python3.7/dist-packages (from pymorphy2==0.8->deeppavlov) (2.4.393442.3710985)\n",
            "Collecting aiormq<4,>=3.2.0\n",
            "  Downloading https://files.pythonhosted.org/packages/0b/c4/dc5b9d50c15af2ee187974a5a0c3f20c06cce6559eea4c065d372e846b6a/aiormq-3.3.1-py3-none-any.whl\n",
            "Collecting yarl\n",
            "\u001b[?25l  Downloading https://files.pythonhosted.org/packages/f1/62/046834c5fc998c88ab2ef722f5d42122230a632212c8afa76418324f53ff/yarl-1.6.3-cp37-cp37m-manylinux2014_x86_64.whl (294kB)\n",
            "\u001b[K     |████████████████████████████████| 296kB 41.5MB/s \n",
            "\u001b[?25hCollecting cryptography>=2.8\n",
            "\u001b[?25l  Downloading https://files.pythonhosted.org/packages/b2/26/7af637e6a7e87258b963f1731c5982fb31cd507f0d90d91836e446955d02/cryptography-3.4.7-cp36-abi3-manylinux2014_x86_64.whl (3.2MB)\n",
            "\u001b[K     |████████████████████████████████| 3.2MB 49.3MB/s \n",
            "\u001b[?25hCollecting pamqp==2.3.0\n",
            "  Downloading https://files.pythonhosted.org/packages/eb/56/afa06143361e640c9159d828dadc95fc9195c52c95b4a97d136617b0166d/pamqp-2.3.0-py2.py3-none-any.whl\n",
            "Collecting multidict>=4.0\n",
            "\u001b[?25l  Downloading https://files.pythonhosted.org/packages/7c/a6/4123b8165acbe773d1a8dc8e3f0d1edea16d29f7de018eda769abb56bd30/multidict-5.1.0-cp37-cp37m-manylinux2014_x86_64.whl (142kB)\n",
            "\u001b[K     |████████████████████████████████| 143kB 61.8MB/s \n",
            "\u001b[?25hRequirement already satisfied: typing-extensions>=3.7.4; python_version < \"3.8\" in /usr/local/lib/python3.7/dist-packages (from yarl->aio-pika==6.4.1->deeppavlov) (3.7.4.3)\n",
            "Requirement already satisfied: cffi>=1.12 in /usr/local/lib/python3.7/dist-packages (from cryptography>=2.8->pyopenssl==19.1.0->deeppavlov) (1.14.5)\n",
            "Requirement already satisfied: pycparser in /usr/local/lib/python3.7/dist-packages (from cffi>=1.12->cryptography>=2.8->pyopenssl==19.1.0->deeppavlov) (2.20)\n",
            "Building wheels for collected packages: nltk, prometheus-client, pytelegrambotapi, sacremoses, overrides, starlette\n",
            "  Building wheel for nltk (setup.py) ... \u001b[?25l\u001b[?25hdone\n",
            "  Created wheel for nltk: filename=nltk-3.4.5-cp37-none-any.whl size=1449906 sha256=f4cc39d36fb110205ec17f6671cb9bb44d8b5e24c9d9b5d44b585c04804fbd29\n",
            "  Stored in directory: /root/.cache/pip/wheels/96/86/f6/68ab24c23f207c0077381a5e3904b2815136b879538a24b483\n",
            "  Building wheel for prometheus-client (setup.py) ... \u001b[?25l\u001b[?25hdone\n",
            "  Created wheel for prometheus-client: filename=prometheus_client-0.7.1-cp37-none-any.whl size=41404 sha256=6891b1c8f37e1850e6848864f4d32303e4bfc4f63c83e0ac3aab56488791567f\n",
            "  Stored in directory: /root/.cache/pip/wheels/1c/54/34/fd47cd9b308826cc4292b54449c1899a30251ef3b506bc91ea\n",
            "  Building wheel for pytelegrambotapi (setup.py) ... \u001b[?25l\u001b[?25hdone\n",
            "  Created wheel for pytelegrambotapi: filename=pyTelegramBotAPI-3.6.7-cp37-none-any.whl size=47177 sha256=b74fdeb086ede2a2491e2a8bd440fab186a6dd1e609bbc306f13204aad4c9261\n",
            "  Stored in directory: /root/.cache/pip/wheels/23/40/18/8a34153f95ef0dc19e3954898e5a5079244b76a8afdd7d0ec5\n",
            "  Building wheel for sacremoses (setup.py) ... \u001b[?25l\u001b[?25hdone\n",
            "  Created wheel for sacremoses: filename=sacremoses-0.0.35-cp37-none-any.whl size=883999 sha256=db70f7d947212146e56e045cfbaebdd218605180757c6a3ad728ae10bafdf992\n",
            "  Stored in directory: /root/.cache/pip/wheels/63/2a/db/63e2909042c634ef551d0d9ac825b2b0b32dede4a6d87ddc94\n",
            "  Building wheel for overrides (setup.py) ... \u001b[?25l\u001b[?25hdone\n",
            "  Created wheel for overrides: filename=overrides-2.7.0-cp37-none-any.whl size=5600 sha256=b56e102ee798869348b444386e62d28ea464e74a197d1c843a12bbc0a3302e5b\n",
            "  Stored in directory: /root/.cache/pip/wheels/8c/7c/ef/80508418b67d87371c5b3de49e03eb22ee7c1d19affb5099f8\n",
            "  Building wheel for starlette (setup.py) ... \u001b[?25l\u001b[?25hdone\n",
            "  Created wheel for starlette: filename=starlette-0.12.9-cp37-none-any.whl size=57244 sha256=0a5abb601b9ed06399f495a87f549555b94296e9faf3c94b6fb1abcb7359c259\n",
            "  Stored in directory: /root/.cache/pip/wheels/1c/51/5b/3828d52e185cafad941c4291b6f70894d0794be28c70addae5\n",
            "Successfully built nltk prometheus-client pytelegrambotapi sacremoses overrides starlette\n",
            "\u001b[31mERROR: xarray 0.18.0 has requirement pandas>=1.0, but you'll have pandas 0.25.3 which is incompatible.\u001b[0m\n",
            "\u001b[31mERROR: tensorflow 2.4.1 has requirement numpy~=1.19.2, but you'll have numpy 1.18.0 which is incompatible.\u001b[0m\n",
            "\u001b[31mERROR: google-colab 1.0.0 has requirement pandas~=1.1.0; python_version >= \"3.0\", but you'll have pandas 0.25.3 which is incompatible.\u001b[0m\n",
            "\u001b[31mERROR: google-colab 1.0.0 has requirement requests~=2.23.0, but you'll have requests 2.22.0 which is incompatible.\u001b[0m\n",
            "\u001b[31mERROR: fbprophet 0.7.1 has requirement pandas>=1.0.4, but you'll have pandas 0.25.3 which is incompatible.\u001b[0m\n",
            "\u001b[31mERROR: datascience 0.10.6 has requirement folium==0.2.1, but you'll have folium 0.8.3 which is incompatible.\u001b[0m\n",
            "\u001b[31mERROR: albumentations 0.1.12 has requirement imgaug<0.2.7,>=0.2.5, but you'll have imgaug 0.2.9 which is incompatible.\u001b[0m\n",
            "Installing collected packages: uvloop, websockets, h11, click, httptools, uvicorn, nltk, numpy, scikit-learn, pytz, pandas, pydantic, starlette, fastapi, Cython, idna, requests, pymorphy2, prometheus-client, pytelegrambotapi, pamqp, multidict, yarl, aiormq, aio-pika, sacremoses, overrides, ruamel.yaml, rusenttokenize, cryptography, pyopenssl, deeppavlov\n",
            "  Found existing installation: click 8.0.0\n",
            "    Uninstalling click-8.0.0:\n",
            "      Successfully uninstalled click-8.0.0\n",
            "  Found existing installation: nltk 3.2.5\n",
            "    Uninstalling nltk-3.2.5:\n",
            "      Successfully uninstalled nltk-3.2.5\n",
            "  Found existing installation: numpy 1.19.5\n",
            "    Uninstalling numpy-1.19.5:\n",
            "      Successfully uninstalled numpy-1.19.5\n",
            "  Found existing installation: scikit-learn 0.22.2.post1\n",
            "    Uninstalling scikit-learn-0.22.2.post1:\n",
            "      Successfully uninstalled scikit-learn-0.22.2.post1\n",
            "  Found existing installation: pytz 2018.9\n",
            "    Uninstalling pytz-2018.9:\n",
            "      Successfully uninstalled pytz-2018.9\n",
            "  Found existing installation: pandas 1.1.5\n",
            "    Uninstalling pandas-1.1.5:\n",
            "      Successfully uninstalled pandas-1.1.5\n",
            "  Found existing installation: Cython 0.29.23\n",
            "    Uninstalling Cython-0.29.23:\n",
            "      Successfully uninstalled Cython-0.29.23\n",
            "  Found existing installation: idna 2.10\n",
            "    Uninstalling idna-2.10:\n",
            "      Successfully uninstalled idna-2.10\n",
            "  Found existing installation: requests 2.23.0\n",
            "    Uninstalling requests-2.23.0:\n",
            "      Successfully uninstalled requests-2.23.0\n",
            "  Found existing installation: pymorphy2 0.9.1\n",
            "    Uninstalling pymorphy2-0.9.1:\n",
            "      Successfully uninstalled pymorphy2-0.9.1\n",
            "  Found existing installation: prometheus-client 0.10.1\n",
            "    Uninstalling prometheus-client-0.10.1:\n",
            "      Successfully uninstalled prometheus-client-0.10.1\n",
            "Successfully installed Cython-0.29.14 aio-pika-6.4.1 aiormq-3.3.1 click-7.1.2 cryptography-3.4.7 deeppavlov-0.15.0 fastapi-0.47.1 h11-0.9.0 httptools-0.1.2 idna-2.8 multidict-5.1.0 nltk-3.4.5 numpy-1.18.0 overrides-2.7.0 pamqp-2.3.0 pandas-0.25.3 prometheus-client-0.7.1 pydantic-1.3 pymorphy2-0.8 pyopenssl-19.1.0 pytelegrambotapi-3.6.7 pytz-2019.1 requests-2.22.0 ruamel.yaml-0.15.100 rusenttokenize-0.0.5 sacremoses-0.0.35 scikit-learn-0.21.2 starlette-0.12.9 uvicorn-0.11.7 uvloop-0.14.0 websockets-8.1 yarl-1.6.3\n"
          ],
          "name": "stdout"
        },
        {
          "output_type": "display_data",
          "data": {
            "application/vnd.colab-display-data+json": {
              "pip_warning": {
                "packages": [
                  "numpy",
                  "pandas",
                  "pytz"
                ]
              }
            }
          },
          "metadata": {
            "tags": []
          }
        },
        {
          "output_type": "stream",
          "text": [
            "Collecting transformers\n",
            "\u001b[?25l  Downloading https://files.pythonhosted.org/packages/d5/43/cfe4ee779bbd6a678ac6a97c5a5cdeb03c35f9eaebbb9720b036680f9a2d/transformers-4.6.1-py3-none-any.whl (2.2MB)\n",
            "\u001b[K     |████████████████████████████████| 2.3MB 13.0MB/s \n",
            "\u001b[?25hRequirement already satisfied: tqdm>=4.27 in /usr/local/lib/python3.7/dist-packages (from transformers) (4.41.1)\n",
            "Collecting tokenizers<0.11,>=0.10.1\n",
            "\u001b[?25l  Downloading https://files.pythonhosted.org/packages/ae/04/5b870f26a858552025a62f1649c20d29d2672c02ff3c3fb4c688ca46467a/tokenizers-0.10.2-cp37-cp37m-manylinux2010_x86_64.whl (3.3MB)\n",
            "\u001b[K     |████████████████████████████████| 3.3MB 54.5MB/s \n",
            "\u001b[?25hRequirement already satisfied: filelock in /usr/local/lib/python3.7/dist-packages (from transformers) (3.0.12)\n",
            "Requirement already satisfied: importlib-metadata; python_version < \"3.8\" in /usr/local/lib/python3.7/dist-packages (from transformers) (4.0.1)\n",
            "Requirement already satisfied: numpy>=1.17 in /usr/local/lib/python3.7/dist-packages (from transformers) (1.18.0)\n",
            "Requirement already satisfied: packaging in /usr/local/lib/python3.7/dist-packages (from transformers) (20.9)\n",
            "Requirement already satisfied: regex!=2019.12.17 in /usr/local/lib/python3.7/dist-packages (from transformers) (2019.12.20)\n",
            "Requirement already satisfied: sacremoses in /usr/local/lib/python3.7/dist-packages (from transformers) (0.0.35)\n",
            "Collecting huggingface-hub==0.0.8\n",
            "  Downloading https://files.pythonhosted.org/packages/a1/88/7b1e45720ecf59c6c6737ff332f41c955963090a18e72acbcbeac6b25e86/huggingface_hub-0.0.8-py3-none-any.whl\n",
            "Requirement already satisfied: requests in /usr/local/lib/python3.7/dist-packages (from transformers) (2.22.0)\n",
            "Requirement already satisfied: typing-extensions>=3.6.4; python_version < \"3.8\" in /usr/local/lib/python3.7/dist-packages (from importlib-metadata; python_version < \"3.8\"->transformers) (3.7.4.3)\n",
            "Requirement already satisfied: zipp>=0.5 in /usr/local/lib/python3.7/dist-packages (from importlib-metadata; python_version < \"3.8\"->transformers) (3.4.1)\n",
            "Requirement already satisfied: pyparsing>=2.0.2 in /usr/local/lib/python3.7/dist-packages (from packaging->transformers) (2.4.7)\n",
            "Requirement already satisfied: six in /usr/local/lib/python3.7/dist-packages (from sacremoses->transformers) (1.15.0)\n",
            "Requirement already satisfied: click in /usr/local/lib/python3.7/dist-packages (from sacremoses->transformers) (7.1.2)\n",
            "Requirement already satisfied: joblib in /usr/local/lib/python3.7/dist-packages (from sacremoses->transformers) (1.0.1)\n",
            "Requirement already satisfied: chardet<3.1.0,>=3.0.2 in /usr/local/lib/python3.7/dist-packages (from requests->transformers) (3.0.4)\n",
            "Requirement already satisfied: idna<2.9,>=2.5 in /usr/local/lib/python3.7/dist-packages (from requests->transformers) (2.8)\n",
            "Requirement already satisfied: certifi>=2017.4.17 in /usr/local/lib/python3.7/dist-packages (from requests->transformers) (2020.12.5)\n",
            "Requirement already satisfied: urllib3!=1.25.0,!=1.25.1,<1.26,>=1.21.1 in /usr/local/lib/python3.7/dist-packages (from requests->transformers) (1.24.3)\n",
            "Installing collected packages: tokenizers, huggingface-hub, transformers\n",
            "Successfully installed huggingface-hub-0.0.8 tokenizers-0.10.2 transformers-4.6.1\n",
            "2021-05-24 15:19:01.700 INFO in 'deeppavlov.core.common.file'['file'] at line 32: Interpreting 'bert_sentence_embedder' as '/usr/local/lib/python3.7/dist-packages/deeppavlov/configs/embedder/bert_sentence_embedder.json'\n",
            "Collecting transformers==2.8.0\n",
            "\u001b[?25l  Downloading https://files.pythonhosted.org/packages/a3/78/92cedda05552398352ed9784908b834ee32a0bd071a9b32de287327370b7/transformers-2.8.0-py3-none-any.whl (563kB)\n",
            "\u001b[K     |████████████████████████████████| 573kB 13.9MB/s \n",
            "\u001b[?25hRequirement already satisfied: numpy in /usr/local/lib/python3.7/dist-packages (from transformers==2.8.0) (1.18.0)\n",
            "Requirement already satisfied: sacremoses in /usr/local/lib/python3.7/dist-packages (from transformers==2.8.0) (0.0.35)\n",
            "Requirement already satisfied: tqdm>=4.27 in /usr/local/lib/python3.7/dist-packages (from transformers==2.8.0) (4.41.1)\n",
            "Collecting sentencepiece\n",
            "\u001b[?25l  Downloading https://files.pythonhosted.org/packages/f5/99/e0808cb947ba10f575839c43e8fafc9cc44e4a7a2c8f79c60db48220a577/sentencepiece-0.1.95-cp37-cp37m-manylinux2014_x86_64.whl (1.2MB)\n",
            "\u001b[K     |████████████████████████████████| 1.2MB 28.7MB/s \n",
            "\u001b[?25hCollecting tokenizers==0.5.2\n",
            "\u001b[?25l  Downloading https://files.pythonhosted.org/packages/d6/e3/5e49e9a83fb605aaa34a1c1173e607302fecae529428c28696fb18f1c2c9/tokenizers-0.5.2-cp37-cp37m-manylinux1_x86_64.whl (5.6MB)\n",
            "\u001b[K     |████████████████████████████████| 5.6MB 29.7MB/s \n",
            "\u001b[?25hRequirement already satisfied: regex!=2019.12.17 in /usr/local/lib/python3.7/dist-packages (from transformers==2.8.0) (2019.12.20)\n",
            "Collecting boto3\n",
            "\u001b[?25l  Downloading https://files.pythonhosted.org/packages/29/fe/6156cb9ad11c01728adaaf6eebd855e66ac17d12a3826cb6fa6d3c2b3dab/boto3-1.17.78-py2.py3-none-any.whl (131kB)\n",
            "\u001b[K     |████████████████████████████████| 133kB 57.3MB/s \n",
            "\u001b[?25hRequirement already satisfied: requests in /usr/local/lib/python3.7/dist-packages (from transformers==2.8.0) (2.22.0)\n",
            "Requirement already satisfied: filelock in /usr/local/lib/python3.7/dist-packages (from transformers==2.8.0) (3.0.12)\n",
            "Requirement already satisfied: six in /usr/local/lib/python3.7/dist-packages (from sacremoses->transformers==2.8.0) (1.15.0)\n",
            "Requirement already satisfied: joblib in /usr/local/lib/python3.7/dist-packages (from sacremoses->transformers==2.8.0) (1.0.1)\n",
            "Requirement already satisfied: click in /usr/local/lib/python3.7/dist-packages (from sacremoses->transformers==2.8.0) (7.1.2)\n",
            "Collecting botocore<1.21.0,>=1.20.78\n",
            "\u001b[?25l  Downloading https://files.pythonhosted.org/packages/b4/9e/b5c2ba127c653d22b5b9a48b173fb3e12f3bafc4f6c52004fa737157e63b/botocore-1.20.78-py2.py3-none-any.whl (7.5MB)\n",
            "\u001b[K     |████████████████████████████████| 7.6MB 44.4MB/s \n",
            "\u001b[?25hCollecting jmespath<1.0.0,>=0.7.1\n",
            "  Downloading https://files.pythonhosted.org/packages/07/cb/5f001272b6faeb23c1c9e0acc04d48eaaf5c862c17709d20e3469c6e0139/jmespath-0.10.0-py2.py3-none-any.whl\n",
            "Collecting s3transfer<0.5.0,>=0.4.0\n",
            "\u001b[?25l  Downloading https://files.pythonhosted.org/packages/63/d0/693477c688348654ddc21dcdce0817653a294aa43f41771084c25e7ff9c7/s3transfer-0.4.2-py2.py3-none-any.whl (79kB)\n",
            "\u001b[K     |████████████████████████████████| 81kB 7.9MB/s \n",
            "\u001b[?25hRequirement already satisfied: idna<2.9,>=2.5 in /usr/local/lib/python3.7/dist-packages (from requests->transformers==2.8.0) (2.8)\n",
            "Requirement already satisfied: urllib3!=1.25.0,!=1.25.1,<1.26,>=1.21.1 in /usr/local/lib/python3.7/dist-packages (from requests->transformers==2.8.0) (1.24.3)\n",
            "Requirement already satisfied: chardet<3.1.0,>=3.0.2 in /usr/local/lib/python3.7/dist-packages (from requests->transformers==2.8.0) (3.0.4)\n",
            "Requirement already satisfied: certifi>=2017.4.17 in /usr/local/lib/python3.7/dist-packages (from requests->transformers==2.8.0) (2020.12.5)\n",
            "Requirement already satisfied: python-dateutil<3.0.0,>=2.1 in /usr/local/lib/python3.7/dist-packages (from botocore<1.21.0,>=1.20.78->boto3->transformers==2.8.0) (2.8.1)\n",
            "\u001b[31mERROR: botocore 1.20.78 has requirement urllib3<1.27,>=1.25.4, but you'll have urllib3 1.24.3 which is incompatible.\u001b[0m\n",
            "Installing collected packages: sentencepiece, tokenizers, jmespath, botocore, s3transfer, boto3, transformers\n",
            "  Found existing installation: tokenizers 0.10.2\n",
            "    Uninstalling tokenizers-0.10.2:\n",
            "      Successfully uninstalled tokenizers-0.10.2\n",
            "  Found existing installation: transformers 4.6.1\n",
            "    Uninstalling transformers-4.6.1:\n",
            "      Successfully uninstalled transformers-4.6.1\n",
            "Successfully installed boto3-1.17.78 botocore-1.20.78 jmespath-0.10.0 s3transfer-0.4.2 sentencepiece-0.1.95 tokenizers-0.5.2 transformers-2.8.0\n",
            "Collecting torch==1.6.0\n",
            "\u001b[?25l  Downloading https://files.pythonhosted.org/packages/5d/5e/35140615fc1f925023f489e71086a9ecc188053d263d3594237281284d82/torch-1.6.0-cp37-cp37m-manylinux1_x86_64.whl (748.8MB)\n",
            "\u001b[K     |████████████████████████████████| 748.8MB 28kB/s \n",
            "\u001b[?25hRequirement already satisfied: numpy in /usr/local/lib/python3.7/dist-packages (from torch==1.6.0) (1.18.0)\n",
            "Requirement already satisfied: future in /usr/local/lib/python3.7/dist-packages (from torch==1.6.0) (0.16.0)\n",
            "\u001b[31mERROR: torchvision 0.9.1+cu101 has requirement torch==1.8.1, but you'll have torch 1.6.0 which is incompatible.\u001b[0m\n",
            "\u001b[31mERROR: torchtext 0.9.1 has requirement torch==1.8.1, but you'll have torch 1.6.0 which is incompatible.\u001b[0m\n",
            "Installing collected packages: torch\n",
            "  Found existing installation: torch 1.8.1+cu101\n",
            "    Uninstalling torch-1.8.1+cu101:\n",
            "      Successfully uninstalled torch-1.8.1+cu101\n",
            "Successfully installed torch-1.6.0\n",
            "Collecting torchvision==0.7.0\n",
            "\u001b[?25l  Downloading https://files.pythonhosted.org/packages/4d/b5/60d5eb61f1880707a5749fea43e0ec76f27dfe69391cdec953ab5da5e676/torchvision-0.7.0-cp37-cp37m-manylinux1_x86_64.whl (5.9MB)\n",
            "\u001b[K     |████████████████████████████████| 5.9MB 9.2MB/s \n",
            "\u001b[?25hRequirement already satisfied: torch==1.6.0 in /usr/local/lib/python3.7/dist-packages (from torchvision==0.7.0) (1.6.0)\n",
            "Requirement already satisfied: pillow>=4.1.1 in /usr/local/lib/python3.7/dist-packages (from torchvision==0.7.0) (7.1.2)\n",
            "Requirement already satisfied: numpy in /usr/local/lib/python3.7/dist-packages (from torchvision==0.7.0) (1.18.0)\n",
            "Requirement already satisfied: future in /usr/local/lib/python3.7/dist-packages (from torch==1.6.0->torchvision==0.7.0) (0.16.0)\n",
            "Installing collected packages: torchvision\n",
            "  Found existing installation: torchvision 0.9.1+cu101\n",
            "    Uninstalling torchvision-0.9.1+cu101:\n",
            "      Successfully uninstalled torchvision-0.9.1+cu101\n",
            "Successfully installed torchvision-0.7.0\n",
            "--2021-05-24 15:21:10--  http://files.deeppavlov.ai/deeppavlov_data/bert/rubert_cased_L-12_H-768_A-12_pt.tar.gz\n",
            "Resolving files.deeppavlov.ai (files.deeppavlov.ai)... 93.175.29.74\n",
            "Connecting to files.deeppavlov.ai (files.deeppavlov.ai)|93.175.29.74|:80... connected.\n",
            "HTTP request sent, awaiting response... 301 Moved Permanently\n",
            "Location: https://files.deeppavlov.ai/deeppavlov_data/bert/rubert_cased_L-12_H-768_A-12_pt.tar.gz [following]\n",
            "--2021-05-24 15:21:11--  https://files.deeppavlov.ai/deeppavlov_data/bert/rubert_cased_L-12_H-768_A-12_pt.tar.gz\n",
            "Connecting to files.deeppavlov.ai (files.deeppavlov.ai)|93.175.29.74|:443... connected.\n",
            "HTTP request sent, awaiting response... 200 OK\n",
            "Length: 662024852 (631M) [application/octet-stream]\n",
            "Saving to: ‘rubert_cased_L-12_H-768_A-12_pt.tar.gz’\n",
            "\n",
            "rubert_cased_L-12_H 100%[===================>] 631.36M  6.87MB/s    in 2m 22s  \n",
            "\n",
            "2021-05-24 15:23:34 (4.44 MB/s) - ‘rubert_cased_L-12_H-768_A-12_pt.tar.gz’ saved [662024852/662024852]\n",
            "\n",
            "rubert_cased_L-12_H-768_A-12_pt/\n",
            "rubert_cased_L-12_H-768_A-12_pt/bert_config.json\n",
            "rubert_cased_L-12_H-768_A-12_pt/vocab.txt\n",
            "rubert_cased_L-12_H-768_A-12_pt/pytorch_model.bin\n",
            "--2021-05-24 15:23:40--  https://dl.fbaipublicfiles.com/fasttext/vectors-wiki/wiki.ru.vec\n",
            "Resolving dl.fbaipublicfiles.com (dl.fbaipublicfiles.com)... 104.22.75.142, 172.67.9.4, 104.22.74.142, ...\n",
            "Connecting to dl.fbaipublicfiles.com (dl.fbaipublicfiles.com)|104.22.75.142|:443... connected.\n",
            "HTTP request sent, awaiting response... 200 OK\n",
            "Length: 4954492872 (4.6G) [binary/octet-stream]\n",
            "Saving to: ‘wiki.ru.vec’\n",
            "\n",
            "wiki.ru.vec         100%[===================>]   4.61G  12.0MB/s    in 6m 40s  \n",
            "\n",
            "2021-05-24 15:30:21 (11.8 MB/s) - ‘wiki.ru.vec’ saved [4954492872/4954492872]\n",
            "\n"
          ],
          "name": "stdout"
        }
      ]
    },
    {
      "cell_type": "code",
      "metadata": {
        "colab": {
          "base_uri": "https://localhost:8080/",
          "height": 174
        },
        "id": "2rem1HG-eMgt",
        "outputId": "d5f9d0e3-83b1-4573-ffca-c6f530929e3a"
      },
      "source": [
        "assert 1==0,'Restart rumtime in previous cell!'"
      ],
      "execution_count": null,
      "outputs": [
        {
          "output_type": "error",
          "ename": "AssertionError",
          "evalue": "ignored",
          "traceback": [
            "\u001b[0;31m---------------------------------------------------------------------------\u001b[0m",
            "\u001b[0;31mAssertionError\u001b[0m                            Traceback (most recent call last)",
            "\u001b[0;32m<ipython-input-46-1ef8b922f3ec>\u001b[0m in \u001b[0;36m<module>\u001b[0;34m()\u001b[0m\n\u001b[0;32m----> 1\u001b[0;31m \u001b[0;32massert\u001b[0m \u001b[0;36m1\u001b[0m\u001b[0;34m==\u001b[0m\u001b[0;36m0\u001b[0m\u001b[0;34m,\u001b[0m\u001b[0;34m'Restart rumtime in previous cell!'\u001b[0m\u001b[0;34m\u001b[0m\u001b[0;34m\u001b[0m\u001b[0m\n\u001b[0m",
            "\u001b[0;31mAssertionError\u001b[0m: Restart rumtime in previous cell!"
          ]
        }
      ]
    },
    {
      "cell_type": "markdown",
      "metadata": {
        "id": "jUBz_8mJCc-1"
      },
      "source": [
        "### import packages"
      ]
    },
    {
      "cell_type": "code",
      "metadata": {
        "id": "QoNJt-PjYS8t"
      },
      "source": [
        "#Base\n",
        "import pandas as pd\n",
        "import numpy as np\n",
        "from tqdm import tqdm"
      ],
      "execution_count": null,
      "outputs": []
    },
    {
      "cell_type": "code",
      "metadata": {
        "id": "QLM6MNkA6nbS"
      },
      "source": [
        "\n",
        "#NLP\n",
        "import re\n",
        "\n",
        "import pymorphy2\n",
        "\n",
        "from string import punctuation\n",
        "from razdel import sentenize, tokenize\n",
        "from navec import Navec\n",
        "from slovnet import Morph,NER\n",
        "\n",
        "from deeppavlov.core.common.file import read_json\n",
        "from deeppavlov import build_model, configs\n",
        "\n",
        "#Metric\n",
        "from gensim.models import *\n",
        "\n"
      ],
      "execution_count": null,
      "outputs": []
    },
    {
      "cell_type": "markdown",
      "metadata": {
        "id": "kyJIt3kKC37W"
      },
      "source": [
        "### Set models"
      ]
    },
    {
      "cell_type": "code",
      "metadata": {
        "colab": {
          "base_uri": "https://localhost:8080/"
        },
        "id": "V1wUDcRJjBUG",
        "outputId": "b1615b64-d62e-4c53-f4c3-dedab2de4fa3"
      },
      "source": [
        "navec = Navec.load('navec_news_v1_1B_250K_300d_100q.tar')\n",
        "ner = NER.load('slovnet_ner_news_v1.tar')\n",
        "ner.navec(navec)\n",
        "print('Done!')"
      ],
      "execution_count": null,
      "outputs": [
        {
          "output_type": "stream",
          "text": [
            "Done!\n"
          ],
          "name": "stdout"
        }
      ]
    },
    {
      "cell_type": "code",
      "metadata": {
        "colab": {
          "base_uri": "https://localhost:8080/"
        },
        "id": "IbbRCI7bKEX-",
        "outputId": "690a34a7-67f0-46fc-92aa-dd72c234422b"
      },
      "source": [
        "navec = Navec.load('navec_news_v1_1B_250K_300d_100q.tar')\n",
        "morph = Morph.load('slovnet_morph_news_v1.tar', batch_size=4)\n",
        "morph.navec(navec)\n",
        "print('Done!')"
      ],
      "execution_count": null,
      "outputs": [
        {
          "output_type": "stream",
          "text": [
            "Done!\n"
          ],
          "name": "stdout"
        }
      ]
    },
    {
      "cell_type": "code",
      "metadata": {
        "colab": {
          "base_uri": "https://localhost:8080/"
        },
        "id": "xy3ctcGNQagv",
        "outputId": "9289c9b9-422f-417b-d64a-434166e255c7"
      },
      "source": [
        "#set model\n",
        "bert_config = read_json(configs.embedder.bert_embedder)\n",
        "bert_config['metadata']['variables']['BERT_PATH'] = 'rubert_cased_L-12_H-768_A-12_pt/'\n",
        "\n",
        "bert = build_model(bert_config)\n",
        "print('Done!')"
      ],
      "execution_count": null,
      "outputs": [
        {
          "output_type": "stream",
          "text": [
            "[nltk_data] Downloading package punkt to /root/nltk_data...\n",
            "[nltk_data]   Unzipping tokenizers/punkt.zip.\n",
            "[nltk_data] Downloading package stopwords to /root/nltk_data...\n",
            "[nltk_data]   Unzipping corpora/stopwords.zip.\n",
            "[nltk_data] Downloading package perluniprops to /root/nltk_data...\n",
            "[nltk_data]   Unzipping misc/perluniprops.zip.\n",
            "[nltk_data] Downloading package nonbreaking_prefixes to\n",
            "[nltk_data]     /root/nltk_data...\n",
            "[nltk_data]   Unzipping corpora/nonbreaking_prefixes.zip.\n"
          ],
          "name": "stderr"
        },
        {
          "output_type": "stream",
          "text": [
            "Done!\n"
          ],
          "name": "stdout"
        }
      ]
    },
    {
      "cell_type": "code",
      "metadata": {
        "id": "XMSWyoDotbw-"
      },
      "source": [
        "model = KeyedVectors.load_word2vec_format('wiki.ru.vec', binary=False)"
      ],
      "execution_count": null,
      "outputs": []
    },
    {
      "cell_type": "markdown",
      "metadata": {
        "id": "cADDGhtEAibz"
      },
      "source": [
        "# Load data"
      ]
    },
    {
      "cell_type": "code",
      "metadata": {
        "colab": {
          "base_uri": "https://localhost:8080/"
        },
        "id": "SPUGmTy4559e",
        "outputId": "809d55d6-2b6d-4d82-adb6-187127a33fec"
      },
      "source": [
        "#Add google drive\n",
        "from google.colab import drive\n",
        "drive.mount('/content/drive')"
      ],
      "execution_count": null,
      "outputs": [
        {
          "output_type": "stream",
          "text": [
            "Mounted at /content/drive\n"
          ],
          "name": "stdout"
        }
      ]
    },
    {
      "cell_type": "code",
      "metadata": {
        "colab": {
          "base_uri": "https://localhost:8080/",
          "height": 149
        },
        "id": "xP2YmKxM561g",
        "outputId": "3d33af90-3893-4c09-fad4-718c795b38d4"
      },
      "source": [
        "#open file\n",
        "with open(\"/content/drive/MyDrive/Diplom/Generation/s2t/text.txt\", encoding= 'cp1251') as txt:\n",
        "  text = txt.read()\n",
        "text"
      ],
      "execution_count": null,
      "outputs": [
        {
          "output_type": "execute_result",
          "data": {
            "application/vnd.google.colaboratory.intrinsic+json": {
              "type": "string"
            },
            "text/plain": [
              "'\"Семь навыков высокоэффективных людей\" - это одна из самых популярных книг для развития личности, которая была переведена на 38 языков. Многомиллионные тиражи говорят о том, что среди литературы по саморазвитию она обладает непререкаемым авторитетом. Эта книга более 7 лет возглавляла список бестселлеров и по результатам опроса читателей журнала для руководителей была названа самой влиятельной книгой по бизнесу 20 века. Журнал Time назвал автора книги Доктора Стивена Кови одним из 25 самых влиятельных американцев. В данном видео вы узнаете ключевые тезисы этой уникальной книги. В начале книги Стивен Кови объясняет понятие навыка как пересечение знания, умения и желания. Знание это теоретическая база, определяющая, что делать и зачем. Умение определяет как делать, а желание - это мотивация, то есть хочу делать. Чтобы что-то в своей жизни превратить в навык, необходимы все три компонента.\\n\"Семь навыков\" - это навыки эффективности. Базируясь на принципах, они приносят наилучшие из возможных долгосрочные результаты. Они становятся основой характера, благодаря чему человек может разрешать проблемы, раскрывать свои возможности и постоянно совершенствоваться.\\n Первый навык заключается в \"проактивности\" человека. И хотя на первый взгляд этот термин может показаться несколько сложным, он на самом деле прост. Вообще в литературе по управлению термин \"проактивность\"распространен довольно широко, при этом вы вряд ли встретите это слово в большинстве словарей. Оно означает нечто большее, чем просто активность, оно означает, что, будучи людьми, мы несем ответственность за свои собственные жизни, наше поведение зависит от наших решений, а не от окружающих условий. Мы можем подчинять чувства нашим ценностям, мы инициируем происходящее и несем за это ответственность. Проактивная модель выглядит так, что между раздражителем и реакцией имеется период, когда человек может сделать свободный выбор и даже вообще отказаться от реакции. Реактивная же модель представляет собой постоянную реакцию на любые раздражители, причём реакция эта моментальная. По своей природе мы проактивны. Если наша жизнь стала зависеть от различных обстоятельств, то это потому, что мы сознательно или нет\\nсделали свой выбор и позволили этим силам управлять нами. Делая такой выбор, мы становимся реактивными. Реактивные люди часто находятся в зависимости от физических условий окружающей среды. Если погода хорошая, они чувствуют себя хорошо, если погода плохая, то это сказывается на их настроении и работе. Проактивные люди носят в себе свою собственную погоду, для них не имеет значения, идёт дождь, или светит солнце. Они движимы ценностями. Если ценностью для них является высококачественное выполнение работы, то это не будет зависеть от того, способствует этому погода или нет. Реактивные люди, кроме того, зависят от социальных условий окружающей среды, от социальной погоды. Если окружающие относятся к ним хорошо, у них всё в порядке, если же плохо, то они становится закрытыми и занимают оборонительную позицию. Реактивные люди строят свою эмоциональную жизнь на поведении окружающих, позволяя их слабостям управлять собой. В конце приведу пример из жизни моего трехлетнего сына.\\n Недавно он больно ударился о ножку стола и начал плакать, говоря, что стол плохой. Это пример реактивности, так как ребёнок посчитал причиной своей маленькой беды внешний фактор, то есть стол, который находился на его пути. Где-то к 5-6 годам дети начинают мыслить проактивно и уже могут сознательно подходить к этому вопросу. Поэтому всякий раз, когда вы захотите обвинить окружающие обстоятельства в той или проблеме, подумайте, не являетесь ли вы тем ребёнком, которые обвиняют в стол. То есть ведёте себя реактивно, а не проактивно. Навык 2. Начинайте, представляя конечную цель. Несмотря на то, что этот навык применим ко многим различным обстоятельствам и аспектам жизни, основное воплощение девиза \"начинайте, представляя конечную цель\" заключается в том, чтобы уже сегодня начать с представления образа картины или парадигмы конечной цели вашей жизни. Это будет системой оценки или критерием, на соответствие которому проверяется всё остальное.\\n Каждая часть вашей жизни, то что вы делаете сегодня, что будете делать завтра, на следующей неделе, в следующем месяце может быть рассмотрена в контексте единого целого, того, что по-настоящему имеет для вас значение. Постоянно сохраняя у себя в голове четкий образ своей конечной цели, вы всегда можете отдавать себе отчет в том, что всё, что вы делаете в любой конкретный день, не противоречит критериям, которые вы сами определили для себя как наиболее важное. Принцип \"начинайте, представляя конечную цель\" основывается на идее что всё создаётся дважды: сначала мысленно в голове, а затем и реально в  физическом мире. Например, перед тем, как построить дом, вы создаете его во всех подробностях еще до того, как забьете первый гвоздь. Вы стараетесь предельно четко представить себе, каким он должен быть. Вы оперируети идеями и напрягаете свой интеллект до тех пор, пока не получите четкий образ того, что вам хочется построить. Затем вы превращаете замысел в проект и разрабатываете строительные чертежи.\\n Все это делается до того, как лопата впервые вонзится в землю. Начинать, представляя конечную цель-  это значит, что каждый день надо начинать, твердо помня о своих ценностях. Тогда даже в самых тяжелых испытаниях я смогу, опираясь на эти ценности, принять верное решение и действовать как цельная личность. Я не должен буду реагировать на чьи-то эмоции и обстоятельства, я смогу быть по-настоящему проактивным и ориентированным на ценности, потому что они мне ясны.\\n Навык 3. Сначала делайте то, что необходимо делать сначала. Этот навык является личным достижением, плодом практической реализации первых двух навыков. Навык 1 гласит: вы творец своей жизни, вы за всё в ответе. Навык 2 представляет собой мысленный образ, идею, которая ещё не воплотилась в жизнь. В таком случае 3 навык является физической реализации вашего мысленного образа. Здесь мы имеем дело с вопросами, связанными с управлением жизнью и времени. Стивен Кови считает, что лучшая идея в сфере управления временем может быть передана одной фразой: \"Организация и действие на основе приоритетов\". Её суть можно уяснить по матрице, которую вы видите на экране. Исходная идея заключается в том, что мы расходуем время одним из 4 способов, а виды деятельности определяются двумя факторами: срочно и важно. Определить, какому квадрату относится то или иное ваше дело достаточно просто. Главное пользоваться этой чрезвычайно эффективной\\n системой управления временем, а не просто наслаждаться фактом того, что вы о ней знаете. Девизом этого навыка является цитата Гёте:\"Наиболее важные дела никогда не должны подчиняться наименее важным\".\\n Навык 4. Думайте в духе \"Выиграл выиграл\". Четвертый навык это не просто техника, это общая философия взаимодействия между людьми, это особый настрой ума и сердца, направленный на постоянный поиск взаимной выгоды при всех взаимодействиях людей друг с другом. \"Выиграл выиграл\" означает, что все договорённости и решения обоюдно выгодны и удовлетворяют обе стороны. Сама эта установка представляет жизнь ареной для сотрудничества, а не соперничества. Люди в большинстве своем склонны к полярным оценкам: сильный и слабый, упрямый - безвольный, выигрыш - проигрыш, но подобный способ мышления порочен, он основан на власти и занимаемом положении, а не на принципе. Установка же \"выиграл выиграл\" основана на базе, в соответствии с которой всего хватит всем, что успех одного человека не достигается за счёт провала другого. В качестве примера можно привести канал Ифо, на котором вы смотрите это видео. мы делаем ролики, которые удовлетворяют запросы аудитории так,\\n что наши зрители от этого выигрывают. Но наш канал растет, так как постоянно появляются новые подписчики, отчего мы также выигрываем. Это хорошая модель, так как в выигрыше обе стороны. При этом следует понимать, что для получения взаимной выгоды необходимо как мужество в достижении своих целей, так и чуткость к чужим интересам. Особенно если Вы имеете дело с людьми, запрограммированными именно на модель \"выиграл проиграл\".\\n Навык 5. Сначала стремитесь понять, потом быть понятым. Предположим, у вас проблемы со зрением, и вы решили обратиться к окулисту за помощью. Наспех выслушав ваши жалобы, тот снимает очки и протягивает их вам со словами: \"Вот, наденьте эти очки. Я ношу из уже лет 10, мне они здорово помогают. Не беспокойтесь, дома у меня есть запасные.\" Вы надеваете очки, но видите в них ещё хуже прежнего. \"Ужасные очки! - восклицаете вы, -ничего в них не вижу!\" \"Что такое?\"- удивляется окулист, - \"мне они великолепно помогают! Попытайтесь еще разок!\" \"Да я пытаюсь, - отвечаете вы, - все расплывается.\" \"Что такое с вами? Постарайтесь настроиться позитивно!\" \"Хорошо, но я и позитивно ничего в них не вижу.\" \"Ну, дорогой мой, какой же вы неблагодарный!\" - возмущается окулист - \"это после всего, что я сделал, чтобы помочь Вам.\" Наверняка вы больше никогда не обратитесь к этому доктору, ведь как можно доверять специалисту, который назначает лечение, не поставив диагноз.\\n А часто ли мы сами, общаясь с другими людьми, ставим диагноз перед тем, как что-то сказать. Итак, сначала стремитесь что-то понять, потом быть понятыми. Этот принцип - ключик к эффективному личному общению. Это трудный, но абсолютно верный принцип для самых разных сфер жизни, этот принцип отличает всех истинных профессионалов: сначала стремится понять, а потом быть понятым, сначала ставить диагноз, а потом выписывать рецепт. Это же модель справедлива и в торговле. Эффективный продавец сначала стремится понять ситуацию клиента. Продавец-непрофессионал просто продаёт товары, профессионал же продает решение проблем и удовлетворяет потребности. Это совершенно иной подход. Хороший инженер, прежде чем разработать проект моста, должен понимать распределение сил и рассчитать нагрузки, хороший преподаватель, прежде чем начать занятия, должен оценить уровень подготовки своих учеников, хороший студент должен усвоить знания, прежде чем их применить.\\n Хорошие родители должны разобраться, прежде чем судить или давать оценки. Ключ к полноценному суждению - понимание, вынося сначала суждения, вы никогда не достигнете полного понимания. Сначала стремитесь понять, потом быть понятым. Этот верный принцип применим во всех случаях жизни. Но более всего в сфере межличностных отношений.\\n Навык 6. Достигайте синергии. Слово \"синергия\" переводится с греческого как сотрудничество или соучастие, оно представляет собой деятельность самого высокого порядка, подлинную проверку и проявление всех остальных навыков, соединённых вместе. Синергия это суть лидерства, основанного на принципах, она катализирует, объединяет и высвобождает огромную энергию, заключенную в людях. Все описанные выше навыки подготавливают нас к созданию чуда синергии. Говоря простым языком, синергия означает, что целое больше суммы его частей, то есть один и один в сумме дают не 2, а 11. Это, пожалуй, наиболее яркий и точный образ, описывающий суть синергии. В природесСинергия присутствует повсюду. Стоит посадить близко друг к другу два растения, как корни их переплетутся и улучшат качество почвы таким образом, что оба растения станут расти лучше, чем если бы они были разделены. Если\\n связать вместе два деревянных бревна, то они выдержат нагрузку, значительно превышающую сумму их возможностей по отдельности. Целое больше суммы его частей. Суть синергии  заключается в том, чтобы ценить различия, уважать их, наращивать сильные и компенсировать слабые стороны. Навык 7. Затачиваете пилу. Представьте себе, что бродя по лесу, вы наталкиваетесь на человека, который с ожесточением пилит дерево. \"Что вы делаете?\" - интересуйтесь вы. \"Сами что ли не видите?\"- отвечает он, - \" я пилю дерево\". \"Вы выглядите очень устало\" - сочувствуете вы, \"давно уже пилите?\" \"Да уж больше 5 часов\" - отвечает человек, \"еле на ногах стою, нелёгкая это работа\". \"Так почему бы вам не прерываться на несколько минут, не заточить пилу?\" - говорите Вы, - \"наверняка работа пойдет гораздо быстрее\".  \"Нет у меня времени пилу затачивать!\" - восклицает человек, - \"мне пилить надо!\" 7 навык требует выделять время\\n для заточки пилы. То есть для успешного развития личности нужно постоянно совершенствоваться в четырех измерениях человеческого бытия: в физическом, духовном, интеллектуальном и эмоциональном. Данный навык замыкает в кольцо все остальные навыки, так как их применение становится возможным именно благодаря ему. В конце кратко повторим все семь навыков высокоэффективных людей от Стивена Кови. Навык 1. Будьте проактивны, а не реактивны. Навык 2. Начинайте, представляя конечную цель. Навык 3. Сначала делайте то, что необходимо делать сначала, то есть правильно управляйте временем. Навык 4. Думайте в духе \"выиграл-выиграл\", то есть ищите взаимную выгоду. Навык 5. Сначала стремитесь понять, потом быть понятым.\\nНавык 6. Достигайте синергии, то есть достигайте сотрудничества, когда один плюс один равно не два, а 11. Навык 7. Затачивайте пилу, то есть постоянно совершенствуйтесь.'"
            ]
          },
          "metadata": {
            "tags": []
          },
          "execution_count": 8
        }
      ]
    },
    {
      "cell_type": "code",
      "metadata": {
        "colab": {
          "base_uri": "https://localhost:8080/",
          "height": 206
        },
        "id": "rzj7GRflwxPa",
        "outputId": "6fbe140f-9c54-46fe-acca-da05f3fc35ce"
      },
      "source": [
        "df_bleu = pd.read_csv('https://raw.githubusercontent.com/Digital-Pushkin-Lab/RuAdapt/main/df_bleu.csv', sep= ',', error_bad_lines=False)\n",
        "df_bleu.head()"
      ],
      "execution_count": null,
      "outputs": [
        {
          "output_type": "execute_result",
          "data": {
            "text/html": [
              "<div>\n",
              "<style scoped>\n",
              "    .dataframe tbody tr th:only-of-type {\n",
              "        vertical-align: middle;\n",
              "    }\n",
              "\n",
              "    .dataframe tbody tr th {\n",
              "        vertical-align: top;\n",
              "    }\n",
              "\n",
              "    .dataframe thead th {\n",
              "        text-align: right;\n",
              "    }\n",
              "</style>\n",
              "<table border=\"1\" class=\"dataframe\">\n",
              "  <thead>\n",
              "    <tr style=\"text-align: right;\">\n",
              "      <th></th>\n",
              "      <th>source</th>\n",
              "      <th>target</th>\n",
              "      <th>level</th>\n",
              "    </tr>\n",
              "  </thead>\n",
              "  <tbody>\n",
              "    <tr>\n",
              "      <th>0</th>\n",
              "      <td>— И очень хорошо сделали, что не обратились к ...</td>\n",
              "      <td>— И очень хорошо сделали, что не обратились к ...</td>\n",
              "      <td>b1_c1</td>\n",
              "    </tr>\n",
              "    <tr>\n",
              "      <th>1</th>\n",
              "      <td>Чужестранец все прохаживался, но, увидев, что ...</td>\n",
              "      <td>Батюшки мои, думаю себе: вот чудак-то! И прика...</td>\n",
              "      <td>b1_c1</td>\n",
              "    </tr>\n",
              "    <tr>\n",
              "      <th>2</th>\n",
              "      <td>Шипучин. Нет, я не вынесу! (Плачет.) Не вынесу...</td>\n",
              "      <td>Шипучин. Нет, я не вынесу! (Плачет.) Не вынесу...</td>\n",
              "      <td>a2_b1</td>\n",
              "    </tr>\n",
              "    <tr>\n",
              "      <th>3</th>\n",
              "      <td>— Очень много, — краснея и с глупой, небрежной...</td>\n",
              "      <td>— Очень много, — краснея и с глупой улыбкой, к...</td>\n",
              "      <td>b1_c1</td>\n",
              "    </tr>\n",
              "    <tr>\n",
              "      <th>4</th>\n",
              "      <td>Вечер и вправду складывался весело.</td>\n",
              "      <td>Вечер и, правда, становился всё более весёлым....</td>\n",
              "      <td>b1</td>\n",
              "    </tr>\n",
              "  </tbody>\n",
              "</table>\n",
              "</div>"
            ],
            "text/plain": [
              "                                              source  ...  level\n",
              "0  — И очень хорошо сделали, что не обратились к ...  ...  b1_c1\n",
              "1  Чужестранец все прохаживался, но, увидев, что ...  ...  b1_c1\n",
              "2  Шипучин. Нет, я не вынесу! (Плачет.) Не вынесу...  ...  a2_b1\n",
              "3  — Очень много, — краснея и с глупой, небрежной...  ...  b1_c1\n",
              "4                Вечер и вправду складывался весело.  ...     b1\n",
              "\n",
              "[5 rows x 3 columns]"
            ]
          },
          "metadata": {
            "tags": []
          },
          "execution_count": 9
        }
      ]
    },
    {
      "cell_type": "markdown",
      "metadata": {
        "id": "dKGGUItBQjVr"
      },
      "source": [
        "### Load RSL dict with onyms"
      ]
    },
    {
      "cell_type": "code",
      "metadata": {
        "id": "-oCwUWYSQx1u"
      },
      "source": [
        "path = \"/content/drive/MyDrive/Diplom/Generation/s2t/\""
      ],
      "execution_count": null,
      "outputs": []
    },
    {
      "cell_type": "code",
      "metadata": {
        "colab": {
          "base_uri": "https://localhost:8080/",
          "height": 206
        },
        "id": "SBrchJOAQkLx",
        "outputId": "99515ea7-e3d0-4b22-d3d9-979e8f69979f"
      },
      "source": [
        "RSL_dict = pd.read_csv(path + 'RSL_ONYMS.csv', index_col= 0 )\n",
        "RSL_dict['RSL WORD ID'] = RSL_dict.index\n",
        "RSL_dict.head()"
      ],
      "execution_count": null,
      "outputs": [
        {
          "output_type": "execute_result",
          "data": {
            "text/html": [
              "<div>\n",
              "<style scoped>\n",
              "    .dataframe tbody tr th:only-of-type {\n",
              "        vertical-align: middle;\n",
              "    }\n",
              "\n",
              "    .dataframe tbody tr th {\n",
              "        vertical-align: top;\n",
              "    }\n",
              "\n",
              "    .dataframe thead th {\n",
              "        text-align: right;\n",
              "    }\n",
              "</style>\n",
              "<table border=\"1\" class=\"dataframe\">\n",
              "  <thead>\n",
              "    <tr style=\"text-align: right;\">\n",
              "      <th></th>\n",
              "      <th>WORD</th>\n",
              "      <th>PART_OF_SPEECH</th>\n",
              "      <th>TOPIC_CATEGORY</th>\n",
              "      <th>MAIN_CATEGORY_F</th>\n",
              "      <th>Rank</th>\n",
              "      <th>WORD_LOWERCASE</th>\n",
              "      <th>ONYM</th>\n",
              "      <th>RSL WORD ID</th>\n",
              "    </tr>\n",
              "  </thead>\n",
              "  <tbody>\n",
              "    <tr>\n",
              "      <th>0</th>\n",
              "      <td>бежевый</td>\n",
              "      <td>Существительное</td>\n",
              "      <td>Цвета</td>\n",
              "      <td>0</td>\n",
              "      <td>1</td>\n",
              "      <td>бежевый</td>\n",
              "      <td>бежевый цвет</td>\n",
              "      <td>0</td>\n",
              "    </tr>\n",
              "    <tr>\n",
              "      <th>1</th>\n",
              "      <td>бежевый</td>\n",
              "      <td>Существительное</td>\n",
              "      <td>Цвета</td>\n",
              "      <td>0</td>\n",
              "      <td>1</td>\n",
              "      <td>бежевый</td>\n",
              "      <td>бежевый</td>\n",
              "      <td>1</td>\n",
              "    </tr>\n",
              "    <tr>\n",
              "      <th>2</th>\n",
              "      <td>бежевый</td>\n",
              "      <td>Существительное</td>\n",
              "      <td>Цвета</td>\n",
              "      <td>0</td>\n",
              "      <td>1</td>\n",
              "      <td>бежевый</td>\n",
              "      <td>плавый</td>\n",
              "      <td>2</td>\n",
              "    </tr>\n",
              "    <tr>\n",
              "      <th>3</th>\n",
              "      <td>белокурый</td>\n",
              "      <td>Прилагательное</td>\n",
              "      <td>Цвета</td>\n",
              "      <td>0</td>\n",
              "      <td>2</td>\n",
              "      <td>белокурый</td>\n",
              "      <td>светловолосый</td>\n",
              "      <td>3</td>\n",
              "    </tr>\n",
              "    <tr>\n",
              "      <th>4</th>\n",
              "      <td>белокурый</td>\n",
              "      <td>Прилагательное</td>\n",
              "      <td>Цвета</td>\n",
              "      <td>0</td>\n",
              "      <td>2</td>\n",
              "      <td>белокурый</td>\n",
              "      <td>белобрысый</td>\n",
              "      <td>4</td>\n",
              "    </tr>\n",
              "  </tbody>\n",
              "</table>\n",
              "</div>"
            ],
            "text/plain": [
              "        WORD   PART_OF_SPEECH  ...           ONYM  RSL WORD ID\n",
              "0    бежевый  Существительное  ...   бежевый цвет            0\n",
              "1    бежевый  Существительное  ...        бежевый            1\n",
              "2    бежевый  Существительное  ...         плавый            2\n",
              "3  белокурый   Прилагательное  ...  светловолосый            3\n",
              "4  белокурый   Прилагательное  ...     белобрысый            4\n",
              "\n",
              "[5 rows x 8 columns]"
            ]
          },
          "metadata": {
            "tags": []
          },
          "execution_count": 11
        }
      ]
    },
    {
      "cell_type": "markdown",
      "metadata": {
        "id": "8hLL8FGFDkzd"
      },
      "source": [
        "#Translation"
      ]
    },
    {
      "cell_type": "code",
      "metadata": {
        "id": "09l-Ar05D_56"
      },
      "source": [
        "class sentence_translation:\n",
        "    \"\"\"docstring\"\"\"\n",
        " \n",
        "    def __init__(self, sentence, sentence_id, ner_model, morph_model,RSL_dict):\n",
        "        \"\"\"Constructor\"\"\"\n",
        "        self.sentence = sentence  \n",
        "        self.sentence_id = sentence_id  \n",
        "        self.ner = ner_model\n",
        "        self.morph = morph_model\n",
        "        self.RSL_dict_df = RSL_dict\n",
        "\n",
        "\n",
        "\n",
        "\n",
        "    '''Get words dataframe'''\n",
        "    def get_words_dataframe(self):\n",
        "        tokens = []\n",
        "        tid = 0\n",
        "\n",
        "        for _,token in enumerate(tokenize(self.sentence)):\n",
        "            if token.text != \" \" and token.text != \"\" \\\n",
        "                and token.text.strip() not in punctuation:\n",
        "                tokens.append([self.sentence_id,tid,re.sub('[^0-9А-Яа-яёЁa-zA-Z.!?;, ]', ' ', token.text),token.start,token.stop])\n",
        "                tid += 1\n",
        "\n",
        "        self.word_df = pd.DataFrame(tokens,columns= ['SENT_ID', 'WORD_ID', 'WORD','WORD_START', \t'WORD_STOP'])\n",
        "\n",
        "\n",
        "\n",
        "\n",
        "    ''' Add words lemma'''\n",
        "    def get_words_lemma(self):\n",
        "        lemma = pymorphy2.MorphAnalyzer()\n",
        "        self.word_df['LEMMA'] = self.word_df['WORD'].apply(lambda x: lemma.parse(x)[0].normal_form)\n",
        "\n",
        "\n",
        "\n",
        "\n",
        "    ''' Add words NER'''\n",
        "    def get_NER(self):\n",
        "        #get NER markup\n",
        "        ner_lst = []\n",
        "\n",
        "        markup = self.ner(self.sentence)\n",
        "        for span in markup.spans:\n",
        "            ner_lst.append([self.sentence_id,span.type,span.start,span.stop])\n",
        "\n",
        "        ner_df = pd.DataFrame(ner_lst, columns=['SENT_ID', 'NER_TYPE', 'NER_START', 'NER_STOP'])\n",
        "\n",
        "        #Add NER markup to df\n",
        "        shp =self.word_df.shape[0]\n",
        "\n",
        "        self.word_df = self.word_df.merge(ner_df,on =['SENT_ID'], how='left')\n",
        "\n",
        "        cond = (self.word_df['NER_START']<=self.word_df['WORD_START'])  & (self.word_df['WORD_STOP']<=self.word_df['NER_STOP'])                                                                                                        \n",
        "        self.word_df.loc[~cond,['NER_START','NER_STOP','NER_TYPE']] = np.nan\n",
        "        self.word_df = self.word_df.sort_values(['WORD_ID', 'NER_TYPE']).drop_duplicates(['WORD_ID'], keep='first')\n",
        "\n",
        "        assert shp == self.word_df.shape[0]\n",
        "\n",
        "\n",
        "\n",
        "\n",
        "    ''' Part of speech tagging'''\n",
        "    def get_part_of_speech(self):\n",
        "        #get Part of speech markup\n",
        "        morph_lst = []\n",
        "        chunk = [list(self.word_df['WORD'])]\n",
        "\n",
        "        for sid, s in enumerate(chunk):\n",
        "            markup = self.morph(s)\n",
        "            for wid,token in enumerate(markup.tokens):\n",
        "                morph_lst.append([self.sentence_id, wid, token.text,token.tag])\n",
        "\n",
        "        morph_df = pd.DataFrame(morph_lst, columns=['SENT_ID', 'WORD_ID', 'WORD', 'MORPH_TAG'])\n",
        "\n",
        "        #Add Part of speech markup to df\n",
        "        shp =self.word_df.shape[0]\n",
        "\n",
        "\n",
        "        self.word_df = self.word_df.merge(morph_df,on =['SENT_ID','WORD_ID','WORD'], how='left')\n",
        "\n",
        "        self.word_df['PART OF SPEECH ENG'] = [m[:m.find('|')] for m in self.word_df['MORPH_TAG'] ]\n",
        "\n",
        "        assert shp == self.word_df.shape[0]\n",
        "\n",
        "\n",
        "\n",
        "\n",
        "    ''' Find collocations in dict'''\n",
        "    def get_collocations(self):\n",
        "        #get collocations markup\n",
        "        colloc_list = [[self.sentence_id,o,self.sentence.find(str(o)),self.sentence.find(str(o))+len(o)]\\\n",
        "                          for o in set(self.RSL_dict_df['ONYM']) \\\n",
        "                          if (self.sentence.find(str(o))>0) & (len(str(o).split())>1)]\n",
        "\n",
        "        colloc_df = pd.DataFrame(colloc_list, columns=['SENT_ID', 'COLLOCATION', 'COL_START', 'COL_STOP'])\n",
        "        \n",
        "        #Add collocations markup to df\n",
        "        shp = self.word_df.shape[0]\n",
        "\n",
        "        self.word_df = self.word_df.merge(colloc_df,on =['SENT_ID'], how='left')\n",
        "\n",
        "        cond = (self.word_df['COL_START']<=self.word_df['WORD_START'])  & (self.word_df['WORD_STOP']<=self.word_df['COL_STOP'])\n",
        "                                                                                                        \n",
        "        self.word_df.loc[~cond,['COLLOCATION', 'COL_START', 'COL_STOP']] = np.nan\n",
        "        self.word_df = self.word_df.sort_values(['WORD_ID', 'COLLOCATION']).drop_duplicates(['WORD_ID'], keep='first')\n",
        "\n",
        "        assert shp == self.word_df.shape[0]\n",
        "\n",
        "\n",
        "\n",
        "\n",
        "    ''' Find words in dict'''\n",
        "    def find_words_in_dict(self):\n",
        "        #Add ONYMs markup to df\n",
        "        self.word_df = self.word_df.merge(self.RSL_dict_df[self.RSL_dict_df['ONYM'].isin(self.word_df['LEMMA'])]\\\n",
        "                                          .groupby(['ONYM'])['WORD_LOWERCASE'].count(),left_on='LEMMA',\\\n",
        "                                                    right_on='ONYM', how = 'left', suffixes=['','ONYM'])\n",
        "        \n",
        "        #Add WORDs markup to df\n",
        "        self.word_df = self.word_df.merge(self.RSL_dict_df[self.RSL_dict_df['WORD'].isin(self.word_df['LEMMA'])]\\\n",
        "                                          .drop_duplicates(['WORD', \t'PART_OF_SPEECH', \t'TOPIC_CATEGORY' ])\\\n",
        "                                          .groupby(['WORD'])['WORD_LOWERCASE'].count(),left_on='LEMMA',\\\n",
        "                                                    right_on='WORD', how = 'left', suffixes=['','WORD'])\n",
        "        \n",
        "        self.word_df.columns = list(self.word_df.columns[:-2]) + ['CNT ONYM IN DICT','CNT WORD IN DICT']\n",
        "\n",
        "        self.word_df['CNT WORD IN DICT'] = np.where(self.word_df['CNT WORD IN DICT'].isnull(),0, self.word_df['CNT WORD IN DICT'])\n",
        "        self.word_df['CNT ONYM IN DICT'] = np.where(self.word_df['CNT ONYM IN DICT'].isnull(),0, self.word_df['CNT ONYM IN DICT'])\n",
        "\n",
        "\n",
        "\n",
        "\n",
        "    ''' Word sentence disambigulation (WSD)'''\n",
        "    def disambiguate(self,word_, context_, word_type ):\n",
        "        # find candidates \n",
        "        subset = self.RSL_dict_df[self.RSL_dict_df[word_type].isin([word_])]\n",
        "        subset = subset.drop_duplicates([word_type, 'WORD_LOWERCASE', \t'PART_OF_SPEECH', \t'TOPIC_CATEGORY'])\n",
        "        candidates_context = list(subset[['WORD_LOWERCASE','PART_OF_SPEECH','TOPIC_CATEGORY']].apply(lambda x: ' '.join(x), axis = 1))\n",
        "        candidates = subset['WORD_LOWERCASE']\n",
        "        candidates_id = subset['RSL WORD ID']\n",
        "        collocation_f_list = [len(c.split())>1 for c in candidates]\n",
        "\n",
        "        #find vector for sentence\n",
        "        _,_,_,_,_,text_vector,_ = bert([' '.join(t.text for t in tokenize(context_) if t.text != word_)])\n",
        "\n",
        "        # print(candidates_context)\n",
        "        #find vector for words in RSL dict\n",
        "        candidate_vectors = []\n",
        "        for id, c in enumerate(candidates):\n",
        "            ##if collocation, find  own vector\n",
        "            # if True:\n",
        "            if (collocation_f_list[id]) | (word_type == 'ONYM'):\n",
        "    \n",
        "                _,_,_,_,_,word_vector,_ = bert(c)\n",
        "                candidate_vectors.append(word_vector)\n",
        "            ##if single word, find context vector\n",
        "            else:\n",
        "                word_tokens,word_vectors,_,_,_,_,_ = bert([candidates_context[id]])\n",
        "                idx = list(word_tokens[0]).index(c)\n",
        "                word_vector = word_vectors[0][idx]\n",
        "                candidate_vectors.append(word_vector)\n",
        "            \n",
        "        if (collocation_f_list[id]) | (word_type == 'ONYM'):\n",
        "            scores = [np.dot(text_vector, v.T)[0] for v in candidate_vectors[0]]\n",
        "        else:\n",
        "            scores = [np.dot(text_vector, v.T)[0] for v in candidate_vectors]\n",
        "        return dict(zip(candidates_id, scores))\n",
        "\n",
        "\n",
        "\n",
        "\n",
        "    ''' WSD markup'''\n",
        "    def get_WSD_markup(self):\n",
        "        cond_word = (self.word_df['CNT WORD IN DICT']>1) & (self.word_df['NER_TYPE'].isnull())\\\n",
        "                      & (~self.word_df['PART OF SPEECH ENG'].isin(['NUM','NU'])) \n",
        "        cond_onym = (self.word_df['CNT WORD IN DICT']==0) & (self.word_df['CNT ONYM IN DICT']>1)\\\n",
        "                      & (self.word_df['NER_TYPE'].isnull()) & (~self.word_df['PART OF SPEECH ENG'].isin(['NUM','NU'])) \n",
        "\n",
        "        self.word_df['FINAL WORD FOR VISUALISATION'] = ''\n",
        "        self.word_df['FINAL WORD FOR RSL ID'] = 0\n",
        "        self.word_df['FINAL WORD FOR DESCRIPION'] = 'DACTIL'\n",
        "        self.word_df['SIGN'] = 0\n",
        "        self.word_df['TYPE'] = ''\n",
        "\n",
        "        #disambigulate Words\n",
        "        for ww in self.word_df[cond_word]['LEMMA']:\n",
        "            rank_list = self.disambiguate(word_ = ww, context_ = ' '.join(self.word_df['LEMMA']),word_type = 'WORD')\n",
        "            best_word = self.RSL_dict_df[self.RSL_dict_df['RSL WORD ID'] == max(rank_list, key=rank_list.get)]\n",
        "\n",
        "            self.word_df.loc[self.word_df['LEMMA'] == ww,'FINAL WORD FOR VISUALISATION'] = best_word['WORD'].values[0]\n",
        "            self.word_df.loc[self.word_df['LEMMA'] == ww,'FINAL WORD FOR RSL ID'] = best_word['RSL WORD ID'].values[0]\n",
        "            self.word_df.loc[self.word_df['LEMMA'] == ww,'FINAL WORD FOR DESCRIPION'] = 'DICT'\n",
        "            self.word_df.loc[self.word_df['LEMMA'] == ww,'SIGN'] = 1\n",
        "            self.word_df.loc[self.word_df['LEMMA'] == ww,'TYPE'] = 'WORD SIGN WDS'\n",
        "\n",
        "        #disambigulate Onyms\n",
        "        for ww in self.word_df[cond_onym]['LEMMA']:\n",
        "            rank_list = self.disambiguate(word_ = ww, context_ = ' '.join(self.word_df['LEMMA']),word_type = 'ONYM')\n",
        "            best_word = self.RSL_dict_df[self.RSL_dict_df['RSL WORD ID'] == max(rank_list, key=rank_list.get)]\n",
        "\n",
        "            self.word_df.loc[self.word_df['LEMMA'] == ww,'FINAL WORD FOR VISUALISATION'] = best_word['ONYM'].values[0]\n",
        "            self.word_df.loc[self.word_df['LEMMA'] == ww,'FINAL WORD FOR RSL ID'] = best_word['RSL WORD ID'].values[0]\n",
        "            self.word_df.loc[self.word_df['LEMMA'] == ww,'FINAL WORD FOR DESCRIPION'] = 'ONYM'\n",
        "            self.word_df.loc[self.word_df['LEMMA'] == ww,'SIGN'] = 1\n",
        "            self.word_df.loc[self.word_df['LEMMA'] == ww,'TYPE'] = 'ONYM SIGN WDS'\n",
        "\n",
        "\n",
        "\n",
        "\n",
        "    ''' Get final markup'''\n",
        "    def final_markup(self):\n",
        "        self.get_words_dataframe()\n",
        "        self.get_words_lemma()\n",
        "        self.get_NER()\n",
        "        self.get_part_of_speech()\n",
        "        self.get_collocations()\n",
        "        self.find_words_in_dict()\n",
        "        self.get_WSD_markup()\n",
        "\n",
        "        cond_final = (~self.word_df['COLLOCATION'].isnull()) & (self.word_df['FINAL WORD FOR VISUALISATION'] == '')\n",
        "        self.word_df['FINAL WORD FOR VISUALISATION'] = np.where(cond_final, self.word_df['LEMMA'] ,self.word_df['FINAL WORD FOR VISUALISATION'])\n",
        "        self.word_df['FINAL WORD FOR DESCRIPION'] = np.where(cond_final, 'DICT', self.word_df['FINAL WORD FOR DESCRIPION'])\n",
        "        self.word_df['SIGN']  = np.where(cond_final, 1, self.word_df['SIGN'])\n",
        "        self.word_df['TYPE'] = np.where(cond_final, 'COLLOCATION DICT SIGN', self.word_df['TYPE'])\n",
        "\n",
        "        cond_final = (~self.word_df['NER_TYPE'].isnull()) & (self.word_df['FINAL WORD FOR VISUALISATION'] == '') & (self.word_df['CNT WORD IN DICT']>0)\n",
        "        self.word_df['FINAL WORD FOR VISUALISATION'] = np.where(cond_final, self.word_df['LEMMA'], self.word_df['FINAL WORD FOR VISUALISATION'])\n",
        "        self.word_df['FINAL WORD FOR DESCRIPION'] = np.where(cond_final,'DICT',self.word_df['FINAL WORD FOR DESCRIPION'])\n",
        "        self.word_df['SIGN']  = np.where(cond_final, 1, self.word_df['SIGN'])\n",
        "        self.word_df['TYPE'] = np.where(cond_final, 'NER SIGN', self.word_df['TYPE'])\n",
        "\n",
        "        cond_final = (~self.word_df['NER_TYPE'].isnull()) & (self.word_df['FINAL WORD FOR VISUALISATION'] == '') & (self.word_df['CNT WORD IN DICT'] == 0)\n",
        "        self.word_df['FINAL WORD FOR VISUALISATION'] = np.where(cond_final, self.word_df['WORD'], self.word_df['FINAL WORD FOR VISUALISATION'])\n",
        "        self.word_df['SIGN']  = np.where(cond_final, 0, self.word_df['SIGN'])\n",
        "        self.word_df['TYPE'] = np.where(cond_final, 'NER DACTIL', self.word_df['TYPE'])\n",
        "\n",
        "        cond_final = (self.word_df['PART OF SPEECH ENG'].isin(['NUM','NU'])) & (self.word_df['FINAL WORD FOR VISUALISATION'] == '')\n",
        "        self.word_df['FINAL WORD FOR VISUALISATION'] = np.where(cond_final, self.word_df['LEMMA'] , self.word_df['FINAL WORD FOR VISUALISATION'])\n",
        "        self.word_df['FINAL WORD FOR DESCRIPION'] = np.where(cond_final,'DICT',self.word_df['FINAL WORD FOR DESCRIPION'])\n",
        "        self.word_df['SIGN']  = np.where(cond_final, 1, self.word_df['SIGN'])\n",
        "        self.word_df['TYPE'] = np.where(cond_final, 'NUMB SIGN', self.word_df['TYPE'])\n",
        "\n",
        "        cond_final = (self.word_df['CNT WORD IN DICT']>0) & (self.word_df['FINAL WORD FOR VISUALISATION'] == '')\n",
        "        self.word_df['FINAL WORD FOR VISUALISATION'] = np.where(cond_final, self.word_df['LEMMA'] ,self.word_df['FINAL WORD FOR VISUALISATION'])\n",
        "        self.word_df['FINAL WORD FOR DESCRIPION'] = np.where(cond_final, 'DICT', self.word_df['FINAL WORD FOR DESCRIPION'])\n",
        "        self.word_df['SIGN']  = np.where(cond_final, 1, self.word_df['SIGN'])\n",
        "        self.word_df['TYPE'] = np.where(cond_final, 'DICT SIGN', self.word_df['TYPE'])\n",
        "\n",
        "        cond_final = (self.word_df['CNT ONYM IN DICT']==1) & (self.word_df['FINAL WORD FOR VISUALISATION'] == '')\n",
        "        self.word_df['FINAL WORD FOR VISUALISATION'] = np.where(cond_final, self.word_df['LEMMA'], self.word_df['FINAL WORD FOR VISUALISATION'])\n",
        "        self.word_df['FINAL WORD FOR DESCRIPION'] = np.where(cond_final, 'ONYM',self.word_df['FINAL WORD FOR DESCRIPION'])\n",
        "        self.word_df['SIGN']  = np.where(cond_final, 1, self.word_df['SIGN'])\n",
        "        self.word_df['TYPE'] = np.where(cond_final, 'ONYM DICT SIGN', self.word_df['TYPE'])\n",
        "\n",
        "        cond_final = self.word_df['FINAL WORD FOR VISUALISATION'] == ''\n",
        "        self.word_df['FINAL WORD FOR VISUALISATION'] = np.where(cond_final, self.word_df['WORD'], self.word_df['FINAL WORD FOR VISUALISATION'])\n",
        "        self.word_df['SIGN']  = np.where(cond_final, 0, self.word_df['SIGN'])\n",
        "        self.word_df['TYPE'] = np.where(cond_final, 'NOT DICT SIGN', self.word_df['TYPE'])\n"
      ],
      "execution_count": null,
      "outputs": []
    },
    {
      "cell_type": "markdown",
      "metadata": {
        "id": "LvlRXmHBpP9H"
      },
      "source": [
        "## Get sentences dataframe"
      ]
    },
    {
      "cell_type": "code",
      "metadata": {
        "id": "-g4j-qJm0Sdv"
      },
      "source": [
        "def translate_text(text_,ner_, morph_, RSL_dict_):\n",
        "    sent_list_ = []\n",
        "\n",
        "    for id_,sent_ in enumerate(sentenize(text_)):\n",
        "        #get sentence\n",
        "        sent_list_.append([id_, sent_.text])\n",
        "\n",
        "    #sentences df\n",
        "    sent_df_ = pd.DataFrame(sent_list_,columns= ['ID', 'SENTENCE'])\n",
        "    sent_df_.head()\n",
        "\n",
        "    #translation\n",
        "    translation_df_ = pd.DataFrame()\n",
        "    for _,row_ in tqdm(sent_df_.iterrows()):\n",
        "        sentence_ = row_['SENTENCE']\n",
        "        sentence_id_ = row_['ID']\n",
        "\n",
        "        translation_ = sentence_translation(sentence = sentence_,\n",
        "                                          sentence_id = sentence_id_,\n",
        "                                          ner_model = ner_,\n",
        "                                          morph_model = morph_,\n",
        "                                          RSL_dict = RSL_dict_)\n",
        "        translation_.final_markup()\n",
        "\n",
        "        translation_df_ = pd.concat([translation_df_, translation_.word_df], ignore_index=True)\n",
        "\n",
        "    return translation_df_"
      ],
      "execution_count": null,
      "outputs": []
    },
    {
      "cell_type": "code",
      "metadata": {
        "id": "ZxmbaMkAtdCB"
      },
      "source": [
        "def pivot_tbl(tr_df, ind_lst, val_lst):\n",
        "    pvt = tr_df.pivot_table(index=ind_lst,\n",
        "                                 values = val_lst,\n",
        "                                 aggfunc='count')/tr_df.shape[0]\n",
        "    return (pvt.reset_index().style\n",
        "    .format({val_lst[0]: lambda x: round(x,4),\n",
        "            })\n",
        "    .bar(subset=[val_lst[0]],\n",
        "          align='mid',\n",
        "          color=['coral', 'lightblue'],\n",
        "          vmin=pvt[val_lst[0]].min(),\n",
        "          vmax=pvt['WORD_ID'].max()\n",
        "        )\n",
        "    .set_properties(**{'text-align': 'center'}, subset=val_lst[0])\n",
        "    )"
      ],
      "execution_count": null,
      "outputs": []
    },
    {
      "cell_type": "markdown",
      "metadata": {
        "id": "SWRWsCIUzuKR"
      },
      "source": [
        "## My text"
      ]
    },
    {
      "cell_type": "code",
      "metadata": {
        "colab": {
          "base_uri": "https://localhost:8080/"
        },
        "id": "7h0NBV1iURot",
        "outputId": "49670b82-3eb6-4d1f-910b-c81e320d15a4"
      },
      "source": [
        "translation_df = translate_text(text_= text,ner_ = ner, morph_ = morph, RSL_dict_ = RSL_dict)"
      ],
      "execution_count": null,
      "outputs": [
        {
          "output_type": "stream",
          "text": [
            "145it [07:19,  3.03s/it]\n"
          ],
          "name": "stderr"
        }
      ]
    },
    {
      "cell_type": "code",
      "metadata": {
        "colab": {
          "base_uri": "https://localhost:8080/",
          "height": 233
        },
        "id": "r52feeiZzMzj",
        "outputId": "2a15ad45-9f83-417f-cc16-ff2ff8e5187a"
      },
      "source": [
        "pivot_tbl(tr_df = translation_df, ind_lst = ['FINAL WORD FOR DESCRIPION','TYPE'], val_lst = ['WORD_ID'])"
      ],
      "execution_count": null,
      "outputs": [
        {
          "output_type": "execute_result",
          "data": {
            "text/html": [
              "<style  type=\"text/css\" >\n",
              "    #T_edd8da82_bb3d_11eb_93c5_0242ac1c0002row0_col2 {\n",
              "            width:  10em;\n",
              "             height:  80%;\n",
              "            background:  linear-gradient(90deg,lightblue 1.8%, transparent 1.8%);\n",
              "            text-align:  center;\n",
              "        }    #T_edd8da82_bb3d_11eb_93c5_0242ac1c0002row1_col2 {\n",
              "            width:  10em;\n",
              "             height:  80%;\n",
              "            background:  linear-gradient(90deg,lightblue 31.6%, transparent 31.6%);\n",
              "            text-align:  center;\n",
              "        }    #T_edd8da82_bb3d_11eb_93c5_0242ac1c0002row2_col2 {\n",
              "            width:  10em;\n",
              "             height:  80%;\n",
              "            background:  linear-gradient(90deg,lightblue 0.6%, transparent 0.6%);\n",
              "            text-align:  center;\n",
              "        }    #T_edd8da82_bb3d_11eb_93c5_0242ac1c0002row3_col2 {\n",
              "            width:  10em;\n",
              "             height:  80%;\n",
              "            background:  linear-gradient(90deg,lightblue 100.0%, transparent 100.0%);\n",
              "            text-align:  center;\n",
              "        }    #T_edd8da82_bb3d_11eb_93c5_0242ac1c0002row4_col2 {\n",
              "            width:  10em;\n",
              "             height:  80%;\n",
              "            background:  linear-gradient(90deg,lightblue 0.1%, transparent 0.1%);\n",
              "            text-align:  center;\n",
              "        }    #T_edd8da82_bb3d_11eb_93c5_0242ac1c0002row5_col2 {\n",
              "            width:  10em;\n",
              "             height:  80%;\n",
              "            background:  linear-gradient(90deg,lightblue 4.9%, transparent 4.9%);\n",
              "            text-align:  center;\n",
              "        }    #T_edd8da82_bb3d_11eb_93c5_0242ac1c0002row6_col2 {\n",
              "            width:  10em;\n",
              "             height:  80%;\n",
              "            background:  linear-gradient(90deg,lightblue 42.8%, transparent 42.8%);\n",
              "            text-align:  center;\n",
              "        }    #T_edd8da82_bb3d_11eb_93c5_0242ac1c0002row7_col2 {\n",
              "            width:  10em;\n",
              "             height:  80%;\n",
              "            background:  linear-gradient(90deg,lightblue 19.4%, transparent 19.4%);\n",
              "            text-align:  center;\n",
              "        }    #T_edd8da82_bb3d_11eb_93c5_0242ac1c0002row8_col2 {\n",
              "            width:  10em;\n",
              "             height:  80%;\n",
              "            background:  linear-gradient(90deg,lightblue 34.5%, transparent 34.5%);\n",
              "            text-align:  center;\n",
              "        }</style><table id=\"T_edd8da82_bb3d_11eb_93c5_0242ac1c0002\" ><thead>    <tr>        <th class=\"blank level0\" ></th>        <th class=\"col_heading level0 col0\" >FINAL WORD FOR DESCRIPION</th>        <th class=\"col_heading level0 col1\" >TYPE</th>        <th class=\"col_heading level0 col2\" >WORD_ID</th>    </tr></thead><tbody>\n",
              "                <tr>\n",
              "                        <th id=\"T_edd8da82_bb3d_11eb_93c5_0242ac1c0002level0_row0\" class=\"row_heading level0 row0\" >0</th>\n",
              "                        <td id=\"T_edd8da82_bb3d_11eb_93c5_0242ac1c0002row0_col0\" class=\"data row0 col0\" >DACTIL</td>\n",
              "                        <td id=\"T_edd8da82_bb3d_11eb_93c5_0242ac1c0002row0_col1\" class=\"data row0 col1\" >NER DACTIL</td>\n",
              "                        <td id=\"T_edd8da82_bb3d_11eb_93c5_0242ac1c0002row0_col2\" class=\"data row0 col2\" >0.0075</td>\n",
              "            </tr>\n",
              "            <tr>\n",
              "                        <th id=\"T_edd8da82_bb3d_11eb_93c5_0242ac1c0002level0_row1\" class=\"row_heading level0 row1\" >1</th>\n",
              "                        <td id=\"T_edd8da82_bb3d_11eb_93c5_0242ac1c0002row1_col0\" class=\"data row1 col0\" >DACTIL</td>\n",
              "                        <td id=\"T_edd8da82_bb3d_11eb_93c5_0242ac1c0002row1_col1\" class=\"data row1 col1\" >NOT DICT SIGN</td>\n",
              "                        <td id=\"T_edd8da82_bb3d_11eb_93c5_0242ac1c0002row1_col2\" class=\"data row1 col2\" >0.1341</td>\n",
              "            </tr>\n",
              "            <tr>\n",
              "                        <th id=\"T_edd8da82_bb3d_11eb_93c5_0242ac1c0002level0_row2\" class=\"row_heading level0 row2\" >2</th>\n",
              "                        <td id=\"T_edd8da82_bb3d_11eb_93c5_0242ac1c0002row2_col0\" class=\"data row2 col0\" >DICT</td>\n",
              "                        <td id=\"T_edd8da82_bb3d_11eb_93c5_0242ac1c0002row2_col1\" class=\"data row2 col1\" >COLLOCATION DICT SIGN</td>\n",
              "                        <td id=\"T_edd8da82_bb3d_11eb_93c5_0242ac1c0002row2_col2\" class=\"data row2 col2\" >0.0027</td>\n",
              "            </tr>\n",
              "            <tr>\n",
              "                        <th id=\"T_edd8da82_bb3d_11eb_93c5_0242ac1c0002level0_row3\" class=\"row_heading level0 row3\" >3</th>\n",
              "                        <td id=\"T_edd8da82_bb3d_11eb_93c5_0242ac1c0002row3_col0\" class=\"data row3 col0\" >DICT</td>\n",
              "                        <td id=\"T_edd8da82_bb3d_11eb_93c5_0242ac1c0002row3_col1\" class=\"data row3 col1\" >DICT SIGN</td>\n",
              "                        <td id=\"T_edd8da82_bb3d_11eb_93c5_0242ac1c0002row3_col2\" class=\"data row3 col2\" >0.4242</td>\n",
              "            </tr>\n",
              "            <tr>\n",
              "                        <th id=\"T_edd8da82_bb3d_11eb_93c5_0242ac1c0002level0_row4\" class=\"row_heading level0 row4\" >4</th>\n",
              "                        <td id=\"T_edd8da82_bb3d_11eb_93c5_0242ac1c0002row4_col0\" class=\"data row4 col0\" >DICT</td>\n",
              "                        <td id=\"T_edd8da82_bb3d_11eb_93c5_0242ac1c0002row4_col1\" class=\"data row4 col1\" >NER SIGN</td>\n",
              "                        <td id=\"T_edd8da82_bb3d_11eb_93c5_0242ac1c0002row4_col2\" class=\"data row4 col2\" >0.0005</td>\n",
              "            </tr>\n",
              "            <tr>\n",
              "                        <th id=\"T_edd8da82_bb3d_11eb_93c5_0242ac1c0002level0_row5\" class=\"row_heading level0 row5\" >5</th>\n",
              "                        <td id=\"T_edd8da82_bb3d_11eb_93c5_0242ac1c0002row5_col0\" class=\"data row5 col0\" >DICT</td>\n",
              "                        <td id=\"T_edd8da82_bb3d_11eb_93c5_0242ac1c0002row5_col1\" class=\"data row5 col1\" >NUMB SIGN</td>\n",
              "                        <td id=\"T_edd8da82_bb3d_11eb_93c5_0242ac1c0002row5_col2\" class=\"data row5 col2\" >0.0208</td>\n",
              "            </tr>\n",
              "            <tr>\n",
              "                        <th id=\"T_edd8da82_bb3d_11eb_93c5_0242ac1c0002level0_row6\" class=\"row_heading level0 row6\" >6</th>\n",
              "                        <td id=\"T_edd8da82_bb3d_11eb_93c5_0242ac1c0002row6_col0\" class=\"data row6 col0\" >DICT</td>\n",
              "                        <td id=\"T_edd8da82_bb3d_11eb_93c5_0242ac1c0002row6_col1\" class=\"data row6 col1\" >WORD SIGN WDS</td>\n",
              "                        <td id=\"T_edd8da82_bb3d_11eb_93c5_0242ac1c0002row6_col2\" class=\"data row6 col2\" >0.1815</td>\n",
              "            </tr>\n",
              "            <tr>\n",
              "                        <th id=\"T_edd8da82_bb3d_11eb_93c5_0242ac1c0002level0_row7\" class=\"row_heading level0 row7\" >7</th>\n",
              "                        <td id=\"T_edd8da82_bb3d_11eb_93c5_0242ac1c0002row7_col0\" class=\"data row7 col0\" >ONYM</td>\n",
              "                        <td id=\"T_edd8da82_bb3d_11eb_93c5_0242ac1c0002row7_col1\" class=\"data row7 col1\" >ONYM DICT SIGN</td>\n",
              "                        <td id=\"T_edd8da82_bb3d_11eb_93c5_0242ac1c0002row7_col2\" class=\"data row7 col2\" >0.0825</td>\n",
              "            </tr>\n",
              "            <tr>\n",
              "                        <th id=\"T_edd8da82_bb3d_11eb_93c5_0242ac1c0002level0_row8\" class=\"row_heading level0 row8\" >8</th>\n",
              "                        <td id=\"T_edd8da82_bb3d_11eb_93c5_0242ac1c0002row8_col0\" class=\"data row8 col0\" >ONYM</td>\n",
              "                        <td id=\"T_edd8da82_bb3d_11eb_93c5_0242ac1c0002row8_col1\" class=\"data row8 col1\" >ONYM SIGN WDS</td>\n",
              "                        <td id=\"T_edd8da82_bb3d_11eb_93c5_0242ac1c0002row8_col2\" class=\"data row8 col2\" >0.1464</td>\n",
              "            </tr>\n",
              "    </tbody></table>"
            ],
            "text/plain": [
              "<pandas.io.formats.style.Styler at 0x7f01ca5bc090>"
            ]
          },
          "metadata": {
            "tags": []
          },
          "execution_count": 65
        }
      ]
    },
    {
      "cell_type": "code",
      "metadata": {
        "id": "2ly0pKP8CESQ"
      },
      "source": [
        "translation_df.to_csv(path + 'text translation_df.csv')"
      ],
      "execution_count": null,
      "outputs": []
    },
    {
      "cell_type": "markdown",
      "metadata": {
        "id": "2t7kXnLqwdj3"
      },
      "source": [
        "## RuAdupt\n",
        "[RuAdupt](https://github.com/Digital-Pushkin-Lab/RuAdapt)"
      ]
    },
    {
      "cell_type": "code",
      "metadata": {
        "colab": {
          "base_uri": "https://localhost:8080/",
          "height": 149
        },
        "id": "qUX5BGNxNUJ5",
        "outputId": "04b16523-1201-4388-c97a-0c1c8811e60e"
      },
      "source": [
        "#open file\n",
        "with open(\"/content/drive/MyDrive/Diplom/Generation/s2t/summary.txt\", encoding= 'utf-8') as txt:\n",
        "  text_simple_bleu = txt.read()\n",
        "text_simple_bleu"
      ],
      "execution_count": null,
      "outputs": [
        {
          "output_type": "execute_result",
          "data": {
            "application/vnd.google.colaboratory.intrinsic+json": {
              "type": "string"
            },
            "text/plain": [
              "'Оставшись один на перекрестке, князь осмотрелся кругом, быстро перешел через улицу, близко подошел к освещенному окну одной дачи. Я решилась говорить с вами об одном деле. И объясните мне леди Эстер? Почему именно ей завещано? Какая связь? Вот что выяснить Вы купили? Хамите. На другой день, в 11 часов утра, Вронский выехал на станцию Петербургской железной дороги. Он не ошибся. Не успели еще замолкнуть раскаты и переливы председательского голоса. Они несли. Один держал его за руки. С тем, кто не испугался бы. Что-нибудь? Закажи порцию селянки Я подумаю Узнаю! - воскликнул Вася. Узнаю Колю Шипучин. Позвольте Берет от нее прошение. Боцмана засвистали. Все матросы были на палубе. У вас очень много шипящих букв. У нас язык легкий. А у вас свистят. Вершинин. О чем? Давайте помечтаем о той жизни, какая будет после нас. Балаганов, - Шура Балаганов. Но и в Западном отряде готовились основательно. Штурм был назначен на сегодня, и все говорили. Эраст Петрович начертил для Вари прутиком все турецкие укрепления и объяснил, что Осман-паша имеет 20 000 аскеров и 58 орудий. Диспозиция разработана хитрая, строго секретная. Фандорин так хорошо объяснял, что Варя сразу поверила в победу русского оружия. Казанзаки говорил про женитьбу. Уж не благоверная Больно молода для благоверной. Мерчуткина. Нечего? Не боюсь Видали мы таких Скважина Хирин. Кажется, не видал противнее Уф Даже в голову Тяжело дышит Я тебе говорю Слышишь Ежели ты, старая кикимора, не уйдешь отсюда У меня такой характер, что я могу калеку Я могу совершить! Входит Андрей. А скажите, пожалуйста, с кем живет? Дни теперь стали прибавляться. Это правда: оно даже совсем не греет, вот только и греют, что одни чулки. Убитых было много, корпус Ганецкого полег чуть не целиком. И у всех на устах было имя Белого Генерала, неуязвимого Ахиллеса - Соболева-второго. Сегодня не увидимся. Вчера, когда мы прощались, облака стали заволакивать. Я сказал, что завтра будет дурной день; она не отвечала, она не хотела говорить. Направо туз. Зурова. Направо дама. Направо валет, налево дама. Направо семерка. Князь, мамаша вас к себе просит. Князь привстал было идти, но генерал положил правую ладонь. Теперь пойдете вы с мужем меня на службу гнать; лекции про упорство и силу воли. Как «не все»? Она слышала звуки его шагов. У гостиной. Но он не повернул к ней, он только отдал приказание. Потом она слышала, как подали коляску. Но вот он опять вошел в сени. Это камердинер. Она подошла к окну и видела, как он не глядя взял перчатки. Потом, не глядя в окна, он сел в обычную позу в коляске. Вы должны будете многое извинить Ардалиону Александровичу, если у нас останетесь. Согласитесь сами, у всякого есть свои недостатки и свои... особенные черты. Если мой муж обратится к вам по поводу уплаты за квартиру. То-есть, отданное и Ардалиону Александровичу в счет бы пошло Варя? Андрей. Право. Их звали. И, сделав рукой трагический жест, бросает салфетку. Князь долго молчал. Вы сказали про свиданье с Настасьей Филипповной. Звонок. Буквально? Генерал мигнул Лизавете Прокофьевне. Нет, нет, это уж лишнее: выйдите к нему сами. Я хочу у этого... молодого человека извинения. И очень обидела, - Иван Федорович. Недоставало только, чтоб я заговорил рифмами. Граф сел на край софы Ему хотелось. Это желание сообщить мне что-то особенное. Я знал, о чем говорил Как я много выпил. Это вреднее яда Сегодня в последний раз Честное слово У меня воля Ладно В последний Сережа, друг, не послать ли телеграмму? А, ты не уехала? Я хотела сама быть у тебя. Мы тоже получили депешу. Они входили в дверь, разговаривая о погоде. В гостиной сидели уже князь Александр Дмитриевич. Пауза. Батюшки Он тут-то проклятый и выскочил! Это ты свирепо накинулась на меня. Это ты отговорил. Эраст Фандорин, - ответил волонтер. Воевал в Сербии, а теперь направляюсь. Вершинин. Нисколько Нет, генерал Я теперь и сама княгиня, слышали Афанасий Иванович, поздравьте вы-то меня; я теперь с вашею женой Полтора миллиона, да еще князь Только теперь! Опоздал Убирай свою пачку, я замуж выхожу Они встали. Увы Судьба судила. Соленый. Цып, цып Кулыгин. Ваше здоровье Я педагог. Машина Она добрая Вершинин. Я выпью темной водки Пьет. Ваше здоровье Ольге. Мне у вас хорошо Неужели это возможно, чтобы мы были как муж с женою? Ты говоришь? Но надо рассудить. Ты забываешь. Как я желать? Я не говорю про страдания. Подумай, кто? Несчастные дети. По самому рождению они будут поставлены в необходимость. Это было. Дипломат По правде говоря, новые впечатления несколько ослабили изрядный эффект. Дипломат, отправившийся добровольцем. Нет, определенно, все трое были замечательно хороши. Что же делать? Германн сошел с ума. Он сидит в Обуховской больнице в 17-м нумере Тройка, семёрка'"
            ]
          },
          "metadata": {
            "tags": []
          },
          "execution_count": 98
        }
      ]
    },
    {
      "cell_type": "code",
      "metadata": {
        "colab": {
          "base_uri": "https://localhost:8080/"
        },
        "id": "n71f_6nU4y00",
        "outputId": "73847806-d4c3-4bdd-9b07-5bfd3066b2af"
      },
      "source": [
        "nn = 250\n",
        "\n",
        "subsample = np.random.choice(df_bleu.index, nn, replace=False)\n",
        "bleu_text = df_bleu.loc[subsample].apply(lambda x: ' '.join(x),axis = 0)\n",
        "\n",
        "len([s for s in sentenize(bleu_text[0])])"
      ],
      "execution_count": null,
      "outputs": [
        {
          "output_type": "execute_result",
          "data": {
            "text/plain": [
              "1073"
            ]
          },
          "metadata": {
            "tags": []
          },
          "execution_count": 26
        }
      ]
    },
    {
      "cell_type": "code",
      "metadata": {
        "colab": {
          "base_uri": "https://localhost:8080/"
        },
        "id": "CA9WiP0xHlii",
        "outputId": "28916b9a-6c3d-4dc6-8c52-8bcca4b6b61b"
      },
      "source": [
        "bleu_text = pd.read_csv(path + 'sample.csv')['0']\n",
        "bleu_text"
      ],
      "execution_count": null,
      "outputs": [
        {
          "output_type": "execute_result",
          "data": {
            "text/plain": [
              "0    Оставшись один на перекрестке, князь осмотрелс...\n",
              "1    Аглая ушла, и князь прочитал: «Завтра в семь ч...\n",
              "2    b1 b1 b1_c1 b1_c1 b1 b1_c1 b1 b1_c1 b1_c1 a2_b...\n",
              "Name: 0, dtype: object"
            ]
          },
          "metadata": {
            "tags": []
          },
          "execution_count": 27
        }
      ]
    },
    {
      "cell_type": "code",
      "metadata": {
        "colab": {
          "base_uri": "https://localhost:8080/"
        },
        "id": "rqMVEDuS1e1s",
        "outputId": "6ce7b263-8195-48c8-a813-d7542a7be27b"
      },
      "source": [
        "translation_df_bleu_full = translate_text(text_= bleu_text[0],ner_ = ner, morph_ = morph, RSL_dict_ = RSL_dict)"
      ],
      "execution_count": null,
      "outputs": [
        {
          "output_type": "stream",
          "text": [
            "166it [11:23,  4.12s/it]\n"
          ],
          "name": "stderr"
        }
      ]
    },
    {
      "cell_type": "code",
      "metadata": {
        "colab": {
          "base_uri": "https://localhost:8080/"
        },
        "id": "FTZP_WxI4ymd",
        "outputId": "72730261-9db1-4ab4-81e1-ace8f3a5aa79"
      },
      "source": [
        "translation_df_bleu_short = translate_text(text_= bleu_text[1],ner_ = ner, morph_ = morph, RSL_dict_ = RSL_dict)"
      ],
      "execution_count": null,
      "outputs": [
        {
          "output_type": "stream",
          "text": [
            "159it [09:35,  3.62s/it]\n"
          ],
          "name": "stderr"
        }
      ]
    },
    {
      "cell_type": "code",
      "metadata": {
        "colab": {
          "base_uri": "https://localhost:8080/"
        },
        "id": "7tHVpmGGNrJg",
        "outputId": "092eec2c-69c1-4e3c-cf91-bdbb98d8837b"
      },
      "source": [
        "translation_df_bleu_simple = translate_text(text_= text_simple_bleu,ner_ = ner, morph_ = morph, RSL_dict_ = RSL_dict)"
      ],
      "execution_count": null,
      "outputs": [
        {
          "output_type": "stream",
          "text": [
            "120it [03:05,  1.55s/it]\n"
          ],
          "name": "stderr"
        }
      ]
    },
    {
      "cell_type": "code",
      "metadata": {
        "id": "UUolpa6WGgQS"
      },
      "source": [
        "# translation_df_bleu_full.to_csv(path + 'text translation_df_bleu_full.csv')\n",
        "# translation_df_bleu_short.to_csv(path + 'text translation_df_bleu_short.csv')"
      ],
      "execution_count": null,
      "outputs": []
    },
    {
      "cell_type": "code",
      "metadata": {
        "colab": {
          "base_uri": "https://localhost:8080/",
          "height": 211
        },
        "id": "VhOX_jmFz2M3",
        "outputId": "1323a5a4-2612-4629-f8ec-73904dedc3f9"
      },
      "source": [
        "pivot_tbl(tr_df = translation_df_bleu_full, ind_lst = ['FINAL WORD FOR DESCRIPION','TYPE'], val_lst = ['WORD_ID'])"
      ],
      "execution_count": null,
      "outputs": [
        {
          "output_type": "execute_result",
          "data": {
            "text/html": [
              "<style  type=\"text/css\" >\n",
              "    #T_916eb5ea_bb4d_11eb_93c5_0242ac1c0002row0_col2 {\n",
              "            width:  10em;\n",
              "             height:  80%;\n",
              "            background:  linear-gradient(90deg,lightblue 13.6%, transparent 13.6%);\n",
              "            text-align:  center;\n",
              "        }    #T_916eb5ea_bb4d_11eb_93c5_0242ac1c0002row1_col2 {\n",
              "            width:  10em;\n",
              "             height:  80%;\n",
              "            background:  linear-gradient(90deg,lightblue 46.1%, transparent 46.1%);\n",
              "            text-align:  center;\n",
              "        }    #T_916eb5ea_bb4d_11eb_93c5_0242ac1c0002row2_col2 {\n",
              "            width:  10em;\n",
              "             height:  80%;\n",
              "            background:  linear-gradient(90deg,lightblue 100.0%, transparent 100.0%);\n",
              "            text-align:  center;\n",
              "        }    #T_916eb5ea_bb4d_11eb_93c5_0242ac1c0002row3_col2 {\n",
              "            width:  10em;\n",
              "             height:  80%;\n",
              "            background:  linear-gradient(90deg,lightblue 1.4%, transparent 1.4%);\n",
              "            text-align:  center;\n",
              "        }    #T_916eb5ea_bb4d_11eb_93c5_0242ac1c0002row4_col2 {\n",
              "            width:  10em;\n",
              "             height:  80%;\n",
              "            background:  linear-gradient(90deg,lightblue 3.2%, transparent 3.2%);\n",
              "            text-align:  center;\n",
              "        }    #T_916eb5ea_bb4d_11eb_93c5_0242ac1c0002row5_col2 {\n",
              "            width:  10em;\n",
              "             height:  80%;\n",
              "            background:  linear-gradient(90deg,lightblue 20.6%, transparent 20.6%);\n",
              "            text-align:  center;\n",
              "        }    #T_916eb5ea_bb4d_11eb_93c5_0242ac1c0002row6_col2 {\n",
              "            width:  10em;\n",
              "             height:  80%;\n",
              "            background:  linear-gradient(90deg,lightblue 15.7%, transparent 15.7%);\n",
              "            text-align:  center;\n",
              "        }    #T_916eb5ea_bb4d_11eb_93c5_0242ac1c0002row7_col2 {\n",
              "            width:  10em;\n",
              "             height:  80%;\n",
              "            background:  linear-gradient(90deg,lightblue 44.7%, transparent 44.7%);\n",
              "            text-align:  center;\n",
              "        }</style><table id=\"T_916eb5ea_bb4d_11eb_93c5_0242ac1c0002\" ><thead>    <tr>        <th class=\"blank level0\" ></th>        <th class=\"col_heading level0 col0\" >FINAL WORD FOR DESCRIPION</th>        <th class=\"col_heading level0 col1\" >TYPE</th>        <th class=\"col_heading level0 col2\" >WORD_ID</th>    </tr></thead><tbody>\n",
              "                <tr>\n",
              "                        <th id=\"T_916eb5ea_bb4d_11eb_93c5_0242ac1c0002level0_row0\" class=\"row_heading level0 row0\" >0</th>\n",
              "                        <td id=\"T_916eb5ea_bb4d_11eb_93c5_0242ac1c0002row0_col0\" class=\"data row0 col0\" >DACTIL</td>\n",
              "                        <td id=\"T_916eb5ea_bb4d_11eb_93c5_0242ac1c0002row0_col1\" class=\"data row0 col1\" >NER DACTIL</td>\n",
              "                        <td id=\"T_916eb5ea_bb4d_11eb_93c5_0242ac1c0002row0_col2\" class=\"data row0 col2\" >0.0556</td>\n",
              "            </tr>\n",
              "            <tr>\n",
              "                        <th id=\"T_916eb5ea_bb4d_11eb_93c5_0242ac1c0002level0_row1\" class=\"row_heading level0 row1\" >1</th>\n",
              "                        <td id=\"T_916eb5ea_bb4d_11eb_93c5_0242ac1c0002row1_col0\" class=\"data row1 col0\" >DACTIL</td>\n",
              "                        <td id=\"T_916eb5ea_bb4d_11eb_93c5_0242ac1c0002row1_col1\" class=\"data row1 col1\" >NOT DICT SIGN</td>\n",
              "                        <td id=\"T_916eb5ea_bb4d_11eb_93c5_0242ac1c0002row1_col2\" class=\"data row1 col2\" >0.188</td>\n",
              "            </tr>\n",
              "            <tr>\n",
              "                        <th id=\"T_916eb5ea_bb4d_11eb_93c5_0242ac1c0002level0_row2\" class=\"row_heading level0 row2\" >2</th>\n",
              "                        <td id=\"T_916eb5ea_bb4d_11eb_93c5_0242ac1c0002row2_col0\" class=\"data row2 col0\" >DICT</td>\n",
              "                        <td id=\"T_916eb5ea_bb4d_11eb_93c5_0242ac1c0002row2_col1\" class=\"data row2 col1\" >DICT SIGN</td>\n",
              "                        <td id=\"T_916eb5ea_bb4d_11eb_93c5_0242ac1c0002row2_col2\" class=\"data row2 col2\" >0.4076</td>\n",
              "            </tr>\n",
              "            <tr>\n",
              "                        <th id=\"T_916eb5ea_bb4d_11eb_93c5_0242ac1c0002level0_row3\" class=\"row_heading level0 row3\" >3</th>\n",
              "                        <td id=\"T_916eb5ea_bb4d_11eb_93c5_0242ac1c0002row3_col0\" class=\"data row3 col0\" >DICT</td>\n",
              "                        <td id=\"T_916eb5ea_bb4d_11eb_93c5_0242ac1c0002row3_col1\" class=\"data row3 col1\" >NER SIGN</td>\n",
              "                        <td id=\"T_916eb5ea_bb4d_11eb_93c5_0242ac1c0002row3_col2\" class=\"data row3 col2\" >0.0058</td>\n",
              "            </tr>\n",
              "            <tr>\n",
              "                        <th id=\"T_916eb5ea_bb4d_11eb_93c5_0242ac1c0002level0_row4\" class=\"row_heading level0 row4\" >4</th>\n",
              "                        <td id=\"T_916eb5ea_bb4d_11eb_93c5_0242ac1c0002row4_col0\" class=\"data row4 col0\" >DICT</td>\n",
              "                        <td id=\"T_916eb5ea_bb4d_11eb_93c5_0242ac1c0002row4_col1\" class=\"data row4 col1\" >NUMB SIGN</td>\n",
              "                        <td id=\"T_916eb5ea_bb4d_11eb_93c5_0242ac1c0002row4_col2\" class=\"data row4 col2\" >0.0129</td>\n",
              "            </tr>\n",
              "            <tr>\n",
              "                        <th id=\"T_916eb5ea_bb4d_11eb_93c5_0242ac1c0002level0_row5\" class=\"row_heading level0 row5\" >5</th>\n",
              "                        <td id=\"T_916eb5ea_bb4d_11eb_93c5_0242ac1c0002row5_col0\" class=\"data row5 col0\" >DICT</td>\n",
              "                        <td id=\"T_916eb5ea_bb4d_11eb_93c5_0242ac1c0002row5_col1\" class=\"data row5 col1\" >WORD SIGN WDS</td>\n",
              "                        <td id=\"T_916eb5ea_bb4d_11eb_93c5_0242ac1c0002row5_col2\" class=\"data row5 col2\" >0.084</td>\n",
              "            </tr>\n",
              "            <tr>\n",
              "                        <th id=\"T_916eb5ea_bb4d_11eb_93c5_0242ac1c0002level0_row6\" class=\"row_heading level0 row6\" >6</th>\n",
              "                        <td id=\"T_916eb5ea_bb4d_11eb_93c5_0242ac1c0002row6_col0\" class=\"data row6 col0\" >ONYM</td>\n",
              "                        <td id=\"T_916eb5ea_bb4d_11eb_93c5_0242ac1c0002row6_col1\" class=\"data row6 col1\" >ONYM DICT SIGN</td>\n",
              "                        <td id=\"T_916eb5ea_bb4d_11eb_93c5_0242ac1c0002row6_col2\" class=\"data row6 col2\" >0.064</td>\n",
              "            </tr>\n",
              "            <tr>\n",
              "                        <th id=\"T_916eb5ea_bb4d_11eb_93c5_0242ac1c0002level0_row7\" class=\"row_heading level0 row7\" >7</th>\n",
              "                        <td id=\"T_916eb5ea_bb4d_11eb_93c5_0242ac1c0002row7_col0\" class=\"data row7 col0\" >ONYM</td>\n",
              "                        <td id=\"T_916eb5ea_bb4d_11eb_93c5_0242ac1c0002row7_col1\" class=\"data row7 col1\" >ONYM SIGN WDS</td>\n",
              "                        <td id=\"T_916eb5ea_bb4d_11eb_93c5_0242ac1c0002row7_col2\" class=\"data row7 col2\" >0.1822</td>\n",
              "            </tr>\n",
              "    </tbody></table>"
            ],
            "text/plain": [
              "<pandas.io.formats.style.Styler at 0x7f01ccd3c190>"
            ]
          },
          "metadata": {
            "tags": []
          },
          "execution_count": 94
        }
      ]
    },
    {
      "cell_type": "code",
      "metadata": {
        "colab": {
          "base_uri": "https://localhost:8080/",
          "height": 233
        },
        "id": "4tj6uSdAyx6y",
        "outputId": "291fab9f-1e90-4f8f-e384-706d334f5270"
      },
      "source": [
        "pivot_tbl(tr_df = translation_df_bleu_short, ind_lst = ['FINAL WORD FOR DESCRIPION','TYPE'], val_lst = ['WORD_ID'])"
      ],
      "execution_count": null,
      "outputs": [
        {
          "output_type": "execute_result",
          "data": {
            "text/html": [
              "<style  type=\"text/css\" >\n",
              "    #T_928f63f2_bb4d_11eb_93c5_0242ac1c0002row0_col2 {\n",
              "            width:  10em;\n",
              "             height:  80%;\n",
              "            background:  linear-gradient(90deg,lightblue 16.2%, transparent 16.2%);\n",
              "            text-align:  center;\n",
              "        }    #T_928f63f2_bb4d_11eb_93c5_0242ac1c0002row1_col2 {\n",
              "            width:  10em;\n",
              "             height:  80%;\n",
              "            background:  linear-gradient(90deg,lightblue 45.7%, transparent 45.7%);\n",
              "            text-align:  center;\n",
              "        }    #T_928f63f2_bb4d_11eb_93c5_0242ac1c0002row2_col2 {\n",
              "            width:  10em;\n",
              "             height:  80%;\n",
              "            background:  linear-gradient(90deg,lightblue 0.2%, transparent 0.2%);\n",
              "            text-align:  center;\n",
              "        }    #T_928f63f2_bb4d_11eb_93c5_0242ac1c0002row3_col2 {\n",
              "            width:  10em;\n",
              "             height:  80%;\n",
              "            background:  linear-gradient(90deg,lightblue 100.0%, transparent 100.0%);\n",
              "            text-align:  center;\n",
              "        }    #T_928f63f2_bb4d_11eb_93c5_0242ac1c0002row4_col2 {\n",
              "            width:  10em;\n",
              "             height:  80%;\n",
              "            background:  linear-gradient(90deg,lightblue 0.8%, transparent 0.8%);\n",
              "            text-align:  center;\n",
              "        }    #T_928f63f2_bb4d_11eb_93c5_0242ac1c0002row5_col2 {\n",
              "            width:  10em;\n",
              "             height:  80%;\n",
              "            background:  linear-gradient(90deg,lightblue 3.8%, transparent 3.8%);\n",
              "            text-align:  center;\n",
              "        }    #T_928f63f2_bb4d_11eb_93c5_0242ac1c0002row6_col2 {\n",
              "            width:  10em;\n",
              "             height:  80%;\n",
              "            background:  linear-gradient(90deg,lightblue 21.6%, transparent 21.6%);\n",
              "            text-align:  center;\n",
              "        }    #T_928f63f2_bb4d_11eb_93c5_0242ac1c0002row7_col2 {\n",
              "            width:  10em;\n",
              "             height:  80%;\n",
              "            background:  linear-gradient(90deg,lightblue 12.2%, transparent 12.2%);\n",
              "            text-align:  center;\n",
              "        }    #T_928f63f2_bb4d_11eb_93c5_0242ac1c0002row8_col2 {\n",
              "            width:  10em;\n",
              "             height:  80%;\n",
              "            background:  linear-gradient(90deg,lightblue 41.5%, transparent 41.5%);\n",
              "            text-align:  center;\n",
              "        }</style><table id=\"T_928f63f2_bb4d_11eb_93c5_0242ac1c0002\" ><thead>    <tr>        <th class=\"blank level0\" ></th>        <th class=\"col_heading level0 col0\" >FINAL WORD FOR DESCRIPION</th>        <th class=\"col_heading level0 col1\" >TYPE</th>        <th class=\"col_heading level0 col2\" >WORD_ID</th>    </tr></thead><tbody>\n",
              "                <tr>\n",
              "                        <th id=\"T_928f63f2_bb4d_11eb_93c5_0242ac1c0002level0_row0\" class=\"row_heading level0 row0\" >0</th>\n",
              "                        <td id=\"T_928f63f2_bb4d_11eb_93c5_0242ac1c0002row0_col0\" class=\"data row0 col0\" >DACTIL</td>\n",
              "                        <td id=\"T_928f63f2_bb4d_11eb_93c5_0242ac1c0002row0_col1\" class=\"data row0 col1\" >NER DACTIL</td>\n",
              "                        <td id=\"T_928f63f2_bb4d_11eb_93c5_0242ac1c0002row0_col2\" class=\"data row0 col2\" >0.0668</td>\n",
              "            </tr>\n",
              "            <tr>\n",
              "                        <th id=\"T_928f63f2_bb4d_11eb_93c5_0242ac1c0002level0_row1\" class=\"row_heading level0 row1\" >1</th>\n",
              "                        <td id=\"T_928f63f2_bb4d_11eb_93c5_0242ac1c0002row1_col0\" class=\"data row1 col0\" >DACTIL</td>\n",
              "                        <td id=\"T_928f63f2_bb4d_11eb_93c5_0242ac1c0002row1_col1\" class=\"data row1 col1\" >NOT DICT SIGN</td>\n",
              "                        <td id=\"T_928f63f2_bb4d_11eb_93c5_0242ac1c0002row1_col2\" class=\"data row1 col2\" >0.1888</td>\n",
              "            </tr>\n",
              "            <tr>\n",
              "                        <th id=\"T_928f63f2_bb4d_11eb_93c5_0242ac1c0002level0_row2\" class=\"row_heading level0 row2\" >2</th>\n",
              "                        <td id=\"T_928f63f2_bb4d_11eb_93c5_0242ac1c0002row2_col0\" class=\"data row2 col0\" >DICT</td>\n",
              "                        <td id=\"T_928f63f2_bb4d_11eb_93c5_0242ac1c0002row2_col1\" class=\"data row2 col1\" >COLLOCATION DICT SIGN</td>\n",
              "                        <td id=\"T_928f63f2_bb4d_11eb_93c5_0242ac1c0002row2_col2\" class=\"data row2 col2\" >0.0008</td>\n",
              "            </tr>\n",
              "            <tr>\n",
              "                        <th id=\"T_928f63f2_bb4d_11eb_93c5_0242ac1c0002level0_row3\" class=\"row_heading level0 row3\" >3</th>\n",
              "                        <td id=\"T_928f63f2_bb4d_11eb_93c5_0242ac1c0002row3_col0\" class=\"data row3 col0\" >DICT</td>\n",
              "                        <td id=\"T_928f63f2_bb4d_11eb_93c5_0242ac1c0002row3_col1\" class=\"data row3 col1\" >DICT SIGN</td>\n",
              "                        <td id=\"T_928f63f2_bb4d_11eb_93c5_0242ac1c0002row3_col2\" class=\"data row3 col2\" >0.4134</td>\n",
              "            </tr>\n",
              "            <tr>\n",
              "                        <th id=\"T_928f63f2_bb4d_11eb_93c5_0242ac1c0002level0_row4\" class=\"row_heading level0 row4\" >4</th>\n",
              "                        <td id=\"T_928f63f2_bb4d_11eb_93c5_0242ac1c0002row4_col0\" class=\"data row4 col0\" >DICT</td>\n",
              "                        <td id=\"T_928f63f2_bb4d_11eb_93c5_0242ac1c0002row4_col1\" class=\"data row4 col1\" >NER SIGN</td>\n",
              "                        <td id=\"T_928f63f2_bb4d_11eb_93c5_0242ac1c0002row4_col2\" class=\"data row4 col2\" >0.0031</td>\n",
              "            </tr>\n",
              "            <tr>\n",
              "                        <th id=\"T_928f63f2_bb4d_11eb_93c5_0242ac1c0002level0_row5\" class=\"row_heading level0 row5\" >5</th>\n",
              "                        <td id=\"T_928f63f2_bb4d_11eb_93c5_0242ac1c0002row5_col0\" class=\"data row5 col0\" >DICT</td>\n",
              "                        <td id=\"T_928f63f2_bb4d_11eb_93c5_0242ac1c0002row5_col1\" class=\"data row5 col1\" >NUMB SIGN</td>\n",
              "                        <td id=\"T_928f63f2_bb4d_11eb_93c5_0242ac1c0002row5_col2\" class=\"data row5 col2\" >0.0155</td>\n",
              "            </tr>\n",
              "            <tr>\n",
              "                        <th id=\"T_928f63f2_bb4d_11eb_93c5_0242ac1c0002level0_row6\" class=\"row_heading level0 row6\" >6</th>\n",
              "                        <td id=\"T_928f63f2_bb4d_11eb_93c5_0242ac1c0002row6_col0\" class=\"data row6 col0\" >DICT</td>\n",
              "                        <td id=\"T_928f63f2_bb4d_11eb_93c5_0242ac1c0002row6_col1\" class=\"data row6 col1\" >WORD SIGN WDS</td>\n",
              "                        <td id=\"T_928f63f2_bb4d_11eb_93c5_0242ac1c0002row6_col2\" class=\"data row6 col2\" >0.0894</td>\n",
              "            </tr>\n",
              "            <tr>\n",
              "                        <th id=\"T_928f63f2_bb4d_11eb_93c5_0242ac1c0002level0_row7\" class=\"row_heading level0 row7\" >7</th>\n",
              "                        <td id=\"T_928f63f2_bb4d_11eb_93c5_0242ac1c0002row7_col0\" class=\"data row7 col0\" >ONYM</td>\n",
              "                        <td id=\"T_928f63f2_bb4d_11eb_93c5_0242ac1c0002row7_col1\" class=\"data row7 col1\" >ONYM DICT SIGN</td>\n",
              "                        <td id=\"T_928f63f2_bb4d_11eb_93c5_0242ac1c0002row7_col2\" class=\"data row7 col2\" >0.0505</td>\n",
              "            </tr>\n",
              "            <tr>\n",
              "                        <th id=\"T_928f63f2_bb4d_11eb_93c5_0242ac1c0002level0_row8\" class=\"row_heading level0 row8\" >8</th>\n",
              "                        <td id=\"T_928f63f2_bb4d_11eb_93c5_0242ac1c0002row8_col0\" class=\"data row8 col0\" >ONYM</td>\n",
              "                        <td id=\"T_928f63f2_bb4d_11eb_93c5_0242ac1c0002row8_col1\" class=\"data row8 col1\" >ONYM SIGN WDS</td>\n",
              "                        <td id=\"T_928f63f2_bb4d_11eb_93c5_0242ac1c0002row8_col2\" class=\"data row8 col2\" >0.1717</td>\n",
              "            </tr>\n",
              "    </tbody></table>"
            ],
            "text/plain": [
              "<pandas.io.formats.style.Styler at 0x7f01c2c15cd0>"
            ]
          },
          "metadata": {
            "tags": []
          },
          "execution_count": 95
        }
      ]
    },
    {
      "cell_type": "code",
      "metadata": {
        "colab": {
          "base_uri": "https://localhost:8080/",
          "height": 211
        },
        "id": "OvUbGO6UN5X3",
        "outputId": "3ef08ce9-8d57-4c5c-f512-6380d363d2a7"
      },
      "source": [
        "pivot_tbl(tr_df = translation_df_bleu_simple, ind_lst = ['FINAL WORD FOR DESCRIPION','TYPE'], val_lst = ['WORD_ID'])"
      ],
      "execution_count": null,
      "outputs": [
        {
          "output_type": "execute_result",
          "data": {
            "text/html": [
              "<style  type=\"text/css\" >\n",
              "    #T_34d27eb8_bb50_11eb_93c5_0242ac1c0002row0_col2 {\n",
              "            width:  10em;\n",
              "             height:  80%;\n",
              "            background:  linear-gradient(90deg,lightblue 18.9%, transparent 18.9%);\n",
              "            text-align:  center;\n",
              "        }    #T_34d27eb8_bb50_11eb_93c5_0242ac1c0002row1_col2 {\n",
              "            width:  10em;\n",
              "             height:  80%;\n",
              "            background:  linear-gradient(90deg,lightblue 30.2%, transparent 30.2%);\n",
              "            text-align:  center;\n",
              "        }    #T_34d27eb8_bb50_11eb_93c5_0242ac1c0002row2_col2 {\n",
              "            width:  10em;\n",
              "             height:  80%;\n",
              "            background:  linear-gradient(90deg,lightblue 100.0%, transparent 100.0%);\n",
              "            text-align:  center;\n",
              "        }    #T_34d27eb8_bb50_11eb_93c5_0242ac1c0002row3_col2 {\n",
              "            width:  10em;\n",
              "             height:  80%;\n",
              "            background:  linear-gradient(90deg,lightblue 3.5%, transparent 3.5%);\n",
              "            text-align:  center;\n",
              "        }    #T_34d27eb8_bb50_11eb_93c5_0242ac1c0002row4_col2 {\n",
              "            width:  10em;\n",
              "             height:  80%;\n",
              "            background:  linear-gradient(90deg,lightblue 2.2%, transparent 2.2%);\n",
              "            text-align:  center;\n",
              "        }    #T_34d27eb8_bb50_11eb_93c5_0242ac1c0002row5_col2 {\n",
              "            width:  10em;\n",
              "             height:  80%;\n",
              "            background:  linear-gradient(90deg,lightblue 19.2%, transparent 19.2%);\n",
              "            text-align:  center;\n",
              "        }    #T_34d27eb8_bb50_11eb_93c5_0242ac1c0002row6_col2 {\n",
              "            width:  10em;\n",
              "             height:  80%;\n",
              "            background:  linear-gradient(90deg,lightblue 15.1%, transparent 15.1%);\n",
              "            text-align:  center;\n",
              "        }    #T_34d27eb8_bb50_11eb_93c5_0242ac1c0002row7_col2 {\n",
              "            width:  10em;\n",
              "             height:  80%;\n",
              "            background:  linear-gradient(90deg,lightblue 45.9%, transparent 45.9%);\n",
              "            text-align:  center;\n",
              "        }</style><table id=\"T_34d27eb8_bb50_11eb_93c5_0242ac1c0002\" ><thead>    <tr>        <th class=\"blank level0\" ></th>        <th class=\"col_heading level0 col0\" >FINAL WORD FOR DESCRIPION</th>        <th class=\"col_heading level0 col1\" >TYPE</th>        <th class=\"col_heading level0 col2\" >WORD_ID</th>    </tr></thead><tbody>\n",
              "                <tr>\n",
              "                        <th id=\"T_34d27eb8_bb50_11eb_93c5_0242ac1c0002level0_row0\" class=\"row_heading level0 row0\" >0</th>\n",
              "                        <td id=\"T_34d27eb8_bb50_11eb_93c5_0242ac1c0002row0_col0\" class=\"data row0 col0\" >DACTIL</td>\n",
              "                        <td id=\"T_34d27eb8_bb50_11eb_93c5_0242ac1c0002row0_col1\" class=\"data row0 col1\" >NER DACTIL</td>\n",
              "                        <td id=\"T_34d27eb8_bb50_11eb_93c5_0242ac1c0002row0_col2\" class=\"data row0 col2\" >0.0803</td>\n",
              "            </tr>\n",
              "            <tr>\n",
              "                        <th id=\"T_34d27eb8_bb50_11eb_93c5_0242ac1c0002level0_row1\" class=\"row_heading level0 row1\" >1</th>\n",
              "                        <td id=\"T_34d27eb8_bb50_11eb_93c5_0242ac1c0002row1_col0\" class=\"data row1 col0\" >DACTIL</td>\n",
              "                        <td id=\"T_34d27eb8_bb50_11eb_93c5_0242ac1c0002row1_col1\" class=\"data row1 col1\" >NOT DICT SIGN</td>\n",
              "                        <td id=\"T_34d27eb8_bb50_11eb_93c5_0242ac1c0002row1_col2\" class=\"data row1 col2\" >0.1285</td>\n",
              "            </tr>\n",
              "            <tr>\n",
              "                        <th id=\"T_34d27eb8_bb50_11eb_93c5_0242ac1c0002level0_row2\" class=\"row_heading level0 row2\" >2</th>\n",
              "                        <td id=\"T_34d27eb8_bb50_11eb_93c5_0242ac1c0002row2_col0\" class=\"data row2 col0\" >DICT</td>\n",
              "                        <td id=\"T_34d27eb8_bb50_11eb_93c5_0242ac1c0002row2_col1\" class=\"data row2 col1\" >DICT SIGN</td>\n",
              "                        <td id=\"T_34d27eb8_bb50_11eb_93c5_0242ac1c0002row2_col2\" class=\"data row2 col2\" >0.4257</td>\n",
              "            </tr>\n",
              "            <tr>\n",
              "                        <th id=\"T_34d27eb8_bb50_11eb_93c5_0242ac1c0002level0_row3\" class=\"row_heading level0 row3\" >3</th>\n",
              "                        <td id=\"T_34d27eb8_bb50_11eb_93c5_0242ac1c0002row3_col0\" class=\"data row3 col0\" >DICT</td>\n",
              "                        <td id=\"T_34d27eb8_bb50_11eb_93c5_0242ac1c0002row3_col1\" class=\"data row3 col1\" >NER SIGN</td>\n",
              "                        <td id=\"T_34d27eb8_bb50_11eb_93c5_0242ac1c0002row3_col2\" class=\"data row3 col2\" >0.0147</td>\n",
              "            </tr>\n",
              "            <tr>\n",
              "                        <th id=\"T_34d27eb8_bb50_11eb_93c5_0242ac1c0002level0_row4\" class=\"row_heading level0 row4\" >4</th>\n",
              "                        <td id=\"T_34d27eb8_bb50_11eb_93c5_0242ac1c0002row4_col0\" class=\"data row4 col0\" >DICT</td>\n",
              "                        <td id=\"T_34d27eb8_bb50_11eb_93c5_0242ac1c0002row4_col1\" class=\"data row4 col1\" >NUMB SIGN</td>\n",
              "                        <td id=\"T_34d27eb8_bb50_11eb_93c5_0242ac1c0002row4_col2\" class=\"data row4 col2\" >0.0094</td>\n",
              "            </tr>\n",
              "            <tr>\n",
              "                        <th id=\"T_34d27eb8_bb50_11eb_93c5_0242ac1c0002level0_row5\" class=\"row_heading level0 row5\" >5</th>\n",
              "                        <td id=\"T_34d27eb8_bb50_11eb_93c5_0242ac1c0002row5_col0\" class=\"data row5 col0\" >DICT</td>\n",
              "                        <td id=\"T_34d27eb8_bb50_11eb_93c5_0242ac1c0002row5_col1\" class=\"data row5 col1\" >WORD SIGN WDS</td>\n",
              "                        <td id=\"T_34d27eb8_bb50_11eb_93c5_0242ac1c0002row5_col2\" class=\"data row5 col2\" >0.0817</td>\n",
              "            </tr>\n",
              "            <tr>\n",
              "                        <th id=\"T_34d27eb8_bb50_11eb_93c5_0242ac1c0002level0_row6\" class=\"row_heading level0 row6\" >6</th>\n",
              "                        <td id=\"T_34d27eb8_bb50_11eb_93c5_0242ac1c0002row6_col0\" class=\"data row6 col0\" >ONYM</td>\n",
              "                        <td id=\"T_34d27eb8_bb50_11eb_93c5_0242ac1c0002row6_col1\" class=\"data row6 col1\" >ONYM DICT SIGN</td>\n",
              "                        <td id=\"T_34d27eb8_bb50_11eb_93c5_0242ac1c0002row6_col2\" class=\"data row6 col2\" >0.0643</td>\n",
              "            </tr>\n",
              "            <tr>\n",
              "                        <th id=\"T_34d27eb8_bb50_11eb_93c5_0242ac1c0002level0_row7\" class=\"row_heading level0 row7\" >7</th>\n",
              "                        <td id=\"T_34d27eb8_bb50_11eb_93c5_0242ac1c0002row7_col0\" class=\"data row7 col0\" >ONYM</td>\n",
              "                        <td id=\"T_34d27eb8_bb50_11eb_93c5_0242ac1c0002row7_col1\" class=\"data row7 col1\" >ONYM SIGN WDS</td>\n",
              "                        <td id=\"T_34d27eb8_bb50_11eb_93c5_0242ac1c0002row7_col2\" class=\"data row7 col2\" >0.1954</td>\n",
              "            </tr>\n",
              "    </tbody></table>"
            ],
            "text/plain": [
              "<pandas.io.formats.style.Styler at 0x7f01c4463c90>"
            ]
          },
          "metadata": {
            "tags": []
          },
          "execution_count": 110
        }
      ]
    },
    {
      "cell_type": "markdown",
      "metadata": {
        "id": "dk2_zXawGZXA"
      },
      "source": [
        "## RuSimpleSentEval\n",
        "[RuSimpleSentEval](https://github.com/dialogue-evaluation/RuSimpleSentEval/blob/main/dev_sents.csv)"
      ]
    },
    {
      "cell_type": "code",
      "metadata": {
        "colab": {
          "base_uri": "https://localhost:8080/",
          "height": 149
        },
        "id": "exQdctE1GfTc",
        "outputId": "4f323422-db15-47c5-cb29-f96f1944ba3c"
      },
      "source": [
        "#open file\n",
        "with open(\"/content/drive/MyDrive/Diplom/Generation/s2t/summary rsse.txt\", encoding= 'utf-8') as txt:\n",
        "  text_simple_rsse = txt.read()\n",
        "text_simple_rsse"
      ],
      "execution_count": null,
      "outputs": [
        {
          "output_type": "execute_result",
          "data": {
            "application/vnd.google.colaboratory.intrinsic+json": {
              "type": "string"
            },
            "text/plain": [
              "\"14 декабря 1944 года рабочий посёлок Ички был переименован. 1960 году была выпущена модель 172A. Изменения: хвостовое оперение. 1960 году была выпущена модель 172A. Изменения: хвостовое оперение. 1960 году была выпущена модель 172A. Изменения: хвостовое оперение. 1960 году была выпущена модель 172A. Изменения: хвостовое оперение. 26 августа 2014 года Болдок принял участие в памятном матче Кубка лиги. 26 августа 2014 года Болдок принял участие в памятном матче Кубка лиги. Armory - клиент с различными функциями для повышения безопасности. Concert for Diana (рус. Концерт для Дианы). Concert for Diana (рус. Концерт для Дианы). Concert for Diana (рус. Концерт для Дианы). PlayStation 4 не предусматривает региональной блокировки игр, так что игру можно запускать на консоли из другого региона. PlayStation 4 не предусматривает региональной блокировки игр, так что игру можно запускать на консоли из другого региона. Python популярен среди индивидуальных разработчиков. Python популярен среди индивидуальных разработчиков. Python популярен среди индивидуальных разработчиков. Python популярен среди индивидуальных разработчиков. Python популярен среди индивидуальных разработчиков. «Теорема Мори» получила своё название благодаря Ричарду Фейнману. А по размаху политических репрессий хрущёвский режим. А по размаху политических репрессий хрущёвский режим. А по размаху политических репрессий хрущёвский режим. Австралия и Новая Зеландия заключили с Японией соглашение. Австралия и Новая Зеландия заключили с Японией соглашение. Австралия и Новая Зеландия заключили с Японией соглашение. Австралия и Новая Зеландия заключили с Японией соглашение. Австралия и Новая Зеландия заключили с Японией соглашение. Автор гола в ворота сборной Англии, получившего название «Гол столетия». Агрессия обычно случается в контексте сложных социальных взаимодействий в семье. Агрессия обычно случается в контексте сложных социальных взаимодействий в семье. Агрессия обычно случается в контексте сложных социальных взаимодействий в семье. Агрессия обычно случается в контексте сложных социальных взаимодействий в семье. Административное деление в Московской Руси отсутствовало, а отдельные территории управлялись приказами. Административное деление в Московской Руси отсутствовало, а отдельные территории управлялись приказами. Административное деление в Московской Руси отсутствовало, а отдельные территории управлялись приказами. Административное деление в Московской Руси отсутствовало, а отдельные территории управлялись приказами. Административное деление в Московской Руси отсутствовало, а отдельные территории управлялись приказами. Административный центр Московской области не определён. Административный центр Московской области не определён. Административный центр Московской области не определён. Административный центр Московской области не определён. Администрация области не осуществляла контроль за расходованием заводу. Администрация области не осуществляла контроль за расходованием заводу. Администрация области не осуществляла контроль за расходованием заводу. Адмиралы, начальствующие над флотом, известили русские власти. Адмиралы, начальствующие над флотом, известили русские власти. Азербайджан не публиковало данные о военных потерях. Азербайджан не публиковало данные о военных потерях. Азербайджан не публиковало данные о военных потерях. Азербайджан не публиковало данные о военных потерях. Азербайджан не публиковало данные о военных потерях. Азитромицин входит в российские стандарты медицинской помощи. Азитромицин входит в российские стандарты медицинской помощи. Азитромицин входит в российские стандарты медицинской помощи. Азитромицин входит в российские стандарты медицинской помощи. Азитромицин входит в российские стандарты медицинской помощи. Азитромицин оказался эффективным при лечении хронической болезни легких. Азитромицин оказался эффективным при лечении хронической болезни легких. Азитромицин оказался эффективным при лечении хронической болезни легких. Азитромицин оказался эффективным при лечении хронической болезни легких. Азитромицин оказался эффективным при лечении хронической болезни легких. Александровское училище участвовало в захвате штаба. Александровское училище участвовало в захвате штаба. Александровское училище участвовало в захвате штаба. Александровское училище участвовало в захвате штаба. Александровское училище участвовало в захвате штаба. Алма-Ата - лёгкая и пищевая промышленность. Алма-Ата - лёгкая и пищевая промышленность. Алма-Ата - лёгкая и пищевая промышленность. Алма-Ата - лёгкая и пищевая промышленность. Алма-Ата - лёгкая и пищевая промышленность. Американцы стали делать вид, что готовятся к осаде. Американцы стали делать вид, что готовятся к осаде. Американцы стали делать вид, что готовятся к осаде. Американцы стали делать вид, что готовятся к осаде. Анализ подгрупп показывает, что эффекты на боль не различаются. Анализ подгрупп показывает, что эффекты на боль не различаются. Анализ подгрупп показывает, что эффекты на боль не различаются. Анализ подгрупп показывает, что эффекты на боль не различаются. Анализ подгрупп показывает, что эффекты на боль не различаются. Аналогичные товары, а также серебро, египтяне получали из Вавилона. Аналогичные товары, а также серебро, египтяне получали из Вавилона. Аналогичные товары, а также серебро, египтяне получали из Вавилона. Аналогичные товары, а также серебро, египтяне получали из Вавилона. Аналогичные товары, а также серебро, египтяне получали из Вавилона. Английский язык имеет многовековую историю становления, развития и территориального распространения. Английский язык имеет многовековую историю становления, развития и территориального распространения. Английский язык имеет многовековую историю становления, развития и территориального распространения. Аристотель приводит множество топов: многозначность слов. Аристотель приводит множество топов: многозначность слов. Армию сопровождала большая толпа небоеспособных людей. Армию сопровождала большая толпа небоеспособных людей. Армию сопровождала большая толпа небоеспособных людей. Армию сопровождала большая толпа небоеспособных людей. Армию сопровождала большая толпа небоеспособных людей. Армия снова страдала от нехватки одежды и снаряжения. Армия снова страдала от нехватки одежды и снаряжения. Армия снова страдала от нехватки одежды и снаряжения. Армянскую сторону представляло Народное правительство Карабаха. Армянскую сторону представляло Народное правительство Карабаха. Армянскую сторону представляло Народное правительство Карабаха. Археологи обнаружили в черте города артефакты. Археологи обнаружили в черте города артефакты. Археологи обнаружили в черте города артефакты. Археологи обнаружили в черте города артефакты. Археологи обнаружили в черте города артефакты. Аспирин обычно неэффективен для лечения болей, вызванных мышечными судорогами. Аспирин обычно неэффективен для лечения болей, вызванных мышечными судорогами. Аспирин обычно неэффективен для лечения болей, вызванных мышечными судорогами. Аспирин обычно неэффективен для лечения болей, вызванных мышечными судорогами. Аспирин обычно неэффективен для лечения болей, вызванных мышечными судорогами. Атлантические течения, разогретые Гольфстримом, приносят мягкие зимы. Атлантические течения, разогретые Гольфстримом, приносят мягкие зимы. Атлантический океан имеет сильно изрезанную береговую линию. Атлантический океан имеет сильно изрезанную береговую линию. Атлантический океан имеет сильно изрезанную береговую линию. Атлантический океан имеет сильно изрезанную береговую линию. Атлантический океан имеет сильно изрезанную береговую линию. Ацетилсалициловая кислота также снижает риск заболеть раком. Ацетилсалициловая кислота также снижает риск заболеть раком. Ацетилсалициловая кислота также снижает риск заболеть раком. Ацетилсалициловая кислота также снижает риск заболеть раком. Ацетилсалициловая кислота также снижает риск заболеть раком. Базовыми направлениями развития C++ на ближайшее время является расширение возможностей и доработка средств обобщённого программирования. Базовыми направлениями развития C++ на ближайшее время является расширение возможностей и доработка средств обобщённого программирования. Базовыми направлениями развития C++ на ближайшее время является расширение возможностей и доработка средств обобщённого программирования. Базовыми направлениями развития C++ на ближайшее время является расширение возможностей и доработка средств обобщённого программирования. Базовыми направлениями развития C++ на ближайшее время является расширение возможностей и доработка средств обобщённого программирования. Бактерии передаются человеку при укусе инфицированными иксодовыми клещами. Банди угнал машину и поехал на восток. Банди угнал машину и поехал на восток. Банди угнал машину и поехал на восток. Банди угнал машину и поехал на восток. Банди угнал машину и поехал на восток. Беременные женщины могут испытывать меньший риск преэклампсии. Беременные женщины могут испытывать меньший риск преэклампсии. Беременные женщины могут испытывать меньший риск преэклампсии. Беременные женщины могут испытывать меньший риск преэклампсии. Беременные женщины могут испытывать меньший риск преэклампсии. Берёт начало из озера Накнек и несёт свои воды в западном направлении. Бетховен - один из наиболее исполняемых композиторов в мире. Благодаря возможности хранения денежных средств на счетах в банках. Благодаря инновационным технологиям, Apple создала уникальную репутацию. Благодаря инновационным технологиям, Apple создала уникальную репутацию. Благодаря инновационным технологиям, Apple создала уникальную репутацию. Благодаря инновационным технологиям, Apple создала уникальную репутацию. Благодаря инновационным технологиям, Apple создала уникальную репутацию. Благодаря наличию высотной поясности разнообразие. Благодаря наличию высотной поясности разнообразие. Больших жертв удалось избежать благодаря случайности. Бой яростный и ужасный не продолжался более получаса. Бой яростный и ужасный не продолжался более получаса. Бой яростный и ужасный не продолжался более получаса. Бой яростный и ужасный не продолжался более получаса. Бой яростный и ужасный не продолжался более получаса. Более того, неизвестны и теоретические механизмы их образования помимо реликтового - сразу после Большого взрыва. Более того, неизвестны и теоретические механизмы их образования помимо реликтового - сразу после Большого взрыва. Более того, неизвестны и теоретические механизмы их образования помимо реликтового - сразу после Большого взрыва. Болельщики очень часто являются членами команды, а зрителей почти никогда нет. Болельщики очень часто являются членами команды, а зрителей почти никогда нет. Болельщики очень часто являются членами команды, а зрителей почти никогда нет. Болельщики смогли посмотреть матчи на большом экране. Болельщики смогли посмотреть матчи на большом экране. Большинство крупных объектов движутся практически в одной плоскости. Большинство крупных объектов движутся практически в одной плоскости. Большинство крупных объектов движутся практически в одной плоскости. Большинство крупных объектов движутся практически в одной плоскости. Большинство крупных объектов движутся практически в одной плоскости. Большое количество осадков также понижает солёность. Большую роль в пищевом рационе у азербайджанцев играет чай. Большую роль в пищевом рационе у азербайджанцев играет чай. Бонд сбегает, попутно освободив пленённого Уайта. Бонд сбегает, попутно освободив пленённого Уайта. Бонд сбегает, попутно освободив пленённого Уайта. Бонд сбегает, попутно освободив пленённого Уайта. Бонд сбегает, попутно освободив пленённого Уайта. Брики занимались предпринимательством, унаследовав от родителей. Брики занимались предпринимательством, унаследовав от родителей. Брики занимались предпринимательством, унаследовав от родителей. Броуновское движение, также называемое Винеровским процессом, получается интегрированием сигнала белого шума: Броуновское движение, также называемое Винеровским процессом, получается интегрированием сигнала белого шума. Бёрд был явным аутсайдером в бою с Виталием. Бёрд был явным аутсайдером в бою с Виталием. Бёрд был явным аутсайдером в бою с Виталием. Бёрд был явным аутсайдером в бою с Виталием. В 1914 году крупнейшие шахматные федерации предприняли первую попытку упорядочить розыгрыш звания чемпиона мира. В 1914 году крупнейшие шахматные федерации предприняли первую попытку упорядочить розыгрыш звания чемпиона мира. В 1914 году крупнейшие шахматные федерации предприняли первую попытку упорядочить розыгрыш звания чемпиона мира. В 1914 году крупнейшие шахматные федерации предприняли первую попытку упорядочить розыгрыш звания чемпиона мира. В 1986 году был установлен контроль над малой родиной Савимби. В 1986 году был установлен контроль над малой родиной Савимби. В 1996 году Шотландия была разделена на 32 округа (муниципалитета) (англ. Council area). В 1996 году Шотландия была разделена на 32 округа (муниципалитета) (англ. Council area). В 1996 году Шотландия была разделена на 32 округа (муниципалитета) (англ. Council area). В XIX веке физика столкнулась с проблемой сложения скоростей. В XIX веке физика столкнулась с проблемой сложения скоростей. В XIX веке физика столкнулась с проблемой сложения скоростей. В XIX веке физика столкнулась с проблемой сложения скоростей. В Англии, после опытов над преступниками и детьми из церковных приютов, оспа была привита семье британского короля Георга I. В Британии спор привел к написанию Великой хартии вольностей. В Британии спор привел к написанию Великой хартии вольностей. В Британии спор привел к написанию Великой хартии вольностей. В Британии спор привел к написанию Великой хартии вольностей. В Древней Руси для определения начала дня существовало два принципа. В Древней Руси для определения начала дня существовало два принципа. В Древней Руси для определения начала дня существовало два принципа. В Древней Руси для определения начала дня существовало два принципа. В Древней Руси для определения начала дня существовало два принципа. Гарри сталкивается с неизвестным существом. Гарри сталкивается с неизвестным существом. Гарри сталкивается с неизвестным существом. Гарри сталкивается с неизвестным существом. Гарри сталкивается с неизвестным существом. В Кавказском регионе водятся леопард, гиена, енот-полоскун. В Кавказском регионе водятся леопард, гиена, енот-полоскун. В Кавказском регионе водятся леопард, гиена, енот-полоскун. В Кавказском регионе водятся леопард, гиена, енот-полоскун. В Кавказском регионе водятся леопард, гиена, енот-полоскун. В Китае передача идёт в основном в кругу семьи. В Китае передача идёт в основном в кругу семьи. Вавилон упоминается лишь однажды, когда речь идёт об ангелах. Вавилон упоминается лишь однажды, когда речь идёт об ангелах. В Москве спектакль был показан труппой Ворошиловградского театра. В Москве проходит ряд антивоенных митингов с призывами свернуть операцию. В Москве проходит ряд антивоенных митингов с призывами свернуть операцию. В Москве проходит ряд антивоенных митингов с призывами свернуть операцию. В Новой Кастилии климат немного мягче. В Опричнину попали северо-восточные русские земли. В Опричнину попали северо-восточные русские земли. В Опричнину попали северо-восточные русские земли. В Опричнину попали северо-восточные русские земли. В Опричнину попали северо-восточные русские земли. Премьер-министр отвечает за текущую внутреннюю и экономическую политику. Премьер-министр отвечает за текущую внутреннюю и экономическую политику. Премьер-министр отвечает за текущую внутреннюю и экономическую политику. В августе 1944 года Котловина была вновь занята Красной Армией. В августе 1944 года Котловина была вновь занята Красной Армией. В августе выходит из войны Румыния. В августе выходит из войны Румыния. В августе выходит из войны Румыния. В августе выходит из войны Румыния. В августе выходит из войны Румыния. В апреле 1863 года Томаш Гриневич организовал и возглавил повстанческий отряд. В апреле 1863 года Томаш Гриневич организовал и возглавил повстанческий отряд. В большинстве районов изгнание азербайджанцев происходило по инициативе. В большинстве районов изгнание азербайджанцев происходило по инициативе. В большинстве районов изгнание азербайджанцев происходило по инициативе. В вечерне-ночное время могут возникать ощущения нехватки воздуха. В вечерне-ночное время могут возникать ощущения нехватки воздуха. В вечерне-ночное время могут возникать ощущения нехватки воздуха. В вечерне-ночное время могут возникать ощущения нехватки воздуха. В вечерне-ночное время могут возникать ощущения нехватки воздуха. В годы первых пятилеток город превратился в индустриальный центр. В годы первых пятилеток город превратился в индустриальный центр. В городе действует разветвлённая сеть маршрутов частных и муниципальных автобусов. В городе действует разветвлённая сеть маршрутов частных и муниципальных автобусов. В дальнейшем протестанты переселились на свободные земли. В дальнейшем протестанты переселились на свободные земли. Мелания участвовала в модных показах детской одежды. Мелания участвовала в модных показах детской одежды. Мелания участвовала в модных показах детской одежды. Мелания участвовала в модных показах детской одежды. В католицизме и православии Иисуса часто встречаются. В католицизме и православии Иисуса часто встречаются. В католицизме и православии Иисуса часто встречаются. В католицизме и православии Иисуса часто встречаются. В католицизме и православии Иисуса часто встречаются. В качестве образца стала использоваться британская денежная система. В качестве образца стала использоваться британская денежная система. В качестве образца стала использоваться британская денежная система. В качестве образца стала использоваться британская денежная система. В компетенцию парламента входят разработка, принятие и контроль за исполнением законов. В конце девяностых один рекламный агент пригласил Стейтема принять участие. В конце девяностых один рекламный агент пригласил Стейтема принять участие. В конце девяностых один рекламный агент пригласил Стейтема принять участие. В кормах премиум-класса основным источником белка являются мясные продукты. В кормах премиум-класса основным источником белка являются мясные продукты. В кормах премиум-класса основным источником белка являются мясные продукты. В кормах премиум-класса основным источником белка являются мясные продукты. В кормах премиум-класса основным источником белка являются мясные продукты. В лесах Дальнего Востока встречаются гималайский медведь. В лесах Дальнего Востока встречаются гималайский медведь. В лесах Дальнего Востока встречаются гималайский медведь. В лесах Дальнего Востока встречаются гималайский медведь. В лесах Дальнего Востока встречаются гималайский медведь. Роналду вышел на замену во втором тайме. В меньшем количестве имелись также самозарядные пистолеты. В меньшем количестве имелись также самозарядные пистолеты. В меньшем количестве имелись также самозарядные пистолеты. В меньшем количестве имелись также самозарядные пистолеты. В местном кметстве Ветрен должность кмета (старосты) исполняет Атанас Василев Танев. В насаждениях города встречаются редкие виды. В насаждениях города встречаются редкие виды. В насаждениях города встречаются редкие виды. В насаждениях города встречаются редкие виды. В насаждениях города встречаются редкие виды. Австралия ведёт активную работу по установлению режима свободной торговли. Австралия ведёт активную работу по установлению режима свободной торговли. Австралия ведёт активную работу по установлению режима свободной торговли. Австралия ведёт активную работу по установлению режима свободной торговли. Австралия ведёт активную работу по установлению режима свободной торговли. Тобольск является важнейшим центром познавательного туризма в Сибири. В настоящее время архитектура города имеет две мощные доминанты. В настоящее время архитектура города имеет две мощные доминанты. В настоящее время архитектура города имеет две мощные доминанты. В настоящее время архитектура города имеет две мощные доминанты. В настоящее время архитектура города имеет две мощные доминанты. В Екатеринбурге сохранилось одно из самых больших памятников. В настоящее время не существует лекарств. В настоящее время не существует лекарств. В настоящее время не существует лекарств. В настоящее время не существует лекарств. В настоящее время не существует лекарств. Рекламная деятельность трансформировалась в особый социальный институт. Рекламная деятельность трансформировалась в особый социальный институт. муссон может дуть из Японского и Охотского морей. муссон может дуть из Японского и Охотского морей. муссон может дуть из Японского и Охотского морей. В обращении находились банковские и казначейские билеты. В обращении находились банковские и казначейские билеты. В обращении находились банковские и казначейские билеты. В обращении находились банковские и казначейские билеты. В обращении находились банковские и казначейские билеты. В обширных поместьях знати применялся труд рабов. В обширных поместьях знати применялся труд рабов. В обширных поместьях знати применялся труд рабов. В обширных поместьях знати применялся труд рабов. В Рисорджименто именно либералы образовали партию правых. В Рисорджименто именно либералы образовали партию правых. В Рисорджименто именно либералы образовали партию правых. В Рисорджименто именно либералы образовали партию правых. В Рисорджименто именно либералы образовали партию правых. Гоголь решает уйти в монастырь и стать монахом. Гоголь решает уйти в монастырь и стать монахом. Гоголь решает уйти в монастырь и стать монахом. В октябре агентство Рейтер утверждало, что Путин вынужден носить бандаж. В октябре агентство Рейтер утверждало, что Путин вынужден носить бандаж. В октябре агентство Рейтер утверждало, что Путин вынужден носить бандаж. В октябре агентство Рейтер утверждало, что Путин вынужден носить бандаж. В октябре агентство Рейтер утверждало, что Путин вынужден носить бандаж. В определённой точке земной поверхности затмения происходят редко. В определённой точке земной поверхности затмения происходят редко. В определённой точке земной поверхности затмения происходят редко. В определённой точке земной поверхности затмения происходят редко. В определённой точке земной поверхности затмения происходят редко. В основе заболевания лежит ускорение инактивации инсулина. В основе заболевания лежит ускорение инактивации инсулина. В основе заболевания лежит ускорение инактивации инсулина. Лукашенко заявил, что зарубежные посредники не нужны. южане прибегли к рейдерской войне против северян. южане прибегли к рейдерской войне против северян. южане прибегли к рейдерской войне против северян. южане прибегли к рейдерской войне против северян. южане прибегли к рейдерской войне против северян. Пушкин указал работу именно над историческим романом. Пушкин указал работу именно над историческим романом. В отличие от суицидов, совершающихся на линиях метрополитена, жертва самоубийства часто просто ложится. В отличие от суицидов, совершающихся на линиях метрополитена, жертва самоубийства часто просто ложится. В отличие от суицидов, совершающихся на линиях метрополитена, жертва самоубийства часто просто ложится. В отличие от суицидов, совершающихся на линиях метрополитена, жертва самоубийства часто просто ложится. В отсутствие лечения депрессия может привести к попытке самоубийства. В отсутствие лечения депрессия может привести к попытке самоубийства. В отсутствие лечения депрессия может привести к попытке самоубийства. В отсутствие лечения депрессия может привести к попытке самоубийства. В отсутствие лечения депрессия может привести к попытке самоубийства. В первый же день операции оба советских фронта были прорваны. В первый, внутренний, входят страны с издавна преобладающим числом носителей английского как родного; во второй - страны Британского содружества. В первый, внутренний, входят страны с издавна преобладающим числом носителей английского как родного; во второй - страны Британского содружества. В период Нового царства египтяне играли на колоколах. В период Нового царства египтяне играли на колоколах. В период гражданской войны правительство Линкольна придерживалось нейтралитета. В период правления Хрущёва произошел поворот экономики. В период правления Хрущёва произошел поворот экономики. В плацебо наблюдалось статистически значимое повышение количества суицидов. В плацебо наблюдалось статистически значимое повышение количества суицидов. В плацебо наблюдалось статистически значимое повышение количества суицидов. В позднее Средневековье главную силу армии стали представлять наёмные войска. В позднее Средневековье главную силу армии стали представлять наёмные войска. В позднее Средневековье главную силу армии стали представлять наёмные войска. В позднее Средневековье главную силу армии стали представлять наёмные войска. В позднее Средневековье главную силу армии стали представлять наёмные войска. В попытке преодолеть кризис артиллерии, обе стороны начали экспериментировать. В попытке преодолеть кризис артиллерии, обе стороны начали экспериментировать. В последнем матче Роналду оформил дубль. В последнем матче Роналду оформил дубль. В последнем матче Роналду оформил дубль. В последнем матче Роналду оформил дубль. В последнем матче Роналду оформил дубль. В православном и католическом богослужении женщины участвуют. В православном и католическом богослужении женщины участвуют. В православном и католическом богослужении женщины участвуют. В православном и католическом богослужении женщины участвуют. В православном и католическом богослужении женщины участвуют. В пределах тихоокеанской впадины развились четыре тектонические плиты. В пределах тихоокеанской впадины развились четыре тектонические плиты. В пределах тихоокеанской впадины развились четыре тектонические плиты. В примере выше могут произойти ошибки при преобразовании аргументов. В примере выше могут произойти ошибки при преобразовании аргументов. В примере выше могут произойти ошибки при преобразовании аргументов. В примере выше могут произойти ошибки при преобразовании аргументов. В примере выше могут произойти ошибки при преобразовании аргументов. Каспаров входил в авторскую группу и согласовывал текст. Каспаров входил в авторскую группу и согласовывал текст. Каспаров входил в авторскую группу и согласовывал текст. В разрабатываемой игре будет учитываться урон по определённым имплантатам персонажа. В разрабатываемой игре будет учитываться урон по определённым имплантатам персонажа. В рационе древних египтян присутствовали бобы и нут. В рационе древних египтян присутствовали бобы и нут. В рационе древних египтян присутствовали бобы и нут. В рационе древних египтян присутствовали бобы и нут. В рационе древних египтян присутствовали бобы и нут. В результате Чечня стала фактически независимым. В результате Чечня стала фактически независимым. В результате Чечня стала фактически независимым. В результате Чечня стала фактически независимым. В результате Чечня стала фактически независимым. В результате восстановили интерьеры десяти церквей. В результате восстановили интерьеры десяти церквей. В результате восстановили интерьеры десяти церквей. В результате депрессии было избрано первое лейбористское правительство. В результате депрессии было избрано первое лейбористское правительство. В результате депрессии было избрано первое лейбористское правительство. В результате разнообразие оказалось настолько огромным. В результате разнообразие оказалось настолько огромным. В результате разнообразие оказалось настолько огромным. В результате разнообразие оказалось настолько огромным. В результате разнообразие оказалось настолько огромным. В результате успешных действий русской разведки. В результате успешных действий русской разведки. В результате успешных действий русской разведки. В результате успешных действий русской разведки. В результате успешных действий русской разведки. В роду большинства больных не отмечается предрасположенности. В роду большинства больных не отмечается предрасположенности. В роду большинства больных не отмечается предрасположенности. В роду большинства больных не отмечается предрасположенности. В роду большинства больных не отмечается предрасположенности. В ряде исследований мелатонин обладает противоопухолевым действием. В ряде исследований мелатонин обладает противоопухолевым действием. В своих воспоминаниях Жюль Верн описывал детский восторг от набережной Луары. Трамп получил более выгодные условия для выплат по займам, взятым у кредиторов, на более чем 550 млн долларов. В своём выступлении 4 июня он заявил, что Советы могли получить всю власть в стране мирным путём. Президент Египта призвал сбросить Израиль в море. Президент Египта призвал сбросить Израиль в море. Президент Египта призвал сбросить Израиль в море. Президент Египта призвал сбросить Израиль в море. Президент Египта призвал сбросить Израиль в море. Немцов отмечает непрозрачность процедур при строительстве олимпийских объектов. Немцов отмечает непрозрачность процедур при строительстве олимпийских объектов. Немцов отмечает непрозрачность процедур при строительстве олимпийских объектов. В связи с отсутствием в регионе расчёта нерегистрируемой части туристического потока. В связи с отсутствием в регионе расчёта нерегистрируемой части туристического потока. В связи с отсутствием в регионе расчёта нерегистрируемой части туристического потока. В связи с необходимостью врачи приняли решение направить Тимофеевича. В связи с необходимостью врачи приняли решение направить Тимофеевича. В связи с необходимостью врачи приняли решение направить Тимофеевича. В связи с увеличением транспортного потока корректируются дороги. В связи с увеличением транспортного потока корректируются дороги. В северных областях на замену дирхемам пришли денарии. В северных областях на замену дирхемам пришли денарии. В северных областях на замену дирхемам пришли денарии. В северных областях на замену дирхемам пришли денарии. В северных областях на замену дирхемам пришли денарии. В сельской местности бандитизм распространился настолько. В сельской местности бандитизм распространился настолько. В сельской местности бандитизм распространился настолько. В первые месяцы радиоактивные вещества осаждались на листьях растений. В первые месяцы радиоактивные вещества осаждались на листьях растений. В первые месяцы радиоактивные вещества осаждались на листьях растений. В первые месяцы радиоактивные вещества осаждались на листьях растений. В первые месяцы радиоактивные вещества осаждались на листьях растений. император Николай I после тяжёлой травмы находился без медицинской помощи. император Николай I после тяжёлой травмы находился без медицинской помощи. К аварийному паропроводу также могли подключаться насосы. К аварийному паропроводу также могли подключаться насосы. К аварийному паропроводу также могли подключаться насосы. К аварийному паропроводу также могли подключаться насосы. К аварийному паропроводу также могли подключаться насосы. Последствия оказались бы сравнимы с поражением под Сталинградом. Последствия оказались бы сравнимы с поражением под Сталинградом. Последствия оказались бы сравнимы с поражением под Сталинградом. Последствия оказались бы сравнимы с поражением под Сталинградом. Последствия оказались бы сравнимы с поражением под Сталинградом. река Кама считается притоком реки Волга. река Кама считается притоком реки Волга. река Кама считается притоком реки Волга. река Кама считается притоком реки Волга. река Кама считается притоком реки Волга. В современную эпоху такой специалист обычно должен иметь профильное высшее образование; это может быть высшее переводческое образование или более широкое филологическое образование. В средних классах школы активно начал упражняться в пародии. В средних классах школы активно начал упражняться в пародии. В средних классах школы активно начал упражняться в пародии. В средних классах школы активно начал упражняться в пародии. В средних классах школы активно начал упражняться в пародии. В стране высокий уровень новшеств, высокоразвитая и постоянно модернизируемая инфраструктура. В стране высокий уровень новшеств, высокоразвитая и постоянно модернизируемая инфраструктура. В стране развернулось профсоюзное движение. В стране развернулось профсоюзное движение. В таком случае игрок обязан восстановить запись сразу после падения флажка. В текстах музыкальных произведений поднимались наболевшие проблемы. В текстах музыкальных произведений поднимались наболевшие проблемы. В текстах музыкальных произведений поднимались наболевшие проблемы. В текстах музыкальных произведений поднимались наболевшие проблемы. В текстах музыкальных произведений поднимались наболевшие проблемы. В течение геологических периодов поверхность планеты. В течение геологических периодов поверхность планеты. В течение геологических периодов поверхность планеты. В течение геологических периодов поверхность планеты. В течение геологических периодов поверхность планеты. Большинство территорий Империи стали суверенными членами Содружества наций. Кошки обладают зрительной памятью, сравнимой со обезьян. Кошки обладают зрительной памятью, сравнимой со обезьян. Кошки обладают зрительной памятью, сравнимой со обезьян. Кошки обладают зрительной памятью, сравнимой со обезьян. Кошки обладают зрительной памятью, сравнимой со обезьян. В то время, как большевиков будут обвинять в свержении правительства. В том же году была основана Петербургская академия наук. В том же году была основана Петербургская академия наук. В том же году была основана Петербургская академия наук. В том же году была основана Петербургская академия наук. В том же году компания открыла офис в Казани. В том же году компания открыла офис в Казани. В том же году компания открыла офис в Казани. В тропической и субтропической зонах южного полушария господствует пассат. В тропической и субтропической зонах южного полушария господствует пассат. В условиях соперничества в экстремистской революционной деятельности с партией эсеров Ленин выработал свою позицию в отношении террора. Вермахт провёл последнюю наступательную операцию на Восточном фронте. Вермахт провёл последнюю наступательную операцию на Восточном фронте. Вермахт провёл последнюю наступательную операцию на Восточном фронте. Вермахт провёл последнюю наступательную операцию на Восточном фронте. В ходе исследования анализировалось количество людей, стремящихся сделать предложение. В ходе исследования анализировалось количество людей, стремящихся сделать предложение. В ходе исследования анализировалось количество людей, стремящихся сделать предложение. Большинство пригородных сёл вошло в состав города. Большинство пригородных сёл вошло в состав города. Большинство пригородных сёл вошло в состав города. В ходе турнира россиянин вызывал врача на корт. В ходе турнира россиянин вызывал врача на корт. В ходе турнира россиянин вызывал врача на корт. В ходе турнира россиянин вызывал врача на корт. В холодное время года может образовываться иней. В холодное время года может образовываться иней. В холодное время года может образовываться иней. В холодное время года может образовываться иней. В холодное время года может образовываться иней. В христианстве принято считать, что мечом херувимом. В христианстве принято считать, что мечом херувимом. В христианстве принято считать, что мечом херувимом. Условие Роулинг о назначении основных ролей британцам было полностью выполнено. Условие Роулинг о назначении основных ролей британцам было полностью выполнено. Условие Роулинг о назначении основных ролей британцам было полностью выполнено. Условие Роулинг о назначении основных ролей британцам было полностью выполнено. Условие Роулинг о назначении основных ролей британцам было полностью выполнено. В целом фильм воспроизводит героический миф. В целом фильм воспроизводит героический миф. В целом фильм воспроизводит героический миф. В целом фильм воспроизводит героический миф. В целом фильм воспроизводит героический миф. В целом, преобладающая в данную эпоху пантеистическая мистика. В целом, преобладающая в данную эпоху пантеистическая мистика. В целом, преобладающая в данную эпоху пантеистическая мистика. В целом, преобладающая в данную эпоху пантеистическая мистика. В целом, преобладающая в данную эпоху пантеистическая мистика. В центральной части климат умеренный континентальный. В центральной части климат умеренный континентальный. В центральной части климат умеренный континентальный. Джимми Картер добился освобождения американского гражданина. Джимми Картер добился освобождения американского гражданина. Джимми Картер добился освобождения американского гражданина. Джимми Картер добился освобождения американского гражданина. Джимми Картер добился освобождения американского гражданина. Главным недостатком либерализма является неравномерное распределение. Главным недостатком либерализма является неравномерное распределение. Главным недостатком либерализма является неравномерное распределение. Главным недостатком либерализма является неравномерное распределение. В шести матчах плей-офф, где играл Ибрагимович. В шести матчах плей-офф, где играл Ибрагимович. В шести матчах плей-офф, где играл Ибрагимович. В шести матчах плей-офф, где играл Ибрагимович. В шести матчах плей-офф, где играл Ибрагимович. В эпоху Средних веков в Армении начали развиваться искусство миниатюры. В эпоху Средних веков в Армении начали развиваться искусство миниатюры. В эпоху Средних веков в Армении начали развиваться искусство миниатюры. В эпоху Средних веков в Армении начали развиваться искусство миниатюры. В эпоху Средних веков в Армении начали развиваться искусство миниатюры. Вавилон захватили ассирийцы, временно оккупировавшие страну. Вавилон захватили ассирийцы, временно оккупировавшие страну. Вавилон захватили ассирийцы, временно оккупировавшие страну. Вавилон захватили ассирийцы, временно оккупировавшие страну. Важная отрасль экономики Калифорнии - сельское хозяйство. Важная отрасль экономики Калифорнии - сельское хозяйство. Важная отрасль экономики Калифорнии - сельское хозяйство. Валютные биржи - в ряде стран функционируют национальные валютные биржи. Вариант интерпретатора с синхронизацией доступа к отдельным объектам. Вариант интерпретатора с синхронизацией доступа к отдельным объектам. Вариант интерпретатора с синхронизацией доступа к отдельным объектам. Вариант интерпретатора с синхронизацией доступа к отдельным объектам. Ведущие мировые производители автомобилей и автомобильных аксессуаров. Ведущие мировые производители автомобилей и автомобильных аксессуаров. Ведущие мировые производители автомобилей и автомобильных аксессуаров. Ведущие мировые производители автомобилей и автомобильных аксессуаров. Ведущие мировые производители автомобилей и автомобильных аксессуаров. Велиев также заверил, ни одна церковь не будет уничтожена. Великобритания неоднократно прибегала к военному давлению. Великобритания неоднократно прибегала к военному давлению. Великобритания неоднократно прибегала к военному давлению. Верховный суд Великобритании служит последней апелляционной инстанцией. Верховный суд Великобритании служит последней апелляционной инстанцией. Верховный суд Великобритании служит последней апелляционной инстанцией. Верховный суд Великобритании служит последней апелляционной инстанцией. Верховный суд Великобритании служит последней апелляционной инстанцией. Верховный суд Российской Федерации. Верховный суд Российской Федерации. Верховный суд Российской Федерации. Верховный суд Российской Федерации. Вечером в Доме Советов полностью закончился запас солярки. Вечером в Доме Советов полностью закончился запас солярки. Вечером в Доме Советов полностью закончился запас солярки. Вечером же в сёла прибыли российские миротворцы. Вечером же в сёла прибыли российские миротворцы. Вечером же в сёла прибыли российские миротворцы. Вечером же в сёла прибыли российские миротворцы. Вечером же в сёла прибыли российские миротворцы. Взрыв не состоялся по нелепой причине. Взрыв не состоялся по нелепой причине. Взрыв не состоялся по нелепой причине. Взрыв не состоялся по нелепой причине. Взрыв не состоялся по нелепой причине. Виктория Францес - итальянская художница. Включается режим автоматически (при запуске программ для трансляций). Включается режим автоматически (при запуске программ для трансляций). Владивосток не был местом боевых действий в годы Великой Отечественной войны. Владивосток не был местом боевых действий в годы Великой Отечественной войны. Власти приступили к увольнениям бастующих и отчислению студентов. Власти приступили к увольнениям бастующих и отчислению студентов. Власти приступили к увольнениям бастующих и отчислению студентов. Власть Госдумы опирается на традиционные земства. Власть Госдумы опирается на традиционные земства. Власть Госдумы опирается на традиционные земства. Власть Госдумы опирается на традиционные земства. Власть Госдумы опирается на традиционные земства. Вместо стиков устройство имеет два трекпада. Вместо стиков устройство имеет два трекпада. Вместо стиков устройство имеет два трекпада. Вместо стиков устройство имеет два трекпада. Вместо стиков устройство имеет два трекпада. Внезапно на проекте начинают происходить загадочные события. Внезапно на проекте начинают происходить загадочные события. Внизу щита находятся еще пять элементов. Внизу щита находятся еще пять элементов. Внизу щита находятся еще пять элементов. Внизу щита находятся еще пять элементов. Внизу щита находятся еще пять элементов. Внутренние конфликты позволили европейским торговцам приобрести земли. Внутренние конфликты позволили европейским торговцам приобрести земли. Внутренние конфликты позволили европейским торговцам приобрести земли. Внутренние конфликты позволили европейским торговцам приобрести земли. Внутренние конфликты позволили европейским торговцам приобрести земли. Во Владивостоке действует фуникулёр. Во Владивостоке действует фуникулёр. Во Владивостоке действует фуникулёр. Во внутренних перевозках грузов и пассажиров главную роль играет. Во внутренних перевозках грузов и пассажиров главную роль играет. Во внутренних перевозках грузов и пассажиров главную роль играет. Во внутренних перевозках грузов и пассажиров главную роль играет. Во внутренних перевозках грузов и пассажиров главную роль играет. Во время Второй мировой войны шведы оказывали поддержку евреям. Во время Второй мировой войны шведы оказывали поддержку евреям. Во время Второй мировой войны шведы оказывали поддержку евреям. Во время Гражданской войны памятник спас директор. Во время Гражданской войны памятник спас директор. Во время Первой мировой войны «Немзети» будет выступать в разных лигах. Во время Семилетней войны возникло постоянно действовавшее совещание. Во время Семилетней войны возникло постоянно действовавшее совещание. Во время Семилетней войны возникло постоянно действовавшее совещание. Во время Семилетней войны возникло постоянно действовавшее совещание. Во время Семилетней войны возникло постоянно действовавшее совещание. Гитлер одержал убедительную победу над сторонником Баварии. Гитлер одержал убедительную победу над сторонником Баварии. Пётр I пугал утончённых аристократов грубоватой манерой. Пётр I пугал утончённых аристократов грубоватой манерой. Пётр I пугал утончённых аристократов грубоватой манерой. Залогом могли выступать разные ценности. Залогом могли выступать разные ценности. Залогом могли выступать разные ценности. Залогом могли выступать разные ценности. Залогом могли выступать разные ценности. Во время первой половины боя он пропустил несколько ударов. Во время первой половины боя он пропустил несколько ударов. Овечкин играл с переломом кости стопы. Овечкин играл с переломом кости стопы. Во время президентства Медведева Россия одержала победу в Южной Осетии. Во время президентства Медведева Россия одержала победу в Южной Осетии. Во время президентства Медведева Россия одержала победу в Южной Осетии. Во время президентства Медведева Россия одержала победу в Южной Осетии. Во время президентства Медведева Россия одержала победу в Южной Осетии. Во многих странах демократия также стала включать состязательность. Во многом благодаря Чехову возник архетип интеллигента-врача. Во-вторых, у многих увеличился земельный надел. Во-вторых, у многих увеличился земельный надел. Во-вторых, у многих увеличился земельный надел. Военно-транспортная авиация - один из видов авиации. Военно-транспортная авиация - один из видов авиации. Военно-транспортная авиация - один из видов авиации. Военно-транспортная авиация - один из видов авиации. Военно-транспортная авиация - один из видов авиации. Военное командование сумело успешно решить вопросы использования крупных масс кавалерии. Военное командование сумело успешно решить вопросы использования крупных масс кавалерии. Военное командование сумело успешно решить вопросы использования крупных масс кавалерии. Военные власти Российской империи с большой осторожностью включали в ряды вооружённых сил население присоединённых земель. Военные власти Российской империи с большой осторожностью включали в ряды вооружённых сил население присоединённых земель. Военные власти Российской империи с большой осторожностью включали в ряды вооружённых сил население присоединённых земель. Военные власти Российской империи с большой осторожностью включали в ряды вооружённых сил население присоединённых земель. Военные неудачи стали поводом роялистских восстаний. Военные неудачи стали поводом роялистских восстаний. Военные неудачи стали поводом роялистских восстаний. Военным значением победы стало снятие угрозы захватом вермахтом. Военным значением победы стало снятие угрозы захватом вермахтом. Военным значением победы стало снятие угрозы захватом вермахтом. Военным значением победы стало снятие угрозы захватом вермахтом. Военным значением победы стало снятие угрозы захватом вермахтом. Планковская чёрная дыра стабильна и больше не подвержена излучению Хокинга. Планковская чёрная дыра стабильна и больше не подвержена излучению Хокинга. Планковская чёрная дыра стабильна и больше не подвержена излучению Хокинга. Планковская чёрная дыра стабильна и больше не подвержена излучению Хокинга. Планковская чёрная дыра стабильна и больше не подвержена излучению Хокинга. Возрождению норвежского литературного языка способствовал Вергеланн. Возрождению норвежского литературного языка способствовал Вергеланн. Война за ресурсы привела к краху цивилизации. Война за ресурсы привела к краху цивилизации. Война за ресурсы привела к краху цивилизации. Война привела к ощутимому сокращению экономики Украины. Война привела к ощутимому сокращению экономики Украины. Война привела к ощутимому сокращению экономики Украины. Война привела к ощутимому сокращению экономики Украины. Война привела к ощутимому сокращению экономики Украины. Война на севере зашла в тупик. Война на севере зашла в тупик. Война на севере зашла в тупик. Волосяной покров невысокий, довольно редкий. Волосяной покров невысокий, довольно редкий. Волосяной покров невысокий, довольно редкий. Волосяной покров невысокий, довольно редкий. Вопреки ожиданиям армянского населения младотурецкий переворот. Вопреки ожиданиям армянского населения младотурецкий переворот. Вопреки ожиданиям армянского населения младотурецкий переворот. Вопреки ожиданиям армянского населения младотурецкий переворот. Вопреки ожиданиям армянского населения младотурецкий переворот. Вотчинники стали обязаны оснащать и приводить воинов. Вотчинники стали обязаны оснащать и приводить воинов. Вотчинники стали обязаны оснащать и приводить воинов. Вотчинники стали обязаны оснащать и приводить воинов. Вотчинники стали обязаны оснащать и приводить воинов. Вошёл в историю как первый всенародно избранный глава российского государства. Вошёл в историю как первый всенародно избранный глава российского государства. Вошёл в историю как первый всенародно избранный глава российского государства. Вошёл в историю как первый всенародно избранный глава российского государства. Вошёл в историю как первый всенародно избранный глава российского государства. Впервые в серии радар имеет прямоугольную форму. Впервые в серии радар имеет прямоугольную форму. Впервые появилась возможность провести прямое сравнение генотипа императора. Впервые появилась возможность провести прямое сравнение генотипа императора. Впервые появилась возможность провести прямое сравнение генотипа императора. Впервые появилась возможность провести прямое сравнение генотипа императора. Впервые появилась возможность провести прямое сравнение генотипа императора. Вашингтон сам удивлялся, что столь важное задание. Вашингтон сам удивлялся, что столь важное задание. Вашингтон сам удивлялся, что столь важное задание. Вашингтон сам удивлялся, что столь важное задание. Вашингтон сам удивлялся, что столь важное задание. Швейцарская народная партия сместилась в крайне правый спектр. Швейцарская народная партия сместилась в крайне правый спектр. Швейцарская народная партия сместилась в крайне правый спектр. Впоследствии подобная система в другой реализации. Впоследствии подобная система в другой реализации. Впоследствии подобная система в другой реализации. Впоследствии подобная система в другой реализации. Впоследствии подобная система в другой реализации. Впоследствии чёрная дыра может разрастись за счёт поглощения вещества (столкновение чёрной дыры с любым другим объектом очень маловероятно). Впоследствии чёрная дыра может разрастись за счёт поглощения вещества (столкновение чёрной дыры с любым другим объектом очень маловероятно). Впоследствии чёрная дыра может разрастись за счёт поглощения вещества (столкновение чёрной дыры с любым другим объектом очень маловероятно). Впоследствии чёрная дыра может разрастись за счёт поглощения вещества (столкновение чёрной дыры с любым другим объектом очень маловероятно). Впоследствии чёрная дыра может разрастись за счёт поглощения вещества (столкновение чёрной дыры с любым другим объектом очень маловероятно). Время игрока считается истекшим, если флажок на его часах упал. Время игрока считается истекшим, если флажок на его часах упал. Время игрока считается истекшим, если флажок на его часах упал. Время игрока считается истекшим, если флажок на его часах упал. Время игрока считается истекшим, если флажок на его часах упал. Время от времени в процесс передачи власти вмешиваются силовой фактор. Все мобилизованные были оставлены на судах, и таким образом в августе английский флот «начал войну». Вскоре после приезда в Михайловское произошла крупная ссора с отцом. Вскоре после приезда в Михайловское произошла крупная ссора с отцом. Вскоре после приезда в Михайловское произошла крупная ссора с отцом. Вскоре после приезда в Михайловское произошла крупная ссора с отцом. Вскоре после приезда в Михайловское произошла крупная ссора с отцом. Дефицит йода может привести к развитию эндемического зоба. Дефицит йода может привести к развитию эндемического зоба. Дефицит йода может привести к развитию эндемического зоба. Дефицит йода может привести к развитию эндемического зоба. Дефицит йода может привести к развитию эндемического зоба. Вторично одичавшие кошки часто живут уединённо и охотятся в одиночку. Вторично одичавшие кошки часто живут уединённо и охотятся в одиночку. Вторично одичавшие кошки часто живут уединённо и охотятся в одиночку. Вторично одичавшие кошки часто живут уединённо и охотятся в одиночку. Вторично одичавшие кошки часто живут уединённо и охотятся в одиночку. Вывод генерала фон Лампе был следующим. Вывод генерала фон Лампе был следующим. Вывод генерала фон Лампе был следующим. Вывод генерала фон Лампе был следующим. Вывод генерала фон Лампе был следующим. Вызванный из Москвы профессор Захарьин объявил положение серьезным. Вызванный из Москвы профессор Захарьин объявил положение серьезным. Выраженность симптомов гипотиреоза во многом зависит от причины заболевания. Высокий оборот торговли обеспечивают как большой поток туристов. Высокий оборот торговли обеспечивают как большой поток туристов. Высокий оборот торговли обеспечивают как большой поток туристов. Высокий оборот торговли обеспечивают как большой поток туристов. Высокий оборот торговли обеспечивают как большой поток туристов. Высоцкий обладал уникальным тембром. Высоцкий обладал уникальным тембром. Высоцкий обладал уникальным тембром. Высоцкий обладал уникальным тембром. Высоцкий обладал уникальным тембром. Ганс Аспергер указывал, что дети имеют личностные расстройства. Ганс Аспергер указывал, что дети имеют личностные расстройства. Ганс Аспергер указывал, что дети имеют личностные расстройства. Гарантии прав оппозицииИмитационная демократия имеет ряд внешних атрибутов народовластия. Гарантии прав оппозицииИмитационная демократия имеет ряд внешних атрибутов народовластия. Гарантии прав оппозицииИмитационная демократия имеет ряд внешних атрибутов народовластия. Гарантии прав оппозицииИмитационная демократия имеет ряд внешних атрибутов народовластия. Гарантии прав оппозицииИмитационная демократия имеет ряд внешних атрибутов народовластия. Генеральный штаб Вооружённых сил Российской Федерации. Генеральный штаб Вооружённых сил Российской Федерации. Генеральный штаб Вооружённых сил Российской Федерации. Генеральный штаб Вооружённых сил Российской Федерации. Генеральный штаб Вооружённых сил Российской Федерации. Гениальнейшим поэтом Польши является Адам Мицкевич. Гениальнейшим поэтом Польши является Адам Мицкевич. Гениальнейшим поэтом Польши является Адам Мицкевич. Гениальнейшим поэтом Польши является Адам Мицкевич. Гениальнейшим поэтом Польши является Адам Мицкевич. Геометрия - Тригонометрия - Алгебраическая геометрия - Топология. Геометрия - Тригонометрия - Алгебраическая геометрия - Топология. Геометрия - Тригонометрия - Алгебраическая геометрия - Топология. Геометрия - Тригонометрия - Алгебраическая геометрия - Топология. Геометрия - Тригонометрия - Алгебраическая геометрия - Топология. Гипотиреоз - это синдром, специфическое состояние организма. Главенствующую роль играет авиационное сообщение. Главенствующую роль играет авиационное сообщение. Главной особенностью Гражданской войны были малочисленные армии. Главной особенностью Гражданской войны были малочисленные армии. Главной особенностью Гражданской войны были малочисленные армии. Кутузов приказал Горчакову отвести войска к главным силам. Кутузов приказал Горчакову отвести войска к главным силам. Кутузов приказал Горчакову отвести войска к главным силам. Голубой цвет на флаге символизирует тюркство, красный - прогресса. Голубой цвет на флаге символизирует тюркство, красный - прогресса. Голубой цвет на флаге символизирует тюркство, красный - прогресса. Город в рамках местного самоуправления образует город Тобольск. Город в рамках местного самоуправления образует город Тобольск. Город в рамках местного самоуправления образует город Тобольск. Город превратился в зону сплошных разрушений. Город является важным образовательным центром Русской Православной церкви. Горожане носили кожаные башмаки с загнутыми вверх носками. Горожане носили кожаные башмаки с загнутыми вверх носками. Государственные светские школы посещаются большинством неарабских. Государственные светские школы посещаются большинством неарабских. Государственные светские школы посещаются большинством неарабских. Государственные светские школы посещаются большинством неарабских. Государственные светские школы посещаются большинством неарабских. Государство осуществляет контроль за полным комплексом вопросов здравоохранения. Гражданская война стала самым кровопролитным военным конфликтом. Гражданская война стала самым кровопролитным военным конфликтом. Гражданская война стала самым кровопролитным военным конфликтом. Гражданская война стала самым кровопролитным военным конфликтом. Граница между государствами продолжала оставаться нечёткой. Греки сами привлекали к суду политиков, призывавших к восстанию. Греки сами привлекали к суду политиков, призывавших к восстанию. Греки сами привлекали к суду политиков, призывавших к восстанию. Гренландия располагается почти целиком в северо-восточной части Канадского щита. Гренландия располагается почти целиком в северо-восточной части Канадского щита. Гренландия располагается почти целиком в северо-восточной части Канадского щита. Гренландия располагается почти целиком в северо-восточной части Канадского щита. Группа Слобцова перевалила невысокий разделительный отрог. Группа Слобцова перевалила невысокий разделительный отрог. Группа Слобцова перевалила невысокий разделительный отрог. Группа Слобцова перевалила невысокий разделительный отрог. Группа Слобцова перевалила невысокий разделительный отрог. Группа из семнадцати свидетелей утверждала, что видела Манипого. Группа приняла участие в фотосессиях для местных изданий. Группа приняла участие в фотосессиях для местных изданий. Группа приняла участие в фотосессиях для местных изданий. Группа приняла участие в фотосессиях для местных изданий. Даже если принятое решение равным образом учитывает предпочтения всех граждан. Даже если принятое решение равным образом учитывает предпочтения всех граждан. Даже если принятое решение равным образом учитывает предпочтения всех граждан. Дала трещину и координация по тыловым вопросам: начались трения. Дала трещину и координация по тыловым вопросам: начались трения. Дала трещину и координация по тыловым вопросам: начались трения. Дала трещину и координация по тыловым вопросам: начались трения. Дала трещину и координация по тыловым вопросам: начались трения. Далее на юг давление вновь понижается. Далее на юг давление вновь понижается. Далее на юг давление вновь понижается. Далее на юг давление вновь понижается. Далее на юг давление вновь понижается. Азербайджанские войска начали наступление по нескольким направлениям. Азербайджанские войска начали наступление по нескольким направлениям. Азербайджанские войска начали наступление по нескольким направлениям. Азербайджанские войска начали наступление по нескольким направлениям. Азербайджанские войска начали наступление по нескольким направлениям. Дальнейшее наступление в Швабии пришлось приостановить. Дальнейшее наступление в Швабии пришлось приостановить. Дальнейшее наступление в Швабии пришлось приостановить. Дания является одним из мировых лидеров в использовании энергии. Дания является одним из мировых лидеров в использовании энергии. Дания является одним из мировых лидеров в использовании энергии. Дания является одним из мировых лидеров в использовании энергии. Дания является одним из мировых лидеров в использовании энергии. Две из трёх рекомендовали исключить синдром Аспергера. Две из трёх рекомендовали исключить синдром Аспергера. Две из трёх рекомендовали исключить синдром Аспергера. Две из трёх рекомендовали исключить синдром Аспергера. Две из трёх рекомендовали исключить синдром Аспергера. Действительно, грязная ночлежка послужила для Толстого зеркалом. Действительно, грязная ночлежка послужила для Толстого зеркалом. Действительно, грязная ночлежка послужила для Толстого зеркалом. Действительно, грязная ночлежка послужила для Толстого зеркалом. Действующий президент Саули Нийнистё считает практику о помиловании пережитком прошлого. Действующий президент Саули Нийнистё считает практику о помиловании пережитком прошлого. Действующий президент Саули Нийнистё считает практику о помиловании пережитком прошлого. Действующий президент Саули Нийнистё считает практику о помиловании пережитком прошлого. Действующий президент Саули Нийнистё считает практику о помиловании пережитком прошлого. Делегаты снова собрались в Таверне Рэли, где подтвердили бойкот английского чая. Делегаты снова собрались в Таверне Рэли, где подтвердили бойкот английского чая. Делегаты снова собрались в Таверне Рэли, где подтвердили бойкот английского чая. Делегаты снова собрались в Таверне Рэли, где подтвердили бойкот английского чая. Делегаты снова собрались в Таверне Рэли, где подтвердили бойкот английского чая. Дети Круга не пострадали, а Дмитрий сидел в наушниках. Дети Круга не пострадали, а Дмитрий сидел в наушниках. Дети Круга не пострадали, а Дмитрий сидел в наушниках. Дети Круга не пострадали, а Дмитрий сидел в наушниках. Дифференцировать данное состояние от других инфекций позволяет. Дифференцировать данное состояние от других инфекций позволяет. Дифференцировать данное состояние от других инфекций позволяет. Дифференцировать данное состояние от других инфекций позволяет. Дифференцировать данное состояние от других инфекций позволяет. Для вольнорожденного римского мужчины было приемлемо желать секса. Для вольнорожденного римского мужчины было приемлемо желать секса. Для вольнорожденного римского мужчины было приемлемо желать секса. Для вольнорожденного римского мужчины было приемлемо желать секса. Для вольнорожденного римского мужчины было приемлемо желать секса. Для драматических произведений характерны остро-конфликтные ситуации. Для драматических произведений характерны остро-конфликтные ситуации. Для налаживания отношений между двумя блоками Советский Союз выступил. Для налаживания отношений между двумя блоками Советский Союз выступил. Для налаживания отношений между двумя блоками Советский Союз выступил. Для создания партнерства не требуется никаких документов или подачи документов. Для сравнения, в красных карликах давление не может препятствовать. Для сравнения, в красных карликах давление не может препятствовать. Для сравнения, в красных карликах давление не может препятствовать. Для этого антибольшевистские силы пытались воссоздать армию и аппарат гражданского управления, восстановить права собственности и свободу торговли. До начала весеннего наступления оставалось несколько недель. До начала весеннего наступления оставалось несколько недель. До начала весеннего наступления оставалось несколько недель. Доказательств влияния витамина D нет. Доказательств влияния витамина D нет. Доказательств влияния витамина D нет. Доказательств влияния витамина D нет. Доказательств влияния витамина D нет. Документальные источники, говорящие о жизни Хюррем, отсутствуют. Домашние дела были расстроены; сам Гоголь уже не был восторженным юношей, каким оставил родину. Домашние дела были расстроены; сам Гоголь уже не был восторженным юношей, каким оставил родину. Домашние дела были расстроены; сам Гоголь уже не был восторженным юношей, каким оставил родину. Дорожка следов у волка ровнее, и образует строчку. Дорожка следов у волка ровнее, и образует строчку. Достаточно ощутимым вливанием в экономику республики являются денежные переводы. Достаточно ощутимым вливанием в экономику республики являются денежные переводы. Достаточно ощутимым вливанием в экономику республики являются денежные переводы. Достаточно ощутимым вливанием в экономику республики являются денежные переводы. Достаточно ощутимым вливанием в экономику республики являются денежные переводы. Древние инки представляли и сохраняли числовые данные. Древние инки представляли и сохраняли числовые данные. Древние инки представляли и сохраняли числовые данные. Другая крайность - употребление термина «финансы». Другие категории раскрывают свойства и состояния бытия. В период пребывания в Турции Дракула не подвергался насилию. В период пребывания в Турции Дракула не подвергался насилию. В период пребывания в Турции Дракула не подвергался насилию. В период пребывания в Турции Дракула не подвергался насилию. В период пребывания в Турции Дракула не подвергался насилию. Египет был богат строительным и декоративным камнем. Египет был богат строительным и декоративным камнем. Египет был богат строительным и декоративным камнем. Его родители развелись. Единство необходимо для сохранения мира и безопасности. Единство необходимо для сохранения мира и безопасности. Едят в этот день современные американцы то же самое. Ежегодно на Бородинском поле более тысячи участников воссоздают эпизоды Бородинского сражения. Ежегодно на Бородинском поле более тысячи участников воссоздают эпизоды Бородинского сражения. Ежегодно на Бородинском поле более тысячи участников воссоздают эпизоды Бородинского сражения. Ежегодно на Бородинском поле более тысячи участников воссоздают эпизоды Бородинского сражения. Ежегодно на Бородинском поле более тысячи участников воссоздают эпизоды Бородинского сражения. Если бы ось вращения Земли приблизилась к плоскости эклиптики. Если бы ось вращения Земли приблизилась к плоскости эклиптики. Если бы ось вращения Земли приблизилась к плоскости эклиптики. Если бы ось вращения Земли приблизилась к плоскости эклиптики. Если бы ось вращения Земли приблизилась к плоскости эклиптики. Если игрок при своей очереди хода не имеет возможности сделать ни одного хода. Если игрок при своей очереди хода не имеет возможности сделать ни одного хода. Если игрок при своей очереди хода не имеет возможности сделать ни одного хода. Если игрок при своей очереди хода не имеет возможности сделать ни одного хода. Если игрок при своей очереди хода не имеет возможности сделать ни одного хода. Если нельзя установить, какая фигура была тронута первой. Если нельзя установить, какая фигура была тронута первой. Если нельзя установить, какая фигура была тронута первой. Если нельзя установить, какая фигура была тронута первой. Если оба анализа отрицательные, то человек сифилисом не болен. Если оба анализа отрицательные, то человек сифилисом не болен. Если оба анализа отрицательные, то человек сифилисом не болен. Если оба анализа отрицательные, то человек сифилисом не болен. Если оба анализа отрицательные, то человек сифилисом не болен. Если при импорте пакета вместо псевдонима указывается точка. Если при импорте пакета вместо псевдонима указывается точка. Если принимать в расчёт вторую версию, то первую шайбу. Если принимать в расчёт вторую версию, то первую шайбу. Мужчины склонны выбирать более летальные способы самоубийства. Мужчины склонны выбирать более летальные способы самоубийства. Мужчины склонны выбирать более летальные способы самоубийства. Мужчины склонны выбирать более летальные способы самоубийства. Мужчины склонны выбирать более летальные способы самоубийства. Ещё одну группу решили перебросить в район поисков. Ещё одну группу решили перебросить в район поисков. Ещё одну группу решили перебросить в район поисков. Ещё одну группу решили перебросить в район поисков. Ещё одну группу решили перебросить в район поисков. Ещё через несколько минут заложники начали выпрыгивать. Ещё через несколько минут заложники начали выпрыгивать. Ещё через несколько минут заложники начали выпрыгивать. Ещё через несколько минут заложники начали выпрыгивать. Ещё через несколько минут заложники начали выпрыгивать. Желающим предлагалось снять пятиминутное видео на цифровую камеру. Желающим предлагалось снять пятиминутное видео на цифровую камеру. Желающим предлагалось снять пятиминутное видео на цифровую камеру. Желающим предлагалось снять пятиминутное видео на цифровую камеру. Желающим предлагалось снять пятиминутное видео на цифровую камеру. Животный мир в игре достаточно разнообразен. Животный мир в игре достаточно разнообразен. Животный мир в игре достаточно разнообразен. Животный мир в игре достаточно разнообразен. Животный мир в игре достаточно разнообразен. Животных не убивали следом за умершим хозяином. Животных не убивали следом за умершим хозяином. Жители республики оказали значительную финансовую помощь Красной Армии. Жители республики оказали значительную финансовую помощь Красной Армии. Жители республики оказали значительную финансовую помощь Красной Армии. Жители республики оказали значительную финансовую помощь Красной Армии. Жители республики оказали значительную финансовую помощь Красной Армии. Жуков намерен выступить как руководитель мятежных сил. За годы независимости узбекское здравоохранение претерпело существенные изменения. За годы независимости узбекское здравоохранение претерпело существенные изменения. За годы независимости узбекское здравоохранение претерпело существенные изменения. Швеция также совершила рывок в цифровых технологиях. Швеция также совершила рывок в цифровых технологиях. Швеция также совершила рывок в цифровых технологиях. Швеция также совершила рывок в цифровых технологиях. Швеция также совершила рывок в цифровых технологиях. За столетия численность этнических вавилонян сократилась. За столетия численность этнических вавилонян сократилась. За счёт недавно прибывших из Ливана и Ирана армян. За счёт непрямого голосования, возможна (и происходила) ситуация, когда кандидат условно проиграл бы. За счёт непрямого голосования, возможна (и происходила) ситуация, когда кандидат условно проиграл бы. За счёт непрямого голосования, возможна (и происходила) ситуация, когда кандидат условно проиграл бы. За счёт непрямого голосования, возможна (и происходила) ситуация, когда кандидат условно проиграл бы. Джон даёт Артуру выбор: идти за деньгами или помочь Джону. Джон даёт Артуру выбор: идти за деньгами или помочь Джону. Джон даёт Артуру выбор: идти за деньгами или помочь Джону. Джон даёт Артуру выбор: идти за деньгами или помочь Джону. Джон даёт Артуру выбор: идти за деньгами или помочь Джону. Зависимость численности, распределения, плодовитости и миграций. Зависимость численности, распределения, плодовитости и миграций. Зависимость численности, распределения, плодовитости и миграций. Задачей игроков является удерживать мяч в игре при помощи ракеток. Задачей игроков является удерживать мяч в игре при помощи ракеток. Задержанные сообщали об антисанитарных условиях в камерах. Задержанные сообщали об антисанитарных условиях в камерах. Задержанные сообщали об антисанитарных условиях в камерах. Задержанные сообщали об антисанитарных условиях в камерах. Задержанные сообщали об антисанитарных условиях в камерах. Заказчик получает доступ к системе исполнителя. Заказчик получает доступ к системе исполнителя. Заказчик получает доступ к системе исполнителя. Заказчик получает доступ к системе исполнителя. Закон устанавливал нормы продолжительности рабочего дня. Законодательство Новой Зеландии определяет общенациональные дни. Заложникам было приказано говорить только на русском языке. Заложникам было приказано говорить только на русском языке. Заметный вклад в развитие джаза внёс Эдди Рознер. Заметный вклад в развитие джаза внёс Эдди Рознер. Заметный вклад в развитие джаза внёс Эдди Рознер. Заметный вклад в развитие джаза внёс Эдди Рознер. Заметный вклад в развитие джаза внёс Эдди Рознер. Замужем, муж полковника Алексис Сантини. племянник Андре Сантини. Замужем, муж полковника Алексис Сантини. племянник Андре Сантини. Замужем, муж полковника Алексис Сантини. племянник Андре Сантини. Западного читателя покорили моральная чистота в изображении любви. Западного читателя покорили моральная чистота в изображении любви. Западного читателя покорили моральная чистота в изображении любви. Западного читателя покорили моральная чистота в изображении любви. Западного читателя покорили моральная чистота в изображении любви. Владимир признался Саше Барону Коэну, что образ Бората считает потрясающим. Затем горизонт успокаивается. Затем горизонт успокаивается. Затем горизонт успокаивается. Затем горизонт успокаивается. Затем горизонт успокаивается. Затем два класса отучился в слободском училище. Затем паника распространилась и на Германию, увеличившись в масштабах. Затем паника распространилась и на Германию, увеличившись в масштабах. Затем паника распространилась и на Германию, увеличившись в масштабах. Затем паника распространилась и на Германию, увеличившись в масштабах. Затем паника распространилась и на Германию, увеличившись в масштабах. Цезарь принимал решение не совещаясь с сенатом. Цезарь принимал решение не совещаясь с сенатом. Цезарь принимал решение не совещаясь с сенатом. Цезарь принимал решение не совещаясь с сенатом. Цезарь принимал решение не совещаясь с сенатом. Защитники инициативы президента по борьбе с наркотиками. Защитники инициативы президента по борьбе с наркотиками. Защищённое пространство признавалось безопасным и осваивалось мирными переселенцами. Защищённое пространство признавалось безопасным и осваивалось мирными переселенцами. Звучали слова и о том, что новый праздник не приживётся в России. Звучали слова и о том, что новый праздник не приживётся в России. Здесь он пишет «Письмо Онегина», тем самым завершая работу над романом. Здесь он пишет «Письмо Онегина», тем самым завершая работу над романом. Здесь он пишет «Письмо Онегина», тем самым завершая работу над романом. Здесь он пишет «Письмо Онегина», тем самым завершая работу над романом. Здесь он пишет «Письмо Онегина», тем самым завершая работу над романом. Зимой, когда Северный полюс отклоняется в противоположную сторону. Зимой, когда Северный полюс отклоняется в противоположную сторону. Зимой, когда Северный полюс отклоняется в противоположную сторону. Зимой, когда Северный полюс отклоняется в противоположную сторону. Знаки зодиака могут определяться как табличным методом по дате гражданского календаря. Знаки зодиака могут определяться как табличным методом по дате гражданского календаря. Знаки зодиака могут определяться как табличным методом по дате гражданского календаря. Знаки зодиака могут определяться как табличным методом по дате гражданского календаря. Знаки зодиака могут определяться как табличным методом по дате гражданского календаря. Вашингтон понимал необходимость взять Бостон. Вашингтон понимал необходимость взять Бостон. Вашингтон понимал необходимость взять Бостон. И для Сталина, и для Гитлера битва за Сталинград. И для Сталина, и для Гитлера битва за Сталинград. И для Сталина, и для Гитлера битва за Сталинград. И для Сталина, и для Гитлера битва за Сталинград. И для Сталина, и для Гитлера битва за Сталинград. И речи больше не шло о торжественных церемониях. И речи больше не шло о торжественных церемониях. И речи больше не шло о торжественных церемониях. Иван Будько займётся бизнесом, спасёт страну от бюрократии. Иван Будько займётся бизнесом, спасёт страну от бюрократии. Иван Будько займётся бизнесом, спасёт страну от бюрократии. Игра велась близко у стола, основными приёмами были подставка. Игра проходила на Уэмбли, и когда Марадона получал мяч. Игра проходила на Уэмбли, и когда Марадона получал мяч. Игра проходила на Уэмбли, и когда Марадона получал мяч. Игра проходила на Уэмбли, и когда Марадона получал мяч. Игра проходила на Уэмбли, и когда Марадона получал мяч. Gamasutra назвала Minecraft восьмой лучшей игрой года. Gamasutra назвала Minecraft восьмой лучшей игрой года. Gamasutra назвала Minecraft восьмой лучшей игрой года. Gamasutra назвала Minecraft восьмой лучшей игрой года. Gamasutra назвала Minecraft восьмой лучшей игрой года. Из алкогольных напитков американцы предпочитают калифорнийские вина. Из алкогольных напитков американцы предпочитают калифорнийские вина. Из археологических находок манси большой интерес представляют серебряные блюда. Из археологических находок манси большой интерес представляют серебряные блюда. Из археологических находок манси большой интерес представляют серебряные блюда. Из археологических находок манси большой интерес представляют серебряные блюда. Из археологических находок манси большой интерес представляют серебряные блюда. Петербург является крупнейшим по населению в Европе. Петербург является крупнейшим по населению в Европе. Из-за акцента на роли государства в трагедии. Из-за акцента на роли государства в трагедии. Из-за акцента на роли государства в трагедии. Из-за акцента на роли государства в трагедии. Из-за акцента на роли государства в трагедии. Известно о случае признания человека виновным за участие в массовом мероприятии. Известно о случае признания человека виновным за участие в массовом мероприятии. Известно о случае признания человека виновным за участие в массовом мероприятии. Известно о случае признания человека виновным за участие в массовом мероприятии. Известно о случае признания человека виновным за участие в массовом мероприятии. Цезарь одновременно занимался разведкой и демонстрацией силы египтянам. Цезарь одновременно занимался разведкой и демонстрацией силы египтянам. Цезарь одновременно занимался разведкой и демонстрацией силы египтянам. Цезарь одновременно занимался разведкой и демонстрацией силы египтянам. Цезарь одновременно занимался разведкой и демонстрацией силы египтянам. Изменилась и система тренировок: теперь уже не уделялось столько времени. Изменилась и система тренировок: теперь уже не уделялось столько времени. Изменился этнический состав населения и в Малой Азии. Изменился этнический состав населения и в Малой Азии. Изменился этнический состав населения и в Малой Азии. Изменился этнический состав населения и в Малой Азии. Изменился этнический состав населения и в Малой Азии. Именно в это время он сознает себя профессиональным литератором. Именно в это время он сознает себя профессиональным литератором. Именно в это время он сознает себя профессиональным литератором. Именно в это время он сознает себя профессиональным литератором. Именно в это время он сознает себя профессиональным литератором. Имеются данные о взаимосвязи между группами крови. Имеются данные о взаимосвязи между группами крови. Имеются данные о взаимосвязи между группами крови. Имеются данные о взаимосвязи между группами крови. Имеются данные о взаимосвязи между группами крови. Императрица обратилась к журналистике с целью воздействия на общественное мнение. Императрица обратилась к журналистике с целью воздействия на общественное мнение. Императрица обратилась к журналистике с целью воздействия на общественное мнение. Императрица обратилась к журналистике с целью воздействия на общественное мнение. Императрица обратилась к журналистике с целью воздействия на общественное мнение. Имперский камерный суд состоял теперь в равной пропорции из католиков. Имперский камерный суд состоял теперь в равной пропорции из католиков. Имперский камерный суд состоял теперь в равной пропорции из католиков. Имперский камерный суд состоял теперь в равной пропорции из католиков. Иначе говоря, сила всегда есть результат взаимодействия тел. Иначе говоря, сила всегда есть результат взаимодействия тел. Иначе говоря, сила всегда есть результат взаимодействия тел. Иначе говоря, сила всегда есть результат взаимодействия тел. Иначе говоря, сила всегда есть результат взаимодействия тел. Иногда у больных определяют «парадоксальные кинезии», когда человек начинает свободно передвигаться. Интенсивность основного критерия панической атаки может варьироваться. Интенсивность основного критерия панической атаки может варьироваться. Интенсивность основного критерия панической атаки может варьироваться. Иран поддерживал дипломатические отношения с Советским Союзом. Иран поддерживал дипломатические отношения с Советским Союзом. Иран поддерживал дипломатические отношения с Советским Союзом. Иран поддерживал дипломатические отношения с Советским Союзом. Иран поддерживал дипломатические отношения с Советским Союзом. Испанский час (фр. L'Heure espagnole) - комическая опера. Исполнительным органом наместника (губернатора) являлось губернское правление. Исполнительным органом наместника (губернатора) являлось губернское правление. Исполнительным органом наместника (губернатора) являлось губернское правление. Исполнительным органом наместника (губернатора) являлось губернское правление. Исполнительным органом наместника (губернатора) являлось губернское правление. Использование закруглённых углов повлияло на внешний вид iMac. Используемый алгоритм имеет определённую временную сложность. Используемый алгоритм имеет определённую временную сложность. Используемый алгоритм имеет определённую временную сложность. Используемый алгоритм имеет определённую временную сложность. Используемый алгоритм имеет определённую временную сложность. Исследования ВОЗ утверждают, что снижение доступности некоторых способов самоубийства. Исследования предполагают, что вирус является результатом коронавируса. Историк Евгений Анисимов обращает внимание. Историк Евгений Анисимов обращает внимание. Историк Евгений Анисимов обращает внимание. Исчезновение растительности приведёт к снижению кислорода в атмосфере. Исчезновение растительности приведёт к снижению кислорода в атмосфере. Исчезновение растительности приведёт к снижению кислорода в атмосфере. К вспомогательным войскам принадлежат индийские военизированные подразделения. К западу от Миссисипи идут территории Великих равнин. К западу от Миссисипи идут территории Великих равнин. К концу Средневековья Шотландия была разделена на две культурные зоны. К концу Средневековья Шотландия была разделена на две культурные зоны. К концу Средневековья Шотландия была разделена на две культурные зоны. К концу Средневековья Шотландия была разделена на две культурные зоны. К концу Средневековья Шотландия была разделена на две культурные зоны. К моменту окончания Второй мировой войны вооружённый конфликт веками. К моменту окончания Второй мировой войны вооружённый конфликт веками. К моменту окончания Второй мировой войны вооружённый конфликт веками. К моменту окончания Второй мировой войны вооружённый конфликт веками. К моменту окончания Второй мировой войны вооружённый конфликт веками. К шоковой рекламе часто прибегают компании. К этой группе можно отнести пневмонии, вызванные различными возбудителями, нуждаются в различной терапии и методах профилактики. К этой группе можно отнести пневмонии, вызванные различными возбудителями, нуждаются в различной терапии и методах профилактики. КНДР - некоторое количество, по состоянию на 2019 год, было поставлено из СССР 200 единиц БМ-24. Казаки атамана Платова успешно задержали французов. Казаки атамана Платова успешно задержали французов. Как в советское, так и в постсоветское время было снято много кинофильмов. Как в советское, так и в постсоветское время было снято много кинофильмов. Колчак тяжело переживал поражение в Русско-японской войне. Как правило, одна-две улицы проходили вдоль рек. Как правило, одна-две улицы проходили вдоль рек. Как правило, одна-две улицы проходили вдоль рек. Кама в меньшей степени зарегулирована плотинами. Кама в меньшей степени зарегулирована плотинами. Кама в меньшей степени зарегулирована плотинами. Кама в меньшей степени зарегулирована плотинами. Кама в меньшей степени зарегулирована плотинами. Каменев возглавлял Московскую парторганизацию. Каменев возглавлял Московскую парторганизацию. Каменев возглавлял Московскую парторганизацию. Каменев возглавлял Московскую парторганизацию. Каменев возглавлял Московскую парторганизацию. Караханиды имели в надписях на монетах тюркские титулы. Караханиды имели в надписях на монетах тюркские титулы. Караханиды имели в надписях на монетах тюркские титулы. Караханиды имели в надписях на монетах тюркские титулы. Караханиды имели в надписях на монетах тюркские титулы. Карен Хорни считала, что базовый конфликт невроза. Карен Хорни считала, что базовый конфликт невроза. Карен Хорни считала, что базовый конфликт невроза. Карлсен написал, что в основе модели розыгрыша чемпионского титула должна находиться. Карпов вышел вперёд после побед в пятой партиях. Карпов вышел вперёд после побед в пятой партиях. Карпов вышел вперёд после побед в пятой партиях. Карпов вышел вперёд после побед в пятой партиях. Керри озвучил несколько ролей: Эбенезер Скрудж. Керри озвучил несколько ролей: Эбенезер Скрудж. Керри озвучил несколько ролей: Эбенезер Скрудж. Керри озвучил несколько ролей: Эбенезер Скрудж. Керри озвучил несколько ролей: Эбенезер Скрудж. Киркоров возглавил профессиональное российское жюри. Киркоров возглавил профессиональное российское жюри. Классическое правило сложения скоростей соответствует преобразованию координат. Классическое правило сложения скоростей соответствует преобразованию координат. Классическое правило сложения скоростей соответствует преобразованию координат. Классическое правило сложения скоростей соответствует преобразованию координат. Классическое правило сложения скоростей соответствует преобразованию координат. Климат на северной стороне Альп более холодный. Климат на северной стороне Альп более холодный. Климат на северной стороне Альп более холодный. Климат на северной стороне Альп более холодный. Климат на северной стороне Альп более холодный. Когда Толстой приехал в Оптину пустынь, он ответил, что не мог пойти. Когда заряженные частицы сталкиваются с магнитосферой Земли. Когда заряженные частицы сталкиваются с магнитосферой Земли. Когда заряженные частицы сталкиваются с магнитосферой Земли. Когда заряженные частицы сталкиваются с магнитосферой Земли. Когда заряженные частицы сталкиваются с магнитосферой Земли. Когда несли тело в Девичий Вознесенский монастырь. Когда несли тело в Девичий Вознесенский монастырь. Когда несли тело в Девичий Вознесенский монастырь. Когда несли тело в Девичий Вознесенский монастырь. Когда несли тело в Девичий Вознесенский монастырь. Когда пешка ходит на последнюю горизонталь, она заменяется по выбору игрока на любую другую фигуру. Когда пешка ходит на последнюю горизонталь, она заменяется по выбору игрока на любую другую фигуру. Когда пешка ходит на последнюю горизонталь, она заменяется по выбору игрока на любую другую фигуру. Когда пешка ходит на последнюю горизонталь, она заменяется по выбору игрока на любую другую фигуру. Когда пешка ходит на последнюю горизонталь, она заменяется по выбору игрока на любую другую фигуру. Код сборки программ стал закрытым, предыдущие версии программы. Код сборки программ стал закрытым, предыдущие версии программы. Коллективное владение также будет способствовать демократическому равенству. Колчак участвовал в штабе Северного фронта. Колчак участвовал в штабе Северного фронта. Колчак участвовал в штабе Северного фронта. Колчак участвовал в штабе Северного фронта. Колчак участвовал в штабе Северного фронта. Кольцевые гонки очень популярны у зрителей, так как гонщики видны для зрителя. Кольцевые гонки очень популярны у зрителей, так как гонщики видны для зрителя. Командующий флотом вновь столкнулся со старым препятствием. Командующий флотом вновь столкнулся со старым препятствием. Командующий флотом вновь столкнулся со старым препятствием. Командующий флотом вновь столкнулся со старым препятствием. Командующий флотом вновь столкнулся со старым препятствием. Кометы - малые тела Солнечной системы, состоящие из летучих веществ. Кометы - малые тела Солнечной системы, состоящие из летучих веществ. Кометы - малые тела Солнечной системы, состоящие из летучих веществ. Комиссия за проведение операций назначается отправителем добровольно. Комиссия за проведение операций назначается отправителем добровольно. Комиссия за проведение операций назначается отправителем добровольно. Комиссия за проведение операций назначается отправителем добровольно. Комиссия за проведение операций назначается отправителем добровольно. Комитет развернул активную агитацию в поддержку требования удвоить представительство. Комитет развернул активную агитацию в поддержку требования удвоить представительство. Комитет развернул активную агитацию в поддержку требования удвоить представительство. Компания считает эту стартовую линейку самой сильной, которая когда либо была у приставок. Компания считает эту стартовую линейку самой сильной, которая когда либо была у приставок. Конвоирование грузов и лиц законодательно прописывается. Конвоирование грузов и лиц законодательно прописывается. Конвоирование грузов и лиц законодательно прописывается. Конец игры: биография Роберта Фишера: взлёт и падение. Конец игры: биография Роберта Фишера: взлёт и падение. Конец игры: биография Роберта Фишера: взлёт и падение. Конец игры: биография Роберта Фишера: взлёт и падение. Конец игры: биография Роберта Фишера: взлёт и падение. Конечно, я тогда ещё был совсем молодой человек, но через четыре года я уже был членом Центрального Комитета. Контракт века вошел в список самых крупных соглашений. Контракт века вошел в список самых крупных соглашений. Контракт века вошел в список самых крупных соглашений. Конфликт всегда оказывал неблагоприятное влияние на отношения. Кошмары приводят к нарушению сна: индивид просыпается. Кошмары приводят к нарушению сна: индивид просыпается. Кошмары приводят к нарушению сна: индивид просыпается. Красный Крест не может начать работу. Красный Крест не может начать работу. Красный Крест не может начать работу. Красный Крест не может начать работу. Красный Крест не может начать работу. Крену колеблющихся солдат влево способствовала переброска из Петрограда на фронт. Культура маори до прихода европейцев не имела письменности. Культура маори до прихода европейцев не имела письменности. Культура маори до прихода европейцев не имела письменности. Кэтлин продолжила выпивать, а Чарльз стал прогуливать. Кэтлин продолжила выпивать, а Чарльз стал прогуливать. Кэтлин продолжила выпивать, а Чарльз стал прогуливать. Кэтлин продолжила выпивать, а Чарльз стал прогуливать. Кэтлин продолжила выпивать, а Чарльз стал прогуливать. Ланды отличаются менее плодородными почвами и засажены хвойными лесами. Ланды отличаются менее плодородными почвами и засажены хвойными лесами. Ланды отличаются менее плодородными почвами и засажены хвойными лесами. Лев Николаевич искал смысл жизни в изучении философии. Лев Николаевич искал смысл жизни в изучении философии. Лев Николаевич искал смысл жизни в изучении философии. Ленинские указания предписывали начать массовый террор, организовывать расстрелы. Ленинские указания предписывали начать массовый террор, организовывать расстрелы. Ленинские указания предписывали начать массовый террор, организовывать расстрелы. Ленинские указания предписывали начать массовый террор, организовывать расстрелы. Летом менее тепло, чем в зоне Тихого океана. Летом менее тепло, чем в зоне Тихого океана. Летом менее тепло, чем в зоне Тихого океана. Летом менее тепло, чем в зоне Тихого океана. Либеральный консерватизм имеет либеральный упор во внешней политике. Линкольн теперь считал, что рабство необходимо отменить. Линкольн теперь считал, что рабство необходимо отменить. Линкольн теперь считал, что рабство необходимо отменить. Лично бывал на военных смотрах, осматривал фортификационные сооружения. Лично бывал на военных смотрах, осматривал фортификационные сооружения. Лично бывал на военных смотрах, осматривал фортификационные сооружения. Лишь приезд нового представителя императора привёл к прогрессу в переговорах. Лишь с недавнего времени бундесвер принимает участие. Лишь с недавнего времени бундесвер принимает участие. Лишь с недавнего времени бундесвер принимает участие. Лишь с недавнего времени бундесвер принимает участие. Лоб выражали непреклонную волю и слабую мысль, больше жестокости. Лоб выражали непреклонную волю и слабую мысль, больше жестокости. Лоб выражали непреклонную волю и слабую мысль, больше жестокости. Лоб выражали непреклонную волю и слабую мысль, больше жестокости. Лоб выражали непреклонную волю и слабую мысль, больше жестокости. Ловля в отвес - ловля рыбы с лодки или в зимнее время. Ловля в отвес - ловля рыбы с лодки или в зимнее время. Ловля в отвес - ловля рыбы с лодки или в зимнее время. Ложа смогла организовать и проводить собрания. Ложа смогла организовать и проводить собрания. Ложа смогла организовать и проводить собрания. Луиза Пеполи вышла замуж за графа Доменикино Гварини-Маттеуччи-ди-Кастельфранко. Лукашенко является неоднократным победителем соревнований. Лукашенко является неоднократным победителем соревнований. Лукашенко является неоднократным победителем соревнований. Любые глобальные объекты доступны без ограничений в пакете. Любые глобальные объекты доступны без ограничений в пакете. Любые глобальные объекты доступны без ограничений в пакете. Максимум осадков приходится на зимний период времени. Максимум осадков приходится на зимний период времени. Маршал Макдональд остановился на дальних подступах к городу. Массовое распространение получила практика жилищных кооперативов. Массовое распространение получила практика жилищных кооперативов. Мастурбация помогает справиться с головными болями. Мастурбация помогает справиться с головными болями. Мастурбация помогает справиться с головными болями. Мастурбация помогает справиться с головными болями. Мастурбация помогает справиться с головными болями. Медведев охарактеризовал действия грузинской армии как геноцид. Медведев охарактеризовал действия грузинской армии как геноцид. Медведев охарактеризовал действия грузинской армии как геноцид. Медведев охарактеризовал действия грузинской армии как геноцид. Медведев охарактеризовал действия грузинской армии как геноцид. В Германии во время войны от чумы погибло больше людей. В Германии во время войны от чумы погибло больше людей. В Германии во время войны от чумы погибло больше людей. В Германии во время войны от чумы погибло больше людей. В Германии во время войны от чумы погибло больше людей. Меньше, чем через месяц. Меньше, чем через месяц. Меньше, чем через месяц. Меньше, чем через месяц. Меньше, чем через месяц. Меркель поздравила Макрона с победой на выборах. Меркель поздравила Макрона с победой на выборах. Меркель поздравила Макрона с победой на выборах. Местами сохранились стальные кольца, вделанные в гранит. Местами сохранились стальные кольца, вделанные в гранит. Местами сохранились стальные кольца, вделанные в гранит. Местами сохранились стальные кольца, вделанные в гранит. Местами сохранились стальные кольца, вделанные в гранит. Мидсоммар празднуется в ближайшую к дню солнцестояния субботу. Мидсоммар празднуется в ближайшую к дню солнцестояния субботу. Мидсоммар празднуется в ближайшую к дню солнцестояния субботу. Милиция попыталась оттеснить митингующих с территории завода. Минимальные значения солнечного сияния выпадают. Минимальные значения солнечного сияния выпадают. Минимальные значения солнечного сияния выпадают. Минимальные значения солнечного сияния выпадают. Минимальные значения солнечного сияния выпадают. Министерство внутренних дел является реформированным ведомством. Министерство внутренних дел является реформированным ведомством. Минобороны является органом управления Вооружёнными силами. Минобороны является органом управления Вооружёнными силами. Минобороны является органом управления Вооружёнными силами. Минобороны является органом управления Вооружёнными силами. Минобороны является органом управления Вооружёнными силами. Мировой финансовый кризис, вызванный Первой мировой войной, тяжёлое экономическое положение и глубокий политический кризис в стране, перебои в снабжении продовольствием. Мировой финансовый кризис, вызванный Первой мировой войной, тяжёлое экономическое положение и глубокий политический кризис в стране, перебои в снабжении продовольствием. Мировой финансовый кризис, вызванный Первой мировой войной, тяжёлое экономическое положение и глубокий политический кризис в стране, перебои в снабжении продовольствием. Мировой финансовый кризис, вызванный Первой мировой войной, тяжёлое экономическое положение и глубокий политический кризис в стране, перебои в снабжении продовольствием. Мировой финансовый кризис, вызванный Первой мировой войной, тяжёлое экономическое положение и глубокий политический кризис в стране, перебои в снабжении продовольствием. Многие виды борьбы традиционно считаются национальными видами спорта. Многие виды борьбы традиционно считаются национальными видами спорта. Многие виды борьбы традиционно считаются национальными видами спорта. Многие виды подразделяются на так называемые штаммы. Многие виды подразделяются на так называемые штаммы. Многие виды подразделяются на так называемые штаммы. Многие виды подразделяются на так называемые штаммы. Многие виды подразделяются на так называемые штаммы. Многие думали, что Маршалл просто не выпустит альбом. Многие думали, что Маршалл просто не выпустит альбом. Многие думали, что Маршалл просто не выпустит альбом. Многие думали, что Маршалл просто не выпустит альбом. Многие думали, что Маршалл просто не выпустит альбом. Многие протестанты заняли высокие посты в армии, Академии Наук. Многие протестанты заняли высокие посты в армии, Академии Наук. Многие протестанты заняли высокие посты в армии, Академии Наук. Многие протестанты заняли высокие посты в армии, Академии Наук. Многие протестанты заняли высокие посты в армии, Академии Наук. Многим областям потребовалось больше века, чтобы восстановиться. Многим областям потребовалось больше века, чтобы восстановиться. Многим областям потребовалось больше века, чтобы восстановиться. Многим областям потребовалось больше века, чтобы восстановиться. Многим областям потребовалось больше века, чтобы восстановиться. Многолетняя научная дискуссия по существу сводилась к тому, в какой мере следует включать финансы советских предприятий. Многолетняя научная дискуссия по существу сводилась к тому, в какой мере следует включать финансы советских предприятий. Многолетняя научная дискуссия по существу сводилась к тому, в какой мере следует включать финансы советских предприятий. Множество византийских императоров были этническими армянами. Множество византийских императоров были этническими армянами. Множество византийских императоров были этническими армянами. Множество византийских императоров были этническими армянами. Могут применяться также гемодиализ, парнополяризационная терапия (правосторонняя и левосторонняя). Могут применяться также гемодиализ, парнополяризационная терапия (правосторонняя и левосторонняя). Могут применяться также гемодиализ, парнополяризационная терапия (правосторонняя и левосторонняя). Могут применяться также гемодиализ, парнополяризационная терапия (правосторонняя и левосторонняя). Могут применяться также гемодиализ, парнополяризационная терапия (правосторонняя и левосторонняя). Мозг у детей-аутистов в среднем весит больше обычного. Мозг у детей-аутистов в среднем весит больше обычного. Мозг у детей-аутистов в среднем весит больше обычного. Мозг у детей-аутистов в среднем весит больше обычного. Монтаньяры требовали осуждения и казни короля как следующего шага. Москва расположена на реке Москве, по городу протекают и более мелкие реки. Москва - крупнейший город России по количеству жителей. Москва - крупнейший город России по количеству жителей. Москва - крупнейший город России по количеству жителей. Москва - крупнейший город России по количеству жителей. Москва - крупнейший город России по количеству жителей. Мятежники (Первая столичная команда) поджигали автобусы. Мятежники (Первая столичная команда) поджигали автобусы. Мятежники (Первая столичная команда) поджигали автобусы. Мятежники (Первая столичная команда) поджигали автобусы. Мятежники (Первая столичная команда) поджигали автобусы. Мяч касается антенны, игрока подающей команды. Мяч касается антенны, игрока подающей команды. Мяч касается антенны, игрока подающей команды. Мяч касается антенны, игрока подающей команды. Мяч касается антенны, игрока подающей команды. На Марсе имеется множество геологических образований. На Марсе имеется множество геологических образований. На Марсе имеется множество геологических образований. На Марсе имеется множество геологических образований. На Марсе имеется множество геологических образований. На Первухина М. Г. возложили обязанности повседневного руководства материально-техническим обеспечением научных работ. На Хоккайдо преобладают хвойные леса. На Хоккайдо преобладают хвойные леса. На дальнейшем развитии событий во многом сказалось. На дальнейшем развитии событий во многом сказалось. На дальнейшем развитии событий во многом сказалось. На дальнейшем развитии событий во многом сказалось. На дальнейшем развитии событий во многом сказалось. На крайнем северо-западе климат мягкий и влажный. На крайнем северо-западе климат мягкий и влажный. На крайнем северо-западе климат мягкий и влажный. На крайнем северо-западе климат мягкий и влажный. На крайнем северо-западе климат мягкий и влажный. На международной арене Новая Зеландия представляет интересы Токелау. На международной арене Новая Зеландия представляет интересы Токелау. На международной арене Новая Зеландия представляет интересы Токелау. На международной арене Новая Зеландия представляет интересы Токелау. На международной арене Новая Зеландия представляет интересы Токелау. На одно из судебных заседаний Мэнсон пришёл. На одно из судебных заседаний Мэнсон пришёл. Гипотеза зависимости между степенью потери слуха и возрастанием риска развития. Гипотеза зависимости между степенью потери слуха и возрастанием риска развития. Гипотеза зависимости между степенью потери слуха и возрастанием риска развития. Гипотеза зависимости между степенью потери слуха и возрастанием риска развития. Гипотеза зависимости между степенью потери слуха и возрастанием риска развития. На островах формируются маломощные арктические почвы. На островах формируются маломощные арктические почвы. На островах формируются маломощные арктические почвы. На островах формируются маломощные арктические почвы. На острове император планировал создать военно-морскую базу. На острове император планировал создать военно-морскую базу. На острове император планировал создать военно-морскую базу. На первом фестивале были показаны такие картины, как «Гедда» с Глендой Джексон. На первом фестивале были показаны такие картины, как «Гедда» с Глендой Джексон. На первом фестивале были показаны такие картины, как «Гедда» с Глендой Джексон. На первых порах Франция обладала превосходством. На первых порах Франция обладала превосходством. На первых порах большую роль играли представители аристократии. На первых порах большую роль играли представители аристократии. На первых порах большую роль играли представители аристократии. На первых порах большую роль играли представители аристократии. На первых порах большую роль играли представители аристократии. На потенциале для роста проявляла отрицательное воздействие и невысокая степень открытости. На потенциале для роста проявляла отрицательное воздействие и невысокая степень открытости. На потенциале для роста проявляла отрицательное воздействие и невысокая степень открытости. На потенциале для роста проявляла отрицательное воздействие и невысокая степень открытости. На потенциале для роста проявляла отрицательное воздействие и невысокая степень открытости. На правом Joy-Con есть инфракрасная камера. На правом Joy-Con есть инфракрасная камера. На правом Joy-Con есть инфракрасная камера. На правом Joy-Con есть инфракрасная камера. На правом Joy-Con есть инфракрасная камера. На пресс-конференции, состоявшейся после оглашения, прокурор Джексон выразил одобрение. На пресс-конференции, состоявшейся после оглашения, прокурор Джексон выразил одобрение. Обама выступал за быстрое окончание Иракской войны. Обама выступал за быстрое окончание Иракской войны. Анализ обнаруженной спермы дал неправильный результат. Анализ обнаруженной спермы дал неправильный результат. Анализ обнаруженной спермы дал неправильный результат. Анализ обнаруженной спермы дал неправильный результат. Анализ обнаруженной спермы дал неправильный результат. На территории города было обнаружено около десяти мест. На территории города было обнаружено около десяти мест. На территории города было обнаружено около десяти мест. На территории города было обнаружено около десяти мест. На уровне городов происходила олигархизация городских общин. На уровне городов происходила олигархизация городских общин. На церемонии коронации нового короля Таиланда кошка. На церемонии коронации нового короля Таиланда кошка. На церемонии коронации нового короля Таиланда кошка. На церемонии коронации нового короля Таиланда кошка. На церемонии коронации нового короля Таиланда кошка. На цирковых представлениях изображение Цезаря. На цирковых представлениях изображение Цезаря. На юге азербайджанская армия взяла под полный контроль. На юге азербайджанская армия взяла под полный контроль. На юге азербайджанская армия взяла под полный контроль. На юге азербайджанская армия взяла под полный контроль. На юге азербайджанская армия взяла под полный контроль. Наглядная демонстрация преимуществ башенного расположения орудий. Наглядная демонстрация преимуществ башенного расположения орудий. Надгробия чередуются со скульптурами, колоннами. Надгробия чередуются со скульптурами, колоннами. Надёжность складывается из надёжности соединений. Надёжность складывается из надёжности соединений. Надёжность складывается из надёжности соединений. Надёжность складывается из надёжности соединений. Надёжность складывается из надёжности соединений. Наиболее заметно расстройство памяти, проявляющееся в затруднении. Наиболее заметно расстройство памяти, проявляющееся в затруднении. Наиболее заметно расстройство памяти, проявляющееся в затруднении. Наиболее крупным из второстепенных пунктов является город Артём. Наиболее крупным из второстепенных пунктов является город Артём. Наиболее распространённой была охота с соколами. Наиболее распространённой была охота с соколами. Наиболее распространённой была охота с соколами. Наконец, само расположение школы в центре Беслана создавало риск провала. Наконец, само расположение школы в центре Беслана создавало риск провала. Наконец, само расположение школы в центре Беслана создавало риск провала. Наконец, само расположение школы в центре Беслана создавало риск провала. Наметились сдвиги в экономике (благодаря поддержке купеческого предпринимательства). Наметились сдвиги в экономике (благодаря поддержке купеческого предпринимательства). Наметились сдвиги в экономике (благодаря поддержке купеческого предпринимательства). Наметились сдвиги в экономике (благодаря поддержке купеческого предпринимательства). Наметились сдвиги в экономике (благодаря поддержке купеческого предпринимательства). Наполеон планировал высадку на Британские острова. Наполеон планировал высадку на Британские острова. Например, наиболее популярной кличкой для кошки являются Тиггер. Например, наиболее популярной кличкой для кошки являются Тиггер. Например, наиболее популярной кличкой для кошки являются Тиггер. Например, наиболее популярной кличкой для кошки являются Тиггер. Например, наиболее популярной кличкой для кошки являются Тиггер. Например, натрий похож на калий. устные рассказы Пешкова отличались житейской достоверностью. устные рассказы Пешкова отличались житейской достоверностью. устные рассказы Пешкова отличались житейской достоверностью. устные рассказы Пешкова отличались житейской достоверностью. устные рассказы Пешкова отличались житейской достоверностью. Народ был очень удивлён восшествием на престол женщины. Народ был очень удивлён восшествием на престол женщины. Наряду с собственно армянским языком, армяне владели также турецким. Наряду с собственно армянским языком, армяне владели также турецким. Наряду с собственно армянским языком, армяне владели также турецким. Наряду с собственно армянским языком, армяне владели также турецким. Наряду с собственно армянским языком, армяне владели также турецким. Население было романизировано и к V веку говорило на латыни. Население было романизировано и к V веку говорило на латыни. Население было романизировано и к V веку говорило на латыни. Наступление и отход муссонов определяют количество. Наступление и отход муссонов определяют количество. Наступление и отход муссонов определяют количество. Наступление и отход муссонов определяют количество. Наступление и отход муссонов определяют количество. Натурные съемки ленты проходили в Мурманской области. Натурные съемки ленты проходили в Мурманской области. Научно-исследовательские институты получают финансирование от национальных советов. Научно-исследовательские институты получают финансирование от национальных советов. Научно-исследовательские институты получают финансирование от национальных советов. Научно-исследовательские институты получают финансирование от национальных советов. Научно-исследовательские институты получают финансирование от национальных советов. Начавшие активно поступать в Великобританию иностранные инвестиции. Начавшие активно поступать в Великобританию иностранные инвестиции. Начавшие активно поступать в Великобританию иностранные инвестиции. Начавшие активно поступать в Великобританию иностранные инвестиции. Началось преобразование монархических немецких государств из абсолютных монархий. Началось преобразование монархических немецких государств из абсолютных монархий. Началось преобразование монархических немецких государств из абсолютных монархий. Началось преобразование монархических немецких государств из абсолютных монархий. Началось преобразование монархических немецких государств из абсолютных монархий. Начиная с ранних этапов развития ислама прослеживается осознание монотеизма. Начиная с ранних этапов развития ислама прослеживается осознание монотеизма. Начиная с ранних этапов развития ислама прослеживается осознание монотеизма. Начиная с ранних этапов развития ислама прослеживается осознание монотеизма. Начиная с ранних этапов развития ислама прослеживается осознание монотеизма. Незаконная иммиграция наказуема согласно итальянскому законодательству. Незаконная иммиграция наказуема согласно итальянскому законодательству. Незаконная иммиграция наказуема согласно итальянскому законодательству. Незаконная иммиграция наказуема согласно итальянскому законодательству. Незаконная иммиграция наказуема согласно итальянскому законодательству. Некоторые авторы определяют финансы как оценку и управление риском. Некоторые исследователи предполагали, что атипичные средства представляют дополнительную пользу. Некоторые языковые разделы включают несвободные файлы в соответствии с доктриной. Некоторые языковые разделы включают несвободные файлы в соответствии с доктриной. Некоторые языковые разделы включают несвободные файлы в соответствии с доктриной. Некоторые языковые разделы включают несвободные файлы в соответствии с доктриной. В Римской империи рано появляется представление о Риме. В Римской империи рано появляется представление о Риме. В Римской империи рано появляется представление о Риме. В Римской империи рано появляется представление о Риме. В Римской империи рано появляется представление о Риме. Неоднозначно относился к Пушкину Лев Толстой. Неоднозначно относился к Пушкину Лев Толстой. Неоднозначно относился к Пушкину Лев Толстой. Неоднозначно относился к Пушкину Лев Толстой. Неоднозначно относился к Пушкину Лев Толстой. Неофициальными символами города являются также Дмитриевская башня Кремля. Неофициальными символами города являются также Дмитриевская башня Кремля. Неофициальными символами города являются также Дмитриевская башня Кремля. Неофициальными символами города являются также Дмитриевская башня Кремля. Неофициальными символами города являются также Дмитриевская башня Кремля. Несколько протестующих пробрались на балкон, выставив знамя. Несколько протестующих пробрались на балкон, выставив знамя. Несколько протестующих пробрались на балкон, выставив знамя. Несколько террористов обошли здание со стороны Школьного переулка. Несколько террористов обошли здание со стороны Школьного переулка. Несколько террористов обошли здание со стороны Школьного переулка. Несмотря на богатую и славную историю. Несмотря на богатую и славную историю. Несмотря на богатую и славную историю. Несмотря на богатую и славную историю. Несмотря на богатую и славную историю. Никола вернулся к семье в Госпич, где была холеры. Несмотря на околоуголовное название. Несмотря на околоуголовное название. Несмотря на околоуголовное название. Несмотря на присутствие масонских лож в католических странах. Несмотря на присутствие масонских лож в католических странах. Несмотря на то, что в русской историографии традиционно сложился негативный образ правления. Нехватка кадров делало власть на местах откровенно слабой. Нехватка кадров делало власть на местах откровенно слабой. Ни один взятый изолированно фактор не может иметь значение. Ни один взятый изолированно фактор не может иметь значение. Ни один взятый изолированно фактор не может иметь значение. Ни один взятый изолированно фактор не может иметь значение. Ни один взятый изолированно фактор не может иметь значение. Но в современной войне дело давно уже не в количестве. Гитлер отказывается от планов проведения десантных операций. Гитлер отказывается от планов проведения десантных операций. Гитлер отказывается от планов проведения десантных операций. Гитлер отказывается от планов проведения десантных операций. Гитлер отказывается от планов проведения десантных операций. Но до Римской Империи кошки уже были известны. Но до Римской Империи кошки уже были известны. Но врач дал добро на продолжение боя. Но врач дал добро на продолжение боя. Но врач дал добро на продолжение боя. Но пока глушили двигатели самолёта и монтировали трап, на аэродроме уже собралось много народу. Но приказ не подписывали, потому что плакал. Но приказ не подписывали, потому что плакал. Но разногласия возобновились по вопросу рабовладения. Но разногласия возобновились по вопросу рабовладения. Но разногласия возобновились по вопросу рабовладения. Но разногласия возобновились по вопросу рабовладения. Но разногласия возобновились по вопросу рабовладения. Новая экономическая политика означает замену развёрстки налогом. Новая экономическая политика означает замену развёрстки налогом. Новая экономическая политика означает замену развёрстки налогом. Новая экономическая политика означает замену развёрстки налогом. Новая экономическая политика означает замену развёрстки налогом. Новое название носит искусственный характер. Новое название носит искусственный характер. Новое название носит искусственный характер. Новое название носит искусственный характер. Новое название носит искусственный характер. Новозеландский жестовый язык - это естественно возникший язык. Новозеландский жестовый язык - это естественно возникший язык. Новый адвокат Ефремова попросил заменить наказание в виде восьми лет. Новый адвокат Ефремова попросил заменить наказание в виде восьми лет. Новым балансом, сдерживающим рост населения мира, будет низкая рождаемость. Новым балансом, сдерживающим рост населения мира, будет низкая рождаемость. Ныне через территорию Турции пролегают шоссейные магистрали. Ныне через территорию Турции пролегают шоссейные магистрали. Ныне через территорию Турции пролегают шоссейные магистрали. Ныне через территорию Турции пролегают шоссейные магистрали. Ныне через территорию Турции пролегают шоссейные магистрали. О свойствах своего таланта сам Гоголь говорил: «У меня только то и выходило хорошо». О свойствах своего таланта сам Гоголь говорил: «У меня только то и выходило хорошо». О свойствах своего таланта сам Гоголь говорил: «У меня только то и выходило хорошо». Обозреватель назвал сценарий виртуозным и непредсказуемым. Обозреватель назвал сценарий виртуозным и непредсказуемым. Обозреватель назвал сценарий виртуозным и непредсказуемым. Общее количество акционеров ПАО «Уфаоргсинтез». Объекты данного класса нельзя создать. Объекты данного класса нельзя создать. Ограбление удаётся, но при отходе машина попадает в аварию. Ограбление удаётся, но при отходе машина попадает в аварию. Ограбление удаётся, но при отходе машина попадает в аварию. Ограбление удаётся, но при отходе машина попадает в аварию. Ограбление удаётся, но при отходе машина попадает в аварию. Один человек, который владеет и управляет бизнесом, обычно известен как индивидуальный предприниматель. Одна из ведущих космических держав мира. Одна из ведущих космических держав мира. Одна из ведущих космических держав мира. Одна из них была особенно неприятна. Шкапенко придется завершить карьеру. Однако Гитлер в последний момент изменил план и пошёл по противоположной стороне. Однако Гитлер в последний момент изменил план и пошёл по противоположной стороне. Однако Гитлер в последний момент изменил план и пошёл по противоположной стороне. Однако Гитлер в последний момент изменил план и пошёл по противоположной стороне. Япония является экономически развитой, богатой страной. Однако артиллерия на левом берегу Волги стала испытывать нехватку. Однако артиллерия на левом берегу Волги стала испытывать нехватку. Однако артиллерия на левом берегу Волги стала испытывать нехватку. Однако артиллерия на левом берегу Волги стала испытывать нехватку. Однако артиллерия на левом берегу Волги стала испытывать нехватку. Однако в расширенной вселенной фигурируют и другие школы. Однако в расширенной вселенной фигурируют и другие школы. Однако в расширенной вселенной фигурируют и другие школы. Однако в расширенной вселенной фигурируют и другие школы. Однако в течение боя именно Ногейра доминировал. Однако в течение боя именно Ногейра доминировал. Однако инфраструктурное и технологическое обеспечение остаётся неудовлетворительным. Однако инфраструктурное и технологическое обеспечение остаётся неудовлетворительным. Однако инфраструктурное и технологическое обеспечение остаётся неудовлетворительным. Однако инфраструктурное и технологическое обеспечение остаётся неудовлетворительным. Однако инфраструктурное и технологическое обеспечение остаётся неудовлетворительным. Однако во втором туре Лучинский набрал больше голосов. Однако во втором туре Лучинский набрал больше голосов. Однако во втором туре Лучинский набрал больше голосов. Однако во втором туре Лучинский набрал больше голосов. Однако во втором туре Лучинский набрал больше голосов. Однако всего через несколько месяцев. Однако всего через несколько месяцев. Однако всего через несколько месяцев. Однако всего через несколько месяцев. Однако всего через несколько месяцев. Однако диагноз может быть поставлен и для более коротких периодов. Однако диагноз может быть поставлен и для более коротких периодов. Однако диагноз может быть поставлен и для более коротких периодов. Однако диагноз может быть поставлен и для более коротких периодов. Однако значительный выступ корня носа и рельеф средней части надбровья. Однако значительный выступ корня носа и рельеф средней части надбровья. Однако значительный выступ корня носа и рельеф средней части надбровья. Однако известно, что Уильямс активно занимался благотворительностью. Однако известно, что Уильямс активно занимался благотворительностью. Однако известно, что Уильямс активно занимался благотворительностью. Однако известно, что Уильямс активно занимался благотворительностью. Однако менее чем через месяц Пётр покинул жену. Однако менее чем через месяц Пётр покинул жену. Однако менее чем через месяц Пётр покинул жену. Однако менее чем через месяц Пётр покинул жену. Однако менее чем через месяц Пётр покинул жену. Однако подчеркиваются систематические нарушения прав человека. Однако подчеркиваются систематические нарушения прав человека. Однако подчеркиваются систематические нарушения прав человека. Однако после прихода к власти в Золотой Орде хан Тохтамыш. Однако после прихода к власти в Золотой Орде хан Тохтамыш. Однако после прихода к власти в Золотой Орде хан Тохтамыш. Однако после прихода к власти в Золотой Орде хан Тохтамыш. Однако после прихода к власти в Золотой Орде хан Тохтамыш. Однако туркменская сторона отказалась оплачивать выполненные работы. Однако туркменская сторона отказалась оплачивать выполненные работы. Однако туркменская сторона отказалась оплачивать выполненные работы. Однако туркменская сторона отказалась оплачивать выполненные работы. Однако туркменская сторона отказалась оплачивать выполненные работы. Однако, как и в 1914 году, главная цель не была достигнута. Однако, практика первых лет советской власти показала, преждевременность. Однако, практика первых лет советской власти показала, преждевременность. Однако, практика первых лет советской власти показала, преждевременность. Однако, практика первых лет советской власти показала, преждевременность. Однако, практика первых лет советской власти показала, преждевременность. Одним из главных событий в биографии Высоцкого. Одним из главных событий в биографии Высоцкого. Одним из главных событий в биографии Высоцкого. Одним из итогов расследования, начатого при Горбачёве, стало Катыни. Одним из итогов расследования, начатого при Горбачёве, стало Катыни. Одним из итогов расследования, начатого при Горбачёве, стало Катыни. Одним из итогов расследования, начатого при Горбачёве, стало Катыни. Одним из итогов расследования, начатого при Горбачёве, стало Катыни. Одним из наиболее распространённых показателей уровня солнечной активности. Одним из решений Кеннеди было прекращение выпуска серебряных монет. Одними из актуальных экологических проблем в стране являются вопросы. Одними из актуальных экологических проблем в стране являются вопросы. Одними из актуальных экологических проблем в стране являются вопросы. Одними из актуальных экологических проблем в стране являются вопросы. Одними из актуальных экологических проблем в стране являются вопросы. Волан-де-Морт превратил поместье Малфоев в штаб-квартиру. Одновременно по России прокатилась волна бунтов. Одновременно по России прокатилась волна бунтов. Одновременно по России прокатилась волна бунтов. Одновременно по России прокатилась волна бунтов. Одновременно по России прокатилась волна бунтов. Одного этого произведения было достаточно для того, чтобы писатель. Одну из атак Волан-де-Морт произвёл в Запретном Лесу. Одну из атак Волан-де-Морт произвёл в Запретном Лесу. Одну из атак Волан-де-Морт произвёл в Запретном Лесу. Одну из атак Волан-де-Морт произвёл в Запретном Лесу. Одну из атак Волан-де-Морт произвёл в Запретном Лесу. Оказав ожесточённое сопротивление на рубежах рек. Оказав ожесточённое сопротивление на рубежах рек. Оказав ожесточённое сопротивление на рубежах рек. Оказавшись в двойственном положении, члены Совета обратились к Николаю. Оказавшись в двойственном положении, члены Совета обратились к Николаю. Оказавшись в двойственном положении, члены Совета обратились к Николаю. Он нашёл, что Малороссия возбуждает живой интерес в петербургском обществе; испытанные неудачи обратили его поэтические мечтания к родному краю. Он поделился историей из своей жизни, когда его родители развелись. Он стал одним из архитекторов так называемого «Десятилетнего установления» - доктрины. Он стал одним из архитекторов так называемого «Десятилетнего установления» - доктрины. Он стал одним из архитекторов так называемого «Десятилетнего установления» - доктрины. Он стал одним из архитекторов так называемого «Десятилетнего установления» - доктрины. Он, вероятно, даже не был знаком с самым горячим спорщиком, хотя один из героев его студенческой драмы носит фамилию Белинский. Он, вероятно, даже не был знаком с самым горячим спорщиком, хотя один из героев его студенческой драмы носит фамилию Белинский. Он, вероятно, даже не был знаком с самым горячим спорщиком, хотя один из героев его студенческой драмы носит фамилию Белинский. Они читают, что власть олигархии не может быть серьёзно ограничена и поставлена под общественный контроль. Они читают, что власть олигархии не может быть серьёзно ограничена и поставлена под общественный контроль. Они читают, что власть олигархии не может быть серьёзно ограничена и поставлена под общественный контроль. Они читают, что власть олигархии не может быть серьёзно ограничена и поставлена под общественный контроль. Они читают, что власть олигархии не может быть серьёзно ограничена и поставлена под общественный контроль. Google не одобряет использование глагола google. Google не одобряет использование глагола google. Google не одобряет использование глагола google. Google не одобряет использование глагола google. Google не одобряет использование глагола google. Операция позволяет в короткие сроки вернуть максимально возможное зрение. Операция позволяет в короткие сроки вернуть максимально возможное зрение. Операция позволяет в короткие сроки вернуть максимально возможное зрение. Описанные Джимом Корбеттом, известным охотником на тигров. Оппозиция провела митинг у Дома Правительства в Минске. Оппозиция провела митинг у Дома Правительства в Минске. Оппозиция провела митинг у Дома Правительства в Минске. Оппозиция провела митинг у Дома Правительства в Минске. Оппозиция провела митинг у Дома Правительства в Минске. Опричный порядок был новым шагом к укреплению феодальной собственности. Опричный порядок был новым шагом к укреплению феодальной собственности. Опричный порядок был новым шагом к укреплению феодальной собственности. Опричный порядок был новым шагом к укреплению феодальной собственности. Организаторы подлинной лотереи не связываются. Организаторы подлинной лотереи не связываются. Основана в 1900 г. В 1926 году хутор Верх-Куендатский. Основное внимание Троцкий предлагает уделять развитию промышленности. Основное внимание Троцкий предлагает уделять развитию промышленности. Основное внимание Троцкий предлагает уделять развитию промышленности. Основное внимание Троцкий предлагает уделять развитию промышленности. Основное направление деятельности института - селекционная работа. Основное направление деятельности института - селекционная работа. Основное направление деятельности института - селекционная работа. Основное направление деятельности института - селекционная работа. Основное направление деятельности института - селекционная работа. Основные направления сотрудничества: военная кооперация и оборона. Основные силы повстанческого отряда Гриневича пошли на выручку. Основные силы повстанческого отряда Гриневича пошли на выручку. Основные цели терапии - снижение связанных с аутизмом проблем. Основные цели терапии - снижение связанных с аутизмом проблем. Основные цели терапии - снижение связанных с аутизмом проблем. Основные этапы двигательного развития могут быть несколько замедлены. Основным направлением реформы было закрепление земель за крестьянами. Основным направлением реформы было закрепление земель за крестьянами. Основным направлением реформы было закрепление земель за крестьянами. Основными отраслями промышленности стали химия, машиностроение. Основными отраслями промышленности стали химия, машиностроение. Основными отраслями промышленности стали химия, машиностроение. Основными отраслями промышленности стали химия, машиностроение. Основными отраслями промышленности стали химия, машиностроение. Основными составляющими импорта Израиля являются сырьё, топливо и оружие. Основными составляющими импорта Израиля являются сырьё, топливо и оружие. Основными составляющими импорта Израиля являются сырьё, топливо и оружие. Основными составляющими импорта Израиля являются сырьё, топливо и оружие. Основными составляющими импорта Израиля являются сырьё, топливо и оружие. Особенностью первого этапа были спешка. Особенностью первого этапа были спешка. Особенностью первого этапа были спешка. Особенностью финансовой системы дореформенной империи была секретность. Особенностью финансовой системы дореформенной империи была секретность. Особенностью финансовой системы дореформенной империи была секретность. Особенностью финансовой системы дореформенной империи была секретность. Особенностью финансовой системы дореформенной империи была секретность. Особой категорией являются поклонники полевых ролевых игр. Особой категорией являются поклонники полевых ролевых игр. Оставленный в Кинбурне гарнизон не успел восстановить сгоревшие казармы. Оставленный в Кинбурне гарнизон не успел восстановить сгоревшие казармы. Оставленный в Кинбурне гарнизон не успел восстановить сгоревшие казармы. Оставленный в Кинбурне гарнизон не успел восстановить сгоревшие казармы. Оставленный в Кинбурне гарнизон не успел восстановить сгоревшие казармы. Острова располагаются в тихоокеанском геосинклинальном поясе. Острова располагаются в тихоокеанском геосинклинальном поясе. Острова располагаются в тихоокеанском геосинклинальном поясе. Острова располагаются в тихоокеанском геосинклинальном поясе. Острова располагаются в тихоокеанском геосинклинальном поясе. Аристотель разработал оригинальное социально-политическое учение. Аристотель разработал оригинальное социально-политическое учение. Аристотель разработал оригинальное социально-политическое учение. Аристотель разработал оригинальное социально-политическое учение. Аристотель разработал оригинальное социально-политическое учение. Ответственность за фиаско Черчилль в значительной степени взял на себя. Ответственность за фиаско Черчилль в значительной степени взял на себя. Ответственность за фиаско Черчилль в значительной степени взял на себя. Цискаридзе пояснил, что не женат. Цискаридзе пояснил, что не женат. Цискаридзе пояснил, что не женат. Цискаридзе пояснил, что не женат. Цискаридзе пояснил, что не женат. Отвращение - это еще одна эмоция. Отвращение - это еще одна эмоция. Отвращение - это еще одна эмоция. Отвращение - это еще одна эмоция. Отдельно стоят достопримечательности восточного берега Стамбула. Отдельно стоят достопримечательности восточного берега Стамбула. Отдельно стоят достопримечательности восточного берега Стамбула. Отдельно стоят достопримечательности восточного берега Стамбула. Отдельно стоят достопримечательности восточного берега Стамбула. Отец Рузвельта владел наследственным имением Хайд-Парк на реке Гудзон. Отец Рузвельта владел наследственным имением Хайд-Парк на реке Гудзон. Отец работал барменом (умер, когда Агата была ребёнком). Отец работал барменом (умер, когда Агата была ребёнком). Отец работал барменом (умер, когда Агата была ребёнком). Отец работал барменом (умер, когда Агата была ребёнком). Отец работал барменом (умер, когда Агата была ребёнком). Отличительной особенностью страны является и почти полное отсутствие. Отличительной особенностью страны является и почти полное отсутствие. Отличительными особенностями Индской цивилизации являются города. Отличительными особенностями Индской цивилизации являются города. Отличительными особенностями Индской цивилизации являются города. Отличительными особенностями Индской цивилизации являются города. Отличительными особенностями Индской цивилизации являются города. Отличия общественного строя Новгородского государства от московских порядков. Отрепьев был достаточно известен в Москве. Отрепьев был достаточно известен в Москве. Отрепьев был достаточно известен в Москве. Отрепьев был достаточно известен в Москве. Отныне в распоряжении учёных оказывались тексты на языке. Отныне в распоряжении учёных оказывались тексты на языке. Отныне в распоряжении учёных оказывались тексты на языке. Отрицательное отношение к масонству высказывают отдельные представители. Отрицательное отношение к масонству высказывают отдельные представители. Отрицательное отношение к масонству высказывают отдельные представители. Отрицательное отношение к масонству высказывают отдельные представители. Отрицательное отношение к масонству высказывают отдельные представители. Отсутствие действий привело к появлению множества радикальных партий. Отсутствие действий привело к появлению множества радикальных партий. Отсутствие действий привело к появлению множества радикальных партий. Официальной столицей государства является Амстердам. Официальной столицей государства является Амстердам. Официальной столицей государства является Амстердам. Официальной столицей государства является Амстердам. Официальной столицей государства является Амстердам. Официальный язык - дивехи, индоарийский язык. Очагом нестабильности остаётся Балканский полуостров. Очагом нестабильности остаётся Балканский полуостров. Очагом нестабильности остаётся Балканский полуостров. Очагом нестабильности остаётся Балканский полуостров. Падение португальской и испанской династий привело к открытию колониальных империй. Падение португальской и испанской династий привело к открытию колониальных империй. Падение португальской и испанской династий привело к открытию колониальных империй. Папирус содержит первое описание черепных швов, мозговой оболочки. Папирус содержит первое описание черепных швов, мозговой оболочки. Папирус содержит первое описание черепных швов, мозговой оболочки. Парадоксально, но обладая почти пятикратным перевесом, китайцы проиграли. Парадоксально, но обладая почти пятикратным перевесом, китайцы проиграли. Парадоксально, но обладая почти пятикратным перевесом, китайцы проиграли. Парадоксально, но обладая почти пятикратным перевесом, китайцы проиграли. Парацетамол может облегчить боль при лёгком артрите. Парацетамол может облегчить боль при лёгком артрите. Парацетамол может облегчить боль при лёгком артрите. Парацетамол может облегчить боль при лёгком артрите. Парацетамол может облегчить боль при лёгком артрите. Парламент Великобритании, заседающий в Вестминстерском дворце. Парламент Великобритании, заседающий в Вестминстерском дворце. Парламент Великобритании, заседающий в Вестминстерском дворце. Парламент Великобритании, заседающий в Вестминстерском дворце. Парламент Великобритании, заседающий в Вестминстерском дворце. Партия коммунистов Молдавии перешла в оппозицию. Партия откладывается следующим образом: игрок, чья очередь ходить в момент откладывания партии, обдумывает очередной ход при включённых часах. Партия откладывается следующим образом: игрок, чья очередь ходить в момент откладывания партии, обдумывает очередной ход при включённых часах. Пассажирские и туристические рейсы Волгоград принимает на Центральной набережной. Пассажирские и туристические рейсы Волгоград принимает на Центральной набережной. Пассарелла уехал из стана национальной команды. Пассарелла уехал из стана национальной команды. Пашинян заявлял, что отношения с Ираном будут улучшены. Первая из эстрадных исполнителей России спела речитативом. Первая из эстрадных исполнителей России спела речитативом. Первая из эстрадных исполнителей России спела речитативом. Первая школа, аптека, кофейня, первые посадки картофеля. Первоначально новый наставник аргентинцев хотел создать команду. Первоначально новый наставник аргентинцев хотел создать команду. Первоначально новый наставник аргентинцев хотел создать команду. Первые наработки уже получили одобрение Дома Бетховена. Первые наработки уже получили одобрение Дома Бетховена. Первые наработки уже получили одобрение Дома Бетховена. Первым генерал-губернатором Пакистана был Джинна, первым премьер-министром. Первым генерал-губернатором Пакистана был Джинна, первым премьер-министром. Первым генерал-губернатором Пакистана был Джинна, первым премьер-министром. Первым генерал-губернатором Пакистана был Джинна, первым премьер-министром. Первым генерал-губернатором Пакистана был Джинна, первым премьер-министром. Перевод туризма в систему профсоюзов сопровождался отменой зачёта. Перевод туризма в систему профсоюзов сопровождался отменой зачёта. Перевод туризма в систему профсоюзов сопровождался отменой зачёта. функция с одним именем может иметь разное число. Перед матчем судьи должны проверить сетку ворот и разметку. Перед матчем судьи должны проверить сетку ворот и разметку. Перед матчем судьи должны проверить сетку ворот и разметку. Перед матчем судьи должны проверить сетку ворот и разметку. Перед матчем судьи должны проверить сетку ворот и разметку. Переосмысление революционных событий сопровождалось для Блока. Переосмысление революционных событий сопровождалось для Блока. Переселению армян способствовала репрессивная политика Османской империи. Переход от сухого северо-восточного муссона к влажному муссону. Переходит в практическую плоскость государственная программа. Переходит в практическую плоскость государственная программа. Переходит в практическую плоскость государственная программа. Переходит в практическую плоскость государственная программа. Перонистская партия одержала победу на выборах в конгресс. Перспективы будущей вакцины зависят от понимания. Перспективы будущей вакцины зависят от понимания. Петербургский текст обеспечивает непреходящий интерес к городу как со стороны петербуржцев. Писатель ценил редкие дорогие книги, оформленные как изысканные. Писатель ценил редкие дорогие книги, оформленные как изысканные. Писатель ценил редкие дорогие книги, оформленные как изысканные. Писателю показался забавным также факт, что мать Каменской. Писателю показался забавным также факт, что мать Каменской. Писателю показался забавным также факт, что мать Каменской. Писателю показался забавным также факт, что мать Каменской. Писателю показался забавным также факт, что мать Каменской. План был оригинален и бедность парижских предместий ужасающей. План предусматривал укрупнение городских кварталов. План предусматривал укрупнение городских кварталов. План предусматривал укрупнение городских кварталов. Планомерное ведение рекламной деятельности, системное взаимодействие субъектов рынка рекламы с участниками различных секторов экономики. Платными остались парковки на вокзалах и в аэропортах. Платными остались парковки на вокзалах и в аэропортах. Платными остались парковки на вокзалах и в аэропортах. Платными остались парковки на вокзалах и в аэропортах. Платными остались парковки на вокзалах и в аэропортах. Платов переправился через реку Войну севернее. Платов переправился через реку Войну севернее. Платов переправился через реку Войну севернее. Платов переправился через реку Войну севернее. Платов переправился через реку Войну севернее. По белорусским Правилам дорожного движения велосипедисты должны двигаться. По белорусским Правилам дорожного движения велосипедисты должны двигаться. По мере индустриализации других стран, Великобритания стала терять преимущества. По мнению Гаева, причиной снижения стал мировой финансовый кризис. По мнению Гаева, причиной снижения стал мировой финансовый кризис. По мнению Гаева, причиной снижения стал мировой финансовый кризис. По мнению Гаева, причиной снижения стал мировой финансовый кризис. По мнению Гаева, причиной снижения стал мировой финансовый кризис. По мотивам вселенной «Сказочный патруль» были выпущены 4 приложения. Пушкин в конце мая возвращается в Петербург. Пушкин в конце мая возвращается в Петербург. Пушкин в конце мая возвращается в Петербург. По прошествии трёх месяцев Кристина не вписалась в коллектив. По прошествии трёх месяцев Кристина не вписалась в коллектив. По прошествии трёх месяцев Кристина не вписалась в коллектив. По прошествии трёх месяцев Кристина не вписалась в коллектив. По прошествии трёх месяцев Кристина не вписалась в коллектив. По словам Аветяна, азербайджанцы без стрельбы расположились. По словам Аветяна, азербайджанцы без стрельбы расположились. По словам Аветяна, азербайджанцы без стрельбы расположились. По словам Аветяна, азербайджанцы без стрельбы расположились. По словам Аветяна, азербайджанцы без стрельбы расположились. В новом альбоме отражено то, что она стала матерью. В новом альбоме отражено то, что она стала матерью. В новом альбоме отражено то, что она стала матерью. В новом альбоме отражено то, что она стала матерью. Гай получил неограниченную власть на один год. Гай получил неограниченную власть на один год. Гай получил неограниченную власть на один год. Гай получил неограниченную власть на один год. Гай получил неограниченную власть на один год. За первые 10 дней мая в Азербайджан прибыло до тысячи. За первые 10 дней мая в Азербайджан прибыло до тысячи. За первые 10 дней мая в Азербайджан прибыло до тысячи. За первые 10 дней мая в Азербайджан прибыло до тысячи. За первые 10 дней мая в Азербайджан прибыло до тысячи. По характеру бывал мрачен и задумчив, достаточно неловок. По характеру бывал мрачен и задумчив, достаточно неловок. По характеру бывал мрачен и задумчив, достаточно неловок. Победа под Сталинградом вселила надежду на освобождение. Победа под Сталинградом вселила надежду на освобождение. Победа под Сталинградом вселила надежду на освобождение. Победа под Сталинградом вселила надежду на освобождение. Победа под Сталинградом вселила надежду на освобождение. Победа сторонников независимости привела к изменениям. Победа сторонников независимости привела к изменениям. Победа сторонников независимости привела к изменениям. Повешение является преобладающим способом самоубийства. Повешение является преобладающим способом самоубийства. Повешение является преобладающим способом самоубийства. Повешение является преобладающим способом самоубийства. Поглаживание и почёсывание доставляет собакам большое удовольствие. Поглаживание и почёсывание доставляет собакам большое удовольствие. Поглаживание и почёсывание доставляет собакам большое удовольствие. Поглаживание и почёсывание доставляет собакам большое удовольствие. Поглаживание и почёсывание доставляет собакам большое удовольствие. Пограничная охрана Финляндии входит в подчинение министерства внутренних дел. Пограничная охрана Финляндии входит в подчинение министерства внутренних дел. Пограничная охрана Финляндии входит в подчинение министерства внутренних дел. Пограничная охрана Финляндии входит в подчинение министерства внутренних дел. Пограничная охрана Финляндии входит в подчинение министерства внутренних дел. Погребёнными могли быть только очень богатые люди. Погребёнными могли быть только очень богатые люди. Погребёнными могли быть только очень богатые люди. Погребёнными могли быть только очень богатые люди. Погребёнными могли быть только очень богатые люди. Подземный ход для стока воды из Богатого колодца. Подземный ход для стока воды из Богатого колодца. Подземный ход для стока воды из Богатого колодца. Поднимается сине-жёлтый национальный флаг. Поднимается сине-жёлтый национальный флаг. Поднимается сине-жёлтый национальный флаг. Поднимается сине-жёлтый национальный флаг. Поднимается сине-жёлтый национальный флаг. Подобные ситуации возникали и в дальнейшем. Подобные ситуации возникали и в дальнейшем. Подобные ситуации возникали и в дальнейшем. Подобные терапии должны проходить под наблюдением. Подобные терапии должны проходить под наблюдением. Подобные терапии должны проходить под наблюдением. Подобные терапии должны проходить под наблюдением. Подобные терапии должны проходить под наблюдением. Подразделения полиции привлекаются лишь для особых заданий. Подразделения полиции привлекаются лишь для особых заданий. Позднее, когда остатки гарнизона капитулировали, началась операция. Позднее, когда остатки гарнизона капитулировали, началась операция. Позднее, когда остатки гарнизона капитулировали, началась операция. Позднее, когда остатки гарнизона капитулировали, началась операция. Позднее, когда остатки гарнизона капитулировали, началась операция. Позже, когда Linux достиг определённой зрелости. Показано также, что потере объёма мозга способствуют. Показано также, что потере объёма мозга способствуют. Показано также, что потере объёма мозга способствуют. Показано также, что потере объёма мозга способствуют. Показано также, что потере объёма мозга способствуют. Полагают, что рост дипломатического влияния России мог стать вакуумом. Полагают, что рост дипломатического влияния России мог стать вакуумом. Полагают, что рост дипломатического влияния России мог стать вакуумом. Полагают, что рост дипломатического влияния России мог стать вакуумом. Полагают, что рост дипломатического влияния России мог стать вакуумом. Поле называется находящимся под ударом или битым, если при своём ходе фигура могла бы взять фигуру противника. Поле называется находящимся под ударом или битым, если при своём ходе фигура могла бы взять фигуру противника. Поле называется находящимся под ударом или битым, если при своём ходе фигура могла бы взять фигуру противника. Поле называется находящимся под ударом или битым, если при своём ходе фигура могла бы взять фигуру противника. Поле называется находящимся под ударом или битым, если при своём ходе фигура могла бы взять фигуру противника. Политическая стабильность притягивают как высококвалифицированных мигрантов. Политическая стабильность притягивают как высококвалифицированных мигрантов. Политическая стабильность притягивают как высококвалифицированных мигрантов. Положение азербайджанского населения города осложнилось. Положение азербайджанского населения города осложнилось. Положение азербайджанского населения города осложнилось. Положение азербайджанского населения города осложнилось. Положение азербайджанского населения города осложнилось. Полотебнов рекомендовал использовать плесень для лечения кожных заболеваний. Полотебнов рекомендовал использовать плесень для лечения кожных заболеваний. Полотебнов рекомендовал использовать плесень для лечения кожных заболеваний. Полотебнов рекомендовал использовать плесень для лечения кожных заболеваний. Полотебнов рекомендовал использовать плесень для лечения кожных заболеваний. Получаемые от коммерческих перевозок средства позволяли закупать запчасти для авиатехники. Получаемые от коммерческих перевозок средства позволяли закупать запчасти для авиатехники. Получаемые от коммерческих перевозок средства позволяли закупать запчасти для авиатехники. Получаемые от коммерческих перевозок средства позволяли закупать запчасти для авиатехники. Получаемые от коммерческих перевозок средства позволяли закупать запчасти для авиатехники. Полученные данные помогут в создании новых способов лечения. Полученные данные помогут в создании новых способов лечения. Полученные данные помогут в создании новых способов лечения. Полученные данные помогут в создании новых способов лечения. Полученные данные помогут в создании новых способов лечения. Пользователи могут приобрести дополнительное пространство. Пользователи могут приобрести дополнительное пространство. Пользователи могут приобрести дополнительное пространство. Тобольск внёс посильный вклад в развитие отечественной культуры. Тобольск внёс посильный вклад в развитие отечественной культуры. Тобольск внёс посильный вклад в развитие отечественной культуры. Тобольск внёс посильный вклад в развитие отечественной культуры. Тобольск внёс посильный вклад в развитие отечественной культуры. Помимо кратковременного увеличения доли метана в атмосфере. Помимо кратковременного увеличения доли метана в атмосфере. Помимо кратковременного увеличения доли метана в атмосфере. Помимо кратковременного увеличения доли метана в атмосфере. Помимо кратковременного увеличения доли метана в атмосфере. Помимо необычного принципа выбора городов для проведения турниров. Помимо необычного принципа выбора городов для проведения турниров. Помимо необычного принципа выбора городов для проведения турниров. Помимо прочих городов, стала стратегически важная крепость. Помимо прочих городов, стала стратегически важная крепость. Помимо прочих городов, стала стратегически важная крепость. Помимо прочих городов, стала стратегически важная крепость. Помимо прочих городов, стала стратегически важная крепость. Помимо фрондирования трибунов известен случай антицезарианского выступления мима. Помимо фрондирования трибунов известен случай антицезарианского выступления мима. Помимо фрондирования трибунов известен случай антицезарианского выступления мима. Помимо фрондирования трибунов известен случай антицезарианского выступления мима. Помимо фрондирования трибунов известен случай антицезарианского выступления мима. Порт также имеет выходы в зоны Волго-Камского и Волго-Донского бассейнов. Порт также имеет выходы в зоны Волго-Камского и Волго-Донского бассейнов. Порт также имеет выходы в зоны Волго-Камского и Волго-Донского бассейнов. Поскольку COVID-19 проявляется в широком спектре клинических форм с разными степенями тяжести. Поскольку операторы в Go не перегружаются, вычислительные операции. Поскольку операторы в Go не перегружаются, вычислительные операции. Поскольку операторы в Go не перегружаются, вычислительные операции. Поскольку операторы в Go не перегружаются, вычислительные операции. Поскольку операторы в Go не перегружаются, вычислительные операции. Поскольку у старших братьев Николая Павловича сыновей не было. Поскольку у старших братьев Николая Павловича сыновей не было. После Второй мировой войны языки союзных республик были объявлены равноправными. После Второй мировой войны языки союзных республик были объявлены равноправными. После Второй мировой войны языки союзных республик были объявлены равноправными. После Второй мировой войны языки союзных республик были объявлены равноправными. КНДР и Южная Корея подписали соглашение. КНДР и Южная Корея подписали соглашение. КНДР и Южная Корея подписали соглашение. После Крещения Руси из Византии пришли новые виды монументальной живописи. После Крещения Руси из Византии пришли новые виды монументальной живописи. После большого успеха в «Карнавальной ночи» специально для неё был написан сценарий фильма «Девушка с гитарой». После боя Джо был несогласен с решением судей. После войны Хесс возобновила концертную деятельность. После войны Хесс возобновила концертную деятельность. После гражданской войны доллары стали иметь хождение. После гражданской войны доллары стали иметь хождение. После гражданской войны доллары стали иметь хождение. После гражданской войны доллары стали иметь хождение. После гражданской войны доллары стали иметь хождение. После игры Диего сказал: «Я хотел бы, чтобы у меня был хрустальный шар. После игры Диего сказал: «Я хотел бы, чтобы у меня был хрустальный шар. После игры Диего сказал: «Я хотел бы, чтобы у меня был хрустальный шар. После игры Диего сказал: «Я хотел бы, чтобы у меня был хрустальный шар. После игры Диего сказал: «Я хотел бы, чтобы у меня был хрустальный шар. После категорического отказа парламента изменить билль. После категорического отказа парламента изменить билль. После категорического отказа парламента изменить билль. После категорического отказа парламента изменить билль. Салман Басаев скрывался от федеральных сил. После начала войны в Европе Турция сохраняла нейтралитет. Ривз получил более заметную роль в драме 1986 года «На берегу реки», основанной на реальных событиях. После охлаждения салициловая кислота выпадает в осадок. После охлаждения салициловая кислота выпадает в осадок. После охлаждения салициловая кислота выпадает в осадок. После охлаждения салициловая кислота выпадает в осадок. После первого неудачного сражения Джексон отступил на юг. После первого неудачного сражения Джексон отступил на юг. Ленин с супругой жил в пятикомнатной квартире. Ленин с супругой жил в пятикомнатной квартире. Ленин с супругой жил в пятикомнатной квартире. Ленин с супругой жил в пятикомнатной квартире. После поражения Консервативной партии на парламентских выборах 1964 года она стала представителем партии. После посадок автоматических аппаратов на поверхность Марса. После посадок автоматических аппаратов на поверхность Марса. После рождения у Павла старшего сына, наречённого Александром. После рождения у Павла старшего сына, наречённого Александром. После рождения у Павла старшего сына, наречённого Александром. После того как дело русов погибло, потревожили мусульмане могилы их. После травмы и длительного восстановления наверстать упущенное было очень сложно. После травмы и длительного восстановления наверстать упущенное было очень сложно. После травмы и длительного восстановления наверстать упущенное было очень сложно. После травмы и длительного восстановления наверстать упущенное было очень сложно. После травмы и длительного восстановления наверстать упущенное было очень сложно. После трагедии числятся более ста человек. После трагедии числятся более ста человек. После трагедии числятся более ста человек. После трагедии числятся более ста человек. После трагедии числятся более ста человек. Последним ударом в Индокитае стало тяжёлое поражение. Последним ударом в Индокитае стало тяжёлое поражение. Последним ударом в Индокитае стало тяжёлое поражение. Последним ударом в Индокитае стало тяжёлое поражение. Последним ударом в Индокитае стало тяжёлое поражение. Последовавшие боевые действия делятся на четыре крупных периода. Последовавшие боевые действия делятся на четыре крупных периода. Последовавшие боевые действия делятся на четыре крупных периода. Последовавшие боевые действия делятся на четыре крупных периода. Последовавшие боевые действия делятся на четыре крупных периода. Последующий пресс-релиз гласил. Последующий пресс-релиз гласил. Последующий пресс-релиз гласил. Последующий пресс-релиз гласил. Последующий пресс-релиз гласил. Постановление содержит прямой запрет на проведение операций. Постановление содержит прямой запрет на проведение операций. Постановление содержит прямой запрет на проведение операций. Постановление содержит прямой запрет на проведение операций. Постановление содержит прямой запрет на проведение операций. Постепенно ледовые участки продвигаются в глубь долины. Постепенно ледовые участки продвигаются в глубь долины. Постепенно ледовые участки продвигаются в глубь долины. Построение рыночной экономики осуществляется в Китае. Построение рыночной экономики осуществляется в Китае. Построение рыночной экономики осуществляется в Китае. Построение рыночной экономики осуществляется в Китае. Построение рыночной экономики осуществляется в Китае. Посттравматический стыд имеет мало общего с нормальным стыдом. Посттравматический стыд имеет мало общего с нормальным стыдом. Посттравматический стыд имеет мало общего с нормальным стыдом. Посттравматический стыд имеет мало общего с нормальным стыдом. Посттравматический стыд имеет мало общего с нормальным стыдом. Потеря рабочих мест отрицательно сказались на демографической ситуации. Потеря рабочих мест отрицательно сказались на демографической ситуации. Потеряв тысячу человек убитыми, персидская конница обратилась в бегство. Потеряв тысячу человек убитыми, персидская конница обратилась в бегство. Потеряв тысячу человек убитыми, персидская конница обратилась в бегство. Потеряв тысячу человек убитыми, персидская конница обратилась в бегство. Потеряв тысячу человек убитыми, персидская конница обратилась в бегство. Правда, сама же природа пришла на помощь человеку. Правда, сама же природа пришла на помощь человеку. Правда, сама же природа пришла на помощь человеку. Правда, сама же природа пришла на помощь человеку. Правда, сама же природа пришла на помощь человеку. Правду сказать, я говорила самой себе, что с этим человеком я непременно буду очень несчастной. Правду сказать, я говорила самой себе, что с этим человеком я непременно буду очень несчастной. Правду сказать, я говорила самой себе, что с этим человеком я непременно буду очень несчастной. Билль не был принят Конгрессом, а через год. Билль не был принят Конгрессом, а через год. Билль не был принят Конгрессом, а через год. Билль не был принят Конгрессом, а через год. Билль не был принят Конгрессом, а через год. Практика мумификации уступила место вниманию к мумии. Практика мумификации уступила место вниманию к мумии. Практика мумификации уступила место вниманию к мумии. Практика мумификации уступила место вниманию к мумии. Практика мумификации уступила место вниманию к мумии. Пребывание человека на территории Грузии началось в древнейшие времена. Пребывание человека на территории Грузии началось в древнейшие времена. Предание подтверждают шесть могил князей-военачальников у мавзолея. Предание подтверждают шесть могил князей-военачальников у мавзолея. Предание подтверждают шесть могил князей-военачальников у мавзолея. Предание подтверждают шесть могил князей-военачальников у мавзолея. Предание подтверждают шесть могил князей-военачальников у мавзолея. Представители других религиозных групп также присутствуют в Израиле. Предшественники лимфоцитов мигрируют в лимфоидную ткань. Предшественники лимфоцитов мигрируют в лимфоидную ткань. Предшественники лимфоцитов мигрируют в лимфоидную ткань. Предшественники лимфоцитов мигрируют в лимфоидную ткань. Предшественники лимфоцитов мигрируют в лимфоидную ткань. Президент Республики назначает премьер-министром кандидата, представленного парламентом. Президент Республики назначает премьер-министром кандидата, представленного парламентом. Президент Республики назначает премьер-министром кандидата, представленного парламентом. Премьер-министром всегда становится только лидер партии. Премьер-министром всегда становится только лидер партии. Преследование отдельных лиц за нарушение мира между государствами. Преследование отдельных лиц за нарушение мира между государствами. Преследование отдельных лиц за нарушение мира между государствами. Преследование отдельных лиц за нарушение мира между государствами. Преследование отдельных лиц за нарушение мира между государствами. Песков заявил, что у президента обычная спортивная травма. Преступлениям членов ку-клукс-клана предшествовало предупреждение. Преступлениям членов ку-клукс-клана предшествовало предупреждение. Преступлениям членов ку-клукс-клана предшествовало предупреждение. Преступлениям членов ку-клукс-клана предшествовало предупреждение. Преступлениям членов ку-клукс-клана предшествовало предупреждение. При Ярославе Мудром в Киеве возводились храмы. При Ярославе Мудром в Киеве возводились храмы. При Ярославе Мудром в Киеве возводились храмы. При Ярославе Мудром в Киеве возводились храмы. При Ярославе Мудром в Киеве возводились храмы. При временнообязанном состоянии крестьяне должны были платить. При временнообязанном состоянии крестьяне должны были платить. При временнообязанном состоянии крестьяне должны были платить. При временнообязанном состоянии крестьяне должны были платить. При временнообязанном состоянии крестьяне должны были платить. При втором варианте поражения суставов развивается артрит. При втором варианте поражения суставов развивается артрит. При втором варианте поражения суставов развивается артрит. При втором варианте поражения суставов развивается артрит. При ожидании в засаде тигр обычно выжидает, лёжа под ветром. При ожидании в засаде тигр обычно выжидает, лёжа под ветром. При ожидании в засаде тигр обычно выжидает, лёжа под ветром. При правильно установленной позиции, противник не может поднять голову. При правильно установленной позиции, противник не может поднять голову. При премьер-министре функционирует Совет национальной безопасности. При премьер-министре функционирует Совет национальной безопасности. При прямой демократии полноправные граждане принимают политические решения непосредственно. При этом он открывал как зимние, так и летние игры. При этом, если таможенный союз подразумевает запрещение любых пошлин в торговых отношениях между государствами-членами, то общий рынок распространяет эти принципы и на другие препятствия конкуренции и взаимодействия экономик стран союза. При этом, если таможенный союз подразумевает запрещение любых пошлин в торговых отношениях между государствами-членами, то общий рынок распространяет эти принципы и на другие препятствия конкуренции и взаимодействия экономик стран союза. При этом, если таможенный союз подразумевает запрещение любых пошлин в торговых отношениях между государствами-членами, то общий рынок распространяет эти принципы и на другие препятствия конкуренции и взаимодействия экономик стран союза. При этом, если таможенный союз подразумевает запрещение любых пошлин в торговых отношениях между государствами-членами, то общий рынок распространяет эти принципы и на другие препятствия конкуренции и взаимодействия экономик стран союза. При этом, если таможенный союз подразумевает запрещение любых пошлин в торговых отношениях между государствами-членами, то общий рынок распространяет эти принципы и на другие препятствия конкуренции и взаимодействия экономик стран союза. Приблизительно один из четырёх школьников. Прибыв на Корсику, Наполеон вновь окунулся в политику. Прибыв на Корсику, Наполеон вновь окунулся в политику. Привнесённые в Африку извне религии встречаются как в чистом виде. Привнесённые в Африку извне религии встречаются как в чистом виде. Привнесённые в Африку извне религии встречаются как в чистом виде. Привнесённые в Африку извне религии встречаются как в чистом виде. Привнесённые в Африку извне религии встречаются как в чистом виде. Применение же средств может нанести вред пациентам. Применение же средств может нанести вред пациентам. Применение же средств может нанести вред пациентам. При мастурбации в ванной используют силу струи воды. При мастурбации в ванной используют силу струи воды. Примеры полезных органических твёрдых тел - органические люминофоры. Примеры полезных органических твёрдых тел - органические люминофоры. Примеры полезных органических твёрдых тел - органические люминофоры. Примеры полезных органических твёрдых тел - органические люминофоры. Примеры полезных органических твёрдых тел - органические люминофоры. Принято считать, что в откровениях содержится меньше. Принято считать, что в откровениях содержится меньше. Принято считать, что в откровениях содержится меньше. Принято считать, что в откровениях содержится меньше. Принято считать, что в откровениях содержится меньше. Приповерхностные части планеты называются географической оболочкой. Природа знает лучше - закон имеет двойной смысл. Природа знает лучше - закон имеет двойной смысл. Природа знает лучше - закон имеет двойной смысл. Природа знает лучше - закон имеет двойной смысл. Природные экосистемы предгорий Альп подвергались непрерывному антропогенному воздействию. Природные экосистемы предгорий Альп подвергались непрерывному антропогенному воздействию. Природные экосистемы предгорий Альп подвергались непрерывному антропогенному воздействию. Природные экосистемы предгорий Альп подвергались непрерывному антропогенному воздействию. Причинами широчайшего распространения практик домашнего ремонта стали традиции. Пришедшие к власти монтаньяры столкнулись с драматическими обстоятельствами. Пришедшие к власти монтаньяры столкнулись с драматическими обстоятельствами. Пришедшие к власти монтаньяры столкнулись с драматическими обстоятельствами. Пришедшие к власти монтаньяры столкнулись с драматическими обстоятельствами. Пришедшие к власти монтаньяры столкнулись с драматическими обстоятельствами. Пробыв в заключении около года. Пробыв в заключении около года. Пробыв в заключении около года. Проверкой достоверности сценария занималась Донна Нельсон. Проверкой достоверности сценария занималась Донна Нельсон. Проверкой достоверности сценария занималась Донна Нельсон. Проверкой достоверности сценария занималась Донна Нельсон. Проверкой достоверности сценария занималась Донна Нельсон. Провозглашены обязательным участие в мессе, причащение мирян под одним видом. Прогрессивный иудаизм стремится к обновлению и реформе. Прогрессивный иудаизм стремится к обновлению и реформе. Прогрессивный иудаизм стремится к обновлению и реформе. Продукция промышленного животноводства стала одной из основных статей экономики. Происходят взаимные этнические чистки. Происходят взаимные этнические чистки. Происходят взаимные этнические чистки. Протестные настроения подогревались армянскими националистическими организациями. Протестные настроения подогревались армянскими националистическими организациями. Противники утверждали, что Ельцину были свойственны жестокость. Противники утверждали, что Ельцину были свойственны жестокость. Противники утверждали, что Ельцину были свойственны жестокость. Противники утверждали, что Ельцину были свойственны жестокость. Противники утверждали, что Ельцину были свойственны жестокость. Психика собаки является результатом совместной эволюции. Психика собаки является результатом совместной эволюции. Психика собаки является результатом совместной эволюции. Психика собаки является результатом совместной эволюции. Психика собаки является результатом совместной эволюции. Пусть все знают, что я, посвящая все свои силы благу народному, буду охранять его. Пётр I создаёт современный флот, реформирует армию. Пётр I создаёт современный флот, реформирует армию. Пётр I создаёт современный флот, реформирует армию. Пётр I создаёт современный флот, реформирует армию. Пётр I создаёт современный флот, реформирует армию. Пётр разрушил прежнюю замкнутость служилого класса. Пётр разрушил прежнюю замкнутость служилого класса. Работа веб-версии осуществляется совместно с телефоном. Работа веб-версии осуществляется совместно с телефоном. Работа веб-версии осуществляется совместно с телефоном. Работу государственных органов координирует Министерство культуры. Работу государственных органов координирует Министерство культуры. Работу государственных органов координирует Министерство культуры. Работу государственных органов координирует Министерство культуры. Работу государственных органов координирует Министерство культуры. Развивались преимущественно лёгкая, пищевая, деревообрабатывающая и химическая промышленности. Развитие между странами - участниками общего рынка (впоследствии переименованного в единый рынок). Разделение равнинных и горных районов лишило бы летних пастбищ. Различные же теории заговоров создают атмосферу страха. Различные же теории заговоров создают атмосферу страха. Различные же теории заговоров создают атмосферу страха. Различные же теории заговоров создают атмосферу страха. Различные же теории заговоров создают атмосферу страха. Разработчики могут бесплатно зарегистрироваться на сайте Apple. Разработчики могут бесплатно зарегистрироваться на сайте Apple. Разработчики могут бесплатно зарегистрироваться на сайте Apple. Разработчики могут бесплатно зарегистрироваться на сайте Apple. Разработчики могут бесплатно зарегистрироваться на сайте Apple. Ракетный полигон требовалось ввести в строй быстро. Ракетный полигон требовалось ввести в строй быстро. Ракетный полигон требовалось ввести в строй быстро. Ракетный полигон требовалось ввести в строй быстро. Ракетный полигон требовалось ввести в строй быстро. Рамзан Кадыров назвал возрождение многонационального сообщества. Рамзан Кадыров назвал возрождение многонационального сообщества. Ранее глава государства избирали депутаты Народного меджлиса. Ранее глава государства избирали депутаты Народного меджлиса. Ранее глава государства избирали депутаты Народного меджлиса. Ранее глава государства избирали депутаты Народного меджлиса. Ранее глава государства избирали депутаты Народного меджлиса. Ранее существовало два села: Токари и Малая Чернетчина. Рассеянный склероз обычно возникает в возрасте. Рассеянный склероз обычно возникает в возрасте. Рассеянный склероз обычно возникает в возрасте. Рассеянный склероз обычно возникает в возрасте. Рассеянный склероз обычно возникает в возрасте. Реальных политических последствий данное решение не имело. Реальных политических последствий данное решение не имело. Реальных политических последствий данное решение не имело. Реальных политических последствий данное решение не имело. Реклама навязывает потребителю товары. Реклама навязывает потребителю товары. Речная сеть лучше развита на северо-востоке. Речная сеть лучше развита на северо-востоке. Речная сеть лучше развита на северо-востоке. Речная сеть лучше развита на северо-востоке. Речная сеть лучше развита на северо-востоке. Решающее наступление французов задержалось на несколько лет. Решающее наступление французов задержалось на несколько лет. Решающее наступление французов задержалось на несколько лет. Решающее наступление французов задержалось на несколько лет. Решающее наступление французов задержалось на несколько лет. Рис всегда имел огромное значение для китайцев. Рис всегда имел огромное значение для китайцев. Рис всегда имел огромное значение для китайцев. Рис всегда имел огромное значение для китайцев. Рис всегда имел огромное значение для китайцев. Родители детей с синдромом Аспергера страдают от стресса. Родители детей с синдромом Аспергера страдают от стресса. Роза Клебб пытается украсть устройство и убить Бонда. Роза Клебб пытается украсть устройство и убить Бонда. Роза Клебб пытается украсть устройство и убить Бонда. Отец работал хирургом и главврачом районной больницы. Отец работал хирургом и главврачом районной больницы. Отец работал хирургом и главврачом районной больницы. Рост населения в Европе медленный по сравнению с другими частями света. Рост населения в Европе медленный по сравнению с другими частями света. Рост населения в Европе медленный по сравнению с другими частями света. Рост населения в Европе медленный по сравнению с другими частями света. Рост населения в Европе медленный по сравнению с другими частями света. Рост сферы услуг способствовал снижению уровня безработицы внутри страны. Рост сферы услуг способствовал снижению уровня безработицы внутри страны. Рост сферы услуг способствовал снижению уровня безработицы внутри страны. Рост сферы услуг способствовал снижению уровня безработицы внутри страны. Рост сферы услуг способствовал снижению уровня безработицы внутри страны. Росту города способствует и удачное географическое положение. Росту города способствует и удачное географическое положение. Росту города способствует и удачное географическое положение. Росту города способствует и удачное географическое положение. Росту города способствует и удачное географическое положение. Русские войска уверенно теснили шведов из Прибалтики. Русские войска уверенно теснили шведов из Прибалтики. Русские войска уверенно теснили шведов из Прибалтики. Русский писатель подчинился мирским и духовным авторитетам. Русский писатель подчинился мирским и духовным авторитетам. Русский писатель подчинился мирским и духовным авторитетам. Русский писатель подчинился мирским и духовным авторитетам. Русский язык продолжает нести гуманитарную функцию: он необходим для чтения литературы на русском языке. Русский язык продолжает нести гуманитарную функцию: он необходим для чтения литературы на русском языке. Ряд островов прерывается и морские волны несутся. Ряд островов прерывается и морские волны несутся. Ряд островов прерывается и морские волны несутся. Ряд островов прерывается и морские волны несутся. Ряд островов прерывается и морские волны несутся. Ряд стран и политических партий заявили. Ряд стран и политических партий заявили. Рядом проходит Набережная Рабочей Молодёжи. Рядом проходит Набережная Рабочей Молодёжи. Рядом проходит Набережная Рабочей Молодёжи. Рядом проходит Набережная Рабочей Молодёжи. Рядом проходит Набережная Рабочей Молодёжи. С 1 января 2020 года стоимость проезда в автобусах составляет 11,5 рублей. Котловина входит в Ренийский район Одесской области. С высотой лес постепенно заменяется зарослями кедрового стланика. С высотой лес постепенно заменяется зарослями кедрового стланика. С высотой лес постепенно заменяется зарослями кедрового стланика. С высотой лес постепенно заменяется зарослями кедрового стланика. С высотой лес постепенно заменяется зарослями кедрового стланика. В западной культуре существует стереотип отношения к анальной области. В западной культуре существует стереотип отношения к анальной области. В западной культуре существует стереотип отношения к анальной области. В западной культуре существует стереотип отношения к анальной области. В западной культуре существует стереотип отношения к анальной области. В городе сосредоточилось значительное число объектов просвещения. В городе сосредоточилось значительное число объектов просвещения. В городе сосредоточилось значительное число объектов просвещения. В городе сосредоточилось значительное число объектов просвещения. В городе сосредоточилось значительное число объектов просвещения. С началом Второй мировой войны Хесс начала выступать со знаменитыми концертами. С началом Второй мировой войны Хесс начала выступать со знаменитыми концертами. С началом Второй мировой войны Хесс начала выступать со знаменитыми концертами. С отъездом государя в Ставку, Распутин стал регулярно бывать в Царском Селе. С отъездом государя в Ставку, Распутин стал регулярно бывать в Царском Селе. С падения Гадрута ситуация изменилась. С падения Гадрута ситуация изменилась. Линдланд нанес Емельяненко рассечение над правым глазом. Линдланд нанес Емельяненко рассечение над правым глазом. Линдланд нанес Емельяненко рассечение над правым глазом. Линдланд нанес Емельяненко рассечение над правым глазом. Линдланд нанес Емельяненко рассечение над правым глазом. С первых лет прослеживалась тенденция снижения роли Боярской думы. С первых лет прослеживалась тенденция снижения роли Боярской думы. С первых лет прослеживалась тенденция снижения роли Боярской думы. С первых лет прослеживалась тенденция снижения роли Боярской думы. С первых лет прослеживалась тенденция снижения роли Боярской думы. С политической карты мира исчезли четыре империи: Германская, Османская и Австро-Венгрия. С распадом Советского Союза ситуация стала неконтролируемой. С распадом Советского Союза ситуация стала неконтролируемой. С созданием водохранилищ тепловой режим Волги изменился. С созданием водохранилищ тепловой режим Волги изменился. С точки зрения Страуструпа, предпочтительнее внесение в ядро. С точки зрения Страуструпа, предпочтительнее внесение в ядро. С точки зрения Страуструпа, предпочтительнее внесение в ядро. Макрон начал проводить перестановки в руководстве спецслужб. Макрон начал проводить перестановки в руководстве спецслужб. Макрон начал проводить перестановки в руководстве спецслужб. Макрон начал проводить перестановки в руководстве спецслужб. Макрон начал проводить перестановки в руководстве спецслужб. Сайт предоставляет возможность самостоятельно составить маршрут для путешествия. Сайт предоставляет возможность самостоятельно составить маршрут для путешествия. Сам адмирал поддержал кандидатуру Болдырева, командовавшего армией. Сам адмирал поддержал кандидатуру Болдырева, командовавшего армией. Самарская область в спорте - одна из ведущих в России. Самарская область в спорте - одна из ведущих в России. Самарская область в спорте - одна из ведущих в России. Самарская область в спорте - одна из ведущих в России. Самарская область в спорте - одна из ведущих в России. Самарский вокзал является самым высоким зданием вокзала. Самарский вокзал является самым высоким зданием вокзала. Самарский историко-краеведческий музей - самый крупный музей. Самарский историко-краеведческий музей - самый крупный музей. Самарский историко-краеведческий музей - самый крупный музей. Самарский историко-краеведческий музей - самый крупный музей. Самой распространённой формой превентативной активности являются образовательные кампании. Самой распространённой формой превентативной активности являются образовательные кампании. Самой распространённой формой превентативной активности являются образовательные кампании. Самосборка вирусных частиц даёт дополнительное подтверждение гипотезы. Самосборка вирусных частиц даёт дополнительное подтверждение гипотезы. Самосборка вирусных частиц даёт дополнительное подтверждение гипотезы. Самосборка вирусных частиц даёт дополнительное подтверждение гипотезы. Самосборка вирусных частиц даёт дополнительное подтверждение гипотезы. Самый упоминаемый период, нашедший отражение. Самый упоминаемый период, нашедший отражение. Самый упоминаемый период, нашедший отражение. Самый упоминаемый период, нашедший отражение. Свободному развитию буржуазных отношений препятствовали феодальные интересы. Свободному развитию буржуазных отношений препятствовали феодальные интересы. Свободному развитию буржуазных отношений препятствовали феодальные интересы. Свободному развитию буржуазных отношений препятствовали феодальные интересы. Свободному развитию буржуазных отношений препятствовали феодальные интересы. Иисус прославляется как пророк и целитель. Иисус прославляется как пророк и целитель. Иисус прославляется как пророк и целитель. Иисус прославляется как пророк и целитель. Иисус прославляется как пророк и целитель. Север нуждался в сырье с Юга. Север нуждался в сырье с Юга. Север нуждался в сырье с Юга. Север нуждался в сырье с Юга. Север нуждался в сырье с Юга. Сегодня отношения между Арменией и Кипром включают сотрудничество. Сегодня отношения между Арменией и Кипром включают сотрудничество. Сегодня отношения между Арменией и Кипром включают сотрудничество. Сегодня спасательную службу собаки несут в горах. Сегодня спасательную службу собаки несут в горах. Сегодня спасательную службу собаки несут в горах. Сегодня спасательную службу собаки несут в горах. Сегодня спасательную службу собаки несут в горах. Серверы Realms для Java Edition не поддерживают пользовательские плагины. Серверы Realms для Java Edition не поддерживают пользовательские плагины. Серверы Realms для Java Edition не поддерживают пользовательские плагины. Серверы Realms для Java Edition не поддерживают пользовательские плагины. Серверы Realms для Java Edition не поддерживают пользовательские плагины. Симптомами бронхолёгочной формы муковисцидоза являются вялость. Симптомами бронхолёгочной формы муковисцидоза являются вялость. Симптомами бронхолёгочной формы муковисцидоза являются вялость. Симптомами бронхолёгочной формы муковисцидоза являются вялость. Симптомами бронхолёгочной формы муковисцидоза являются вялость. Синагога обычно имеет прямоугольную форму; для мужчин и женщин есть раздельные помещения. Система распознавания эмоций основанная на анализе. Система распознавания эмоций основанная на анализе. Система распознавания эмоций основанная на анализе. Система распознавания эмоций основанная на анализе. Система распознавания эмоций основанная на анализе. Систр использовались женщинами в религиозных церемониях. Систр использовались женщинами в религиозных церемониях. Систр использовались женщинами в религиозных церемониях. Систр использовались женщинами в религиозных церемониях. Систр использовались женщинами в религиозных церемониях. Скорость мутирования значительно различается не только у бактерий. Скорость мутирования значительно различается не только у бактерий. Скорость мутирования значительно различается не только у бактерий. Скорость мутирования значительно различается не только у бактерий. Скорость мутирования значительно различается не только у бактерий. Скульптура создавалась и развивалась, чтобы представить богов. Скульптура создавалась и развивалась, чтобы представить богов. Скульптура создавалась и развивалась, чтобы представить богов. Скульптура создавалась и развивалась, чтобы представить богов. Скульптура создавалась и развивалась, чтобы представить богов. Джон Хинкли лечился от психического расстройства. Джон Хинкли лечился от психического расстройства. Джон Хинкли лечился от психического расстройства. Джон Хинкли лечился от психического расстройства. Джон Хинкли лечился от психического расстройства. Случайное касание фигуры, например, если игрок задел фигуру рукой. Случайное касание фигуры, например, если игрок задел фигуру рукой. Слывёт вольнодумцем, знает французский, разбирается в литературе. Слывёт вольнодумцем, знает французский, разбирается в литературе. Слывёт вольнодумцем, знает французский, разбирается в литературе. Смена сельской школы в Адольфу не понравилась. Сначала ощущаются слабовыраженные сигналы в виде проблем со сном. Сначала ощущаются слабовыраженные сигналы в виде проблем со сном. Сначала ощущаются слабовыраженные сигналы в виде проблем со сном. Сначала ощущаются слабовыраженные сигналы в виде проблем со сном. Сначала ощущаются слабовыраженные сигналы в виде проблем со сном. Собаки издают лай при встрече хозяина. Собаки издают лай при встрече хозяина. Собаки издают лай при встрече хозяина. Собаки издают лай при встрече хозяина. Советская Россия не вошла в число держав-победительниц. Советская Россия не вошла в число держав-победительниц. Советская Россия не вошла в число держав-победительниц. Советская Россия не вошла в число держав-победительниц. Советская Россия не вошла в число держав-победительниц. Советская политическая система отвергла принцип разделения и независимости. Советская политическая система отвергла принцип разделения и независимости. Советская политическая система отвергла принцип разделения и независимости. Советская политическая система отвергла принцип разделения и независимости. Советская политическая система отвергла принцип разделения и независимости. Советские литературоведы уделяли большое внимание творческому наследию Тургенева. Советские литературоведы уделяли большое внимание творческому наследию Тургенева. Советские литературоведы уделяли большое внимание творческому наследию Тургенева. Советские литературоведы уделяли большое внимание творческому наследию Тургенева. Современные методы терапии лишь несколько смягчают симптомы. Современные методы терапии лишь несколько смягчают симптомы. Современные методы терапии лишь несколько смягчают симптомы. Доступное среднестатистическому человеку питание не может обеспечить его потребности в витамине D. Доступное среднестатистическому человеку питание не может обеспечить его потребности в витамине D. Доступное среднестатистическому человеку питание не может обеспечить его потребности в витамине D. Согласно заключённому тогда контракту. Согласно заключённому тогда контракту. Согласно заключённому тогда контракту. Согласно заключённому тогда контракту. Согласно заключённому тогда контракту. Согласно исследованиям, Сочинская агломерация уже сложена. Согласно исследованиям, Сочинская агломерация уже сложена. Согласно исследованиям, Сочинская агломерация уже сложена. Согласно исследованиям, Сочинская агломерация уже сложена. Согласно исследованиям, Сочинская агломерация уже сложена. Согласно наблюдениям, поверхность Марса состоит из базальта. коммунизм предполагает наличие высокоразвитых производительных сил. коммунизм предполагает наличие высокоразвитых производительных сил. коммунизм предполагает наличие высокоразвитых производительных сил. коммунизм предполагает наличие высокоразвитых производительных сил. коммунизм предполагает наличие высокоразвитых производительных сил. Создание в 2000 году системы федеральных округов укрепило властную вертикаль. Создание в 2000 году системы федеральных округов укрепило властную вертикаль. Создание в 2000 году системы федеральных округов укрепило властную вертикаль. Создание в 2000 году системы федеральных округов укрепило властную вертикаль. Создание в 2000 году системы федеральных округов укрепило властную вертикаль. Сокращается доля и доминирование дворянства. Сокращается доля и доминирование дворянства. Сокращается доля и доминирование дворянства. Сокращается доля и доминирование дворянства. Сокращается доля и доминирование дворянства. Соловьёв критикует также толстовскую идею о следовании голосу совести. Соловьёв критикует также толстовскую идею о следовании голосу совести. Соловьёв критикует также толстовскую идею о следовании голосу совести. Соловьёв критикует также толстовскую идею о следовании голосу совести. Сонный паралич обычно встречается у сменных рабочих. Сонный паралич обычно встречается у сменных рабочих. Сонный паралич обычно встречается у сменных рабочих. Сонный паралич обычно встречается у сменных рабочих. Сонный паралич обычно встречается у сменных рабочих. Сохранение турецкой независимости являются делом величайшей важности. Сохранение турецкой независимости являются делом величайшей важности. Сохранение турецкой независимости являются делом величайшей важности. Сочи - крупнейший курортный город России, важный транспортный узел. Сочи - крупнейший курортный город России, важный транспортный узел. Сочи - крупнейший курортный город России, важный транспортный узел. Сочи - крупнейший курортный город России, важный транспортный узел. Сочи - крупнейший курортный город России, важный транспортный узел. Сразу после заключения договора с Германией началась реквизиция. Сразу после заключения договора с Германией началась реквизиция. Сразу после заключения договора с Германией началась реквизиция. Сразу после заключения договора с Германией началась реквизиция. Сразу после заключения договора с Германией началась реквизиция. Среди болезней кошек выделяют инфекционные и внутренние болезни. Среди болезней кошек выделяют инфекционные и внутренние болезни. Среди болезней кошек выделяют инфекционные и внутренние болезни. Среди других мимолётных увлечений писателя было два. Средняя и абсолютная высоты Волжского бассейна меньше Камского. Средняя и абсолютная высоты Волжского бассейна меньше Камского. Средняя и абсолютная высоты Волжского бассейна меньше Камского. Сталин имел телесные дефекты. Сталин имел телесные дефекты. Сталин имел телесные дефекты. Сталинградская битва оказала большое влияние. Сталинградская битва оказала большое влияние. Старое название было отброшено также по причине того, что шизофрения не обязательно. Ствольная коробка состоит из двух частей: собственно ствольной коробки. Ствольная коробка состоит из двух частей: собственно ствольной коробки. Стимуляция в умеренной степени влияет на поведение и настроение. Стимуляция в умеренной степени влияет на поведение и настроение. Стимуляция в умеренной степени влияет на поведение и настроение. Стимуляция в умеренной степени влияет на поведение и настроение. Стимуляция в умеренной степени влияет на поведение и настроение. Единого стандартного вооружения не было. Единого стандартного вооружения не было. Единого стандартного вооружения не было. Единого стандартного вооружения не было. Единого стандартного вооружения не было. Стоит также учесть, что как раз в дни революции в Москве было более важное событие. Стоит также учесть, что как раз в дни революции в Москве было более важное событие. Стоит также учесть, что как раз в дни революции в Москве было более важное событие. Стоит также учесть, что как раз в дни революции в Москве было более важное событие. Стоит также учесть, что как раз в дни революции в Москве было более важное событие. Стоит, однако, заметить, что собственные грамоты. Столкновение чёрных дыр между собой и с другими массивными объектами приводит к гравитационному излучению. Банки начали предлагать новые виды коротких безотзывных вкладов. Банки начали предлагать новые виды коротких безотзывных вкладов. Банки начали предлагать новые виды коротких безотзывных вкладов. Банки начали предлагать новые виды коротких безотзывных вкладов. Банки начали предлагать новые виды коротких безотзывных вкладов. Стороны продолжили взаимные обвинения в нанесении ударов. Стороны продолжили взаимные обвинения в нанесении ударов. Стороны продолжили взаимные обвинения в нанесении ударов. Стороны продолжили взаимные обвинения в нанесении ударов. Страна лидирует в сфере личной свободы, защиты прав инвесторов. Страна лидирует в сфере личной свободы, защиты прав инвесторов. Страна лидирует в сфере личной свободы, защиты прав инвесторов. Страна лидирует в сфере личной свободы, защиты прав инвесторов. Страна лидирует в сфере личной свободы, защиты прав инвесторов. Страна не только включилась в борьбу за гегемонию. Страна не только включилась в борьбу за гегемонию. Страна не только включилась в борьбу за гегемонию. Страна не только включилась в борьбу за гегемонию. Страна не только включилась в борьбу за гегемонию. Страховая компания выплачивает клиентам компенсацию. Страховая компания выплачивает клиентам компенсацию. Строительство новых дорог играет важную роль. Строительство новых дорог играет важную роль. Строительство новых дорог играет важную роль. Строительство новых дорог играет важную роль. Строительство новых дорог играет важную роль. Суд присяжных признал Банди виновным в двух убийствах. Суицид в вулкане подразумевает прыжок в расплавленную лаву. Суицид в вулкане подразумевает прыжок в расплавленную лаву. Суицид в вулкане подразумевает прыжок в расплавленную лаву. Суицид в вулкане подразумевает прыжок в расплавленную лаву. Суицид в вулкане подразумевает прыжок в расплавленную лаву. Суть социализма - это освобождение и развитие производительных сил. Суть социализма - это освобождение и развитие производительных сил. Суть социализма - это освобождение и развитие производительных сил. Суть социализма - это освобождение и развитие производительных сил. Суть социализма - это освобождение и развитие производительных сил. Сухопутные войска Азербайджана - вид вооружённых сил. Сухопутные войска Азербайджана - вид вооружённых сил. Сухопутные войска Азербайджана - вид вооружённых сил. Сухопутные войска Азербайджана - вид вооружённых сил. Сухопутные войска Азербайджана - вид вооружённых сил. Существует гораздо больше доказательств в поддержку биологических причин. Существует гораздо больше доказательств в поддержку биологических причин. подлинник иконы находится в храме Ярославских Чудотворцев. подлинник иконы находится в храме Ярославских Чудотворцев. подлинник иконы находится в храме Ярославских Чудотворцев. Существует также Озеро Виннипегозис, прославившееся морским чудовищем под названием Виннепого. Существует также критический буддизм - направление в буддийской философии. Существует также критический буддизм - направление в буддийской философии. Существует также критический буддизм - направление в буддийской философии. Существует также критический буддизм - направление в буддийской философии. Существует также критический буддизм - направление в буддийской философии. Существуют предположения, что для мужчин попытка самоубийства воспринимается как «не мужественная». Существуют предположения, что для мужчин попытка самоубийства воспринимается как «не мужественная». Существуют различные интерпретации учения Маркса, связанные с различными партиями. Существуют различные интерпретации учения Маркса, связанные с различными партиями. Существуют различные интерпретации учения Маркса, связанные с различными партиями. Существуют различные интерпретации учения Маркса, связанные с различными партиями. Существуют различные интерпретации учения Маркса, связанные с различными партиями. Существуют совпадения с несколькими взаимодополняющими темами. Существуют турниры. Существуют шахматы для более чем двух игроков: трёх- и четырёхсторонние шахматы, в которых за одной доской играют три или четыре игрока (пара на пару или каждый за себя). Существуют шахматы для более чем двух игроков: трёх- и четырёхсторонние шахматы, в которых за одной доской играют три или четыре игрока (пара на пару или каждый за себя). Существуют шахматы для более чем двух игроков: трёх- и четырёхсторонние шахматы, в которых за одной доской играют три или четыре игрока (пара на пару или каждый за себя). Схожие процессы происходят и в других европейских странах. Схожие процессы происходят и в других европейских странах. Схожие процессы происходят и в других европейских странах. Схожие процессы происходят и в других европейских странах. Схожие процессы происходят и в других европейских странах. Так же на территории стадиона располагается лыже-роллерная трасса. Так же на территории стадиона располагается лыже-роллерная трасса. Так началась эпоха Windows, прославившая Гейтса. Так началась эпоха Windows, прославившая Гейтса. Так началась эпоха Windows, прославившая Гейтса. Так началась эпоха Windows, прославившая Гейтса. Так началась эпоха Windows, прославившая Гейтса. Время прибытия Чета практически совпадает с годами службы. Время прибытия Чета практически совпадает с годами службы. Время прибытия Чета практически совпадает с годами службы. Председатель вправе созывать совет на внеочередное заседание. Председатель вправе созывать совет на внеочередное заседание. Председатель вправе созывать совет на внеочередное заседание. Председатель вправе созывать совет на внеочередное заседание. Председатель вправе созывать совет на внеочередное заседание. Рогозов отметил, что нововведение связано с ростом дел. Рогозов отметил, что нововведение связано с ростом дел. Рогозов отметил, что нововведение связано с ростом дел. Также в вооружённых силах стран нацистского блока сражались добровольческие силы. Также в вооружённых силах стран нацистского блока сражались добровольческие силы. Также в вооружённых силах стран нацистского блока сражались добровольческие силы. Также в вооружённых силах стран нацистского блока сражались добровольческие силы. Также в вооружённых силах стран нацистского блока сражались добровольческие силы. Также в июне 2019 года Карлсен откажется защищать свой чемпионский титул. Также в пределах города находится часть парка Лосиный Остров. Также в пределах города находится часть парка Лосиный Остров. Также в пределах города находится часть парка Лосиный Остров. Также в пределах города находится часть парка Лосиный Остров. Также в пределах города находится часть парка Лосиный Остров. Также в рамках конвенции, команда платформы анонсирует новые обновления. Также в рамках конвенции, команда платформы анонсирует новые обновления. Также в рамках конвенции, команда платформы анонсирует новые обновления. Также в рамках конвенции, команда платформы анонсирует новые обновления. Также в рамках конвенции, команда платформы анонсирует новые обновления. Также во многих играх серии присутствуют предметы. Также во многих играх серии присутствуют предметы. Также во многих играх серии присутствуют предметы. Также во многих играх серии присутствуют предметы. Также во многих играх серии присутствуют предметы. Плазма выздоровевших может причинять прямые повреждения эндотелиальным клеткам. Плазма выздоровевших может причинять прямые повреждения эндотелиальным клеткам. Плазма выздоровевших может причинять прямые повреждения эндотелиальным клеткам. Также отсутствуют двуязычные университеты (за исключением королевской школы). Также отсутствуют двуязычные университеты (за исключением королевской школы). Также отсутствуют двуязычные университеты (за исключением королевской школы). Также разработчики отказались от встроенного порта. Также разработчики отказались от встроенного порта. Также разработчики отказались от встроенного порта. Также разработчики отказались от встроенного порта. Также разработчики отказались от встроенного порта. Также серологические тесты могут помочь в определении иммунитета. Также серологические тесты могут помочь в определении иммунитета. Также серологические тесты могут помочь в определении иммунитета. Также серологические тесты могут помочь в определении иммунитета. Также серологические тесты могут помочь в определении иммунитета. Также следствием было установлено, что не менее девяти террористов. Также следствием было установлено, что не менее девяти террористов. Также следствием было установлено, что не менее девяти террористов. Также следствием было установлено, что не менее девяти террористов. Также следствием было установлено, что не менее девяти террористов. Таким образом, если в структуре у одного из атомов изображена недостаточная валентность. Таким образом, если в структуре у одного из атомов изображена недостаточная валентность. Таким образом, если в структуре у одного из атомов изображена недостаточная валентность. Таким образом, если, например, превращённая из пешки фигура угрожает королю противника. Таким образом, если, например, превращённая из пешки фигура угрожает королю противника. Таким образом, если, например, превращённая из пешки фигура угрожает королю противника. Там нет крупных ледников и озёр. Там нет крупных ледников и озёр. Там нет крупных ледников и озёр. Там нет крупных ледников и озёр. Там нет крупных ледников и озёр. Там располагались фортификационные сооружения. Там располагались фортификационные сооружения. Там располагались фортификационные сооружения. Там располагались фортификационные сооружения. Там располагались фортификационные сооружения. Те, кто посещает это мероприятие, не знают заранее, что они увидят. Те, кто посещает это мероприятие, не знают заранее, что они увидят. Те, кто посещает это мероприятие, не знают заранее, что они увидят. Театр Армении - древнейший театр европейского типа. Театр Армении - древнейший театр европейского типа. Театр эстрады расположен в Доме искусств на горе Хаберберг. Театр эстрады расположен в Доме искусств на горе Хаберберг. Театральная площадь находится в Пролетарском районе. Театральная площадь находится в Пролетарском районе. Театральная площадь находится в Пролетарском районе. Театральная площадь находится в Пролетарском районе. Температура, скорость реакции, давление и плотность увеличивались. Температура, скорость реакции, давление и плотность увеличивались. Температура, скорость реакции, давление и плотность увеличивались. Температура, скорость реакции, давление и плотность увеличивались. Температура, скорость реакции, давление и плотность увеличивались. Теория совместного формирования предполагает одновременное формирование. Территориальными единицами Москвы являются районы, поселения и административные округа. Территориальными единицами Москвы являются районы, поселения и административные округа. Террористы не соответствовали типичному портрету шахида. Террористы не соответствовали типичному портрету шахида. Террористы не соответствовали типичному портрету шахида. Террористы не соответствовали типичному портрету шахида. Террористы не соответствовали типичному портрету шахида. Тигры, как правило, избегают мест обитания гребнистых крокодилов. Тимур очень большое внимание уделял развитию исламской культуры. Тимур очень большое внимание уделял развитию исламской культуры. Тимур очень большое внимание уделял развитию исламской культуры. Тимур очень большое внимание уделял развитию исламской культуры. Тимур очень большое внимание уделял развитию исламской культуры. Тиссо явился пионером медицинских исследований мастурбации. Тиссо явился пионером медицинских исследований мастурбации. Тиссо явился пионером медицинских исследований мастурбации. Тиссо явился пионером медицинских исследований мастурбации. Тиссо явился пионером медицинских исследований мастурбации. Товарищи, обычно дореволюционные собрания и съезды кончались призывом. Толпы санкюлотов просто разбежались в поисках укрытия. Толпы санкюлотов просто разбежались в поисках укрытия. Толпы санкюлотов просто разбежались в поисках укрытия. Толпы санкюлотов просто разбежались в поисках укрытия. Толпы санкюлотов просто разбежались в поисках укрытия. Торговая площадка заявляет, что дает региональным покупателям возможность выбора. Торговая площадка заявляет, что дает региональным покупателям возможность выбора. Торговая площадка заявляет, что дает региональным покупателям возможность выбора. Тоскливая депрессия типична для промежуточных периодов. Тоскливая депрессия типична для промежуточных периодов. Точно неизвестно, когда псовая охота приобрела популярность. Точно неизвестно, когда псовая охота приобрела популярность. Точно неизвестно, когда псовая охота приобрела популярность. Точно неизвестно, когда псовая охота приобрела популярность. Точно неизвестно, когда псовая охота приобрела популярность. Точный подсчёт числа жертв невозможен. Точный подсчёт числа жертв невозможен. Точный подсчёт числа жертв невозможен. Точный подсчёт числа жертв невозможен. Точный подсчёт числа жертв невозможен. Бразилия играла важную роль в системе коллективной безопасности. Бразилия играла важную роль в системе коллективной безопасности. Традиция мариновать водящуюся в изобилии сельдь. Традиция мариновать водящуюся в изобилии сельдь. Традиция мариновать водящуюся в изобилии сельдь. Транспорт общего пользования не следует путать с общественным транспортом. Транспорт общего пользования не следует путать с общественным транспортом. Третий шаг для становления электронной почты. Третий шаг для становления электронной почты. Третий шаг для становления электронной почты. Третий шаг для становления электронной почты. Третий шаг для становления электронной почты. Трудности зимовки снова навели Вашингтона на мысли о несовершенстве. Трудности зимовки снова навели Вашингтона на мысли о несовершенстве. Трудности зимовки снова навели Вашингтона на мысли о несовершенстве. Трудности зимовки снова навели Вашингтона на мысли о несовершенстве. Трудности зимовки снова навели Вашингтона на мысли о несовершенстве. Трупы детей находили регулярно, даже в центре Ростова. Трупы детей находили регулярно, даже в центре Ростова. Трупы детей находили регулярно, даже в центре Ростова. Трупы детей находили регулярно, даже в центре Ростова. Трупы детей находили регулярно, даже в центре Ростова. Туристическая индустрия Ирана серьёзно пострадала. Туристическая индустрия Ирана серьёзно пострадала. Туристическая индустрия Ирана серьёзно пострадала. Турки - основной народ Турции, исповедующий ислам. Турки - основной народ Турции, исповедующий ислам. Турки - основной народ Турции, исповедующий ислам. У грамположительных бактерий имеется толстая клеточная стенка. У грамположительных бактерий имеется толстая клеточная стенка. У грамположительных бактерий имеется толстая клеточная стенка. У грамположительных бактерий имеется толстая клеточная стенка. У грамположительных бактерий имеется толстая клеточная стенка. У детей картина схожа со случаями у взрослых, однако вирусная пневмония обычно протекает в лёгкой форме. У части больных появляются тошнота и рвота. У части больных появляются тошнота и рвота. Гоголь продолжает занятия живописью в вечерних классах. Путин рассказывал, что с детства увлекался советскими фильмами о разведчиках. Путин рассказывал, что с детства увлекался советскими фильмами о разведчиках. Путин рассказывал, что с детства увлекался советскими фильмами о разведчиках. Путин рассказывал, что с детства увлекался советскими фильмами о разведчиках. Путин рассказывал, что с детства увлекался советскими фильмами о разведчиках. Указом Президиума Верховного Совета УССР «Об укрупнении сельских районов». Указом Президиума Верховного Совета УССР «Об укрупнении сельских районов». Указы и распоряжения президента не должны противоречить Конституции. Указы и распоряжения президента не должны противоречить Конституции. Украина богата туристическими возможностями. Украина богата туристическими возможностями. Украина богата туристическими возможностями. Улучшение оксигенации лёгких способствует торможению роста микобактерий. Улучшение оксигенации лёгких способствует торможению роста микобактерий. Улучшение оксигенации лёгких способствует торможению роста микобактерий. Улучшение оксигенации лёгких способствует торможению роста микобактерий. Улучшение оксигенации лёгких способствует торможению роста микобактерий. Университет Лихтенштейна - один из четырёх центров высшего образования. Условия (главным образом, масса), при которых конечным состоянием эволюции звезды является чёрная дыра, изучены недостаточно хорошо. Условия (главным образом, масса), при которых конечным состоянием эволюции звезды является чёрная дыра, изучены недостаточно хорошо. Усталость от войны наблюдалась как в городах. Усталость от войны наблюдалась как в городах. Усталость от войны наблюдалась как в городах. Олаф изменил законы страны и составил церковное уложение. Олаф изменил законы страны и составил церковное уложение. Олаф изменил законы страны и составил церковное уложение. Олаф изменил законы страны и составил церковное уложение. Олаф изменил законы страны и составил церковное уложение. Утечка золота предполагала обратный эффект. Утечка золота предполагала обратный эффект. Утечка золота предполагала обратный эффект. Фавро планирует снять одну из серий второго сезона в качестве режиссёра. Фавро планирует снять одну из серий второго сезона в качестве режиссёра. Федеральные суды в основном занимаются пересмотром дел. Федеральные суды в основном занимаются пересмотром дел. Фигурантом двух скандалов стал бывший председатель ЕС. Фигурантом двух скандалов стал бывший председатель ЕС. Фигурантом двух скандалов стал бывший председатель ЕС. Фигурантом двух скандалов стал бывший председатель ЕС. Фигурантом двух скандалов стал бывший председатель ЕС. Фигуры (кроме коня) передвигаются по прямой линии. Фигуры (кроме коня) передвигаются по прямой линии. Фигуры (кроме коня) передвигаются по прямой линии. Фигуры (кроме коня) передвигаются по прямой линии. Фигуры (кроме коня) передвигаются по прямой линии. Финские законы основываются на шведских. Финские законы основываются на шведских. Финские законы основываются на шведских. Флешбэки могут проявляться в форме зрительных образов. Формой сбора дани было полюдье. Формой сбора дани было полюдье. Формой сбора дани было полюдье. Формой сбора дани было полюдье. Формой сбора дани было полюдье. Формулы, приведённые у Эйнштейна, имели иное содержание. Формулы, приведённые у Эйнштейна, имели иное содержание. Формулы, приведённые у Эйнштейна, имели иное содержание. Формулы, приведённые у Эйнштейна, имели иное содержание. Формулы, приведённые у Эйнштейна, имели иное содержание. Форпост был построен на правом берегу Ишима. Форпост был построен на правом берегу Ишима. Форпост был построен на правом берегу Ишима. Форпост был построен на правом берегу Ишима. Форпост был построен на правом берегу Ишима. Фредди пришёл на прослушивание и в тот же день был принят. Фредди делал рисунки для друзей и родственников. Фредди делал рисунки для друзей и родственников. Фредди делал рисунки для друзей и родственников. Фредди делал рисунки для друзей и родственников. Фредди делал рисунки для друзей и родственников. Фриза (итал. Frisa) - коммуна в Италии. Фриза (итал. Frisa) - коммуна в Италии. Функционировали сельскохозяйственный техникум, педагогический институт. Функционировали сельскохозяйственный техникум, педагогический институт. Функционировали сельскохозяйственный техникум, педагогический институт. Функционировали сельскохозяйственный техникум, педагогический институт. Функционировали сельскохозяйственный техникум, педагогический институт. Харц объяснял консерватизм в Квебеке и Латинской Америке. Харц объяснял консерватизм в Квебеке и Латинской Америке. Харц объяснял консерватизм в Квебеке и Латинской Америке. Харц объяснял консерватизм в Квебеке и Латинской Америке. Харц объяснял консерватизм в Квебеке и Латинской Америке. Хотя в целом сенат не был склонен доверять Цезарю. Хотя в целом сенат не был склонен доверять Цезарю. Хотя в целом сенат не был склонен доверять Цезарю. Хотя во главе нового государства встал Верховный правитель. Хотя во главе нового государства встал Верховный правитель. Хотя во главе нового государства встал Верховный правитель. Хотя исследования предполагают возможность генетической базы. Хотя исследования предполагают возможность генетической базы. Хотя исследования предполагают возможность генетической базы. Хотя исследования предполагают возможность генетической базы. Хотя исследования предполагают возможность генетической базы. Хотя мечте Петра не суждено было сбыться. Хотя мечте Петра не суждено было сбыться. Хотя мечте Петра не суждено было сбыться. Хотя мечте Петра не суждено было сбыться. Хотя ни одна теория о природе сексуальной ориентации не получила широкой поддержки. Хотя ни одна теория о природе сексуальной ориентации не получила широкой поддержки. Хотя ни одна теория о природе сексуальной ориентации не получила широкой поддержки. Хотя основные силы по-прежнему составляла пехота. Хотя основные силы по-прежнему составляла пехота. Хотя основные силы по-прежнему составляла пехота. Хотя основные силы по-прежнему составляла пехота. Хотя основные силы по-прежнему составляла пехота. Хотя эйсид-джаз не вполне правомочно относить к джазовым стилям, но его нельзя игнорировать. Хотя эйсид-джаз не вполне правомочно относить к джазовым стилям, но его нельзя игнорировать. Целью митинга было выражение несогласия с результатами выборов. Целью митинга было выражение несогласия с результатами выборов. Целью митинга было выражение несогласия с результатами выборов. Целью митинга было выражение несогласия с результатами выборов. Целью митинга было выражение несогласия с результатами выборов. Центр нефтехимической промышленности расположен в Антверпене. Централизация Иранского государства возобновилась с приходом к власти. Централизация Иранского государства возобновилась с приходом к власти. Централизация Иранского государства возобновилась с приходом к власти. Централизация революционного правительства, террор и казни оппонентов. Централизация революционного правительства, террор и казни оппонентов. Централизация революционного правительства, террор и казни оппонентов. Централизация революционного правительства, террор и казни оппонентов. Централизация революционного правительства, террор и казни оппонентов. Цитокиновый шторм может оказаться сложно различить. Цукерберг был обвинён в нарушении безопасности, авторских прав. Цукерберг был обвинён в нарушении безопасности, авторских прав. Цукерберг был обвинён в нарушении безопасности, авторских прав. Цукерберг был обвинён в нарушении безопасности, авторских прав. Цукерберг был обвинён в нарушении безопасности, авторских прав. Чай считается в Азербайджане лучшим средством утоления жажды. Чай считается в Азербайджане лучшим средством утоления жажды. Чай считается в Азербайджане лучшим средством утоления жажды. Чай считается в Азербайджане лучшим средством утоления жажды. Чай считается в Азербайджане лучшим средством утоления жажды. Части французской армии входили в Смоленск целую неделю. Части французской армии входили в Смоленск целую неделю. Часто наблюдаются беспокойные движения. Часто наблюдаются беспокойные движения. Часто наблюдаются беспокойные движения. Часто сигнальную функцию объединяют с регуляторной. Часть воды находится в твёрдом состоянии. Часть воды находится в твёрдом состоянии. Часть вооружения послужили основой для создания национальных армий. Чати, жрецы и фараон носили особые одежды. Чати, жрецы и фараон носили особые одежды. Чати, жрецы и фараон носили особые одежды. Чати, жрецы и фараон носили особые одежды. Чати, жрецы и фараон носили особые одежды. Человек с аутизмом неспособен к полноценному социальному общению. Человек с аутизмом неспособен к полноценному социальному общению. Человек с аутизмом неспособен к полноценному социальному общению. Человек с аутизмом неспособен к полноценному социальному общению. Человек с аутизмом неспособен к полноценному социальному общению. Чем меньше времени осталось до ухода от погони. Чем меньше времени осталось до ухода от погони. Чем меньше времени осталось до ухода от погони. Чем меньше времени осталось до ухода от погони. Чем меньше времени осталось до ухода от погони. Через два дня депутаты присоединились к третьему сословию. Через два дня депутаты присоединились к третьему сословию. Через реку наведено три моста (Тургеневский, Яблоновский, железнодорожный). Через реку наведено три моста (Тургеневский, Яблоновский, железнодорожный). Четыре крупнейшие планеты обладают также кольцами, тонкими полосами крошечных частиц. Четыре крупнейшие планеты обладают также кольцами, тонкими полосами крошечных частиц. Четыре крупнейшие планеты обладают также кольцами, тонкими полосами крошечных частиц. Четыре крупнейшие планеты обладают также кольцами, тонкими полосами крошечных частиц. Четыре крупнейшие планеты обладают также кольцами, тонкими полосами крошечных частиц. Члены трибунала впервые встретились в Берлине, где официально получили обвинительное заключение. Члены трибунала впервые встретились в Берлине, где официально получили обвинительное заключение. Чтобы иметь возможность показать картину возможно большей аудитории. Чтобы иметь возможность показать картину возможно большей аудитории. Чтобы иметь возможность показать картину возможно большей аудитории. Чтобы иметь возможность показать картину возможно большей аудитории. Чтобы иметь возможность показать картину возможно большей аудитории. Чтобы не началась паника, члены экипажа сообщали. Чтобы не началась паника, члены экипажа сообщали. Чтобы не началась паника, члены экипажа сообщали. Чтобы не началась паника, члены экипажа сообщали. Шахматы играют важную роль во многих произведениях литературы. Шахматы играют важную роль во многих произведениях литературы. Шахматы играют важную роль во многих произведениях литературы. Шахматы, исторически происходящие из Индии, также пользуются большой популярностью. Шахматы, исторически происходящие из Индии, также пользуются большой популярностью. Шахматы, исторически происходящие из Индии, также пользуются большой популярностью. Шахматы, исторически происходящие из Индии, также пользуются большой популярностью. Шахматы, исторически происходящие из Индии, также пользуются большой популярностью. Школьное образование охватывает детей с пятилетнего возраста. Школьное образование охватывает детей с пятилетнего возраста. Школьное образование охватывает детей с пятилетнего возраста. Школьное образование охватывает детей с пятилетнего возраста. Школьное образование охватывает детей с пятилетнего возраста. Шон Коннери являлся сторонником независимости страны. Шон Коннери являлся сторонником независимости страны. Шон Коннери являлся сторонником независимости страны. Эквивалентом для обмена являлись отдельные товары. Эквивалентом для обмена являлись отдельные товары. Эквивалентом для обмена являлись отдельные товары. Экологическая история Японии отражает баланс между развитием. Экологическая история Японии отражает баланс между развитием. Экономический кризис привёл к появлению бродяг. Экономический кризис привёл к появлению бродяг. Экономический кризис привёл к появлению бродяг. Экономический кризис привёл к появлению бродяг. Экономический кризис привёл к появлению бродяг. Эксплуатация индийских колоний была важнейшим источником. Эксплуатация индийских колоний была важнейшим источником. Эксплуатация индийских колоний была важнейшим источником. Эксплуатация индийских колоний была важнейшим источником. Эксплуатация индийских колоний была важнейшим источником. Эмблема рыцарей Ордена Чертополоха, девиз которого лат. Nemo me impune lacessit. Эмблема рыцарей Ордена Чертополоха, девиз которого лат. Nemo me impune lacessit. Эмблема рыцарей Ордена Чертополоха, девиз которого лат. Nemo me impune lacessit. Эпоха Возрождения завершается появлением новых музыкальных жанров. Эпоха Возрождения завершается появлением новых музыкальных жанров. Эротическое удушение - сексуальное возбуждение. Эротическое удушение - сексуальное возбуждение. Эротическое удушение - сексуальное возбуждение. Эротическое удушение - сексуальное возбуждение. Эротическое удушение - сексуальное возбуждение. Эта командировка способствовала становлению молодого ученого. Эта командировка способствовала становлению молодого ученого. Эти мотивы вполне определились во время пребывания Лермонтова в Москве. Это выразилось, в частности, в том, что чуть ли не для каждой национальности правительство было вынуждено вводить особый экономический, налоговый и административный режим. Это означает, что программист не может проигнорировать значение, возвращаемое функцией. Это означает, что программист не может проигнорировать значение, возвращаемое функцией. Это усложняет доступ к данным класса и требует реализовывать его интерфейс. Это усложняет доступ к данным класса и требует реализовывать его интерфейс. Это усложняет доступ к данным класса и требует реализовывать его интерфейс. Это усложняет доступ к данным класса и требует реализовывать его интерфейс. Эффективность азитромицина выше многих других антибиотиков. Эффективность азитромицина выше многих других антибиотиков. Эффективность азитромицина выше многих других антибиотиков. Эффективность азитромицина выше многих других антибиотиков. Эффективность азитромицина выше многих других антибиотиков. Юг и среднюю часть республики занимают горы и предгорья. Юг и среднюю часть республики занимают горы и предгорья. Юго-Восточное побережье - Феодосийский и Судакский регионы. Юго-Восточное побережье - Феодосийский и Судакский регионы. Юго-Восточное побережье - Феодосийский и Судакский регионы. Юго-Восточное побережье - Феодосийский и Судакский регионы. Юго-Восточное побережье - Феодосийский и Судакский регионы. Бразилия организована по федеральной модели, штаты Бразилии имеют значительную автономию. Бразилия организована по федеральной модели, штаты Бразилии имеют значительную автономию. Язгулямский язык - один из памирских языков. Язгулямский язык - один из памирских языков. Японский космический аппарат Хаябуса успешно доставил на Землю. Изображение соцветия подсолнечника на щите. Изображение соцветия подсолнечника на щите.\""
            ]
          },
          "metadata": {
            "tags": []
          },
          "execution_count": 15
        }
      ]
    },
    {
      "cell_type": "code",
      "metadata": {
        "colab": {
          "base_uri": "https://localhost:8080/",
          "height": 206
        },
        "id": "akO33rfUGfJS",
        "outputId": "e4b3a8cc-9c12-411a-955c-8370ddba1c25"
      },
      "source": [
        "df_rsse = pd.read_csv('https://raw.githubusercontent.com/dialogue-evaluation/RuSimpleSentEval/main/dev_sents.csv', sep= ',',index_col=0, error_bad_lines=False)\n",
        "df_rsse.head()"
      ],
      "execution_count": null,
      "outputs": [
        {
          "output_type": "execute_result",
          "data": {
            "text/html": [
              "<div>\n",
              "<style scoped>\n",
              "    .dataframe tbody tr th:only-of-type {\n",
              "        vertical-align: middle;\n",
              "    }\n",
              "\n",
              "    .dataframe tbody tr th {\n",
              "        vertical-align: top;\n",
              "    }\n",
              "\n",
              "    .dataframe thead th {\n",
              "        text-align: right;\n",
              "    }\n",
              "</style>\n",
              "<table border=\"1\" class=\"dataframe\">\n",
              "  <thead>\n",
              "    <tr style=\"text-align: right;\">\n",
              "      <th></th>\n",
              "      <th>INPUT:source</th>\n",
              "      <th>OUTPUT:output</th>\n",
              "    </tr>\n",
              "  </thead>\n",
              "  <tbody>\n",
              "    <tr>\n",
              "      <th>3</th>\n",
              "      <td>14 декабря 1944 года рабочий посёлок Ички был ...</td>\n",
              "      <td>14 декабря 1944 года рабочий посёлок Ички пере...</td>\n",
              "    </tr>\n",
              "    <tr>\n",
              "      <th>4</th>\n",
              "      <td>1960 году была выпущена модель 172A. Изменени...</td>\n",
              "      <td>В 1960 году вышла модель 172А. Отличие в хвост...</td>\n",
              "    </tr>\n",
              "    <tr>\n",
              "      <th>5</th>\n",
              "      <td>1960 году была выпущена модель 172A. Изменени...</td>\n",
              "      <td>В выпущенной в 1960 году модель имела изменени...</td>\n",
              "    </tr>\n",
              "    <tr>\n",
              "      <th>6</th>\n",
              "      <td>1960 году была выпущена модель 172A. Изменени...</td>\n",
              "      <td>Изменения: в хвосте и руле направления с обрат...</td>\n",
              "    </tr>\n",
              "    <tr>\n",
              "      <th>7</th>\n",
              "      <td>1960 году была выпущена модель 172A. Изменени...</td>\n",
              "      <td>Модель 172А с другим хвостовым оперением,  кре...</td>\n",
              "    </tr>\n",
              "  </tbody>\n",
              "</table>\n",
              "</div>"
            ],
            "text/plain": [
              "                                        INPUT:source                                      OUTPUT:output\n",
              "3  14 декабря 1944 года рабочий посёлок Ички был ...  14 декабря 1944 года рабочий посёлок Ички пере...\n",
              "4   1960 году была выпущена модель 172A. Изменени...  В 1960 году вышла модель 172А. Отличие в хвост...\n",
              "5   1960 году была выпущена модель 172A. Изменени...  В выпущенной в 1960 году модель имела изменени...\n",
              "6   1960 году была выпущена модель 172A. Изменени...  Изменения: в хвосте и руле направления с обрат...\n",
              "7   1960 году была выпущена модель 172A. Изменени...  Модель 172А с другим хвостовым оперением,  кре..."
            ]
          },
          "metadata": {
            "tags": []
          },
          "execution_count": 16
        }
      ]
    },
    {
      "cell_type": "code",
      "metadata": {
        "colab": {
          "base_uri": "https://localhost:8080/"
        },
        "id": "jak9n0EAHxDo",
        "outputId": "0ce29dc2-75aa-4213-eb04-db161f899511"
      },
      "source": [
        "rsse_text = df_rsse.apply(lambda x: ' '.join(x),axis = 0)\n",
        "\n",
        "len([s for s in sentenize(rsse_text[0])])"
      ],
      "execution_count": null,
      "outputs": [
        {
          "output_type": "execute_result",
          "data": {
            "text/plain": [
              "3397"
            ]
          },
          "metadata": {
            "tags": []
          },
          "execution_count": 17
        }
      ]
    },
    {
      "cell_type": "code",
      "metadata": {
        "id": "W0vgOivCHZ7q"
      },
      "source": [
        "translation_df_rsse_full = translate_text(text_= rsse_text[0],ner_ = ner, morph_ = morph, RSL_dict_ = RSL_dict)"
      ],
      "execution_count": null,
      "outputs": []
    },
    {
      "cell_type": "code",
      "metadata": {
        "id": "s2oZjQpGXfDJ"
      },
      "source": [
        "# translation_df_rsse_full.to_csv(path + 'translation_df_rsse_full.csv')"
      ],
      "execution_count": null,
      "outputs": []
    },
    {
      "cell_type": "code",
      "metadata": {
        "colab": {
          "base_uri": "https://localhost:8080/"
        },
        "id": "rRhEDO_UHZ7x",
        "outputId": "31ef8275-e687-4cb9-cd14-4e0c730e8e62"
      },
      "source": [
        "translation_df_rsse_short = translate_text(text_= rsse_text[1],ner_ = ner, morph_ = morph, RSL_dict_ = RSL_dict)"
      ],
      "execution_count": null,
      "outputs": [
        {
          "output_type": "stream",
          "text": [
            "2869it [3:21:21,  4.21s/it]\n"
          ],
          "name": "stderr"
        }
      ]
    },
    {
      "cell_type": "code",
      "metadata": {
        "id": "mC5VJ-x0N7IA"
      },
      "source": [
        "translation_df_rsse_short.to_csv(path + 'translation_df_rsse_short.csv')"
      ],
      "execution_count": null,
      "outputs": []
    },
    {
      "cell_type": "code",
      "metadata": {
        "colab": {
          "base_uri": "https://localhost:8080/"
        },
        "id": "b_b5zWcXHZ71",
        "outputId": "53342ee7-756b-40d2-ad4c-0dc23ab945d7"
      },
      "source": [
        "translation_df_rsse_simple = translate_text(text_= text_simple_rsse,ner_ = ner, morph_ = morph, RSL_dict_ = RSL_dict)"
      ],
      "execution_count": null,
      "outputs": [
        {
          "output_type": "stream",
          "text": [
            "3360it [3:43:22,  3.99s/it]\n"
          ],
          "name": "stderr"
        }
      ]
    },
    {
      "cell_type": "code",
      "metadata": {
        "id": "SsVG2vQdImAt"
      },
      "source": [
        "translation_df_rsse_simple.to_csv(path + 'translation_df_rsse_short.csv')"
      ],
      "execution_count": null,
      "outputs": []
    },
    {
      "cell_type": "code",
      "metadata": {
        "colab": {
          "base_uri": "https://localhost:8080/",
          "height": 233
        },
        "id": "WnANm_k1HZ76",
        "outputId": "96b6076c-fc91-4f64-9bd0-7198137ae19f"
      },
      "source": [
        "pivot_tbl(tr_df = translation_df_rsse_full, ind_lst = ['FINAL WORD FOR DESCRIPION','TYPE'], val_lst = ['WORD_ID'])"
      ],
      "execution_count": null,
      "outputs": [
        {
          "output_type": "execute_result",
          "data": {
            "text/html": [
              "<style  type=\"text/css\" >\n",
              "    #T_e63804b8_bc16_11eb_9c07_0242ac1c0002row0_col2 {\n",
              "            width:  10em;\n",
              "             height:  80%;\n",
              "            background:  linear-gradient(90deg,lightblue 14.3%, transparent 14.3%);\n",
              "            text-align:  center;\n",
              "        }    #T_e63804b8_bc16_11eb_9c07_0242ac1c0002row1_col2 {\n",
              "            width:  10em;\n",
              "             height:  80%;\n",
              "            background:  linear-gradient(90deg,lightblue 41.3%, transparent 41.3%);\n",
              "            text-align:  center;\n",
              "        }    #T_e63804b8_bc16_11eb_9c07_0242ac1c0002row2_col2 {\n",
              "            width:  10em;\n",
              "             height:  80%;\n",
              "            background:  linear-gradient(90deg,lightblue 0.6%, transparent 0.6%);\n",
              "            text-align:  center;\n",
              "        }    #T_e63804b8_bc16_11eb_9c07_0242ac1c0002row3_col2 {\n",
              "            width:  10em;\n",
              "             height:  80%;\n",
              "            background:  linear-gradient(90deg,lightblue 100.0%, transparent 100.0%);\n",
              "            text-align:  center;\n",
              "        }    #T_e63804b8_bc16_11eb_9c07_0242ac1c0002row4_col2 {\n",
              "            width:  10em;\n",
              "             height:  80%;\n",
              "            background:  linear-gradient(90deg,lightblue 4.8%, transparent 4.8%);\n",
              "            text-align:  center;\n",
              "        }    #T_e63804b8_bc16_11eb_9c07_0242ac1c0002row5_col2 {\n",
              "            width:  10em;\n",
              "             height:  80%;\n",
              "            background:  linear-gradient(90deg,lightblue 2.9%, transparent 2.9%);\n",
              "            text-align:  center;\n",
              "        }    #T_e63804b8_bc16_11eb_9c07_0242ac1c0002row6_col2 {\n",
              "            width:  10em;\n",
              "             height:  80%;\n",
              "            background:  linear-gradient(90deg,lightblue 46.5%, transparent 46.5%);\n",
              "            text-align:  center;\n",
              "        }    #T_e63804b8_bc16_11eb_9c07_0242ac1c0002row7_col2 {\n",
              "            width:  10em;\n",
              "             height:  80%;\n",
              "            background:  linear-gradient(90deg,lightblue 13.8%, transparent 13.8%);\n",
              "            text-align:  center;\n",
              "        }    #T_e63804b8_bc16_11eb_9c07_0242ac1c0002row8_col2 {\n",
              "            width:  10em;\n",
              "             height:  80%;\n",
              "            background:  linear-gradient(90deg,lightblue 46.0%, transparent 46.0%);\n",
              "            text-align:  center;\n",
              "        }</style><table id=\"T_e63804b8_bc16_11eb_9c07_0242ac1c0002\" ><thead>    <tr>        <th class=\"blank level0\" ></th>        <th class=\"col_heading level0 col0\" >FINAL WORD FOR DESCRIPION</th>        <th class=\"col_heading level0 col1\" >TYPE</th>        <th class=\"col_heading level0 col2\" >WORD_ID</th>    </tr></thead><tbody>\n",
              "                <tr>\n",
              "                        <th id=\"T_e63804b8_bc16_11eb_9c07_0242ac1c0002level0_row0\" class=\"row_heading level0 row0\" >0</th>\n",
              "                        <td id=\"T_e63804b8_bc16_11eb_9c07_0242ac1c0002row0_col0\" class=\"data row0 col0\" >DACTIL</td>\n",
              "                        <td id=\"T_e63804b8_bc16_11eb_9c07_0242ac1c0002row0_col1\" class=\"data row0 col1\" >NER DACTIL</td>\n",
              "                        <td id=\"T_e63804b8_bc16_11eb_9c07_0242ac1c0002row0_col2\" class=\"data row0 col2\" >0.0529</td>\n",
              "            </tr>\n",
              "            <tr>\n",
              "                        <th id=\"T_e63804b8_bc16_11eb_9c07_0242ac1c0002level0_row1\" class=\"row_heading level0 row1\" >1</th>\n",
              "                        <td id=\"T_e63804b8_bc16_11eb_9c07_0242ac1c0002row1_col0\" class=\"data row1 col0\" >DACTIL</td>\n",
              "                        <td id=\"T_e63804b8_bc16_11eb_9c07_0242ac1c0002row1_col1\" class=\"data row1 col1\" >NOT DICT SIGN</td>\n",
              "                        <td id=\"T_e63804b8_bc16_11eb_9c07_0242ac1c0002row1_col2\" class=\"data row1 col2\" >0.1528</td>\n",
              "            </tr>\n",
              "            <tr>\n",
              "                        <th id=\"T_e63804b8_bc16_11eb_9c07_0242ac1c0002level0_row2\" class=\"row_heading level0 row2\" >2</th>\n",
              "                        <td id=\"T_e63804b8_bc16_11eb_9c07_0242ac1c0002row2_col0\" class=\"data row2 col0\" >DICT</td>\n",
              "                        <td id=\"T_e63804b8_bc16_11eb_9c07_0242ac1c0002row2_col1\" class=\"data row2 col1\" >COLLOCATION DICT SIGN</td>\n",
              "                        <td id=\"T_e63804b8_bc16_11eb_9c07_0242ac1c0002row2_col2\" class=\"data row2 col2\" >0.0022</td>\n",
              "            </tr>\n",
              "            <tr>\n",
              "                        <th id=\"T_e63804b8_bc16_11eb_9c07_0242ac1c0002level0_row3\" class=\"row_heading level0 row3\" >3</th>\n",
              "                        <td id=\"T_e63804b8_bc16_11eb_9c07_0242ac1c0002row3_col0\" class=\"data row3 col0\" >DICT</td>\n",
              "                        <td id=\"T_e63804b8_bc16_11eb_9c07_0242ac1c0002row3_col1\" class=\"data row3 col1\" >DICT SIGN</td>\n",
              "                        <td id=\"T_e63804b8_bc16_11eb_9c07_0242ac1c0002row3_col2\" class=\"data row3 col2\" >0.3702</td>\n",
              "            </tr>\n",
              "            <tr>\n",
              "                        <th id=\"T_e63804b8_bc16_11eb_9c07_0242ac1c0002level0_row4\" class=\"row_heading level0 row4\" >4</th>\n",
              "                        <td id=\"T_e63804b8_bc16_11eb_9c07_0242ac1c0002row4_col0\" class=\"data row4 col0\" >DICT</td>\n",
              "                        <td id=\"T_e63804b8_bc16_11eb_9c07_0242ac1c0002row4_col1\" class=\"data row4 col1\" >NER SIGN</td>\n",
              "                        <td id=\"T_e63804b8_bc16_11eb_9c07_0242ac1c0002row4_col2\" class=\"data row4 col2\" >0.0179</td>\n",
              "            </tr>\n",
              "            <tr>\n",
              "                        <th id=\"T_e63804b8_bc16_11eb_9c07_0242ac1c0002level0_row5\" class=\"row_heading level0 row5\" >5</th>\n",
              "                        <td id=\"T_e63804b8_bc16_11eb_9c07_0242ac1c0002row5_col0\" class=\"data row5 col0\" >DICT</td>\n",
              "                        <td id=\"T_e63804b8_bc16_11eb_9c07_0242ac1c0002row5_col1\" class=\"data row5 col1\" >NUMB SIGN</td>\n",
              "                        <td id=\"T_e63804b8_bc16_11eb_9c07_0242ac1c0002row5_col2\" class=\"data row5 col2\" >0.0108</td>\n",
              "            </tr>\n",
              "            <tr>\n",
              "                        <th id=\"T_e63804b8_bc16_11eb_9c07_0242ac1c0002level0_row6\" class=\"row_heading level0 row6\" >6</th>\n",
              "                        <td id=\"T_e63804b8_bc16_11eb_9c07_0242ac1c0002row6_col0\" class=\"data row6 col0\" >DICT</td>\n",
              "                        <td id=\"T_e63804b8_bc16_11eb_9c07_0242ac1c0002row6_col1\" class=\"data row6 col1\" >WORD SIGN WDS</td>\n",
              "                        <td id=\"T_e63804b8_bc16_11eb_9c07_0242ac1c0002row6_col2\" class=\"data row6 col2\" >0.172</td>\n",
              "            </tr>\n",
              "            <tr>\n",
              "                        <th id=\"T_e63804b8_bc16_11eb_9c07_0242ac1c0002level0_row7\" class=\"row_heading level0 row7\" >7</th>\n",
              "                        <td id=\"T_e63804b8_bc16_11eb_9c07_0242ac1c0002row7_col0\" class=\"data row7 col0\" >ONYM</td>\n",
              "                        <td id=\"T_e63804b8_bc16_11eb_9c07_0242ac1c0002row7_col1\" class=\"data row7 col1\" >ONYM DICT SIGN</td>\n",
              "                        <td id=\"T_e63804b8_bc16_11eb_9c07_0242ac1c0002row7_col2\" class=\"data row7 col2\" >0.051</td>\n",
              "            </tr>\n",
              "            <tr>\n",
              "                        <th id=\"T_e63804b8_bc16_11eb_9c07_0242ac1c0002level0_row8\" class=\"row_heading level0 row8\" >8</th>\n",
              "                        <td id=\"T_e63804b8_bc16_11eb_9c07_0242ac1c0002row8_col0\" class=\"data row8 col0\" >ONYM</td>\n",
              "                        <td id=\"T_e63804b8_bc16_11eb_9c07_0242ac1c0002row8_col1\" class=\"data row8 col1\" >ONYM SIGN WDS</td>\n",
              "                        <td id=\"T_e63804b8_bc16_11eb_9c07_0242ac1c0002row8_col2\" class=\"data row8 col2\" >0.1702</td>\n",
              "            </tr>\n",
              "    </tbody></table>"
            ],
            "text/plain": [
              "<pandas.io.formats.style.Styler at 0x7f08f11b4b10>"
            ]
          },
          "metadata": {
            "tags": []
          },
          "execution_count": 73
        }
      ]
    },
    {
      "cell_type": "code",
      "metadata": {
        "colab": {
          "base_uri": "https://localhost:8080/",
          "height": 233
        },
        "id": "hk2zPsUAHZ79",
        "outputId": "9246fa66-b899-4ad7-bee7-b1453e26d295"
      },
      "source": [
        "pivot_tbl(tr_df = translation_df_rsse_short, ind_lst = ['FINAL WORD FOR DESCRIPION','TYPE'], val_lst = ['WORD_ID'])"
      ],
      "execution_count": null,
      "outputs": [
        {
          "output_type": "execute_result",
          "data": {
            "text/html": [
              "<style  type=\"text/css\" >\n",
              "    #T_8f64cb94_bc75_11eb_a724_0242ac1c0002row0_col2 {\n",
              "            width:  10em;\n",
              "             height:  80%;\n",
              "            background:  linear-gradient(90deg,lightblue 17.1%, transparent 17.1%);\n",
              "            text-align:  center;\n",
              "        }    #T_8f64cb94_bc75_11eb_a724_0242ac1c0002row1_col2 {\n",
              "            width:  10em;\n",
              "             height:  80%;\n",
              "            background:  linear-gradient(90deg,lightblue 35.7%, transparent 35.7%);\n",
              "            text-align:  center;\n",
              "        }    #T_8f64cb94_bc75_11eb_a724_0242ac1c0002row2_col2 {\n",
              "            width:  10em;\n",
              "             height:  80%;\n",
              "            background:  linear-gradient(90deg,lightblue 0.4%, transparent 0.4%);\n",
              "            text-align:  center;\n",
              "        }    #T_8f64cb94_bc75_11eb_a724_0242ac1c0002row3_col2 {\n",
              "            width:  10em;\n",
              "             height:  80%;\n",
              "            background:  linear-gradient(90deg,lightblue 100.0%, transparent 100.0%);\n",
              "            text-align:  center;\n",
              "        }    #T_8f64cb94_bc75_11eb_a724_0242ac1c0002row4_col2 {\n",
              "            width:  10em;\n",
              "             height:  80%;\n",
              "            background:  linear-gradient(90deg,lightblue 5.6%, transparent 5.6%);\n",
              "            text-align:  center;\n",
              "        }    #T_8f64cb94_bc75_11eb_a724_0242ac1c0002row5_col2 {\n",
              "            width:  10em;\n",
              "             height:  80%;\n",
              "            background:  linear-gradient(90deg,lightblue 2.7%, transparent 2.7%);\n",
              "            text-align:  center;\n",
              "        }    #T_8f64cb94_bc75_11eb_a724_0242ac1c0002row6_col2 {\n",
              "            width:  10em;\n",
              "             height:  80%;\n",
              "            background:  linear-gradient(90deg,lightblue 48.3%, transparent 48.3%);\n",
              "            text-align:  center;\n",
              "        }    #T_8f64cb94_bc75_11eb_a724_0242ac1c0002row7_col2 {\n",
              "            width:  10em;\n",
              "             height:  80%;\n",
              "            background:  linear-gradient(90deg,lightblue 12.6%, transparent 12.6%);\n",
              "            text-align:  center;\n",
              "        }    #T_8f64cb94_bc75_11eb_a724_0242ac1c0002row8_col2 {\n",
              "            width:  10em;\n",
              "             height:  80%;\n",
              "            background:  linear-gradient(90deg,lightblue 47.5%, transparent 47.5%);\n",
              "            text-align:  center;\n",
              "        }</style><table id=\"T_8f64cb94_bc75_11eb_a724_0242ac1c0002\" ><thead>    <tr>        <th class=\"blank level0\" ></th>        <th class=\"col_heading level0 col0\" >FINAL WORD FOR DESCRIPION</th>        <th class=\"col_heading level0 col1\" >TYPE</th>        <th class=\"col_heading level0 col2\" >WORD_ID</th>    </tr></thead><tbody>\n",
              "                <tr>\n",
              "                        <th id=\"T_8f64cb94_bc75_11eb_a724_0242ac1c0002level0_row0\" class=\"row_heading level0 row0\" >0</th>\n",
              "                        <td id=\"T_8f64cb94_bc75_11eb_a724_0242ac1c0002row0_col0\" class=\"data row0 col0\" >DACTIL</td>\n",
              "                        <td id=\"T_8f64cb94_bc75_11eb_a724_0242ac1c0002row0_col1\" class=\"data row0 col1\" >NER DACTIL</td>\n",
              "                        <td id=\"T_8f64cb94_bc75_11eb_a724_0242ac1c0002row0_col2\" class=\"data row0 col2\" >0.0632</td>\n",
              "            </tr>\n",
              "            <tr>\n",
              "                        <th id=\"T_8f64cb94_bc75_11eb_a724_0242ac1c0002level0_row1\" class=\"row_heading level0 row1\" >1</th>\n",
              "                        <td id=\"T_8f64cb94_bc75_11eb_a724_0242ac1c0002row1_col0\" class=\"data row1 col0\" >DACTIL</td>\n",
              "                        <td id=\"T_8f64cb94_bc75_11eb_a724_0242ac1c0002row1_col1\" class=\"data row1 col1\" >NOT DICT SIGN</td>\n",
              "                        <td id=\"T_8f64cb94_bc75_11eb_a724_0242ac1c0002row1_col2\" class=\"data row1 col2\" >0.1324</td>\n",
              "            </tr>\n",
              "            <tr>\n",
              "                        <th id=\"T_8f64cb94_bc75_11eb_a724_0242ac1c0002level0_row2\" class=\"row_heading level0 row2\" >2</th>\n",
              "                        <td id=\"T_8f64cb94_bc75_11eb_a724_0242ac1c0002row2_col0\" class=\"data row2 col0\" >DICT</td>\n",
              "                        <td id=\"T_8f64cb94_bc75_11eb_a724_0242ac1c0002row2_col1\" class=\"data row2 col1\" >COLLOCATION DICT SIGN</td>\n",
              "                        <td id=\"T_8f64cb94_bc75_11eb_a724_0242ac1c0002row2_col2\" class=\"data row2 col2\" >0.0015</td>\n",
              "            </tr>\n",
              "            <tr>\n",
              "                        <th id=\"T_8f64cb94_bc75_11eb_a724_0242ac1c0002level0_row3\" class=\"row_heading level0 row3\" >3</th>\n",
              "                        <td id=\"T_8f64cb94_bc75_11eb_a724_0242ac1c0002row3_col0\" class=\"data row3 col0\" >DICT</td>\n",
              "                        <td id=\"T_8f64cb94_bc75_11eb_a724_0242ac1c0002row3_col1\" class=\"data row3 col1\" >DICT SIGN</td>\n",
              "                        <td id=\"T_8f64cb94_bc75_11eb_a724_0242ac1c0002row3_col2\" class=\"data row3 col2\" >0.3704</td>\n",
              "            </tr>\n",
              "            <tr>\n",
              "                        <th id=\"T_8f64cb94_bc75_11eb_a724_0242ac1c0002level0_row4\" class=\"row_heading level0 row4\" >4</th>\n",
              "                        <td id=\"T_8f64cb94_bc75_11eb_a724_0242ac1c0002row4_col0\" class=\"data row4 col0\" >DICT</td>\n",
              "                        <td id=\"T_8f64cb94_bc75_11eb_a724_0242ac1c0002row4_col1\" class=\"data row4 col1\" >NER SIGN</td>\n",
              "                        <td id=\"T_8f64cb94_bc75_11eb_a724_0242ac1c0002row4_col2\" class=\"data row4 col2\" >0.0208</td>\n",
              "            </tr>\n",
              "            <tr>\n",
              "                        <th id=\"T_8f64cb94_bc75_11eb_a724_0242ac1c0002level0_row5\" class=\"row_heading level0 row5\" >5</th>\n",
              "                        <td id=\"T_8f64cb94_bc75_11eb_a724_0242ac1c0002row5_col0\" class=\"data row5 col0\" >DICT</td>\n",
              "                        <td id=\"T_8f64cb94_bc75_11eb_a724_0242ac1c0002row5_col1\" class=\"data row5 col1\" >NUMB SIGN</td>\n",
              "                        <td id=\"T_8f64cb94_bc75_11eb_a724_0242ac1c0002row5_col2\" class=\"data row5 col2\" >0.01</td>\n",
              "            </tr>\n",
              "            <tr>\n",
              "                        <th id=\"T_8f64cb94_bc75_11eb_a724_0242ac1c0002level0_row6\" class=\"row_heading level0 row6\" >6</th>\n",
              "                        <td id=\"T_8f64cb94_bc75_11eb_a724_0242ac1c0002row6_col0\" class=\"data row6 col0\" >DICT</td>\n",
              "                        <td id=\"T_8f64cb94_bc75_11eb_a724_0242ac1c0002row6_col1\" class=\"data row6 col1\" >WORD SIGN WDS</td>\n",
              "                        <td id=\"T_8f64cb94_bc75_11eb_a724_0242ac1c0002row6_col2\" class=\"data row6 col2\" >0.1789</td>\n",
              "            </tr>\n",
              "            <tr>\n",
              "                        <th id=\"T_8f64cb94_bc75_11eb_a724_0242ac1c0002level0_row7\" class=\"row_heading level0 row7\" >7</th>\n",
              "                        <td id=\"T_8f64cb94_bc75_11eb_a724_0242ac1c0002row7_col0\" class=\"data row7 col0\" >ONYM</td>\n",
              "                        <td id=\"T_8f64cb94_bc75_11eb_a724_0242ac1c0002row7_col1\" class=\"data row7 col1\" >ONYM DICT SIGN</td>\n",
              "                        <td id=\"T_8f64cb94_bc75_11eb_a724_0242ac1c0002row7_col2\" class=\"data row7 col2\" >0.0468</td>\n",
              "            </tr>\n",
              "            <tr>\n",
              "                        <th id=\"T_8f64cb94_bc75_11eb_a724_0242ac1c0002level0_row8\" class=\"row_heading level0 row8\" >8</th>\n",
              "                        <td id=\"T_8f64cb94_bc75_11eb_a724_0242ac1c0002row8_col0\" class=\"data row8 col0\" >ONYM</td>\n",
              "                        <td id=\"T_8f64cb94_bc75_11eb_a724_0242ac1c0002row8_col1\" class=\"data row8 col1\" >ONYM SIGN WDS</td>\n",
              "                        <td id=\"T_8f64cb94_bc75_11eb_a724_0242ac1c0002row8_col2\" class=\"data row8 col2\" >0.176</td>\n",
              "            </tr>\n",
              "    </tbody></table>"
            ],
            "text/plain": [
              "<pandas.io.formats.style.Styler at 0x7fb8d26add90>"
            ]
          },
          "metadata": {
            "tags": []
          },
          "execution_count": 21
        }
      ]
    },
    {
      "cell_type": "code",
      "metadata": {
        "colab": {
          "base_uri": "https://localhost:8080/",
          "height": 233
        },
        "id": "D9EZsC46HZ8A",
        "outputId": "522504b0-07e9-4283-a060-41d239f83547"
      },
      "source": [
        "pivot_tbl(tr_df = translation_df_rsse_simple, ind_lst = ['FINAL WORD FOR DESCRIPION','TYPE'], val_lst = ['WORD_ID'])"
      ],
      "execution_count": null,
      "outputs": [
        {
          "output_type": "execute_result",
          "data": {
            "text/html": [
              "<style  type=\"text/css\" >\n",
              "    #T_a4be9176_bccc_11eb_b1be_0242ac1c0002row0_col2 {\n",
              "            width:  10em;\n",
              "             height:  80%;\n",
              "            background:  linear-gradient(90deg,lightblue 18.3%, transparent 18.3%);\n",
              "            text-align:  center;\n",
              "        }    #T_a4be9176_bccc_11eb_b1be_0242ac1c0002row1_col2 {\n",
              "            width:  10em;\n",
              "             height:  80%;\n",
              "            background:  linear-gradient(90deg,lightblue 39.4%, transparent 39.4%);\n",
              "            text-align:  center;\n",
              "        }    #T_a4be9176_bccc_11eb_b1be_0242ac1c0002row2_col2 {\n",
              "            width:  10em;\n",
              "             height:  80%;\n",
              "            background:  linear-gradient(90deg,lightblue 0.5%, transparent 0.5%);\n",
              "            text-align:  center;\n",
              "        }    #T_a4be9176_bccc_11eb_b1be_0242ac1c0002row3_col2 {\n",
              "            width:  10em;\n",
              "             height:  80%;\n",
              "            background:  linear-gradient(90deg,lightblue 100.0%, transparent 100.0%);\n",
              "            text-align:  center;\n",
              "        }    #T_a4be9176_bccc_11eb_b1be_0242ac1c0002row4_col2 {\n",
              "            width:  10em;\n",
              "             height:  80%;\n",
              "            background:  linear-gradient(90deg,lightblue 5.2%, transparent 5.2%);\n",
              "            text-align:  center;\n",
              "        }    #T_a4be9176_bccc_11eb_b1be_0242ac1c0002row5_col2 {\n",
              "            width:  10em;\n",
              "             height:  80%;\n",
              "            background:  linear-gradient(90deg,lightblue 3.5%, transparent 3.5%);\n",
              "            text-align:  center;\n",
              "        }    #T_a4be9176_bccc_11eb_b1be_0242ac1c0002row6_col2 {\n",
              "            width:  10em;\n",
              "             height:  80%;\n",
              "            background:  linear-gradient(90deg,lightblue 46.9%, transparent 46.9%);\n",
              "            text-align:  center;\n",
              "        }    #T_a4be9176_bccc_11eb_b1be_0242ac1c0002row7_col2 {\n",
              "            width:  10em;\n",
              "             height:  80%;\n",
              "            background:  linear-gradient(90deg,lightblue 14.7%, transparent 14.7%);\n",
              "            text-align:  center;\n",
              "        }    #T_a4be9176_bccc_11eb_b1be_0242ac1c0002row8_col2 {\n",
              "            width:  10em;\n",
              "             height:  80%;\n",
              "            background:  linear-gradient(90deg,lightblue 51.4%, transparent 51.4%);\n",
              "            text-align:  center;\n",
              "        }</style><table id=\"T_a4be9176_bccc_11eb_b1be_0242ac1c0002\" ><thead>    <tr>        <th class=\"blank level0\" ></th>        <th class=\"col_heading level0 col0\" >FINAL WORD FOR DESCRIPION</th>        <th class=\"col_heading level0 col1\" >TYPE</th>        <th class=\"col_heading level0 col2\" >WORD_ID</th>    </tr></thead><tbody>\n",
              "                <tr>\n",
              "                        <th id=\"T_a4be9176_bccc_11eb_b1be_0242ac1c0002level0_row0\" class=\"row_heading level0 row0\" >0</th>\n",
              "                        <td id=\"T_a4be9176_bccc_11eb_b1be_0242ac1c0002row0_col0\" class=\"data row0 col0\" >DACTIL</td>\n",
              "                        <td id=\"T_a4be9176_bccc_11eb_b1be_0242ac1c0002row0_col1\" class=\"data row0 col1\" >NER DACTIL</td>\n",
              "                        <td id=\"T_a4be9176_bccc_11eb_b1be_0242ac1c0002row0_col2\" class=\"data row0 col2\" >0.0654</td>\n",
              "            </tr>\n",
              "            <tr>\n",
              "                        <th id=\"T_a4be9176_bccc_11eb_b1be_0242ac1c0002level0_row1\" class=\"row_heading level0 row1\" >1</th>\n",
              "                        <td id=\"T_a4be9176_bccc_11eb_b1be_0242ac1c0002row1_col0\" class=\"data row1 col0\" >DACTIL</td>\n",
              "                        <td id=\"T_a4be9176_bccc_11eb_b1be_0242ac1c0002row1_col1\" class=\"data row1 col1\" >NOT DICT SIGN</td>\n",
              "                        <td id=\"T_a4be9176_bccc_11eb_b1be_0242ac1c0002row1_col2\" class=\"data row1 col2\" >0.1406</td>\n",
              "            </tr>\n",
              "            <tr>\n",
              "                        <th id=\"T_a4be9176_bccc_11eb_b1be_0242ac1c0002level0_row2\" class=\"row_heading level0 row2\" >2</th>\n",
              "                        <td id=\"T_a4be9176_bccc_11eb_b1be_0242ac1c0002row2_col0\" class=\"data row2 col0\" >DICT</td>\n",
              "                        <td id=\"T_a4be9176_bccc_11eb_b1be_0242ac1c0002row2_col1\" class=\"data row2 col1\" >COLLOCATION DICT SIGN</td>\n",
              "                        <td id=\"T_a4be9176_bccc_11eb_b1be_0242ac1c0002row2_col2\" class=\"data row2 col2\" >0.0019</td>\n",
              "            </tr>\n",
              "            <tr>\n",
              "                        <th id=\"T_a4be9176_bccc_11eb_b1be_0242ac1c0002level0_row3\" class=\"row_heading level0 row3\" >3</th>\n",
              "                        <td id=\"T_a4be9176_bccc_11eb_b1be_0242ac1c0002row3_col0\" class=\"data row3 col0\" >DICT</td>\n",
              "                        <td id=\"T_a4be9176_bccc_11eb_b1be_0242ac1c0002row3_col1\" class=\"data row3 col1\" >DICT SIGN</td>\n",
              "                        <td id=\"T_a4be9176_bccc_11eb_b1be_0242ac1c0002row3_col2\" class=\"data row3 col2\" >0.3572</td>\n",
              "            </tr>\n",
              "            <tr>\n",
              "                        <th id=\"T_a4be9176_bccc_11eb_b1be_0242ac1c0002level0_row4\" class=\"row_heading level0 row4\" >4</th>\n",
              "                        <td id=\"T_a4be9176_bccc_11eb_b1be_0242ac1c0002row4_col0\" class=\"data row4 col0\" >DICT</td>\n",
              "                        <td id=\"T_a4be9176_bccc_11eb_b1be_0242ac1c0002row4_col1\" class=\"data row4 col1\" >NER SIGN</td>\n",
              "                        <td id=\"T_a4be9176_bccc_11eb_b1be_0242ac1c0002row4_col2\" class=\"data row4 col2\" >0.0187</td>\n",
              "            </tr>\n",
              "            <tr>\n",
              "                        <th id=\"T_a4be9176_bccc_11eb_b1be_0242ac1c0002level0_row5\" class=\"row_heading level0 row5\" >5</th>\n",
              "                        <td id=\"T_a4be9176_bccc_11eb_b1be_0242ac1c0002row5_col0\" class=\"data row5 col0\" >DICT</td>\n",
              "                        <td id=\"T_a4be9176_bccc_11eb_b1be_0242ac1c0002row5_col1\" class=\"data row5 col1\" >NUMB SIGN</td>\n",
              "                        <td id=\"T_a4be9176_bccc_11eb_b1be_0242ac1c0002row5_col2\" class=\"data row5 col2\" >0.0126</td>\n",
              "            </tr>\n",
              "            <tr>\n",
              "                        <th id=\"T_a4be9176_bccc_11eb_b1be_0242ac1c0002level0_row6\" class=\"row_heading level0 row6\" >6</th>\n",
              "                        <td id=\"T_a4be9176_bccc_11eb_b1be_0242ac1c0002row6_col0\" class=\"data row6 col0\" >DICT</td>\n",
              "                        <td id=\"T_a4be9176_bccc_11eb_b1be_0242ac1c0002row6_col1\" class=\"data row6 col1\" >WORD SIGN WDS</td>\n",
              "                        <td id=\"T_a4be9176_bccc_11eb_b1be_0242ac1c0002row6_col2\" class=\"data row6 col2\" >0.1676</td>\n",
              "            </tr>\n",
              "            <tr>\n",
              "                        <th id=\"T_a4be9176_bccc_11eb_b1be_0242ac1c0002level0_row7\" class=\"row_heading level0 row7\" >7</th>\n",
              "                        <td id=\"T_a4be9176_bccc_11eb_b1be_0242ac1c0002row7_col0\" class=\"data row7 col0\" >ONYM</td>\n",
              "                        <td id=\"T_a4be9176_bccc_11eb_b1be_0242ac1c0002row7_col1\" class=\"data row7 col1\" >ONYM DICT SIGN</td>\n",
              "                        <td id=\"T_a4be9176_bccc_11eb_b1be_0242ac1c0002row7_col2\" class=\"data row7 col2\" >0.0524</td>\n",
              "            </tr>\n",
              "            <tr>\n",
              "                        <th id=\"T_a4be9176_bccc_11eb_b1be_0242ac1c0002level0_row8\" class=\"row_heading level0 row8\" >8</th>\n",
              "                        <td id=\"T_a4be9176_bccc_11eb_b1be_0242ac1c0002row8_col0\" class=\"data row8 col0\" >ONYM</td>\n",
              "                        <td id=\"T_a4be9176_bccc_11eb_b1be_0242ac1c0002row8_col1\" class=\"data row8 col1\" >ONYM SIGN WDS</td>\n",
              "                        <td id=\"T_a4be9176_bccc_11eb_b1be_0242ac1c0002row8_col2\" class=\"data row8 col2\" >0.1836</td>\n",
              "            </tr>\n",
              "    </tbody></table>"
            ],
            "text/plain": [
              "<pandas.io.formats.style.Styler at 0x7f67b1b62690>"
            ]
          },
          "metadata": {
            "tags": []
          },
          "execution_count": 20
        }
      ]
    },
    {
      "cell_type": "markdown",
      "metadata": {
        "id": "7mZP_vCoEfXL"
      },
      "source": [
        "# Metrics"
      ]
    },
    {
      "cell_type": "markdown",
      "metadata": {
        "id": "vAZ_GVKatqK9"
      },
      "source": [
        "### Word Mover's Distance"
      ]
    },
    {
      "cell_type": "code",
      "metadata": {
        "id": "LVoW-FMktg2F"
      },
      "source": [
        "def count_WMD(df_, org_nm, tr_nm, group_by = 'SENT_ID'):\n",
        "    sent_org = df_.groupby([group_by])[org_nm].apply(lambda x: ' '.join(x))\n",
        "    sent_tr = df_.groupby([group_by])[tr_nm].apply(lambda x: ' '.join(x))\n",
        "\n",
        "    distance_lst = []\n",
        "    for si, s in enumerate(sent_org):\n",
        "        distance = model.wmdistance(s, sent_tr[si])\n",
        "        distance_lst.append(distance)\n",
        "\n",
        "    return distance_lst\n",
        "\n",
        "def count_WMD2( sent_org, sent_tr):\n",
        "\n",
        "    distance_lst = []\n",
        "    for si, s in enumerate(sent_org):\n",
        "        distance = model.wmdistance(s, sent_tr[si])\n",
        "        distance_lst.append(distance)\n",
        "\n",
        "    return distance_lst"
      ],
      "execution_count": null,
      "outputs": []
    },
    {
      "cell_type": "markdown",
      "metadata": {
        "id": "NJhP0fRLIcMZ"
      },
      "source": [
        "## My text"
      ]
    },
    {
      "cell_type": "code",
      "metadata": {
        "colab": {
          "base_uri": "https://localhost:8080/"
        },
        "id": "UGhz-lHJuez0",
        "outputId": "41a5558e-99f5-466c-92a9-e60360cf5b2c"
      },
      "source": [
        "dist_tr = count_WMD(df_ = translation_df, org_nm = 'WORD', tr_nm = 'FINAL WORD FOR VISUALISATION', group_by = 'SENT_ID')\n",
        "print('mean: ', np.mean(dist_tr),'\\n',\n",
        "'median: ',np.median(dist_tr))"
      ],
      "execution_count": null,
      "outputs": [
        {
          "output_type": "stream",
          "text": [
            "mean:  0.5508629913226548 \n",
            " median:  0.5080463896017212\n"
          ],
          "name": "stdout"
        }
      ]
    },
    {
      "cell_type": "markdown",
      "metadata": {
        "id": "hrY8VtPxIO-n"
      },
      "source": [
        "## RuAdupt\n",
        "[RuAdupt](https://github.com/Digital-Pushkin-Lab/RuAdapt)"
      ]
    },
    {
      "cell_type": "code",
      "metadata": {
        "colab": {
          "base_uri": "https://localhost:8080/"
        },
        "id": "MXPBms3r0Ilx",
        "outputId": "37e9e55f-ad04-40ed-c09d-6b00e0751814"
      },
      "source": [
        "dist_tr = count_WMD(df_ = translation_df_bleu_short, org_nm = 'WORD', tr_nm = 'FINAL WORD FOR VISUALISATION', group_by = 'SENT_ID')\n",
        "print('mean: ', np.mean(dist_tr),'\\n',\n",
        "'median: ',np.median(dist_tr))"
      ],
      "execution_count": null,
      "outputs": [
        {
          "output_type": "stream",
          "text": [
            "mean:  0.7333030001316564 \n",
            " median:  0.6458481574074596\n"
          ],
          "name": "stdout"
        }
      ]
    },
    {
      "cell_type": "code",
      "metadata": {
        "colab": {
          "base_uri": "https://localhost:8080/"
        },
        "id": "X-Q81Wca0Iiu",
        "outputId": "02f525fb-6ef0-4420-a991-1224fef013d9"
      },
      "source": [
        "dist_tr = count_WMD(df_ = translation_df_bleu_full, org_nm = 'WORD', tr_nm = 'FINAL WORD FOR VISUALISATION', group_by = 'SENT_ID')\n",
        "print('mean: ', np.mean(dist_tr),'\\n',\n",
        "'median: ',np.median(dist_tr))"
      ],
      "execution_count": null,
      "outputs": [
        {
          "output_type": "stream",
          "text": [
            "mean:  0.6301232709815369 \n",
            " median:  0.5617961103826231\n"
          ],
          "name": "stdout"
        }
      ]
    },
    {
      "cell_type": "code",
      "metadata": {
        "id": "YWZqIKyzO-8Z"
      },
      "source": [
        "t1 = list(translation_df_bleu_simple.groupby(['SENT_ID'])['FINAL WORD FOR VISUALISATION'].apply(lambda x: ' '.join(x)))"
      ],
      "execution_count": null,
      "outputs": []
    },
    {
      "cell_type": "code",
      "metadata": {
        "id": "cm6wYVbiPGcf"
      },
      "source": [
        "t2 = list(translation_df_bleu_short.groupby(['SENT_ID'])['WORD'].apply(lambda x: ' '.join(x)))"
      ],
      "execution_count": null,
      "outputs": []
    },
    {
      "cell_type": "code",
      "metadata": {
        "colab": {
          "base_uri": "https://localhost:8080/"
        },
        "id": "QovIzdOp0Igf",
        "outputId": "c94cfd76-2ca3-4cf0-9cb9-d05ed83e7a68"
      },
      "source": [
        "\n",
        "dist_tr = count_WMD2(t1,t2)\n",
        "print('mean: ', np.mean(dist_tr),'\\n',\n",
        "'median: ',np.median(dist_tr))"
      ],
      "execution_count": null,
      "outputs": [
        {
          "output_type": "stream",
          "text": [
            "mean:  2.534064166205053 \n",
            " median:  2.477215493881001\n"
          ],
          "name": "stdout"
        }
      ]
    },
    {
      "cell_type": "markdown",
      "metadata": {
        "id": "Ofu9JkG2IXcN"
      },
      "source": [
        "## RuSimpleSentEval\n",
        "[RuSimpleSentEval](https://github.com/dialogue-evaluation/RuSimpleSentEval/blob/main/dev_sents.csv)"
      ]
    },
    {
      "cell_type": "code",
      "metadata": {
        "colab": {
          "base_uri": "https://localhost:8080/"
        },
        "id": "x8eEkpI_H8dr",
        "outputId": "c2e84c57-0bae-4174-8812-dc98ba2a05a5"
      },
      "source": [
        "dist_tr = count_WMD(df_ = translation_df_rsse_short, org_nm = 'WORD', tr_nm = 'FINAL WORD FOR VISUALISATION', group_by = 'SENT_ID')\n",
        "print('mean: ', np.mean(dist_tr),'\\n',\n",
        "'median: ',np.median(dist_tr))"
      ],
      "execution_count": null,
      "outputs": [
        {
          "output_type": "stream",
          "text": [
            "mean:  0.43708613296541204 \n",
            " median:  0.4091530925634533\n"
          ],
          "name": "stdout"
        }
      ]
    },
    {
      "cell_type": "code",
      "metadata": {
        "colab": {
          "base_uri": "https://localhost:8080/"
        },
        "id": "a2hKKYoKH8ds",
        "outputId": "a32079d1-2588-46fe-c236-c867dc63b149"
      },
      "source": [
        "dist_tr = count_WMD(df_ = translation_df_rsse_full, org_nm = 'WORD', tr_nm = 'FINAL WORD FOR VISUALISATION', group_by = 'SENT_ID')\n",
        "print('mean: ', np.mean(dist_tr),'\\n',\n",
        "'median: ',np.median(dist_tr))"
      ],
      "execution_count": null,
      "outputs": [
        {
          "output_type": "stream",
          "text": [
            "mean:  0.38324368181691704 \n",
            " median:  0.36823796575190004\n"
          ],
          "name": "stdout"
        }
      ]
    },
    {
      "cell_type": "code",
      "metadata": {
        "id": "GksUVEAcH8du"
      },
      "source": [
        "t1 = list(translation_df_rsse_simple.groupby(['SENT_ID'])['FINAL WORD FOR VISUALISATION'].apply(lambda x: ' '.join(x)))"
      ],
      "execution_count": null,
      "outputs": []
    },
    {
      "cell_type": "code",
      "metadata": {
        "id": "zI9Nbj-0H8dv"
      },
      "source": [
        "t2 = list(translation_df_rsse_simple.groupby(['SENT_ID'])['WORD'].apply(lambda x: ' '.join(x)))"
      ],
      "execution_count": null,
      "outputs": []
    },
    {
      "cell_type": "code",
      "metadata": {
        "colab": {
          "base_uri": "https://localhost:8080/"
        },
        "id": "LqMo3QKiH8dx",
        "outputId": "9987bd2c-8ce8-4b95-fedf-962c71323d37"
      },
      "source": [
        "\n",
        "dist_tr = count_WMD2(t1,t2)\n",
        "print('mean: ', np.mean(dist_tr),'\\n',\n",
        "'median: ',np.median(dist_tr))"
      ],
      "execution_count": null,
      "outputs": [
        {
          "output_type": "stream",
          "text": [
            "mean:  0.4548210974365499 \n",
            " median:  0.4327186583854721\n"
          ],
          "name": "stdout"
        }
      ]
    },
    {
      "cell_type": "code",
      "metadata": {
        "id": "0Oz4VZfj0IYs"
      },
      "source": [
        ""
      ],
      "execution_count": null,
      "outputs": []
    },
    {
      "cell_type": "code",
      "metadata": {
        "id": "qYYgmKYJ0IWJ"
      },
      "source": [
        ""
      ],
      "execution_count": null,
      "outputs": []
    },
    {
      "cell_type": "code",
      "metadata": {
        "id": "VBPyQUme0ITb"
      },
      "source": [
        ""
      ],
      "execution_count": null,
      "outputs": []
    },
    {
      "cell_type": "code",
      "metadata": {
        "colab": {
          "base_uri": "https://localhost:8080/"
        },
        "id": "E1EcduG2eHGA",
        "outputId": "955c2b2a-8b65-411d-e323-d05cd4dd1e8f"
      },
      "source": [
        "# mi = distance_lst.index(max(distance_lst))\n",
        "# distance = model.wmdistance(sent_org[mi], sent_tr[mi])\n",
        "# print ('distance between s2 and s3 = %.4f' % distance\n",
        "#        , '\\n'\n",
        "#        ,sent_org[mi] , '\\n', sent_tr[mi])"
      ],
      "execution_count": null,
      "outputs": [
        {
          "output_type": "stream",
          "text": [
            "distance between s2 and s3 = 1.6040 \n",
            " Что такое с вами \n",
            " что такой с вы\n"
          ],
          "name": "stdout"
        }
      ]
    }
  ]
}