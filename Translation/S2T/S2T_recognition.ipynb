{
  "nbformat": 4,
  "nbformat_minor": 0,
  "metadata": {
    "colab": {
      "name": "S2T recognition.ipynb",
      "provenance": [],
      "collapsed_sections": []
    },
    "kernelspec": {
      "name": "python3",
      "display_name": "Python 3"
    },
    "language_info": {
      "name": "python"
    }
  },
  "cells": [
    {
      "cell_type": "code",
      "metadata": {
        "colab": {
          "base_uri": "https://localhost:8080/",
          "height": 1000
        },
        "id": "kWksv1luuksB",
        "outputId": "6ccba4b1-1316-4742-fdae-efc6ff181ba0"
      },
      "source": [
        "!pip install --upgrade google-cloud-storage\n",
        "!pip install --upgrade google-cloud-speech"
      ],
      "execution_count": null,
      "outputs": [
        {
          "output_type": "stream",
          "text": [
            "Collecting google-cloud-storage\n",
            "\u001b[?25l  Downloading https://files.pythonhosted.org/packages/12/75/78ed0d1ef691592b94e7a3d9f58153298166486342a97df82d3c5b66cc16/google_cloud_storage-1.38.0-py2.py3-none-any.whl (103kB)\n",
            "\r\u001b[K     |███▏                            | 10kB 16.2MB/s eta 0:00:01\r\u001b[K     |██████▎                         | 20kB 22.4MB/s eta 0:00:01\r\u001b[K     |█████████▌                      | 30kB 26.5MB/s eta 0:00:01\r\u001b[K     |████████████▋                   | 40kB 29.0MB/s eta 0:00:01\r\u001b[K     |███████████████▊                | 51kB 31.4MB/s eta 0:00:01\r\u001b[K     |███████████████████             | 61kB 25.2MB/s eta 0:00:01\r\u001b[K     |██████████████████████          | 71kB 26.0MB/s eta 0:00:01\r\u001b[K     |█████████████████████████▏      | 81kB 20.7MB/s eta 0:00:01\r\u001b[K     |████████████████████████████▍   | 92kB 20.9MB/s eta 0:00:01\r\u001b[K     |███████████████████████████████▌| 102kB 22.0MB/s eta 0:00:01\r\u001b[K     |████████████████████████████████| 112kB 22.0MB/s \n",
            "\u001b[?25hCollecting google-resumable-media<2.0dev,>=1.2.0\n",
            "\u001b[?25l  Downloading https://files.pythonhosted.org/packages/22/52/4b086e0d15245b648e2b6d408fb2f2974a3a5a405de5d7fae25cd085a3fa/google_resumable_media-1.2.0-py2.py3-none-any.whl (75kB)\n",
            "\r\u001b[K     |████▎                           | 10kB 13.9MB/s eta 0:00:01\r\u001b[K     |████████▋                       | 20kB 20.5MB/s eta 0:00:01\r\u001b[K     |█████████████                   | 30kB 25.9MB/s eta 0:00:01\r\u001b[K     |█████████████████▎              | 40kB 29.5MB/s eta 0:00:01\r\u001b[K     |█████████████████████▋          | 51kB 29.4MB/s eta 0:00:01\r\u001b[K     |██████████████████████████      | 61kB 31.8MB/s eta 0:00:01\r\u001b[K     |██████████████████████████████▎ | 71kB 33.4MB/s eta 0:00:01\r\u001b[K     |████████████████████████████████| 81kB 7.4MB/s \n",
            "\u001b[?25hRequirement already satisfied, skipping upgrade: requests<3.0.0dev,>=2.18.0 in /usr/local/lib/python3.7/dist-packages (from google-cloud-storage) (2.23.0)\n",
            "Collecting google-cloud-core<2.0dev,>=1.4.1\n",
            "  Downloading https://files.pythonhosted.org/packages/ad/fc/6e8c449185cb8862af353c1164100ff75e32d55ba1de3baf9eaa01b7d2a9/google_cloud_core-1.6.0-py2.py3-none-any.whl\n",
            "Requirement already satisfied, skipping upgrade: google-auth<2.0dev,>=1.11.0 in /usr/local/lib/python3.7/dist-packages (from google-cloud-storage) (1.28.1)\n",
            "Requirement already satisfied, skipping upgrade: six in /usr/local/lib/python3.7/dist-packages (from google-resumable-media<2.0dev,>=1.2.0->google-cloud-storage) (1.15.0)\n",
            "Collecting google-crc32c<2.0dev,>=1.0; python_version >= \"3.5\"\n",
            "  Downloading https://files.pythonhosted.org/packages/fc/ae/b6efa1019e18c6c791f0f5cd93b2ff40f8f06696dbf04db39ec0f5591b1e/google_crc32c-1.1.2-cp37-cp37m-manylinux2014_x86_64.whl\n",
            "Requirement already satisfied, skipping upgrade: idna<3,>=2.5 in /usr/local/lib/python3.7/dist-packages (from requests<3.0.0dev,>=2.18.0->google-cloud-storage) (2.10)\n",
            "Requirement already satisfied, skipping upgrade: certifi>=2017.4.17 in /usr/local/lib/python3.7/dist-packages (from requests<3.0.0dev,>=2.18.0->google-cloud-storage) (2020.12.5)\n",
            "Requirement already satisfied, skipping upgrade: chardet<4,>=3.0.2 in /usr/local/lib/python3.7/dist-packages (from requests<3.0.0dev,>=2.18.0->google-cloud-storage) (3.0.4)\n",
            "Requirement already satisfied, skipping upgrade: urllib3!=1.25.0,!=1.25.1,<1.26,>=1.21.1 in /usr/local/lib/python3.7/dist-packages (from requests<3.0.0dev,>=2.18.0->google-cloud-storage) (1.24.3)\n",
            "Requirement already satisfied, skipping upgrade: google-api-core<2.0.0dev,>=1.21.0 in /usr/local/lib/python3.7/dist-packages (from google-cloud-core<2.0dev,>=1.4.1->google-cloud-storage) (1.26.3)\n",
            "Requirement already satisfied, skipping upgrade: setuptools>=40.3.0 in /usr/local/lib/python3.7/dist-packages (from google-auth<2.0dev,>=1.11.0->google-cloud-storage) (56.0.0)\n",
            "Requirement already satisfied, skipping upgrade: cachetools<5.0,>=2.0.0 in /usr/local/lib/python3.7/dist-packages (from google-auth<2.0dev,>=1.11.0->google-cloud-storage) (4.2.1)\n",
            "Requirement already satisfied, skipping upgrade: pyasn1-modules>=0.2.1 in /usr/local/lib/python3.7/dist-packages (from google-auth<2.0dev,>=1.11.0->google-cloud-storage) (0.2.8)\n",
            "Requirement already satisfied, skipping upgrade: rsa<5,>=3.1.4; python_version >= \"3.6\" in /usr/local/lib/python3.7/dist-packages (from google-auth<2.0dev,>=1.11.0->google-cloud-storage) (4.7.2)\n",
            "Requirement already satisfied, skipping upgrade: cffi>=1.0.0 in /usr/local/lib/python3.7/dist-packages (from google-crc32c<2.0dev,>=1.0; python_version >= \"3.5\"->google-resumable-media<2.0dev,>=1.2.0->google-cloud-storage) (1.14.5)\n",
            "Requirement already satisfied, skipping upgrade: pytz in /usr/local/lib/python3.7/dist-packages (from google-api-core<2.0.0dev,>=1.21.0->google-cloud-core<2.0dev,>=1.4.1->google-cloud-storage) (2018.9)\n",
            "Requirement already satisfied, skipping upgrade: protobuf>=3.12.0 in /usr/local/lib/python3.7/dist-packages (from google-api-core<2.0.0dev,>=1.21.0->google-cloud-core<2.0dev,>=1.4.1->google-cloud-storage) (3.12.4)\n",
            "Requirement already satisfied, skipping upgrade: googleapis-common-protos<2.0dev,>=1.6.0 in /usr/local/lib/python3.7/dist-packages (from google-api-core<2.0.0dev,>=1.21.0->google-cloud-core<2.0dev,>=1.4.1->google-cloud-storage) (1.53.0)\n",
            "Requirement already satisfied, skipping upgrade: packaging>=14.3 in /usr/local/lib/python3.7/dist-packages (from google-api-core<2.0.0dev,>=1.21.0->google-cloud-core<2.0dev,>=1.4.1->google-cloud-storage) (20.9)\n",
            "Requirement already satisfied, skipping upgrade: pyasn1<0.5.0,>=0.4.6 in /usr/local/lib/python3.7/dist-packages (from pyasn1-modules>=0.2.1->google-auth<2.0dev,>=1.11.0->google-cloud-storage) (0.4.8)\n",
            "Requirement already satisfied, skipping upgrade: pycparser in /usr/local/lib/python3.7/dist-packages (from cffi>=1.0.0->google-crc32c<2.0dev,>=1.0; python_version >= \"3.5\"->google-resumable-media<2.0dev,>=1.2.0->google-cloud-storage) (2.20)\n",
            "Requirement already satisfied, skipping upgrade: pyparsing>=2.0.2 in /usr/local/lib/python3.7/dist-packages (from packaging>=14.3->google-api-core<2.0.0dev,>=1.21.0->google-cloud-core<2.0dev,>=1.4.1->google-cloud-storage) (2.4.7)\n",
            "\u001b[31mERROR: google-cloud-bigquery 1.21.0 has requirement google-resumable-media!=0.4.0,<0.5.0dev,>=0.3.1, but you'll have google-resumable-media 1.2.0 which is incompatible.\u001b[0m\n",
            "Installing collected packages: google-crc32c, google-resumable-media, google-cloud-core, google-cloud-storage\n",
            "  Found existing installation: google-resumable-media 0.4.1\n",
            "    Uninstalling google-resumable-media-0.4.1:\n",
            "      Successfully uninstalled google-resumable-media-0.4.1\n",
            "  Found existing installation: google-cloud-core 1.0.3\n",
            "    Uninstalling google-cloud-core-1.0.3:\n",
            "      Successfully uninstalled google-cloud-core-1.0.3\n",
            "  Found existing installation: google-cloud-storage 1.18.1\n",
            "    Uninstalling google-cloud-storage-1.18.1:\n",
            "      Successfully uninstalled google-cloud-storage-1.18.1\n",
            "Successfully installed google-cloud-core-1.6.0 google-cloud-storage-1.38.0 google-crc32c-1.1.2 google-resumable-media-1.2.0\n"
          ],
          "name": "stdout"
        },
        {
          "output_type": "display_data",
          "data": {
            "application/vnd.colab-display-data+json": {
              "pip_warning": {
                "packages": [
                  "google"
                ]
              }
            }
          },
          "metadata": {
            "tags": []
          }
        },
        {
          "output_type": "stream",
          "text": [
            "Collecting google-cloud-speech\n",
            "\u001b[?25l  Downloading https://files.pythonhosted.org/packages/13/7d/7204a2a238b2d701fa292ac949373213cd1b479ef33631ad19704671d5f9/google_cloud_speech-2.3.0-py2.py3-none-any.whl (142kB)\n",
            "\r\u001b[K     |██▎                             | 10kB 14.6MB/s eta 0:00:01\r\u001b[K     |████▋                           | 20kB 20.1MB/s eta 0:00:01\r\u001b[K     |██████▉                         | 30kB 24.6MB/s eta 0:00:01\r\u001b[K     |█████████▏                      | 40kB 26.4MB/s eta 0:00:01\r\u001b[K     |███████████▌                    | 51kB 23.5MB/s eta 0:00:01\r\u001b[K     |█████████████▊                  | 61kB 17.2MB/s eta 0:00:01\r\u001b[K     |████████████████                | 71kB 17.5MB/s eta 0:00:01\r\u001b[K     |██████████████████▍             | 81kB 15.7MB/s eta 0:00:01\r\u001b[K     |████████████████████▋           | 92kB 15.4MB/s eta 0:00:01\r\u001b[K     |███████████████████████         | 102kB 15.8MB/s eta 0:00:01\r\u001b[K     |█████████████████████████▎      | 112kB 15.8MB/s eta 0:00:01\r\u001b[K     |███████████████████████████▌    | 122kB 15.8MB/s eta 0:00:01\r\u001b[K     |█████████████████████████████▉  | 133kB 15.8MB/s eta 0:00:01\r\u001b[K     |████████████████████████████████| 143kB 15.8MB/s \n",
            "\u001b[?25hCollecting libcst>=0.2.5\n",
            "\u001b[?25l  Downloading https://files.pythonhosted.org/packages/c3/7f/4aa1419b0ecb8a31a79fef7a79b49e6a07b977baa6c94612aeeda0228d17/libcst-0.3.18-py3-none-any.whl (512kB)\n",
            "\u001b[K     |████████████████████████████████| 522kB 13.5MB/s \n",
            "\u001b[?25hCollecting proto-plus>=1.4.0\n",
            "\u001b[?25l  Downloading https://files.pythonhosted.org/packages/b4/8a/61c5a9b9b6288f9b060b6e3d88374fc083953a29aeac7206616c2d3c9c8e/proto_plus-1.18.1-py3-none-any.whl (42kB)\n",
            "\u001b[K     |████████████████████████████████| 51kB 4.8MB/s \n",
            "\u001b[?25hRequirement already satisfied, skipping upgrade: google-api-core[grpc]<2.0.0dev,>=1.22.2 in /usr/local/lib/python3.7/dist-packages (from google-cloud-speech) (1.26.3)\n",
            "Collecting typing-inspect>=0.4.0\n",
            "  Downloading https://files.pythonhosted.org/packages/42/1c/66402db44184904a2f14722d317a4da0b5c8c78acfc3faf74362566635c5/typing_inspect-0.6.0-py3-none-any.whl\n",
            "Requirement already satisfied, skipping upgrade: typing-extensions>=3.7.4.2 in /usr/local/lib/python3.7/dist-packages (from libcst>=0.2.5->google-cloud-speech) (3.7.4.3)\n",
            "Collecting pyyaml>=5.2\n",
            "\u001b[?25l  Downloading https://files.pythonhosted.org/packages/7a/a5/393c087efdc78091afa2af9f1378762f9821c9c1d7a22c5753fb5ac5f97a/PyYAML-5.4.1-cp37-cp37m-manylinux1_x86_64.whl (636kB)\n",
            "\u001b[K     |████████████████████████████████| 645kB 39.6MB/s \n",
            "\u001b[?25hRequirement already satisfied, skipping upgrade: protobuf>=3.12.0 in /usr/local/lib/python3.7/dist-packages (from proto-plus>=1.4.0->google-cloud-speech) (3.12.4)\n",
            "Requirement already satisfied, skipping upgrade: setuptools>=40.3.0 in /usr/local/lib/python3.7/dist-packages (from google-api-core[grpc]<2.0.0dev,>=1.22.2->google-cloud-speech) (56.0.0)\n",
            "Requirement already satisfied, skipping upgrade: six>=1.13.0 in /usr/local/lib/python3.7/dist-packages (from google-api-core[grpc]<2.0.0dev,>=1.22.2->google-cloud-speech) (1.15.0)\n",
            "Requirement already satisfied, skipping upgrade: requests<3.0.0dev,>=2.18.0 in /usr/local/lib/python3.7/dist-packages (from google-api-core[grpc]<2.0.0dev,>=1.22.2->google-cloud-speech) (2.23.0)\n",
            "Requirement already satisfied, skipping upgrade: google-auth<2.0dev,>=1.21.1 in /usr/local/lib/python3.7/dist-packages (from google-api-core[grpc]<2.0.0dev,>=1.22.2->google-cloud-speech) (1.28.1)\n",
            "Requirement already satisfied, skipping upgrade: packaging>=14.3 in /usr/local/lib/python3.7/dist-packages (from google-api-core[grpc]<2.0.0dev,>=1.22.2->google-cloud-speech) (20.9)\n",
            "Requirement already satisfied, skipping upgrade: pytz in /usr/local/lib/python3.7/dist-packages (from google-api-core[grpc]<2.0.0dev,>=1.22.2->google-cloud-speech) (2018.9)\n",
            "Requirement already satisfied, skipping upgrade: googleapis-common-protos<2.0dev,>=1.6.0 in /usr/local/lib/python3.7/dist-packages (from google-api-core[grpc]<2.0.0dev,>=1.22.2->google-cloud-speech) (1.53.0)\n",
            "Requirement already satisfied, skipping upgrade: grpcio<2.0dev,>=1.29.0; extra == \"grpc\" in /usr/local/lib/python3.7/dist-packages (from google-api-core[grpc]<2.0.0dev,>=1.22.2->google-cloud-speech) (1.32.0)\n",
            "Collecting mypy-extensions>=0.3.0\n",
            "  Downloading https://files.pythonhosted.org/packages/5c/eb/975c7c080f3223a5cdaff09612f3a5221e4ba534f7039db34c35d95fa6a5/mypy_extensions-0.4.3-py2.py3-none-any.whl\n",
            "Requirement already satisfied, skipping upgrade: urllib3!=1.25.0,!=1.25.1,<1.26,>=1.21.1 in /usr/local/lib/python3.7/dist-packages (from requests<3.0.0dev,>=2.18.0->google-api-core[grpc]<2.0.0dev,>=1.22.2->google-cloud-speech) (1.24.3)\n",
            "Requirement already satisfied, skipping upgrade: chardet<4,>=3.0.2 in /usr/local/lib/python3.7/dist-packages (from requests<3.0.0dev,>=2.18.0->google-api-core[grpc]<2.0.0dev,>=1.22.2->google-cloud-speech) (3.0.4)\n",
            "Requirement already satisfied, skipping upgrade: idna<3,>=2.5 in /usr/local/lib/python3.7/dist-packages (from requests<3.0.0dev,>=2.18.0->google-api-core[grpc]<2.0.0dev,>=1.22.2->google-cloud-speech) (2.10)\n",
            "Requirement already satisfied, skipping upgrade: certifi>=2017.4.17 in /usr/local/lib/python3.7/dist-packages (from requests<3.0.0dev,>=2.18.0->google-api-core[grpc]<2.0.0dev,>=1.22.2->google-cloud-speech) (2020.12.5)\n",
            "Requirement already satisfied, skipping upgrade: rsa<5,>=3.1.4; python_version >= \"3.6\" in /usr/local/lib/python3.7/dist-packages (from google-auth<2.0dev,>=1.21.1->google-api-core[grpc]<2.0.0dev,>=1.22.2->google-cloud-speech) (4.7.2)\n",
            "Requirement already satisfied, skipping upgrade: pyasn1-modules>=0.2.1 in /usr/local/lib/python3.7/dist-packages (from google-auth<2.0dev,>=1.21.1->google-api-core[grpc]<2.0.0dev,>=1.22.2->google-cloud-speech) (0.2.8)\n",
            "Requirement already satisfied, skipping upgrade: cachetools<5.0,>=2.0.0 in /usr/local/lib/python3.7/dist-packages (from google-auth<2.0dev,>=1.21.1->google-api-core[grpc]<2.0.0dev,>=1.22.2->google-cloud-speech) (4.2.1)\n",
            "Requirement already satisfied, skipping upgrade: pyparsing>=2.0.2 in /usr/local/lib/python3.7/dist-packages (from packaging>=14.3->google-api-core[grpc]<2.0.0dev,>=1.22.2->google-cloud-speech) (2.4.7)\n",
            "Requirement already satisfied, skipping upgrade: pyasn1>=0.1.3 in /usr/local/lib/python3.7/dist-packages (from rsa<5,>=3.1.4; python_version >= \"3.6\"->google-auth<2.0dev,>=1.21.1->google-api-core[grpc]<2.0.0dev,>=1.22.2->google-cloud-speech) (0.4.8)\n",
            "Installing collected packages: mypy-extensions, typing-inspect, pyyaml, libcst, proto-plus, google-cloud-speech\n",
            "  Found existing installation: PyYAML 3.13\n",
            "    Uninstalling PyYAML-3.13:\n",
            "      Successfully uninstalled PyYAML-3.13\n",
            "Successfully installed google-cloud-speech-2.3.0 libcst-0.3.18 mypy-extensions-0.4.3 proto-plus-1.18.1 pyyaml-5.4.1 typing-inspect-0.6.0\n"
          ],
          "name": "stdout"
        },
        {
          "output_type": "display_data",
          "data": {
            "application/vnd.colab-display-data+json": {
              "pip_warning": {
                "packages": [
                  "google"
                ]
              }
            }
          },
          "metadata": {
            "tags": []
          }
        }
      ]
    },
    {
      "cell_type": "code",
      "metadata": {
        "colab": {
          "base_uri": "https://localhost:8080/"
        },
        "id": "8hOzOrOLr87F",
        "outputId": "f02290af-0b04-4da0-8b0b-08b857b90e2e"
      },
      "source": [
        "%pip install pydub\n",
        "%pip install sox\n",
        "!apt -qq install -y sox"
      ],
      "execution_count": null,
      "outputs": [
        {
          "output_type": "stream",
          "text": [
            "Collecting pydub\n",
            "  Downloading https://files.pythonhosted.org/packages/a6/53/d78dc063216e62fc55f6b2eebb447f6a4b0a59f55c8406376f76bf959b08/pydub-0.25.1-py2.py3-none-any.whl\n",
            "Installing collected packages: pydub\n",
            "Successfully installed pydub-0.25.1\n",
            "Collecting sox\n",
            "  Downloading https://files.pythonhosted.org/packages/3f/67/1810e9a69956eb236967b7174c11fd8d8c2cdab051509286f72e6c7e147e/sox-1.4.1-py2.py3-none-any.whl\n",
            "Requirement already satisfied: numpy>=1.9.0 in /usr/local/lib/python3.7/dist-packages (from sox) (1.19.5)\n",
            "Installing collected packages: sox\n",
            "Successfully installed sox-1.4.1\n",
            "The following package was automatically installed and is no longer required:\n",
            "  libnvidia-common-460\n",
            "Use 'apt autoremove' to remove it.\n",
            "The following additional packages will be installed:\n",
            "  libmagic-mgc libmagic1 libopencore-amrnb0 libopencore-amrwb0 libsox-fmt-alsa\n",
            "  libsox-fmt-base libsox3\n",
            "Suggested packages:\n",
            "  file libsox-fmt-all\n",
            "The following NEW packages will be installed:\n",
            "  libmagic-mgc libmagic1 libopencore-amrnb0 libopencore-amrwb0 libsox-fmt-alsa\n",
            "  libsox-fmt-base libsox3 sox\n",
            "0 upgraded, 8 newly installed, 0 to remove and 34 not upgraded.\n",
            "Need to get 760 kB of archives.\n",
            "After this operation, 6,717 kB of additional disk space will be used.\n",
            "Selecting previously unselected package libopencore-amrnb0:amd64.\n",
            "(Reading database ... 160690 files and directories currently installed.)\n",
            "Preparing to unpack .../0-libopencore-amrnb0_0.1.3-2.1_amd64.deb ...\n",
            "Unpacking libopencore-amrnb0:amd64 (0.1.3-2.1) ...\n",
            "Selecting previously unselected package libopencore-amrwb0:amd64.\n",
            "Preparing to unpack .../1-libopencore-amrwb0_0.1.3-2.1_amd64.deb ...\n",
            "Unpacking libopencore-amrwb0:amd64 (0.1.3-2.1) ...\n",
            "Selecting previously unselected package libmagic-mgc.\n",
            "Preparing to unpack .../2-libmagic-mgc_1%3a5.32-2ubuntu0.4_amd64.deb ...\n",
            "Unpacking libmagic-mgc (1:5.32-2ubuntu0.4) ...\n",
            "Selecting previously unselected package libmagic1:amd64.\n",
            "Preparing to unpack .../3-libmagic1_1%3a5.32-2ubuntu0.4_amd64.deb ...\n",
            "Unpacking libmagic1:amd64 (1:5.32-2ubuntu0.4) ...\n",
            "Selecting previously unselected package libsox3:amd64.\n",
            "Preparing to unpack .../4-libsox3_14.4.2-3ubuntu0.18.04.1_amd64.deb ...\n",
            "Unpacking libsox3:amd64 (14.4.2-3ubuntu0.18.04.1) ...\n",
            "Selecting previously unselected package libsox-fmt-alsa:amd64.\n",
            "Preparing to unpack .../5-libsox-fmt-alsa_14.4.2-3ubuntu0.18.04.1_amd64.deb ...\n",
            "Unpacking libsox-fmt-alsa:amd64 (14.4.2-3ubuntu0.18.04.1) ...\n",
            "Selecting previously unselected package libsox-fmt-base:amd64.\n",
            "Preparing to unpack .../6-libsox-fmt-base_14.4.2-3ubuntu0.18.04.1_amd64.deb ...\n",
            "Unpacking libsox-fmt-base:amd64 (14.4.2-3ubuntu0.18.04.1) ...\n",
            "Selecting previously unselected package sox.\n",
            "Preparing to unpack .../7-sox_14.4.2-3ubuntu0.18.04.1_amd64.deb ...\n",
            "Unpacking sox (14.4.2-3ubuntu0.18.04.1) ...\n",
            "Setting up libmagic-mgc (1:5.32-2ubuntu0.4) ...\n",
            "Setting up libmagic1:amd64 (1:5.32-2ubuntu0.4) ...\n",
            "Setting up libopencore-amrnb0:amd64 (0.1.3-2.1) ...\n",
            "Setting up libopencore-amrwb0:amd64 (0.1.3-2.1) ...\n",
            "Setting up libsox3:amd64 (14.4.2-3ubuntu0.18.04.1) ...\n",
            "Setting up libsox-fmt-base:amd64 (14.4.2-3ubuntu0.18.04.1) ...\n",
            "Setting up libsox-fmt-alsa:amd64 (14.4.2-3ubuntu0.18.04.1) ...\n",
            "Setting up sox (14.4.2-3ubuntu0.18.04.1) ...\n",
            "Processing triggers for libc-bin (2.27-3ubuntu1.2) ...\n",
            "/sbin/ldconfig.real: /usr/local/lib/python3.7/dist-packages/ideep4py/lib/libmkldnn.so.0 is not a symbolic link\n",
            "\n",
            "Processing triggers for man-db (2.8.3-2ubuntu0.1) ...\n",
            "Processing triggers for mime-support (3.60ubuntu1) ...\n"
          ],
          "name": "stdout"
        }
      ]
    },
    {
      "cell_type": "code",
      "metadata": {
        "colab": {
          "base_uri": "https://localhost:8080/"
        },
        "id": "Bs-A8wLQsHjG",
        "outputId": "1b006c3f-c6ac-45a4-f729-8fe6913d9c36"
      },
      "source": [
        "from google.colab import drive\n",
        "drive.mount('/content/drive')"
      ],
      "execution_count": null,
      "outputs": [
        {
          "output_type": "stream",
          "text": [
            "Mounted at /content/drive\n"
          ],
          "name": "stdout"
        }
      ]
    },
    {
      "cell_type": "code",
      "metadata": {
        "colab": {
          "base_uri": "https://localhost:8080/"
        },
        "id": "bXNv3tZstLWX",
        "outputId": "01e4da55-ba5e-45a0-a38d-87745fe7abb1"
      },
      "source": [
        "# STEP 1: Convert .mp3 to .wav file\n",
        "# STEP 2: Use subprocess + sox to convert .wav file into MONO .wav file, make sure sample_rate_hertz = 44100import subprocess\n",
        "import os\n",
        "import subprocess\n",
        "from pydub import AudioSegment# dir\n",
        "\n",
        "dirname = 'drive/MyDrive/Diplom/Generation/s2t/'# function that takes a file and converts to the mono version\n",
        "def convert_audio(filename):# files\n",
        "  filenamesplit = os.path.splitext(filename)[0]\n",
        "  filenamewav = filenamesplit + '.wav'\n",
        "  print(filenamewav)\n",
        "  newfilename = \"mono_\" + filenamewav# convert mp3 to wav                                                            \n",
        "  sound = AudioSegment.from_mp3(dirname + filename)\n",
        "  sound.export(dirname + filenamewav, format=\"wav\")# convert wav to wav mono\n",
        "  command2 = ['sox',dirname + filenamewav,'-c','1',dirname + newfilename]\n",
        "  subprocess.Popen(command2)\n",
        "\n",
        "convert_audio('Audio.mp3')\n"
      ],
      "execution_count": null,
      "outputs": [
        {
          "output_type": "stream",
          "text": [
            "Audio.wav\n"
          ],
          "name": "stdout"
        }
      ]
    },
    {
      "cell_type": "code",
      "metadata": {
        "colab": {
          "base_uri": "https://localhost:8080/"
        },
        "id": "R2K8rOf-tpDd",
        "outputId": "ef1ba30a-7230-446b-c010-25c0ff99309d"
      },
      "source": [
        "!gcloud auth login\n",
        "!gcloud auth application-default login"
      ],
      "execution_count": null,
      "outputs": [
        {
          "output_type": "stream",
          "text": [
            "Go to the following link in your browser:\n",
            "\n",
            "    https://accounts.google.com/o/oauth2/auth?response_type=code&client_id=32555940559.apps.googleusercontent.com&redirect_uri=urn%3Aietf%3Awg%3Aoauth%3A2.0%3Aoob&scope=openid+https%3A%2F%2Fwww.googleapis.com%2Fauth%2Fuserinfo.email+https%3A%2F%2Fwww.googleapis.com%2Fauth%2Fcloud-platform+https%3A%2F%2Fwww.googleapis.com%2Fauth%2Fappengine.admin+https%3A%2F%2Fwww.googleapis.com%2Fauth%2Fcompute+https%3A%2F%2Fwww.googleapis.com%2Fauth%2Faccounts.reauth&state=wajBSYEWwYE5So7YYvvpccxpewkubD&prompt=consent&access_type=offline&code_challenge=X_kVS2_cS-dDjMqmFfXOI5BDCpF7w4SXIO1z3XRXO0g&code_challenge_method=S256\n",
            "\n",
            "Enter verification code: 4/1AY0e-g62V50INa8sxbs19u0W94VgBYMTdljJf1gHjIhskzYRtVg5jTAD_ys\n",
            "\n",
            "You are now logged in as [natalylokot@gmail.com].\n",
            "Your current project is [None].  You can change this setting by running:\n",
            "  $ gcloud config set project PROJECT_ID\n",
            "Go to the following link in your browser:\n",
            "\n",
            "    https://accounts.google.com/o/oauth2/auth?response_type=code&client_id=764086051850-6qr4p6gpi6hn506pt8ejuq83di341hur.apps.googleusercontent.com&redirect_uri=urn%3Aietf%3Awg%3Aoauth%3A2.0%3Aoob&scope=openid+https%3A%2F%2Fwww.googleapis.com%2Fauth%2Fuserinfo.email+https%3A%2F%2Fwww.googleapis.com%2Fauth%2Fcloud-platform+https%3A%2F%2Fwww.googleapis.com%2Fauth%2Faccounts.reauth&state=yC3yMJLqyP2D7XD6uV3YhRMwlWgJ7c&prompt=consent&access_type=offline&code_challenge=_bXSpr-Rmn-gOaUk37mJ6XsZMB5XYO_GxS04i3RvCmA&code_challenge_method=S256\n",
            "\n",
            "Enter verification code: 4/1AY0e-g5DYcBxa20iIjryMDmHEPJK4aZ-2ddq5teDUztIBOzt0gJLRIRt-wc\n",
            "\n",
            "Credentials saved to file: [/content/.config/application_default_credentials.json]\n",
            "\n",
            "These credentials will be used by any library that requests Application Default Credentials (ADC).\n",
            "\u001b[1;33mWARNING:\u001b[0m \n",
            "Cannot find a quota project to add to ADC. You might receive a \"quota exceeded\" or \"API not enabled\" error. Run $ gcloud auth application-default set-quota-project to add a quota project.\n"
          ],
          "name": "stdout"
        }
      ]
    },
    {
      "cell_type": "code",
      "metadata": {
        "colab": {
          "base_uri": "https://localhost:8080/"
        },
        "id": "sNR5D-Mytc4k",
        "outputId": "d954353b-00d8-4173-c60e-ef66b3a87ca0"
      },
      "source": [
        "# STEP 3: Copies all files from temp/tbd_convert folder into Google Cloud Storage bucketfrom google.colab import auth\n",
        "# from google.cloud import storageauth.authenticate_user()\n",
        "project_id = 'speech-to-text-311817'\n",
        "!gcloud config set project {project_id}\n",
        "!gsutil ls\n",
        "\n",
        "# bucket_name = 'sp2tx'\n",
        "!gsutil -m cp -r drive/MyDrive/Diplom/Generation/s2t/* gs://s2t_project/"
      ],
      "execution_count": null,
      "outputs": [
        {
          "output_type": "stream",
          "text": [
            "Updated property [core/project].\n",
            "gs://s2t_project/\n",
            "Copying file://drive/MyDrive/Diplom/Generation/s2t/Audio.mp3 [Content-Type=audio/mpeg]...\n",
            "Copying file://drive/MyDrive/Diplom/Generation/s2t/Speech to text-2aec260704d3.json [Content-Type=application/json]...\n",
            "Copying file://drive/MyDrive/Diplom/Generation/s2t/speech-to-text-311817-46ca2a8697ac.json [Content-Type=application/json]...\n",
            "Copying file://drive/MyDrive/Diplom/Generation/s2t/Untitled0.ipynb [Content-Type=application/octet-stream]...\n",
            "Copying file://drive/MyDrive/Diplom/Generation/s2t/speech-to-text-311817-838079da16e5.json [Content-Type=application/json]...\n",
            "Copying file://drive/MyDrive/Diplom/Generation/s2t/S2T.ipynb [Content-Type=application/octet-stream]...\n",
            "Copying file://drive/MyDrive/Diplom/Generation/s2t/Audio.wav [Content-Type=audio/x-wav]...\n",
            "==> NOTE: You are uploading one or more large file(s), which would run\n",
            "significantly faster if you enable parallel composite uploads. This\n",
            "feature can be enabled by editing the\n",
            "\"parallel_composite_upload_threshold\" value in your .boto\n",
            "configuration file. However, note that if you do this large files will\n",
            "be uploaded as `composite objects\n",
            "<https://cloud.google.com/storage/docs/composite-objects>`_,which\n",
            "means that any user who downloads such objects will need to have a\n",
            "compiled crcmod installed (see \"gsutil help crcmod\"). This is because\n",
            "without a compiled crcmod, computing checksums on composite objects is\n",
            "so slow that gsutil disables downloads of composite objects.\n",
            "\n",
            "Copying file://drive/MyDrive/Diplom/Generation/s2t/mono_Audio.wav [Content-Type=audio/x-wav]...\n",
            "|\n",
            "Operation completed over 8 objects/258.3 MiB.                                    \n"
          ],
          "name": "stdout"
        }
      ]
    },
    {
      "cell_type": "code",
      "metadata": {
        "colab": {
          "base_uri": "https://localhost:8080/"
        },
        "id": "8IHvNxtT6la0",
        "outputId": "43507633-00e1-4510-c761-872a5ba0627d"
      },
      "source": [
        "!gsutil ls"
      ],
      "execution_count": null,
      "outputs": [
        {
          "output_type": "stream",
          "text": [
            "gs://s2t_project/\n"
          ],
          "name": "stdout"
        }
      ]
    },
    {
      "cell_type": "code",
      "metadata": {
        "colab": {
          "base_uri": "https://localhost:8080/"
        },
        "id": "2iYw3Kq-s9OL",
        "outputId": "ceba8636-84f9-4134-cd87-b2c20b8bb61a"
      },
      "source": [
        "import os\n",
        "os.environ[\"GOOGLE_APPLICATION_CREDENTIALS\"]=\"drive/MyDrive/Diplom/Generation/s2t/speech-to-text-311817-838079da16e5.json\"#ensure the path is set correctly\n",
        "!echo $GOOGLE_APPLICATION_CREDENTIALS"
      ],
      "execution_count": null,
      "outputs": [
        {
          "output_type": "stream",
          "text": [
            "drive/MyDrive/Diplom/Generation/s2t/speech-to-text-311817-838079da16e5.json\n"
          ],
          "name": "stdout"
        }
      ]
    },
    {
      "cell_type": "code",
      "metadata": {
        "colab": {
          "base_uri": "https://localhost:8080/"
        },
        "id": "lkJTBuzoxpt1",
        "outputId": "78c80254-a5df-4013-90aa-f3eb2bad9dfa"
      },
      "source": [
        "# TEST\n",
        "from google.cloud import storage\n",
        "project_id = 'speech-to-text-311817'\n",
        "bucket_name = 's2t_project'\n",
        "\n",
        "def list_blobs(bucket_name):\n",
        "    \"\"\"Lists all the blobs in the bucket.\"\"\"# Note: Client.list_blobs requires at least package version 1.17.0.\n",
        "    storage_client = storage.Client(project_id)\n",
        "    blobs = storage_client.list_blobs(bucket_name)\n",
        "    for blob in blobs:\n",
        "      print(blob.name)\n",
        "\n",
        "list_blobs(bucket_name)"
      ],
      "execution_count": null,
      "outputs": [
        {
          "output_type": "stream",
          "text": [
            "7 Навыков Высокоэффективных Людей Стивен Кови Саморазвитие.wav\n",
            "Audio.mp3\n",
            "Audio.wav\n",
            "S2T.ipynb\n",
            "Speech to text-2aec260704d3.json\n",
            "Untitled0.ipynb\n",
            "mono_Audio.wav\n",
            "speech-to-text-311817-46ca2a8697ac.json\n",
            "speech-to-text-311817-838079da16e5.json\n"
          ],
          "name": "stdout"
        }
      ]
    },
    {
      "cell_type": "code",
      "metadata": {
        "id": "7RoExoXi9RjN"
      },
      "source": [
        "def transcribe_gcs(gcs_uri):\n",
        "    \"\"\"Asynchronously transcribes the audio file specified by the gcs_uri.\"\"\"\n",
        "    from google.cloud import speech\n",
        "\n",
        "    client = speech.SpeechClient()\n",
        "\n",
        "    audio = speech.RecognitionAudio(uri=gcs_uri)\n",
        "    config = speech.RecognitionConfig(\n",
        "        encoding=speech.RecognitionConfig.AudioEncoding.LINEAR16,\n",
        "        sample_rate_hertz=48000,\n",
        "        language_code=\"ru-RU\",\n",
        "        audio_channel_count=2,\n",
        "        enable_automatic_punctuation=True,\n",
        "\n",
        "    )\n",
        "\n",
        "    operation = client.long_running_recognize(config=config, audio=audio)\n",
        "\n",
        "    print(\"Waiting for operation to complete...\")\n",
        "    response = operation.result(timeout=10000)\n",
        "\n",
        "    # Each result is for a consecutive portion of the audio. Iterate through\n",
        "    # them to get the transcripts for the entire audio file.\n",
        "    for result in response.results:\n",
        "        # The first alternative is the most likely one for this portion.\n",
        "        print(u\"Transcript: {}\".format(result.alternatives[0].transcript))\n",
        "        print(\"Confidence: {}\".format(result.alternatives[0].confidence))\n",
        "    return response\n"
      ],
      "execution_count": null,
      "outputs": []
    },
    {
      "cell_type": "code",
      "metadata": {
        "colab": {
          "base_uri": "https://localhost:8080/"
        },
        "id": "WudtPXhN-XBj",
        "outputId": "6f4867e4-43c4-443e-cf4a-ba006c60ba56"
      },
      "source": [
        "resp = transcribe_gcs(\"gs://s2t_project/Audio.wav\")"
      ],
      "execution_count": null,
      "outputs": [
        {
          "output_type": "stream",
          "text": [
            "Waiting for operation to complete...\n",
            "Transcript: Семь навыков высокоэффективных людей это одна из самых популярных книг для развития личности которая была переведена на 38 языков многомиллионные тиражи говорят о том что среди литературы потому что он обладает непререкаемым авторитетом это книга более 7 лет возглавляла список бестселлеров и по результатам опроса читателей журнала для руководителей была названа самой влиятельной книга по бизнесу 20 века журнал Time назвал автор книги Доктора Стивена Кови одним из 25 самых влиятельных американцев в данном видео вы узнаете ключевые тезисы этой уникальной книге в начале книги Стивен Кови объясняет понятие навыка как пересечение знания умения и желания знания это теоретическая база определяющая что делать И зачем умение определяет Как делать А желание это мотивация то есть хочу делать чтобы что-то в своей жизни превратить в навык необходимо все три компонента\n",
            "Confidence: 0.922484278678894\n",
            "Transcript: Семь навыков это навыки эффективности базируется на принципах они приносят наилучший из возможных долгосрочные результаты они становятся основой характера Благодаря чему человек может разрешать проблемы раскрывать свои возможности и постоянно совершенствоваться\n",
            "Confidence: 0.8903557658195496\n",
            "Transcript:  первый навык заключается в про активности человека и хотя на первый взгляд этот термин может показаться несколько сложным он на самом деле прост вообще в литературе по управлению термин проактивность распространен широко при этом вы вряд ли встретите Это слово в большинстве словарей она означает нечто большее чем просто активность оно означает что будучи людьми мы Несем ответственность за свои собственные жизни наше поведение зависит от наших решений они от окружающих условий мы можем починять чувства нашим ценностям мы инициируем происходящее и несем за это ответственность проактивная выглядит так что между раздражителем и реакцией имеется период когда человек может сделать Свободный выбор и даже вообще отказаться от реакции реактивная модель представляет собой постоянную реакцию раздражители причём реакция это моментальное у своей природе мы проактивны Если наша жизнь стала зависеть от различных обстоятельств то это потому что мы сознательно или нет\n",
            "Confidence: 0.9360678791999817\n",
            "Transcript:  выбор и позволили этим силам управлять нами делай такой выбор мы становимся реактивными реактивные люди часто находятся в зависимости от физических условий окружающей среды Если да хорошая они чувствуют себя хорошо если погода плохая то это сказывается на их настроение и работе проактивные люди носят в себе свою собственную погоду для них не имеет значения идёт дождь или светит солнце а недвижимость ценностями если ценностью для них является высококачественное выполнение работы то это не будет зависеть от того способствует этому погода или нет реактивная Кроме того зависит от социальных условий окружающей среды от социальной погоды если окружающие относятся к ним хорошо у них всё в порядке если же плохо то не становится закрытыми и занять оборонительную позицию реактивные люди строят свою эмоциональную жизнь на поведение окружающих позволяй их слабостям управлять собой в конце приведу пример из жизни моего трехлетнего сына\n",
            "Confidence: 0.9353057742118835\n",
            "Transcript:  Danone больно ударился о ножку стола и начал плакать говорят что стал плохой Это пример реактивности так как ребёнок посчитал причина своей маленькой беды внешний фактор то есть стол который родился на его пути где-то к 5-6 годам дети начинают мыслить проактивно и уже могут сознательно подходить к этому вопросу поэтому всякий раз когда вы захотите обвинить окружающие обстоятельства в той или проблеме Подумайте не являетесь ли вы тем ребёнком которые обвиняют в стол То есть ведёт себя реактивно они проактивно навык 2 начинайте представляя конечную цель Несмотря на то что этот навык применим ко многим различным обстоятельствам и аспектам жизни основной воплощение девиза начинайте представляя конечную цель заключается в том чтобы уже сегодня начать с представления образа картины или парадигмы конечной цели вашей жизни это будет системой оценки или критериям на соответствие которому проверяется всё\n",
            "Confidence: 0.9353234171867371\n",
            "Transcript:  каждая часть вашей жизни то что вы делаете сегодня Что будете делать завтра на следующей неделе в следующем месяце может быть рассмотрена в контексте единого целого того что по-настоящему имеет для вас значение постоянно сохраняю себя в голове четкий образ своей конечной цели вы всегда можете отдавать себе отчет в том что всё что вы делаете в любой конкретный день не противоречит критериям Как вы сами определили для себя как наиболее важное принцип начинайте представляя конечную цель основывается на идее что всё создаётся дважды сначала мысленно в голове реально физическом мире например перед тем как построить дом вы создаете его во всех подробностях еще до того как заберете первый гвоздь вы Старайтесь предельно четко представить себе Каким он должен быть вы приручить идеями и напрягайте свой интеллект до тех пор пока не получите четкий образ того что вам хочется построить Затем вы превращаетесь замысел в проект и разрабатываете строительные чертежи\n",
            "Confidence: 0.933816134929657\n",
            "Transcript:  делается до того как лопата впервые вонзится в землю начинать представляя конечную цель это значит что каждый день надо начинать твердо помня о своих ценностях тогда даже в самых тяжелых испытаниях я смогу опираясь на эти ценности принять верное решение и действовать как цельная личность Я не должен был реагировать на это эмоции и обстоятельства я смогу быть по-настоящему проактивным и ориентир на ценности потому что они мне ясны\n",
            "Confidence: 0.9047141075134277\n",
            "Transcript:  навык 3 сначала делайте то что необходимо делать сначала этот навык является личным достижением плодом практической реализации первых двух навыков навыка 1 гласит вы творец своей жизни вы за всё в ответе навык 2 представляет собой мысленный образ идею которая ещё не воплотилась в жизнь в таком случае 3 навык является физической реализации мысленного образа здесь мы имеем дело с вопросами связанными с управлением жизнью и времени Стивен Кови считает что лучше идея в сфере управления временем может быть передано одной фразой и действия на основе приоритетов её суть можно уяснить по матрице которую вы видите на экране исходная идея заключается в том что мы расходуем время одним из 400 виды деятельности определяется двумя факторами срочно и важно определить какому квадрату относится то или иное ваше дело достаточно просто главное пользоваться этой чрезвычайно эффективная\n",
            "Confidence: 0.9469637870788574\n",
            "Transcript:  Управление временем они просто наслаждаться фактом того чтобы они знаете девизом этого навыка является цитата Гёте наиболее важные дела никогда не должны подчиняться наименее важным\n",
            "Confidence: 0.9186283349990845\n",
            "Transcript:  навык 4 думайте в духе выиграл выиграл 4 навык Это не просто техника это общая философия взаимодействия между людьми это особый настрой ума и сердца на постоянный поиск взаимной выгоды при всех взаимодействиях людей друг с другом выиграл выиграл означает что все договорённости решения обоюдно выгодных удовлетворяют обе стороны установка представляет жизнь ареной для сотрудничества они соперничество люди в большинстве своем склонны к полярным оценкам сильный и слабый упрямый безвольный выигрыш проигрыш но подобное мышление порочен он основана власти и занимаемом положении они на принципе установка же выиграл выиграл основана на базе в соответствии с которой всего хватит всем что одного человека не достигается за счёт провала другого в качестве примера можно привести канал Ифа на котором вы смотрите это видео мы делаем ролики которые удовлетворяют запросы аудитории так\n",
            "Confidence: 0.9396312236785889\n",
            "Transcript:  наши зрители от этого выигрывают Но наш канал растет Так как постоянно появляются новые подписчики а чего Мы также выигрываем это хорошая модель так как в выигрыше обе стороны при этом следует понимать что для получения взаимной выгоды необходимо как мужество в достижении своих целей так и чуткость к чужим интересам особенности Вы имеете дело с людьми запрограммирован именно модель выиграл проиграл\n",
            "Confidence: 0.9070988893508911\n",
            "Transcript:  навык 5 сначала стремитесь понять потом быть понятым предположим у вас проблемы со зрением и вы решили обратиться к окулисту за помощью наспех выслушав ваши жалобы то снимает очки и протягивает их вам со словами вот наденьте эти очки я ношу уже лет 10 меня не здорово помогают Не беспокойтесь дома У меня есть запасные вы надевайте очки но видите в них ещё хуже прежнего ужасные очки восклицательных ничего в них не вижу что такое удивляется окулист мне не великолепно помогают попытайтесь еще разок Да я пытаюсь отвечаете вы расплывается что такое с вами постарайтесь настроиться позитивно хорошо но я и позитивно ничего в них не вижу Ну дорогой мой какой же вы Неблагодарный возмущает Это после всего что я сделал чтобы помочь Вам Наверняка вы больше никогда не Обратитесь к этому доктору ведь как можно доверять специалисту который назначает лечение не поставив диагноз\n",
            "Confidence: 0.9358304142951965\n",
            "Transcript:  а Часто ли мы сами общаюсь с другими людьми ставим диагноз перед тем как что-то сказать и так сначала стремитесь понять потом быть понятыми этот принцип ключик эффективно личному общению Это трудный но абсолютно верный принцип для самых разных сфер жизни этот принцип отличает всех истинных профессионалов сначала стремится понять а потом быть понятым Сначала ставить диагноз а потом выписывать рецепт это же модель справедливой в торговле эффективной продавец сначала стремится понять ситуацию клиента продавец не профессионал продаёт товары профессионал же продает решение проблем и удовлетворяет потребности Это совершенно иной подход хороший инженер прежде чем разработать проект моста должен понимать сил и рассчитать нагрузки хороший преподаватель Прежде чем начать занятия должен оценить уровень подготовки своих учеников хороший студент должен усвоить знания прежде чем их применить\n",
            "Confidence: 0.9383496046066284\n",
            "Transcript:  родители должны разобраться прежде чем судить или давать оценки ключ полноценному суждению понимание вынося сначала суждения вы никогда не достигнете полного понимания сначала стремитесь понять потом быть понятым это верный принцип применимы во всех случаях жизни Но более всего в сфере межличностных отношений\n",
            "Confidence: 0.9372479915618896\n",
            "Transcript:  навык 6 достигайте синергии в синергии переводится с греческого как сотрудничество или соучастие она представляет собой деятельность самого высокого порядка подлинную проверку и проявление всех остальных навыков Соединённых вместе синергия это суть лидерства основанного на принципах она катализирует объединяет и дает огромную энергию заключенную в людях все описанные выше навыки подготавливает нас к созданию чудо с энергией говоря простым языком Синергия означает что целое больше суммы его частей то есть один и один в сумме дают не 211 это пожалуй наиболее яркий и точный образ описывающий сути с энергией природе Синергия присутствует стоит посадить близко друг к другу два растения как корни их переплетаются и улучшат качество почвы таким образом чтобы растения станут расти лучше чем если бы они были разделены если\n",
            "Confidence: 0.9395798444747925\n",
            "Transcript:  вместе два деревянных бревна то не выдержит нагрузку значительно превышающую сумму их возможности По отдельности целое больше суммы его частей суйтесь энергии и заключается в том чтобы различия уважать их наращивать сильные и компенсировать слабые стороны навык 7 затрачиваете пилу Представь бродя по лесу вы наталкиваясь на человека который с ожесточением пилит дерево Что вы делаете интересуйтесь вы сами что ли не видите отвечает он я Пилю дерево Вы выглядите очень устал сочувствуете Вы давно уже пилите Да уж больше 5 часов отвечай человек еле на ногах стою нелёгкая это работа Так почему бы вам не прерываться на несколько минут не заточить пилу говорите Вы наверняка работа пойдет гораздо быстрее Нет у меня времени пилу затачивать восклицает человек мне пилить надо 7 навык требует выделять время\n",
            "Confidence: 0.9315094351768494\n",
            "Transcript:  пилы то есть для успешного развития личности нужно постоянно совершенствоваться в четырех измерениях человеческого бытия в физическом духовном интеллектуальном и эмоциональном данный навык замыкает кольцо все остальные навыки так как их применения становится возможным именно благодаря ему в конце кратко повторим все Семь навыков высокоэффективных людей от Стивена Кови надо кадим Будьте проактивны они реактивные навык 2 начинайте представляя конечную цель навык три сначала делайте то что необходимо делать сначала то есть правильно управляйте временем навык 4 думайте в духе выиграл то есть Ищите взаимную выгоду навык опять начала стремитесь понять потом быть понятым\n",
            "Confidence: 0.9436032176017761\n",
            "Transcript:  навык 6 достигайте синергии То есть достигайте сотрудничества когда Один плюс один равно не два а 11nova всем Давайте пилу То есть постоянно совершенствуйтесь если вы считаете это видео полезно Поделитесь им в социальных сетях и Поставьте лайк Если у вас есть конструктивные мысли по поводу этой книги и описанных в ней навыках Пишите их в комментариях и подписывайтесь на канал Эфо Спасибо\n",
            "Confidence: 0.9220118522644043\n"
          ],
          "name": "stdout"
        }
      ]
    },
    {
      "cell_type": "code",
      "metadata": {
        "id": "Ap8S1l-G-gnv"
      },
      "source": [
        "# [result.alternatives[0].transcript for result in resp.results]\n",
        "with open('drive/MyDrive/Diplom/Generation/s2t/audio_text.txt', mode='wt', encoding='utf-8') as myfile:\n",
        "    myfile.write('\\n'.join([result.alternatives[0].transcript for result in resp.results]))"
      ],
      "execution_count": null,
      "outputs": []
    },
    {
      "cell_type": "code",
      "metadata": {
        "id": "2qizNrpJ-gmM",
        "colab": {
          "base_uri": "https://localhost:8080/"
        },
        "outputId": "fd2e817a-a66d-427f-833a-56d77f75942b"
      },
      "source": [
        "[result.alternatives[0].transcript for result in resp.results]"
      ],
      "execution_count": null,
      "outputs": [
        {
          "output_type": "execute_result",
          "data": {
            "text/plain": [
              "['Семь навыков высокоэффективных людей это одна из самых популярных книг для развития личности которая была переведена на 38 языков многомиллионные тиражи говорят о том что среди литературы потому что он обладает непререкаемым авторитетом это книга более 7 лет возглавляла список бестселлеров и по результатам опроса читателей журнала для руководителей была названа самой влиятельной книга по бизнесу 20 века журнал Time назвал автор книги Доктора Стивена Кови одним из 25 самых влиятельных американцев в данном видео вы узнаете ключевые тезисы этой уникальной книге в начале книги Стивен Кови объясняет понятие навыка как пересечение знания умения и желания знания это теоретическая база определяющая что делать И зачем умение определяет Как делать А желание это мотивация то есть хочу делать чтобы что-то в своей жизни превратить в навык необходимо все три компонента',\n",
              " 'Семь навыков это навыки эффективности базируется на принципах они приносят наилучший из возможных долгосрочные результаты они становятся основой характера Благодаря чему человек может разрешать проблемы раскрывать свои возможности и постоянно совершенствоваться',\n",
              " ' первый навык заключается в про активности человека и хотя на первый взгляд этот термин может показаться несколько сложным он на самом деле прост вообще в литературе по управлению термин проактивность распространен широко при этом вы вряд ли встретите Это слово в большинстве словарей она означает нечто большее чем просто активность оно означает что будучи людьми мы Несем ответственность за свои собственные жизни наше поведение зависит от наших решений они от окружающих условий мы можем починять чувства нашим ценностям мы инициируем происходящее и несем за это ответственность проактивная выглядит так что между раздражителем и реакцией имеется период когда человек может сделать Свободный выбор и даже вообще отказаться от реакции реактивная модель представляет собой постоянную реакцию раздражители причём реакция это моментальное у своей природе мы проактивны Если наша жизнь стала зависеть от различных обстоятельств то это потому что мы сознательно или нет',\n",
              " ' выбор и позволили этим силам управлять нами делай такой выбор мы становимся реактивными реактивные люди часто находятся в зависимости от физических условий окружающей среды Если да хорошая они чувствуют себя хорошо если погода плохая то это сказывается на их настроение и работе проактивные люди носят в себе свою собственную погоду для них не имеет значения идёт дождь или светит солнце а недвижимость ценностями если ценностью для них является высококачественное выполнение работы то это не будет зависеть от того способствует этому погода или нет реактивная Кроме того зависит от социальных условий окружающей среды от социальной погоды если окружающие относятся к ним хорошо у них всё в порядке если же плохо то не становится закрытыми и занять оборонительную позицию реактивные люди строят свою эмоциональную жизнь на поведение окружающих позволяй их слабостям управлять собой в конце приведу пример из жизни моего трехлетнего сына',\n",
              " ' Danone больно ударился о ножку стола и начал плакать говорят что стал плохой Это пример реактивности так как ребёнок посчитал причина своей маленькой беды внешний фактор то есть стол который родился на его пути где-то к 5-6 годам дети начинают мыслить проактивно и уже могут сознательно подходить к этому вопросу поэтому всякий раз когда вы захотите обвинить окружающие обстоятельства в той или проблеме Подумайте не являетесь ли вы тем ребёнком которые обвиняют в стол То есть ведёт себя реактивно они проактивно навык 2 начинайте представляя конечную цель Несмотря на то что этот навык применим ко многим различным обстоятельствам и аспектам жизни основной воплощение девиза начинайте представляя конечную цель заключается в том чтобы уже сегодня начать с представления образа картины или парадигмы конечной цели вашей жизни это будет системой оценки или критериям на соответствие которому проверяется всё',\n",
              " ' каждая часть вашей жизни то что вы делаете сегодня Что будете делать завтра на следующей неделе в следующем месяце может быть рассмотрена в контексте единого целого того что по-настоящему имеет для вас значение постоянно сохраняю себя в голове четкий образ своей конечной цели вы всегда можете отдавать себе отчет в том что всё что вы делаете в любой конкретный день не противоречит критериям Как вы сами определили для себя как наиболее важное принцип начинайте представляя конечную цель основывается на идее что всё создаётся дважды сначала мысленно в голове реально физическом мире например перед тем как построить дом вы создаете его во всех подробностях еще до того как заберете первый гвоздь вы Старайтесь предельно четко представить себе Каким он должен быть вы приручить идеями и напрягайте свой интеллект до тех пор пока не получите четкий образ того что вам хочется построить Затем вы превращаетесь замысел в проект и разрабатываете строительные чертежи',\n",
              " ' делается до того как лопата впервые вонзится в землю начинать представляя конечную цель это значит что каждый день надо начинать твердо помня о своих ценностях тогда даже в самых тяжелых испытаниях я смогу опираясь на эти ценности принять верное решение и действовать как цельная личность Я не должен был реагировать на это эмоции и обстоятельства я смогу быть по-настоящему проактивным и ориентир на ценности потому что они мне ясны',\n",
              " ' навык 3 сначала делайте то что необходимо делать сначала этот навык является личным достижением плодом практической реализации первых двух навыков навыка 1 гласит вы творец своей жизни вы за всё в ответе навык 2 представляет собой мысленный образ идею которая ещё не воплотилась в жизнь в таком случае 3 навык является физической реализации мысленного образа здесь мы имеем дело с вопросами связанными с управлением жизнью и времени Стивен Кови считает что лучше идея в сфере управления временем может быть передано одной фразой и действия на основе приоритетов её суть можно уяснить по матрице которую вы видите на экране исходная идея заключается в том что мы расходуем время одним из 400 виды деятельности определяется двумя факторами срочно и важно определить какому квадрату относится то или иное ваше дело достаточно просто главное пользоваться этой чрезвычайно эффективная',\n",
              " ' Управление временем они просто наслаждаться фактом того чтобы они знаете девизом этого навыка является цитата Гёте наиболее важные дела никогда не должны подчиняться наименее важным',\n",
              " ' навык 4 думайте в духе выиграл выиграл 4 навык Это не просто техника это общая философия взаимодействия между людьми это особый настрой ума и сердца на постоянный поиск взаимной выгоды при всех взаимодействиях людей друг с другом выиграл выиграл означает что все договорённости решения обоюдно выгодных удовлетворяют обе стороны установка представляет жизнь ареной для сотрудничества они соперничество люди в большинстве своем склонны к полярным оценкам сильный и слабый упрямый безвольный выигрыш проигрыш но подобное мышление порочен он основана власти и занимаемом положении они на принципе установка же выиграл выиграл основана на базе в соответствии с которой всего хватит всем что одного человека не достигается за счёт провала другого в качестве примера можно привести канал Ифа на котором вы смотрите это видео мы делаем ролики которые удовлетворяют запросы аудитории так',\n",
              " ' наши зрители от этого выигрывают Но наш канал растет Так как постоянно появляются новые подписчики а чего Мы также выигрываем это хорошая модель так как в выигрыше обе стороны при этом следует понимать что для получения взаимной выгоды необходимо как мужество в достижении своих целей так и чуткость к чужим интересам особенности Вы имеете дело с людьми запрограммирован именно модель выиграл проиграл',\n",
              " ' навык 5 сначала стремитесь понять потом быть понятым предположим у вас проблемы со зрением и вы решили обратиться к окулисту за помощью наспех выслушав ваши жалобы то снимает очки и протягивает их вам со словами вот наденьте эти очки я ношу уже лет 10 меня не здорово помогают Не беспокойтесь дома У меня есть запасные вы надевайте очки но видите в них ещё хуже прежнего ужасные очки восклицательных ничего в них не вижу что такое удивляется окулист мне не великолепно помогают попытайтесь еще разок Да я пытаюсь отвечаете вы расплывается что такое с вами постарайтесь настроиться позитивно хорошо но я и позитивно ничего в них не вижу Ну дорогой мой какой же вы Неблагодарный возмущает Это после всего что я сделал чтобы помочь Вам Наверняка вы больше никогда не Обратитесь к этому доктору ведь как можно доверять специалисту который назначает лечение не поставив диагноз',\n",
              " ' а Часто ли мы сами общаюсь с другими людьми ставим диагноз перед тем как что-то сказать и так сначала стремитесь понять потом быть понятыми этот принцип ключик эффективно личному общению Это трудный но абсолютно верный принцип для самых разных сфер жизни этот принцип отличает всех истинных профессионалов сначала стремится понять а потом быть понятым Сначала ставить диагноз а потом выписывать рецепт это же модель справедливой в торговле эффективной продавец сначала стремится понять ситуацию клиента продавец не профессионал продаёт товары профессионал же продает решение проблем и удовлетворяет потребности Это совершенно иной подход хороший инженер прежде чем разработать проект моста должен понимать сил и рассчитать нагрузки хороший преподаватель Прежде чем начать занятия должен оценить уровень подготовки своих учеников хороший студент должен усвоить знания прежде чем их применить',\n",
              " ' родители должны разобраться прежде чем судить или давать оценки ключ полноценному суждению понимание вынося сначала суждения вы никогда не достигнете полного понимания сначала стремитесь понять потом быть понятым это верный принцип применимы во всех случаях жизни Но более всего в сфере межличностных отношений',\n",
              " ' навык 6 достигайте синергии в синергии переводится с греческого как сотрудничество или соучастие она представляет собой деятельность самого высокого порядка подлинную проверку и проявление всех остальных навыков Соединённых вместе синергия это суть лидерства основанного на принципах она катализирует объединяет и дает огромную энергию заключенную в людях все описанные выше навыки подготавливает нас к созданию чудо с энергией говоря простым языком Синергия означает что целое больше суммы его частей то есть один и один в сумме дают не 211 это пожалуй наиболее яркий и точный образ описывающий сути с энергией природе Синергия присутствует стоит посадить близко друг к другу два растения как корни их переплетаются и улучшат качество почвы таким образом чтобы растения станут расти лучше чем если бы они были разделены если',\n",
              " ' вместе два деревянных бревна то не выдержит нагрузку значительно превышающую сумму их возможности По отдельности целое больше суммы его частей суйтесь энергии и заключается в том чтобы различия уважать их наращивать сильные и компенсировать слабые стороны навык 7 затрачиваете пилу Представь бродя по лесу вы наталкиваясь на человека который с ожесточением пилит дерево Что вы делаете интересуйтесь вы сами что ли не видите отвечает он я Пилю дерево Вы выглядите очень устал сочувствуете Вы давно уже пилите Да уж больше 5 часов отвечай человек еле на ногах стою нелёгкая это работа Так почему бы вам не прерываться на несколько минут не заточить пилу говорите Вы наверняка работа пойдет гораздо быстрее Нет у меня времени пилу затачивать восклицает человек мне пилить надо 7 навык требует выделять время',\n",
              " ' пилы то есть для успешного развития личности нужно постоянно совершенствоваться в четырех измерениях человеческого бытия в физическом духовном интеллектуальном и эмоциональном данный навык замыкает кольцо все остальные навыки так как их применения становится возможным именно благодаря ему в конце кратко повторим все Семь навыков высокоэффективных людей от Стивена Кови надо кадим Будьте проактивны они реактивные навык 2 начинайте представляя конечную цель навык три сначала делайте то что необходимо делать сначала то есть правильно управляйте временем навык 4 думайте в духе выиграл то есть Ищите взаимную выгоду навык опять начала стремитесь понять потом быть понятым',\n",
              " ' навык 6 достигайте синергии То есть достигайте сотрудничества когда Один плюс один равно не два а 11nova всем Давайте пилу То есть постоянно совершенствуйтесь если вы считаете это видео полезно Поделитесь им в социальных сетях и Поставьте лайк Если у вас есть конструктивные мысли по поводу этой книги и описанных в ней навыках Пишите их в комментариях и подписывайтесь на канал Эфо Спасибо']"
            ]
          },
          "metadata": {
            "tags": []
          },
          "execution_count": 17
        }
      ]
    },
    {
      "cell_type": "code",
      "metadata": {
        "id": "fX5hfVWwAaB1"
      },
      "source": [
        ""
      ],
      "execution_count": null,
      "outputs": []
    },
    {
      "cell_type": "code",
      "metadata": {
        "id": "XlNwm6u9AZ-_"
      },
      "source": [
        ""
      ],
      "execution_count": null,
      "outputs": []
    },
    {
      "cell_type": "code",
      "metadata": {
        "id": "LGl2xkzHAZ8R"
      },
      "source": [
        ""
      ],
      "execution_count": null,
      "outputs": []
    }
  ]
}