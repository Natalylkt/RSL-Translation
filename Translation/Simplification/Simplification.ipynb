{
  "nbformat": 4,
  "nbformat_minor": 0,
  "metadata": {
    "colab": {
      "name": "Simplification",
      "provenance": [],
      "collapsed_sections": []
    },
    "kernelspec": {
      "name": "python3",
      "display_name": "Python 3"
    },
    "language_info": {
      "name": "python"
    },
    "widgets": {
      "application/vnd.jupyter.widget-state+json": {
        "ef337004a7714ad88bcb646b7c9323f1": {
          "model_module": "@jupyter-widgets/controls",
          "model_name": "HBoxModel",
          "state": {
            "_view_name": "HBoxView",
            "_dom_classes": [],
            "_model_name": "HBoxModel",
            "_view_module": "@jupyter-widgets/controls",
            "_model_module_version": "1.5.0",
            "_view_count": null,
            "_view_module_version": "1.5.0",
            "box_style": "",
            "layout": "IPY_MODEL_5cde150a323047eab73635b9f1c61cfc",
            "_model_module": "@jupyter-widgets/controls",
            "children": [
              "IPY_MODEL_5897f3d90af445349463cc245c442e38",
              "IPY_MODEL_9d03fe67680d46469d62553965d4e15c"
            ]
          }
        },
        "5cde150a323047eab73635b9f1c61cfc": {
          "model_module": "@jupyter-widgets/base",
          "model_name": "LayoutModel",
          "state": {
            "_view_name": "LayoutView",
            "grid_template_rows": null,
            "right": null,
            "justify_content": null,
            "_view_module": "@jupyter-widgets/base",
            "overflow": null,
            "_model_module_version": "1.2.0",
            "_view_count": null,
            "flex_flow": null,
            "width": null,
            "min_width": null,
            "border": null,
            "align_items": null,
            "bottom": null,
            "_model_module": "@jupyter-widgets/base",
            "top": null,
            "grid_column": null,
            "overflow_y": null,
            "overflow_x": null,
            "grid_auto_flow": null,
            "grid_area": null,
            "grid_template_columns": null,
            "flex": null,
            "_model_name": "LayoutModel",
            "justify_items": null,
            "grid_row": null,
            "max_height": null,
            "align_content": null,
            "visibility": null,
            "align_self": null,
            "height": null,
            "min_height": null,
            "padding": null,
            "grid_auto_rows": null,
            "grid_gap": null,
            "max_width": null,
            "order": null,
            "_view_module_version": "1.2.0",
            "grid_template_areas": null,
            "object_position": null,
            "object_fit": null,
            "grid_auto_columns": null,
            "margin": null,
            "display": null,
            "left": null
          }
        },
        "5897f3d90af445349463cc245c442e38": {
          "model_module": "@jupyter-widgets/controls",
          "model_name": "FloatProgressModel",
          "state": {
            "_view_name": "ProgressView",
            "style": "IPY_MODEL_d8b5207a5782447a8a06346fc7a22610",
            "_dom_classes": [],
            "description": "Downloading: 100%",
            "_model_name": "FloatProgressModel",
            "bar_style": "success",
            "max": 5069051,
            "_view_module": "@jupyter-widgets/controls",
            "_model_module_version": "1.5.0",
            "value": 5069051,
            "_view_count": null,
            "_view_module_version": "1.5.0",
            "orientation": "horizontal",
            "min": 0,
            "description_tooltip": null,
            "_model_module": "@jupyter-widgets/controls",
            "layout": "IPY_MODEL_38970ec70589458daec717051dc61323"
          }
        },
        "9d03fe67680d46469d62553965d4e15c": {
          "model_module": "@jupyter-widgets/controls",
          "model_name": "HTMLModel",
          "state": {
            "_view_name": "HTMLView",
            "style": "IPY_MODEL_86ef4dd17e3c4f24a5b628a320ebc0c1",
            "_dom_classes": [],
            "description": "",
            "_model_name": "HTMLModel",
            "placeholder": "​",
            "_view_module": "@jupyter-widgets/controls",
            "_model_module_version": "1.5.0",
            "value": " 5.07M/5.07M [00:09&lt;00:00, 542kB/s]",
            "_view_count": null,
            "_view_module_version": "1.5.0",
            "description_tooltip": null,
            "_model_module": "@jupyter-widgets/controls",
            "layout": "IPY_MODEL_dce75167cd93400e99194fca9dcfdbf1"
          }
        },
        "d8b5207a5782447a8a06346fc7a22610": {
          "model_module": "@jupyter-widgets/controls",
          "model_name": "ProgressStyleModel",
          "state": {
            "_view_name": "StyleView",
            "_model_name": "ProgressStyleModel",
            "description_width": "initial",
            "_view_module": "@jupyter-widgets/base",
            "_model_module_version": "1.5.0",
            "_view_count": null,
            "_view_module_version": "1.2.0",
            "bar_color": null,
            "_model_module": "@jupyter-widgets/controls"
          }
        },
        "38970ec70589458daec717051dc61323": {
          "model_module": "@jupyter-widgets/base",
          "model_name": "LayoutModel",
          "state": {
            "_view_name": "LayoutView",
            "grid_template_rows": null,
            "right": null,
            "justify_content": null,
            "_view_module": "@jupyter-widgets/base",
            "overflow": null,
            "_model_module_version": "1.2.0",
            "_view_count": null,
            "flex_flow": null,
            "width": null,
            "min_width": null,
            "border": null,
            "align_items": null,
            "bottom": null,
            "_model_module": "@jupyter-widgets/base",
            "top": null,
            "grid_column": null,
            "overflow_y": null,
            "overflow_x": null,
            "grid_auto_flow": null,
            "grid_area": null,
            "grid_template_columns": null,
            "flex": null,
            "_model_name": "LayoutModel",
            "justify_items": null,
            "grid_row": null,
            "max_height": null,
            "align_content": null,
            "visibility": null,
            "align_self": null,
            "height": null,
            "min_height": null,
            "padding": null,
            "grid_auto_rows": null,
            "grid_gap": null,
            "max_width": null,
            "order": null,
            "_view_module_version": "1.2.0",
            "grid_template_areas": null,
            "object_position": null,
            "object_fit": null,
            "grid_auto_columns": null,
            "margin": null,
            "display": null,
            "left": null
          }
        },
        "86ef4dd17e3c4f24a5b628a320ebc0c1": {
          "model_module": "@jupyter-widgets/controls",
          "model_name": "DescriptionStyleModel",
          "state": {
            "_view_name": "StyleView",
            "_model_name": "DescriptionStyleModel",
            "description_width": "",
            "_view_module": "@jupyter-widgets/base",
            "_model_module_version": "1.5.0",
            "_view_count": null,
            "_view_module_version": "1.2.0",
            "_model_module": "@jupyter-widgets/controls"
          }
        },
        "dce75167cd93400e99194fca9dcfdbf1": {
          "model_module": "@jupyter-widgets/base",
          "model_name": "LayoutModel",
          "state": {
            "_view_name": "LayoutView",
            "grid_template_rows": null,
            "right": null,
            "justify_content": null,
            "_view_module": "@jupyter-widgets/base",
            "overflow": null,
            "_model_module_version": "1.2.0",
            "_view_count": null,
            "flex_flow": null,
            "width": null,
            "min_width": null,
            "border": null,
            "align_items": null,
            "bottom": null,
            "_model_module": "@jupyter-widgets/base",
            "top": null,
            "grid_column": null,
            "overflow_y": null,
            "overflow_x": null,
            "grid_auto_flow": null,
            "grid_area": null,
            "grid_template_columns": null,
            "flex": null,
            "_model_name": "LayoutModel",
            "justify_items": null,
            "grid_row": null,
            "max_height": null,
            "align_content": null,
            "visibility": null,
            "align_self": null,
            "height": null,
            "min_height": null,
            "padding": null,
            "grid_auto_rows": null,
            "grid_gap": null,
            "max_width": null,
            "order": null,
            "_view_module_version": "1.2.0",
            "grid_template_areas": null,
            "object_position": null,
            "object_fit": null,
            "grid_auto_columns": null,
            "margin": null,
            "display": null,
            "left": null
          }
        },
        "31279d9f531d4acea29c0486df85c404": {
          "model_module": "@jupyter-widgets/controls",
          "model_name": "HBoxModel",
          "state": {
            "_view_name": "HBoxView",
            "_dom_classes": [],
            "_model_name": "HBoxModel",
            "_view_module": "@jupyter-widgets/controls",
            "_model_module_version": "1.5.0",
            "_view_count": null,
            "_view_module_version": "1.5.0",
            "box_style": "",
            "layout": "IPY_MODEL_4cb538f9d0c14bfa8631ef41d6e851ef",
            "_model_module": "@jupyter-widgets/controls",
            "children": [
              "IPY_MODEL_1650e05eeaea45f593dfd99e05842694",
              "IPY_MODEL_a6045122adae44b4b8143d745a9e55e9"
            ]
          }
        },
        "4cb538f9d0c14bfa8631ef41d6e851ef": {
          "model_module": "@jupyter-widgets/base",
          "model_name": "LayoutModel",
          "state": {
            "_view_name": "LayoutView",
            "grid_template_rows": null,
            "right": null,
            "justify_content": null,
            "_view_module": "@jupyter-widgets/base",
            "overflow": null,
            "_model_module_version": "1.2.0",
            "_view_count": null,
            "flex_flow": null,
            "width": null,
            "min_width": null,
            "border": null,
            "align_items": null,
            "bottom": null,
            "_model_module": "@jupyter-widgets/base",
            "top": null,
            "grid_column": null,
            "overflow_y": null,
            "overflow_x": null,
            "grid_auto_flow": null,
            "grid_area": null,
            "grid_template_columns": null,
            "flex": null,
            "_model_name": "LayoutModel",
            "justify_items": null,
            "grid_row": null,
            "max_height": null,
            "align_content": null,
            "visibility": null,
            "align_self": null,
            "height": null,
            "min_height": null,
            "padding": null,
            "grid_auto_rows": null,
            "grid_gap": null,
            "max_width": null,
            "order": null,
            "_view_module_version": "1.2.0",
            "grid_template_areas": null,
            "object_position": null,
            "object_fit": null,
            "grid_auto_columns": null,
            "margin": null,
            "display": null,
            "left": null
          }
        },
        "1650e05eeaea45f593dfd99e05842694": {
          "model_module": "@jupyter-widgets/controls",
          "model_name": "FloatProgressModel",
          "state": {
            "_view_name": "ProgressView",
            "style": "IPY_MODEL_bd779223b9da43c3b71457786f1d2d4f",
            "_dom_classes": [],
            "description": "Downloading: 100%",
            "_model_name": "FloatProgressModel",
            "bar_style": "success",
            "max": 9099897,
            "_view_module": "@jupyter-widgets/controls",
            "_model_module_version": "1.5.0",
            "value": 9099897,
            "_view_count": null,
            "_view_module_version": "1.5.0",
            "orientation": "horizontal",
            "min": 0,
            "description_tooltip": null,
            "_model_module": "@jupyter-widgets/controls",
            "layout": "IPY_MODEL_aee0f3ba3301412d9546704b82424d2d"
          }
        },
        "a6045122adae44b4b8143d745a9e55e9": {
          "model_module": "@jupyter-widgets/controls",
          "model_name": "HTMLModel",
          "state": {
            "_view_name": "HTMLView",
            "style": "IPY_MODEL_1141cc13fbad40829a0a6169f5e61199",
            "_dom_classes": [],
            "description": "",
            "_model_name": "HTMLModel",
            "placeholder": "​",
            "_view_module": "@jupyter-widgets/controls",
            "_model_module_version": "1.5.0",
            "value": " 9.10M/9.10M [00:07&lt;00:00, 1.22MB/s]",
            "_view_count": null,
            "_view_module_version": "1.5.0",
            "description_tooltip": null,
            "_model_module": "@jupyter-widgets/controls",
            "layout": "IPY_MODEL_c00dd745862a438aac9cc7c17b26e583"
          }
        },
        "bd779223b9da43c3b71457786f1d2d4f": {
          "model_module": "@jupyter-widgets/controls",
          "model_name": "ProgressStyleModel",
          "state": {
            "_view_name": "StyleView",
            "_model_name": "ProgressStyleModel",
            "description_width": "initial",
            "_view_module": "@jupyter-widgets/base",
            "_model_module_version": "1.5.0",
            "_view_count": null,
            "_view_module_version": "1.2.0",
            "bar_color": null,
            "_model_module": "@jupyter-widgets/controls"
          }
        },
        "aee0f3ba3301412d9546704b82424d2d": {
          "model_module": "@jupyter-widgets/base",
          "model_name": "LayoutModel",
          "state": {
            "_view_name": "LayoutView",
            "grid_template_rows": null,
            "right": null,
            "justify_content": null,
            "_view_module": "@jupyter-widgets/base",
            "overflow": null,
            "_model_module_version": "1.2.0",
            "_view_count": null,
            "flex_flow": null,
            "width": null,
            "min_width": null,
            "border": null,
            "align_items": null,
            "bottom": null,
            "_model_module": "@jupyter-widgets/base",
            "top": null,
            "grid_column": null,
            "overflow_y": null,
            "overflow_x": null,
            "grid_auto_flow": null,
            "grid_area": null,
            "grid_template_columns": null,
            "flex": null,
            "_model_name": "LayoutModel",
            "justify_items": null,
            "grid_row": null,
            "max_height": null,
            "align_content": null,
            "visibility": null,
            "align_self": null,
            "height": null,
            "min_height": null,
            "padding": null,
            "grid_auto_rows": null,
            "grid_gap": null,
            "max_width": null,
            "order": null,
            "_view_module_version": "1.2.0",
            "grid_template_areas": null,
            "object_position": null,
            "object_fit": null,
            "grid_auto_columns": null,
            "margin": null,
            "display": null,
            "left": null
          }
        },
        "1141cc13fbad40829a0a6169f5e61199": {
          "model_module": "@jupyter-widgets/controls",
          "model_name": "DescriptionStyleModel",
          "state": {
            "_view_name": "StyleView",
            "_model_name": "DescriptionStyleModel",
            "description_width": "",
            "_view_module": "@jupyter-widgets/base",
            "_model_module_version": "1.5.0",
            "_view_count": null,
            "_view_module_version": "1.2.0",
            "_model_module": "@jupyter-widgets/controls"
          }
        },
        "c00dd745862a438aac9cc7c17b26e583": {
          "model_module": "@jupyter-widgets/base",
          "model_name": "LayoutModel",
          "state": {
            "_view_name": "LayoutView",
            "grid_template_rows": null,
            "right": null,
            "justify_content": null,
            "_view_module": "@jupyter-widgets/base",
            "overflow": null,
            "_model_module_version": "1.2.0",
            "_view_count": null,
            "flex_flow": null,
            "width": null,
            "min_width": null,
            "border": null,
            "align_items": null,
            "bottom": null,
            "_model_module": "@jupyter-widgets/base",
            "top": null,
            "grid_column": null,
            "overflow_y": null,
            "overflow_x": null,
            "grid_auto_flow": null,
            "grid_area": null,
            "grid_template_columns": null,
            "flex": null,
            "_model_name": "LayoutModel",
            "justify_items": null,
            "grid_row": null,
            "max_height": null,
            "align_content": null,
            "visibility": null,
            "align_self": null,
            "height": null,
            "min_height": null,
            "padding": null,
            "grid_auto_rows": null,
            "grid_gap": null,
            "max_width": null,
            "order": null,
            "_view_module_version": "1.2.0",
            "grid_template_areas": null,
            "object_position": null,
            "object_fit": null,
            "grid_auto_columns": null,
            "margin": null,
            "display": null,
            "left": null
          }
        }
      }
    }
  },
  "cells": [
    {
      "cell_type": "markdown",
      "metadata": {
        "id": "d7aeKm0MqjeF"
      },
      "source": [
        "## Simplifiation (Summarization)\n",
        "Use  [RuSimpleSentEval](https://github.com/DanAnastasyev/RuSimpleSentEval)"
      ]
    },
    {
      "cell_type": "code",
      "metadata": {
        "colab": {
          "base_uri": "https://localhost:8080/"
        },
        "id": "8I2KDZ2u3Mz6",
        "outputId": "ca735026-e88c-426a-a4a1-558bf4d54705"
      },
      "source": [
        "!pip install transformers\n",
        "!pip install SentencePiece \n",
        "!pip install razdel"
      ],
      "execution_count": null,
      "outputs": [
        {
          "output_type": "stream",
          "text": [
            "Collecting transformers\n",
            "\u001b[?25l  Downloading https://files.pythonhosted.org/packages/d5/43/cfe4ee779bbd6a678ac6a97c5a5cdeb03c35f9eaebbb9720b036680f9a2d/transformers-4.6.1-py3-none-any.whl (2.2MB)\n",
            "\u001b[K     |████████████████████████████████| 2.3MB 8.0MB/s \n",
            "\u001b[?25hRequirement already satisfied: filelock in /usr/local/lib/python3.7/dist-packages (from transformers) (3.0.12)\n",
            "Requirement already satisfied: numpy>=1.17 in /usr/local/lib/python3.7/dist-packages (from transformers) (1.19.5)\n",
            "Collecting tokenizers<0.11,>=0.10.1\n",
            "\u001b[?25l  Downloading https://files.pythonhosted.org/packages/d4/e2/df3543e8ffdab68f5acc73f613de9c2b155ac47f162e725dcac87c521c11/tokenizers-0.10.3-cp37-cp37m-manylinux_2_5_x86_64.manylinux1_x86_64.manylinux_2_12_x86_64.manylinux2010_x86_64.whl (3.3MB)\n",
            "\u001b[K     |████████████████████████████████| 3.3MB 33.2MB/s \n",
            "\u001b[?25hRequirement already satisfied: tqdm>=4.27 in /usr/local/lib/python3.7/dist-packages (from transformers) (4.41.1)\n",
            "Requirement already satisfied: requests in /usr/local/lib/python3.7/dist-packages (from transformers) (2.23.0)\n",
            "Requirement already satisfied: packaging in /usr/local/lib/python3.7/dist-packages (from transformers) (20.9)\n",
            "Collecting huggingface-hub==0.0.8\n",
            "  Downloading https://files.pythonhosted.org/packages/a1/88/7b1e45720ecf59c6c6737ff332f41c955963090a18e72acbcbeac6b25e86/huggingface_hub-0.0.8-py3-none-any.whl\n",
            "Requirement already satisfied: importlib-metadata; python_version < \"3.8\" in /usr/local/lib/python3.7/dist-packages (from transformers) (4.0.1)\n",
            "Requirement already satisfied: regex!=2019.12.17 in /usr/local/lib/python3.7/dist-packages (from transformers) (2019.12.20)\n",
            "Collecting sacremoses\n",
            "\u001b[?25l  Downloading https://files.pythonhosted.org/packages/75/ee/67241dc87f266093c533a2d4d3d69438e57d7a90abb216fa076e7d475d4a/sacremoses-0.0.45-py3-none-any.whl (895kB)\n",
            "\u001b[K     |████████████████████████████████| 901kB 30.3MB/s \n",
            "\u001b[?25hRequirement already satisfied: certifi>=2017.4.17 in /usr/local/lib/python3.7/dist-packages (from requests->transformers) (2020.12.5)\n",
            "Requirement already satisfied: chardet<4,>=3.0.2 in /usr/local/lib/python3.7/dist-packages (from requests->transformers) (3.0.4)\n",
            "Requirement already satisfied: urllib3!=1.25.0,!=1.25.1,<1.26,>=1.21.1 in /usr/local/lib/python3.7/dist-packages (from requests->transformers) (1.24.3)\n",
            "Requirement already satisfied: idna<3,>=2.5 in /usr/local/lib/python3.7/dist-packages (from requests->transformers) (2.10)\n",
            "Requirement already satisfied: pyparsing>=2.0.2 in /usr/local/lib/python3.7/dist-packages (from packaging->transformers) (2.4.7)\n",
            "Requirement already satisfied: typing-extensions>=3.6.4; python_version < \"3.8\" in /usr/local/lib/python3.7/dist-packages (from importlib-metadata; python_version < \"3.8\"->transformers) (3.7.4.3)\n",
            "Requirement already satisfied: zipp>=0.5 in /usr/local/lib/python3.7/dist-packages (from importlib-metadata; python_version < \"3.8\"->transformers) (3.4.1)\n",
            "Requirement already satisfied: six in /usr/local/lib/python3.7/dist-packages (from sacremoses->transformers) (1.15.0)\n",
            "Requirement already satisfied: click in /usr/local/lib/python3.7/dist-packages (from sacremoses->transformers) (7.1.2)\n",
            "Requirement already satisfied: joblib in /usr/local/lib/python3.7/dist-packages (from sacremoses->transformers) (1.0.1)\n",
            "Installing collected packages: tokenizers, huggingface-hub, sacremoses, transformers\n",
            "Successfully installed huggingface-hub-0.0.8 sacremoses-0.0.45 tokenizers-0.10.3 transformers-4.6.1\n",
            "Collecting SentencePiece\n",
            "\u001b[?25l  Downloading https://files.pythonhosted.org/packages/f5/99/e0808cb947ba10f575839c43e8fafc9cc44e4a7a2c8f79c60db48220a577/sentencepiece-0.1.95-cp37-cp37m-manylinux2014_x86_64.whl (1.2MB)\n",
            "\u001b[K     |████████████████████████████████| 1.2MB 7.2MB/s \n",
            "\u001b[?25hInstalling collected packages: SentencePiece\n",
            "Successfully installed SentencePiece-0.1.95\n",
            "Collecting razdel\n",
            "  Downloading https://files.pythonhosted.org/packages/15/2c/664223a3924aa6e70479f7d37220b3a658765b9cfe760b4af7ffdc50d38f/razdel-0.5.0-py3-none-any.whl\n",
            "Installing collected packages: razdel\n",
            "Successfully installed razdel-0.5.0\n"
          ],
          "name": "stdout"
        }
      ]
    },
    {
      "cell_type": "code",
      "metadata": {
        "colab": {
          "base_uri": "https://localhost:8080/"
        },
        "id": "XFdBEMFZAgcB",
        "outputId": "bee294ed-2c0a-46ba-8df6-64208eaac36b"
      },
      "source": [
        "%%bash\n",
        "\n",
        "download_from_google_drive() {\n",
        "    wget --load-cookies /tmp/cookies.txt \"https://docs.google.com/uc?export=download&confirm=$(wget --quiet --save-cookies /tmp/cookies.txt --keep-session-cookies --no-check-certificate \"https://docs.google.com/uc?export=download&id=$1\" -O- | sed -rn 's/.*confirm=([0-9A-Za-z_]+).*/\\1\\n/p')&id=$1\" -O $2 && rm -rf /tmp/cookies.txt\n",
        "}\n",
        "\n",
        "download_from_google_drive \"1WfEq9Jfqi9sQQZXzDA3_MSHVmccbGgX-\" simplifier.tar\n",
        "tar -xvf simplifier.tar && rm simplifier.tar\n"
      ],
      "execution_count": null,
      "outputs": [
        {
          "output_type": "stream",
          "text": [
            "simplifier/\n",
            "simplifier/control_token_mapping.json\n",
            "simplifier/pytorch_model.bin\n",
            "simplifier/config.json\n"
          ],
          "name": "stdout"
        },
        {
          "output_type": "stream",
          "text": [
            "IOPub data rate exceeded.\n",
            "The notebook server will temporarily stop sending output\n",
            "to the client in order to avoid crashing it.\n",
            "To change this limit, set the config variable\n",
            "`--NotebookApp.iopub_data_rate_limit`.\n",
            "\n",
            "Current values:\n",
            "NotebookApp.iopub_data_rate_limit=1000000.0 (bytes/sec)\n",
            "NotebookApp.rate_limit_window=3.0 (secs)\n",
            "\n"
          ],
          "name": "stderr"
        }
      ]
    },
    {
      "cell_type": "code",
      "metadata": {
        "id": "GnEO_huwAyF6"
      },
      "source": [
        "import json\n",
        "from transformers import MBartForConditionalGeneration, MBartTokenizer"
      ],
      "execution_count": null,
      "outputs": []
    },
    {
      "cell_type": "code",
      "metadata": {
        "id": "WdKnuee_82Qz"
      },
      "source": [
        "#Base\n",
        "import pandas as pd\n",
        "import numpy as np\n",
        "from tqdm import tqdm\n",
        "\n",
        "#NLP\n",
        "from razdel import sentenize, tokenize"
      ],
      "execution_count": null,
      "outputs": []
    },
    {
      "cell_type": "code",
      "metadata": {
        "colab": {
          "base_uri": "https://localhost:8080/",
          "height": 118,
          "referenced_widgets": [
            "ef337004a7714ad88bcb646b7c9323f1",
            "5cde150a323047eab73635b9f1c61cfc",
            "5897f3d90af445349463cc245c442e38",
            "9d03fe67680d46469d62553965d4e15c",
            "d8b5207a5782447a8a06346fc7a22610",
            "38970ec70589458daec717051dc61323",
            "86ef4dd17e3c4f24a5b628a320ebc0c1",
            "dce75167cd93400e99194fca9dcfdbf1",
            "31279d9f531d4acea29c0486df85c404",
            "4cb538f9d0c14bfa8631ef41d6e851ef",
            "1650e05eeaea45f593dfd99e05842694",
            "a6045122adae44b4b8143d745a9e55e9",
            "bd779223b9da43c3b71457786f1d2d4f",
            "aee0f3ba3301412d9546704b82424d2d",
            "1141cc13fbad40829a0a6169f5e61199",
            "c00dd745862a438aac9cc7c17b26e583"
          ]
        },
        "id": "PV9OxTXjA2Ei",
        "outputId": "4ab96179-bbe0-459d-8859-3f23de8a3a7c"
      },
      "source": [
        "with open('simplifier/control_token_mapping.json') as f:\n",
        "    control_token_mapping = json.load(f)\n",
        "\n",
        "tokenizer = MBartTokenizer.from_pretrained('facebook/mbart-large-cc25')\n",
        "model = MBartForConditionalGeneration.from_pretrained('simplifier')"
      ],
      "execution_count": null,
      "outputs": [
        {
          "output_type": "display_data",
          "data": {
            "application/vnd.jupyter.widget-view+json": {
              "model_id": "ef337004a7714ad88bcb646b7c9323f1",
              "version_minor": 0,
              "version_major": 2
            },
            "text/plain": [
              "HBox(children=(FloatProgress(value=0.0, description='Downloading', max=5069051.0, style=ProgressStyle(descript…"
            ]
          },
          "metadata": {
            "tags": []
          }
        },
        {
          "output_type": "stream",
          "text": [
            "\n"
          ],
          "name": "stdout"
        },
        {
          "output_type": "display_data",
          "data": {
            "application/vnd.jupyter.widget-view+json": {
              "model_id": "31279d9f531d4acea29c0486df85c404",
              "version_minor": 0,
              "version_major": 2
            },
            "text/plain": [
              "HBox(children=(FloatProgress(value=0.0, description='Downloading', max=9099897.0, style=ProgressStyle(descript…"
            ]
          },
          "metadata": {
            "tags": []
          }
        },
        {
          "output_type": "stream",
          "text": [
            "\n"
          ],
          "name": "stdout"
        }
      ]
    },
    {
      "cell_type": "code",
      "metadata": {
        "id": "Eabf1QB7AgcE"
      },
      "source": [
        "\n",
        "def _find_control_token_value(control_token_mapping, key_prefix, key_suffix, delta):\n",
        "    value = control_token_mapping.get(f'{key_prefix}_{key_suffix - delta}')\n",
        "    if value:\n",
        "        return value\n",
        "    value = control_token_mapping.get(f'{key_prefix}_{key_suffix + delta}')\n",
        "    if value:\n",
        "        return value\n",
        "    return _find_control_token_value(control_token_mapping, key_prefix, key_suffix, delta + 0.05)\n",
        "\n",
        "\n",
        "def _get_control_tokens(control_token_mapping, levenshtein_similarity, chars_fraction, word_rank):\n",
        "    tokens = [\n",
        "        _find_control_token_value(control_token_mapping, 'LevSim', levenshtein_similarity, 0.),\n",
        "        _find_control_token_value(control_token_mapping, 'NbChars', chars_fraction, 0.),\n",
        "        _find_control_token_value(control_token_mapping, 'WordRank', word_rank, 0.),\n",
        "    ]\n",
        "\n",
        "    return ' '.join(tokens)\n",
        "\n",
        "\n",
        "def generate(model, tokenizer, control_token_mapping, text, levenshtein_similarity, chars_fraction, word_rank):\n",
        "    control_tokens = _get_control_tokens(control_token_mapping, levenshtein_similarity, chars_fraction, word_rank)\n",
        "    \n",
        "    inputs = tokenizer(control_tokens + ' ' + text, return_tensors='pt')\n",
        "    outputs = model.generate(**inputs, decoder_start_token_id=tokenizer.unk_token_id)[0]\n",
        "\n",
        "    return tokenizer.decode(outputs, skip_special_tokens=True)\n",
        "\n",
        "\n"
      ],
      "execution_count": null,
      "outputs": []
    },
    {
      "cell_type": "markdown",
      "metadata": {
        "id": "cADDGhtEAibz"
      },
      "source": [
        "# Load data"
      ]
    },
    {
      "cell_type": "code",
      "metadata": {
        "id": "SPUGmTy4559e"
      },
      "source": [
        "#Add google drive\n",
        "from google.colab import drive\n",
        "drive.mount('/content/drive')"
      ],
      "execution_count": null,
      "outputs": []
    },
    {
      "cell_type": "code",
      "metadata": {
        "id": "v4aH5NzZHexJ"
      },
      "source": [
        "path = \"/content/drive/MyDrive/Diplom/Generation/s2t/\""
      ],
      "execution_count": null,
      "outputs": []
    },
    {
      "cell_type": "code",
      "metadata": {
        "colab": {
          "base_uri": "https://localhost:8080/",
          "height": 149
        },
        "id": "xP2YmKxM561g",
        "outputId": "4b37d290-e588-4020-8383-ccfbc1a241c8"
      },
      "source": [
        "#open file\n",
        "with open(\"/content/drive/MyDrive/Diplom/Generation/s2t/text.txt\", encoding= 'cp1251') as txt:\n",
        "  text = txt.read()\n",
        "text"
      ],
      "execution_count": null,
      "outputs": [
        {
          "output_type": "execute_result",
          "data": {
            "application/vnd.google.colaboratory.intrinsic+json": {
              "type": "string"
            },
            "text/plain": [
              "'\"Семь навыков высокоэффективных людей\" - это одна из самых популярных книг для развития личности, которая была переведена на 38 языков. Многомиллионные тиражи говорят о том, что среди литературы по саморазвитию она обладает непререкаемым авторитетом. Эта книга более 7 лет возглавляла список бестселлеров и по результатам опроса читателей журнала для руководителей была названа самой влиятельной книгой по бизнесу 20 века. Журнал Time назвал автора книги Доктора Стивена Кови одним из 25 самых влиятельных американцев. В данном видео вы узнаете ключевые тезисы этой уникальной книги. В начале книги Стивен Кови объясняет понятие навыка как пересечение знания, умения и желания. Знание это теоретическая база, определяющая, что делать и зачем. Умение определяет как делать, а желание - это мотивация, то есть хочу делать. Чтобы что-то в своей жизни превратить в навык, необходимы все три компонента.\\n\"Семь навыков\" - это навыки эффективности. Базируясь на принципах, они приносят наилучшие из возможных долгосрочные результаты. Они становятся основой характера, благодаря чему человек может разрешать проблемы, раскрывать свои возможности и постоянно совершенствоваться.\\n Первый навык заключается в \"проактивности\" человека. И хотя на первый взгляд этот термин может показаться несколько сложным, он на самом деле прост. Вообще в литературе по управлению термин \"проактивность\"распространен довольно широко, при этом вы вряд ли встретите это слово в большинстве словарей. Оно означает нечто большее, чем просто активность, оно означает, что, будучи людьми, мы несем ответственность за свои собственные жизни, наше поведение зависит от наших решений, а не от окружающих условий. Мы можем подчинять чувства нашим ценностям, мы инициируем происходящее и несем за это ответственность. Проактивная модель выглядит так, что между раздражителем и реакцией имеется период, когда человек может сделать свободный выбор и даже вообще отказаться от реакции. Реактивная же модель представляет собой постоянную реакцию на любые раздражители, причём реакция эта моментальная. По своей природе мы проактивны. Если наша жизнь стала зависеть от различных обстоятельств, то это потому, что мы сознательно или нет\\nсделали свой выбор и позволили этим силам управлять нами. Делая такой выбор, мы становимся реактивными. Реактивные люди часто находятся в зависимости от физических условий окружающей среды. Если погода хорошая, они чувствуют себя хорошо, если погода плохая, то это сказывается на их настроении и работе. Проактивные люди носят в себе свою собственную погоду, для них не имеет значения, идёт дождь, или светит солнце. Они движимы ценностями. Если ценностью для них является высококачественное выполнение работы, то это не будет зависеть от того, способствует этому погода или нет. Реактивные люди, кроме того, зависят от социальных условий окружающей среды, от социальной погоды. Если окружающие относятся к ним хорошо, у них всё в порядке, если же плохо, то они становится закрытыми и занимают оборонительную позицию. Реактивные люди строят свою эмоциональную жизнь на поведении окружающих, позволяя их слабостям управлять собой. В конце приведу пример из жизни моего трехлетнего сына.\\n Недавно он больно ударился о ножку стола и начал плакать, говоря, что стол плохой. Это пример реактивности, так как ребёнок посчитал причиной своей маленькой беды внешний фактор, то есть стол, который находился на его пути. Где-то к 5-6 годам дети начинают мыслить проактивно и уже могут сознательно подходить к этому вопросу. Поэтому всякий раз, когда вы захотите обвинить окружающие обстоятельства в той или проблеме, подумайте, не являетесь ли вы тем ребёнком, которые обвиняют в стол. То есть ведёте себя реактивно, а не проактивно. Навык 2. Начинайте, представляя конечную цель. Несмотря на то, что этот навык применим ко многим различным обстоятельствам и аспектам жизни, основное воплощение девиза \"начинайте, представляя конечную цель\" заключается в том, чтобы уже сегодня начать с представления образа картины или парадигмы конечной цели вашей жизни. Это будет системой оценки или критерием, на соответствие которому проверяется всё остальное.\\n Каждая часть вашей жизни, то что вы делаете сегодня, что будете делать завтра, на следующей неделе, в следующем месяце может быть рассмотрена в контексте единого целого, того, что по-настоящему имеет для вас значение. Постоянно сохраняя у себя в голове четкий образ своей конечной цели, вы всегда можете отдавать себе отчет в том, что всё, что вы делаете в любой конкретный день, не противоречит критериям, которые вы сами определили для себя как наиболее важное. Принцип \"начинайте, представляя конечную цель\" основывается на идее что всё создаётся дважды: сначала мысленно в голове, а затем и реально в  физическом мире. Например, перед тем, как построить дом, вы создаете его во всех подробностях еще до того, как забьете первый гвоздь. Вы стараетесь предельно четко представить себе, каким он должен быть. Вы оперируети идеями и напрягаете свой интеллект до тех пор, пока не получите четкий образ того, что вам хочется построить. Затем вы превращаете замысел в проект и разрабатываете строительные чертежи.\\n Все это делается до того, как лопата впервые вонзится в землю. Начинать, представляя конечную цель-  это значит, что каждый день надо начинать, твердо помня о своих ценностях. Тогда даже в самых тяжелых испытаниях я смогу, опираясь на эти ценности, принять верное решение и действовать как цельная личность. Я не должен буду реагировать на чьи-то эмоции и обстоятельства, я смогу быть по-настоящему проактивным и ориентированным на ценности, потому что они мне ясны.\\n Навык 3. Сначала делайте то, что необходимо делать сначала. Этот навык является личным достижением, плодом практической реализации первых двух навыков. Навык 1 гласит: вы творец своей жизни, вы за всё в ответе. Навык 2 представляет собой мысленный образ, идею, которая ещё не воплотилась в жизнь. В таком случае 3 навык является физической реализации вашего мысленного образа. Здесь мы имеем дело с вопросами, связанными с управлением жизнью и времени. Стивен Кови считает, что лучшая идея в сфере управления временем может быть передана одной фразой: \"Организация и действие на основе приоритетов\". Её суть можно уяснить по матрице, которую вы видите на экране. Исходная идея заключается в том, что мы расходуем время одним из 4 способов, а виды деятельности определяются двумя факторами: срочно и важно. Определить, какому квадрату относится то или иное ваше дело достаточно просто. Главное пользоваться этой чрезвычайно эффективной\\n системой управления временем, а не просто наслаждаться фактом того, что вы о ней знаете. Девизом этого навыка является цитата Гёте:\"Наиболее важные дела никогда не должны подчиняться наименее важным\".\\n Навык 4. Думайте в духе \"Выиграл выиграл\". Четвертый навык это не просто техника, это общая философия взаимодействия между людьми, это особый настрой ума и сердца, направленный на постоянный поиск взаимной выгоды при всех взаимодействиях людей друг с другом. \"Выиграл выиграл\" означает, что все договорённости и решения обоюдно выгодны и удовлетворяют обе стороны. Сама эта установка представляет жизнь ареной для сотрудничества, а не соперничества. Люди в большинстве своем склонны к полярным оценкам: сильный и слабый, упрямый - безвольный, выигрыш - проигрыш, но подобный способ мышления порочен, он основан на власти и занимаемом положении, а не на принципе. Установка же \"выиграл выиграл\" основана на базе, в соответствии с которой всего хватит всем, что успех одного человека не достигается за счёт провала другого. В качестве примера можно привести канал Ифо, на котором вы смотрите это видео. мы делаем ролики, которые удовлетворяют запросы аудитории так,\\n что наши зрители от этого выигрывают. Но наш канал растет, так как постоянно появляются новые подписчики, отчего мы также выигрываем. Это хорошая модель, так как в выигрыше обе стороны. При этом следует понимать, что для получения взаимной выгоды необходимо как мужество в достижении своих целей, так и чуткость к чужим интересам. Особенно если Вы имеете дело с людьми, запрограммированными именно на модель \"выиграл проиграл\".\\n Навык 5. Сначала стремитесь понять, потом быть понятым. Предположим, у вас проблемы со зрением, и вы решили обратиться к окулисту за помощью. Наспех выслушав ваши жалобы, тот снимает очки и протягивает их вам со словами: \"Вот, наденьте эти очки. Я ношу из уже лет 10, мне они здорово помогают. Не беспокойтесь, дома у меня есть запасные.\" Вы надеваете очки, но видите в них ещё хуже прежнего. \"Ужасные очки! - восклицаете вы, -ничего в них не вижу!\" \"Что такое?\"- удивляется окулист, - \"мне они великолепно помогают! Попытайтесь еще разок!\" \"Да я пытаюсь, - отвечаете вы, - все расплывается.\" \"Что такое с вами? Постарайтесь настроиться позитивно!\" \"Хорошо, но я и позитивно ничего в них не вижу.\" \"Ну, дорогой мой, какой же вы неблагодарный!\" - возмущается окулист - \"это после всего, что я сделал, чтобы помочь Вам.\" Наверняка вы больше никогда не обратитесь к этому доктору, ведь как можно доверять специалисту, который назначает лечение, не поставив диагноз.\\n А часто ли мы сами, общаясь с другими людьми, ставим диагноз перед тем, как что-то сказать. Итак, сначала стремитесь что-то понять, потом быть понятыми. Этот принцип - ключик к эффективному личному общению. Это трудный, но абсолютно верный принцип для самых разных сфер жизни, этот принцип отличает всех истинных профессионалов: сначала стремится понять, а потом быть понятым, сначала ставить диагноз, а потом выписывать рецепт. Это же модель справедлива и в торговле. Эффективный продавец сначала стремится понять ситуацию клиента. Продавец-непрофессионал просто продаёт товары, профессионал же продает решение проблем и удовлетворяет потребности. Это совершенно иной подход. Хороший инженер, прежде чем разработать проект моста, должен понимать распределение сил и рассчитать нагрузки, хороший преподаватель, прежде чем начать занятия, должен оценить уровень подготовки своих учеников, хороший студент должен усвоить знания, прежде чем их применить.\\n Хорошие родители должны разобраться, прежде чем судить или давать оценки. Ключ к полноценному суждению - понимание, вынося сначала суждения, вы никогда не достигнете полного понимания. Сначала стремитесь понять, потом быть понятым. Этот верный принцип применим во всех случаях жизни. Но более всего в сфере межличностных отношений.\\n Навык 6. Достигайте синергии. Слово \"синергия\" переводится с греческого как сотрудничество или соучастие, оно представляет собой деятельность самого высокого порядка, подлинную проверку и проявление всех остальных навыков, соединённых вместе. Синергия это суть лидерства, основанного на принципах, она катализирует, объединяет и высвобождает огромную энергию, заключенную в людях. Все описанные выше навыки подготавливают нас к созданию чуда синергии. Говоря простым языком, синергия означает, что целое больше суммы его частей, то есть один и один в сумме дают не 2, а 11. Это, пожалуй, наиболее яркий и точный образ, описывающий суть синергии. В природесСинергия присутствует повсюду. Стоит посадить близко друг к другу два растения, как корни их переплетутся и улучшат качество почвы таким образом, что оба растения станут расти лучше, чем если бы они были разделены. Если\\n связать вместе два деревянных бревна, то они выдержат нагрузку, значительно превышающую сумму их возможностей по отдельности. Целое больше суммы его частей. Суть синергии  заключается в том, чтобы ценить различия, уважать их, наращивать сильные и компенсировать слабые стороны. Навык 7. Затачиваете пилу. Представьте себе, что бродя по лесу, вы наталкиваетесь на человека, который с ожесточением пилит дерево. \"Что вы делаете?\" - интересуйтесь вы. \"Сами что ли не видите?\"- отвечает он, - \" я пилю дерево\". \"Вы выглядите очень устало\" - сочувствуете вы, \"давно уже пилите?\" \"Да уж больше 5 часов\" - отвечает человек, \"еле на ногах стою, нелёгкая это работа\". \"Так почему бы вам не прерываться на несколько минут, не заточить пилу?\" - говорите Вы, - \"наверняка работа пойдет гораздо быстрее\".  \"Нет у меня времени пилу затачивать!\" - восклицает человек, - \"мне пилить надо!\" 7 навык требует выделять время\\n для заточки пилы. То есть для успешного развития личности нужно постоянно совершенствоваться в четырех измерениях человеческого бытия: в физическом, духовном, интеллектуальном и эмоциональном. Данный навык замыкает в кольцо все остальные навыки, так как их применение становится возможным именно благодаря ему. В конце кратко повторим все семь навыков высокоэффективных людей от Стивена Кови. Навык 1. Будьте проактивны, а не реактивны. Навык 2. Начинайте, представляя конечную цель. Навык 3. Сначала делайте то, что необходимо делать сначала, то есть правильно управляйте временем. Навык 4. Думайте в духе \"выиграл-выиграл\", то есть ищите взаимную выгоду. Навык 5. Сначала стремитесь понять, потом быть понятым.\\nНавык 6. Достигайте синергии, то есть достигайте сотрудничества, когда один плюс один равно не два, а 11. Навык 7. Затачивайте пилу, то есть постоянно совершенствуйтесь.'"
            ]
          },
          "metadata": {
            "tags": []
          },
          "execution_count": 10
        }
      ]
    },
    {
      "cell_type": "code",
      "metadata": {
        "colab": {
          "base_uri": "https://localhost:8080/",
          "height": 206
        },
        "id": "rzj7GRflwxPa",
        "outputId": "600da1d6-486e-40c7-b8ef-0d8677465f29"
      },
      "source": [
        "df_bleu = pd.read_csv('https://raw.githubusercontent.com/Digital-Pushkin-Lab/RuAdapt/main/df_bleu.csv', sep= ',', error_bad_lines=False)\n",
        "df_bleu.head()"
      ],
      "execution_count": null,
      "outputs": [
        {
          "output_type": "execute_result",
          "data": {
            "text/html": [
              "<div>\n",
              "<style scoped>\n",
              "    .dataframe tbody tr th:only-of-type {\n",
              "        vertical-align: middle;\n",
              "    }\n",
              "\n",
              "    .dataframe tbody tr th {\n",
              "        vertical-align: top;\n",
              "    }\n",
              "\n",
              "    .dataframe thead th {\n",
              "        text-align: right;\n",
              "    }\n",
              "</style>\n",
              "<table border=\"1\" class=\"dataframe\">\n",
              "  <thead>\n",
              "    <tr style=\"text-align: right;\">\n",
              "      <th></th>\n",
              "      <th>source</th>\n",
              "      <th>target</th>\n",
              "      <th>level</th>\n",
              "    </tr>\n",
              "  </thead>\n",
              "  <tbody>\n",
              "    <tr>\n",
              "      <th>0</th>\n",
              "      <td>— И очень хорошо сделали, что не обратились к ...</td>\n",
              "      <td>— И очень хорошо сделали, что не обратились к ...</td>\n",
              "      <td>b1_c1</td>\n",
              "    </tr>\n",
              "    <tr>\n",
              "      <th>1</th>\n",
              "      <td>Чужестранец все прохаживался, но, увидев, что ...</td>\n",
              "      <td>Батюшки мои, думаю себе: вот чудак-то! И прика...</td>\n",
              "      <td>b1_c1</td>\n",
              "    </tr>\n",
              "    <tr>\n",
              "      <th>2</th>\n",
              "      <td>Шипучин. Нет, я не вынесу! (Плачет.) Не вынесу...</td>\n",
              "      <td>Шипучин. Нет, я не вынесу! (Плачет.) Не вынесу...</td>\n",
              "      <td>a2_b1</td>\n",
              "    </tr>\n",
              "    <tr>\n",
              "      <th>3</th>\n",
              "      <td>— Очень много, — краснея и с глупой, небрежной...</td>\n",
              "      <td>— Очень много, — краснея и с глупой улыбкой, к...</td>\n",
              "      <td>b1_c1</td>\n",
              "    </tr>\n",
              "    <tr>\n",
              "      <th>4</th>\n",
              "      <td>Вечер и вправду складывался весело.</td>\n",
              "      <td>Вечер и, правда, становился всё более весёлым....</td>\n",
              "      <td>b1</td>\n",
              "    </tr>\n",
              "  </tbody>\n",
              "</table>\n",
              "</div>"
            ],
            "text/plain": [
              "                                              source  ...  level\n",
              "0  — И очень хорошо сделали, что не обратились к ...  ...  b1_c1\n",
              "1  Чужестранец все прохаживался, но, увидев, что ...  ...  b1_c1\n",
              "2  Шипучин. Нет, я не вынесу! (Плачет.) Не вынесу...  ...  a2_b1\n",
              "3  — Очень много, — краснея и с глупой, небрежной...  ...  b1_c1\n",
              "4                Вечер и вправду складывался весело.  ...     b1\n",
              "\n",
              "[5 rows x 3 columns]"
            ]
          },
          "metadata": {
            "tags": []
          },
          "execution_count": 11
        }
      ]
    },
    {
      "cell_type": "code",
      "metadata": {
        "colab": {
          "base_uri": "https://localhost:8080/",
          "height": 206
        },
        "id": "ofZNBwszEGqV",
        "outputId": "97efbbe9-03a6-4407-d464-46823e639cd7"
      },
      "source": [
        "\n",
        "df_rsse = pd.read_csv('https://raw.githubusercontent.com/dialogue-evaluation/RuSimpleSentEval/main/dev_sents.csv', sep= ',',index_col=0, error_bad_lines=False)\n",
        "df_rsse.head()"
      ],
      "execution_count": null,
      "outputs": [
        {
          "output_type": "execute_result",
          "data": {
            "text/html": [
              "<div>\n",
              "<style scoped>\n",
              "    .dataframe tbody tr th:only-of-type {\n",
              "        vertical-align: middle;\n",
              "    }\n",
              "\n",
              "    .dataframe tbody tr th {\n",
              "        vertical-align: top;\n",
              "    }\n",
              "\n",
              "    .dataframe thead th {\n",
              "        text-align: right;\n",
              "    }\n",
              "</style>\n",
              "<table border=\"1\" class=\"dataframe\">\n",
              "  <thead>\n",
              "    <tr style=\"text-align: right;\">\n",
              "      <th></th>\n",
              "      <th>INPUT:source</th>\n",
              "      <th>OUTPUT:output</th>\n",
              "    </tr>\n",
              "  </thead>\n",
              "  <tbody>\n",
              "    <tr>\n",
              "      <th>3</th>\n",
              "      <td>14 декабря 1944 года рабочий посёлок Ички был ...</td>\n",
              "      <td>14 декабря 1944 года рабочий посёлок Ички пере...</td>\n",
              "    </tr>\n",
              "    <tr>\n",
              "      <th>4</th>\n",
              "      <td>1960 году была выпущена модель 172A. Изменени...</td>\n",
              "      <td>В 1960 году вышла модель 172А. Отличие в хвост...</td>\n",
              "    </tr>\n",
              "    <tr>\n",
              "      <th>5</th>\n",
              "      <td>1960 году была выпущена модель 172A. Изменени...</td>\n",
              "      <td>В выпущенной в 1960 году модель имела изменени...</td>\n",
              "    </tr>\n",
              "    <tr>\n",
              "      <th>6</th>\n",
              "      <td>1960 году была выпущена модель 172A. Изменени...</td>\n",
              "      <td>Изменения: в хвосте и руле направления с обрат...</td>\n",
              "    </tr>\n",
              "    <tr>\n",
              "      <th>7</th>\n",
              "      <td>1960 году была выпущена модель 172A. Изменени...</td>\n",
              "      <td>Модель 172А с другим хвостовым оперением,  кре...</td>\n",
              "    </tr>\n",
              "  </tbody>\n",
              "</table>\n",
              "</div>"
            ],
            "text/plain": [
              "                                        INPUT:source                                      OUTPUT:output\n",
              "3  14 декабря 1944 года рабочий посёлок Ички был ...  14 декабря 1944 года рабочий посёлок Ички пере...\n",
              "4   1960 году была выпущена модель 172A. Изменени...  В 1960 году вышла модель 172А. Отличие в хвост...\n",
              "5   1960 году была выпущена модель 172A. Изменени...  В выпущенной в 1960 году модель имела изменени...\n",
              "6   1960 году была выпущена модель 172A. Изменени...  Изменения: в хвосте и руле направления с обрат...\n",
              "7   1960 году была выпущена модель 172A. Изменени...  Модель 172А с другим хвостовым оперением,  кре..."
            ]
          },
          "metadata": {
            "tags": []
          },
          "execution_count": 12
        }
      ]
    },
    {
      "cell_type": "code",
      "metadata": {
        "id": "UoemNRQCEpqZ"
      },
      "source": [
        "levenshtein_similarity = 0.9 \n",
        "chars_fraction = 0.4\n",
        "word_rank = 3.2"
      ],
      "execution_count": null,
      "outputs": []
    },
    {
      "cell_type": "code",
      "metadata": {
        "id": "j-ZJ011-AgcJ"
      },
      "source": [
        "\n",
        "text_simple = \"\"\n",
        "# for s in sentenize(text):\n",
        "#   print(s.text, ' vs ', \n",
        "#         generate(model, tokenizer, control_token_mapping, s.text, levenshtein_similarity, chars_fraction, word_rank)\n",
        "#         ,'\\n')\n",
        "text_simple = '\\n'.join([generate(model, tokenizer, control_token_mapping, s.text\n",
        "                                  , levenshtein_similarity, chars_fraction, word_rank)\\\n",
        "                         for s in tqdm(sentenize(text))])\n",
        "\n",
        "text_simple"
      ],
      "execution_count": null,
      "outputs": []
    },
    {
      "cell_type": "code",
      "metadata": {
        "colab": {
          "base_uri": "https://localhost:8080/"
        },
        "id": "b7JEvp_TEjYZ",
        "outputId": "24823b3e-eadf-4c53-d8da-8bc91cc2c40c"
      },
      "source": [
        "nn = 50\n",
        "\n",
        "subsample = np.random.choice(df_bleu.index, nn, replace=False)\n",
        "bleu_text = df_bleu.loc[subsample].apply(lambda x: ' '.join(x),axis = 0)\n",
        "\n",
        "len([s for s in sentenize(bleu_text[0])])"
      ],
      "execution_count": null,
      "outputs": [
        {
          "output_type": "execute_result",
          "data": {
            "text/plain": [
              "166"
            ]
          },
          "metadata": {
            "tags": []
          },
          "execution_count": 15
        }
      ]
    },
    {
      "cell_type": "code",
      "metadata": {
        "id": "HyazmdwsHS4j"
      },
      "source": [
        "bleu_text.to_csv(path + 'sample.csv')"
      ],
      "execution_count": null,
      "outputs": []
    },
    {
      "cell_type": "code",
      "metadata": {
        "id": "gncUfyXCF5iP"
      },
      "source": [
        "text_simple_bleu = ' '.join([generate(model, tokenizer, control_token_mapping, s.text\n",
        "                          , levenshtein_similarity, chars_fraction, word_rank)\\\n",
        "                  for s in tqdm(sentenize(bleu_text[0]))])"
      ],
      "execution_count": null,
      "outputs": []
    },
    {
      "cell_type": "code",
      "metadata": {
        "colab": {
          "base_uri": "https://localhost:8080/",
          "height": 149
        },
        "id": "iYbvnerXNGtQ",
        "outputId": "27b2f577-12e5-4778-db99-ab0ccb939a44"
      },
      "source": [
        "text_simple_bleu"
      ],
      "execution_count": null,
      "outputs": [
        {
          "output_type": "execute_result",
          "data": {
            "application/vnd.google.colaboratory.intrinsic+json": {
              "type": "string"
            },
            "text/plain": [
              "'Оставшись один на перекрестке, князь осмотрелся кругом, быстро перешел через улицу, близко подошел к освещенному окну одной дачи. Я решилась говорить с вами об одном деле. И объясните мне леди Эстер? Почему именно ей завещано? Какая связь? Вот что выяснить Вы купили? Хамите. На другой день, в 11 часов утра, Вронский выехал на станцию Петербургской железной дороги. Он не ошибся. Не успели еще замолкнуть раскаты и переливы председательского голоса. Они несли. Один держал его за руки. С тем, кто не испугался бы. Что-нибудь? Закажи порцию селянки Я подумаю Узнаю! - воскликнул Вася. Узнаю Колю Шипучин. Позвольте Берет от нее прошение. Боцмана засвистали. Все матросы были на палубе. У вас очень много шипящих букв. У нас язык легкий. А у вас свистят. Вершинин. О чем? Давайте помечтаем о той жизни, какая будет после нас. Балаганов, - Шура Балаганов. Но и в Западном отряде готовились основательно. Штурм был назначен на сегодня, и все говорили. Эраст Петрович начертил для Вари прутиком все турецкие укрепления и объяснил, что Осман-паша имеет 20 000 аскеров и 58 орудий. Диспозиция разработана хитрая, строго секретная. Фандорин так хорошо объяснял, что Варя сразу поверила в победу русского оружия. Казанзаки говорил про женитьбу. Уж не благоверная Больно молода для благоверной. Мерчуткина. Нечего? Не боюсь Видали мы таких Скважина Хирин. Кажется, не видал противнее Уф Даже в голову Тяжело дышит Я тебе говорю Слышишь Ежели ты, старая кикимора, не уйдешь отсюда У меня такой характер, что я могу калеку Я могу совершить! Входит Андрей. А скажите, пожалуйста, с кем живет? Дни теперь стали прибавляться. Это правда: оно даже совсем не греет, вот только и греют, что одни чулки. Убитых было много, корпус Ганецкого полег чуть не целиком. И у всех на устах было имя Белого Генерала, неуязвимого Ахиллеса - Соболева-второго. Сегодня не увидимся. Вчера, когда мы прощались, облака стали заволакивать. Я сказал, что завтра будет дурной день; она не отвечала, она не хотела говорить. Направо туз. Зурова. Направо дама. Направо валет, налево дама. Направо семерка. Князь, мамаша вас к себе просит. Князь привстал было идти, но генерал положил правую ладонь. Теперь пойдете вы с мужем меня на службу гнать; лекции про упорство и силу воли. Как «не все»? Она слышала звуки его шагов. У гостиной. Но он не повернул к ней, он только отдал приказание. Потом она слышала, как подали коляску. Но вот он опять вошел в сени. Это камердинер. Она подошла к окну и видела, как он не глядя взял перчатки. Потом, не глядя в окна, он сел в обычную позу в коляске. Вы должны будете многое извинить Ардалиону Александровичу, если у нас останетесь. Согласитесь сами, у всякого есть свои недостатки и свои... особенные черты. Если мой муж обратится к вам по поводу уплаты за квартиру. То-есть, отданное и Ардалиону Александровичу в счет бы пошло Варя? Андрей. Право. Их звали. И, сделав рукой трагический жест, бросает салфетку. Князь долго молчал. Вы сказали про свиданье с Настасьей Филипповной. Звонок. Буквально? Генерал мигнул Лизавете Прокофьевне. Нет, нет, это уж лишнее: выйдите к нему сами. Я хочу у этого... молодого человека извинения. И очень обидела, - Иван Федорович. Недоставало только, чтоб я заговорил рифмами. Граф сел на край софы Ему хотелось. Это желание сообщить мне что-то особенное. Я знал, о чем говорил Как я много выпил. Это вреднее яда Сегодня в последний раз Честное слово У меня воля Ладно В последний Сережа, друг, не послать ли телеграмму? А, ты не уехала? Я хотела сама быть у тебя. Мы тоже получили депешу. Они входили в дверь, разговаривая о погоде. В гостиной сидели уже князь Александр Дмитриевич. Пауза. Батюшки Он тут-то проклятый и выскочил! Это ты свирепо накинулась на меня. Это ты отговорил. Эраст Фандорин, - ответил волонтер. Воевал в Сербии, а теперь направляюсь. Вершинин. Нисколько Нет, генерал Я теперь и сама княгиня, слышали Афанасий Иванович, поздравьте вы-то меня; я теперь с вашею женой Полтора миллиона, да еще князь Только теперь! Опоздал Убирай свою пачку, я замуж выхожу Они встали. Увы Судьба судила. Соленый. Цып, цып Кулыгин. Ваше здоровье Я педагог. Машина Она добрая Вершинин. Я выпью темной водки Пьет. Ваше здоровье Ольге. Мне у вас хорошо Неужели это возможно, чтобы мы были как муж с женою? Ты говоришь? Но надо рассудить. Ты забываешь. Как я желать? Я не говорю про страдания. Подумай, кто? Несчастные дети. По самому рождению они будут поставлены в необходимость. Это было. Дипломат По правде говоря, новые впечатления несколько ослабили изрядный эффект. Дипломат, отправившийся добровольцем. Нет, определенно, все трое были замечательно хороши. Что же делать? Германн сошел с ума. Он сидит в Обуховской больнице в 17-м нумере Тройка, семёрка'"
            ]
          },
          "metadata": {
            "tags": []
          },
          "execution_count": 27
        }
      ]
    },
    {
      "cell_type": "code",
      "metadata": {
        "id": "MCs4TT3_E0h7"
      },
      "source": [
        "with open('drive/MyDrive/Diplom/Generation/s2t/summary.txt', mode='wt', encoding='utf-8') as myfile:\n",
        "    myfile.write(text_simple_bleu)"
      ],
      "execution_count": null,
      "outputs": []
    },
    {
      "cell_type": "code",
      "metadata": {
        "id": "kJHgOo38F9aH"
      },
      "source": [
        ""
      ],
      "execution_count": null,
      "outputs": []
    },
    {
      "cell_type": "markdown",
      "metadata": {
        "id": "vWvfb0J0F987"
      },
      "source": [
        "[RuSimpleSentEval](https://github.com/dialogue-evaluation/RuSimpleSentEval/blob/main/dev_sents.csv)"
      ]
    },
    {
      "cell_type": "code",
      "metadata": {
        "colab": {
          "base_uri": "https://localhost:8080/"
        },
        "id": "c2Oevqo_EfYV",
        "outputId": "706d574c-28a5-468e-871c-c31041da7acd"
      },
      "source": [
        "# nn = 50\n",
        "\n",
        "# subsample = np.random.choice(df_rsse.index, nn, replace=False)\n",
        "rsse_text = df_rsse.apply(lambda x: ' '.join(x),axis = 0)\n",
        "\n",
        "len([s for s in sentenize(rsse_text[0])])"
      ],
      "execution_count": null,
      "outputs": [
        {
          "output_type": "execute_result",
          "data": {
            "text/plain": [
              "3397"
            ]
          },
          "metadata": {
            "tags": []
          },
          "execution_count": 14
        }
      ]
    },
    {
      "cell_type": "code",
      "metadata": {
        "colab": {
          "base_uri": "https://localhost:8080/"
        },
        "id": "0m8tLgmOEvxK",
        "outputId": "33976287-b7b9-4960-b94b-1b4bd4d51cf4"
      },
      "source": [
        "text_simple_rsse = ' '.join([generate(model, tokenizer, control_token_mapping, s.text\n",
        "                          , levenshtein_similarity, chars_fraction, word_rank)\\\n",
        "                  for s in tqdm(sentenize(rsse_text[0]))])"
      ],
      "execution_count": null,
      "outputs": [
        {
          "output_type": "stream",
          "text": [
            "3397it [8:50:05,  9.36s/it]\n"
          ],
          "name": "stderr"
        }
      ]
    },
    {
      "cell_type": "code",
      "metadata": {
        "id": "XcL40pCtFksK"
      },
      "source": [
        "with open('drive/MyDrive/Diplom/Generation/s2t/summary rsse.txt', mode='wt', encoding='utf-8') as myfile:\n",
        "    myfile.write(text_simple_rsse)"
      ],
      "execution_count": null,
      "outputs": []
    }
  ]
}